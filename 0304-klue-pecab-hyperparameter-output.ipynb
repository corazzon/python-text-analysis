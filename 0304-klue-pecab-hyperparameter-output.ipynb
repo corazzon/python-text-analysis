{
 "cells": [
  {
   "cell_type": "markdown",
   "metadata": {},
   "source": [
    "🌱 인프런 📚 모두의 한국어 텍스트 분석과 자연어처리 with 파이썬 🐍 https://inf.run/FX4TP\n",
    "\n",
    "\n",
    "[![Open In Colab](https://colab.research.google.com/assets/colab-badge.svg)](https://colab.research.google.com/github/corazzon/python-text-analysis/blob/main/0304-klue-pecab-hyperparameter-output.ipynb)\n",
    "\n",
    "\n",
    "## 연합뉴스 타이틀 주제 분류\n",
    "* 데이터셋 출처 : \n",
    "    * [뉴스 토픽 분류 AI 경진대회 - DACON](https://dacon.io/competitions/official/235747/overview/description)\n",
    "\n",
    "## Grid Search 와 Random Search\n",
    "\n",
    "<img src=\"https://i.imgur.com/h8QtsMz.png\" width=500>"
   ]
  },
  {
   "cell_type": "markdown",
   "metadata": {},
   "source": [
    "## 라이브러리 로드"
   ]
  },
  {
   "cell_type": "code",
   "execution_count": 1,
   "metadata": {},
   "outputs": [],
   "source": [
    "# 데이터 분석을 위한 pandas, 수치계산을 위한 numpy, 시각화를 위한 seaborn, matplotlib 을 로드합니다.\n",
    "import pandas as pd\n",
    "import numpy as np\n",
    "import seaborn as sns\n",
    "import matplotlib.pyplot as plt\n",
    "import koreanize_matplotlib"
   ]
  },
  {
   "cell_type": "markdown",
   "metadata": {},
   "source": [
    "## 데이터 로드"
   ]
  },
  {
   "cell_type": "code",
   "execution_count": 2,
   "metadata": {},
   "outputs": [
    {
     "data": {
      "text/plain": [
       "((45654, 3), (9131, 2))"
      ]
     },
     "execution_count": 2,
     "metadata": {},
     "output_type": "execute_result"
    }
   ],
   "source": [
    "# 학습, 예측 데이터셋을 불러옵니다.\n",
    "train = pd.read_csv(\"data/klue/train_data.csv\")\n",
    "test = pd.read_csv(\"data/klue/test_data.csv\")\n",
    "train.shape, test.shape"
   ]
  },
  {
   "cell_type": "code",
   "execution_count": 3,
   "metadata": {},
   "outputs": [
    {
     "data": {
      "text/html": [
       "<div>\n",
       "<style scoped>\n",
       "    .dataframe tbody tr th:only-of-type {\n",
       "        vertical-align: middle;\n",
       "    }\n",
       "\n",
       "    .dataframe tbody tr th {\n",
       "        vertical-align: top;\n",
       "    }\n",
       "\n",
       "    .dataframe thead th {\n",
       "        text-align: right;\n",
       "    }\n",
       "</style>\n",
       "<table border=\"1\" class=\"dataframe\">\n",
       "  <thead>\n",
       "    <tr style=\"text-align: right;\">\n",
       "      <th></th>\n",
       "      <th>topic</th>\n",
       "      <th>topic_idx</th>\n",
       "    </tr>\n",
       "  </thead>\n",
       "  <tbody>\n",
       "    <tr>\n",
       "      <th>0</th>\n",
       "      <td>IT과학</td>\n",
       "      <td>0</td>\n",
       "    </tr>\n",
       "    <tr>\n",
       "      <th>1</th>\n",
       "      <td>경제</td>\n",
       "      <td>1</td>\n",
       "    </tr>\n",
       "    <tr>\n",
       "      <th>2</th>\n",
       "      <td>사회</td>\n",
       "      <td>2</td>\n",
       "    </tr>\n",
       "    <tr>\n",
       "      <th>3</th>\n",
       "      <td>생활문화</td>\n",
       "      <td>3</td>\n",
       "    </tr>\n",
       "    <tr>\n",
       "      <th>4</th>\n",
       "      <td>세계</td>\n",
       "      <td>4</td>\n",
       "    </tr>\n",
       "    <tr>\n",
       "      <th>5</th>\n",
       "      <td>스포츠</td>\n",
       "      <td>5</td>\n",
       "    </tr>\n",
       "    <tr>\n",
       "      <th>6</th>\n",
       "      <td>정치</td>\n",
       "      <td>6</td>\n",
       "    </tr>\n",
       "  </tbody>\n",
       "</table>\n",
       "</div>"
      ],
      "text/plain": [
       "  topic  topic_idx\n",
       "0  IT과학          0\n",
       "1    경제          1\n",
       "2    사회          2\n",
       "3  생활문화          3\n",
       "4    세계          4\n",
       "5   스포츠          5\n",
       "6    정치          6"
      ]
     },
     "execution_count": 3,
     "metadata": {},
     "output_type": "execute_result"
    }
   ],
   "source": [
    "# 토픽을 불러옵니다.\n",
    "topic = pd.read_csv(\"data/klue/topic_dict.csv\")\n",
    "topic"
   ]
  },
  {
   "cell_type": "markdown",
   "metadata": {},
   "source": [
    "## 형태소 분석\n",
    "\n",
    "### 형태소 분석기를 통한 조사 구두점 제거\n",
    "* https://github.com/hyunwoongko/pecab\n",
    "* 조사, 구두점 제거\n",
    "* 품사태그표 : \n",
    "    * https://konlpy.org/ko/v0.6.0/morph/\n",
    "    * https://docs.google.com/spreadsheets/d/1OGAjUvalBuX-oZvZ_-9tEfYD2gQe7hTGsgUpiiBSXI8/edit#gid=0"
   ]
  },
  {
   "cell_type": "code",
   "execution_count": 5,
   "metadata": {},
   "outputs": [],
   "source": [
    "# pecab\n",
    "from pecab import PeCab\n",
    "\n",
    "pecab = PeCab()"
   ]
  },
  {
   "cell_type": "code",
   "execution_count": 13,
   "metadata": {},
   "outputs": [
    {
     "name": "stdout",
     "output_type": "stream",
     "text": [
      "토끼정 크림 우동 시켰어요\n"
     ]
    }
   ],
   "source": [
    "corpus_text = \"토끼정에서 크림 우동을 시켰어요.\"\n",
    "pecab_pos = pecab.pos(corpus_text, drop_space=False)\n",
    "join_text = []\n",
    "for txt, pos in pecab_pos:\n",
    "    if not pos.startswith(\"J\") and (pos not in [\"SF\"]) :\n",
    "        join_text.append(txt)\n",
    "print(\"\".join(join_text))"
   ]
  },
  {
   "cell_type": "code",
   "execution_count": 34,
   "metadata": {},
   "outputs": [
    {
     "data": {
      "text/plain": [
       "'나 밥 먹는다 학교 공부 했어요'"
      ]
     },
     "execution_count": 34,
     "metadata": {},
     "output_type": "execute_result"
    }
   ],
   "source": [
    "def corpus_pecab(corpus_text):\n",
    "    join_text = []\n",
    "    pecab_pos = pecab.pos(corpus_text, drop_space=False)\n",
    "    for txt, pos in pecab_pos:\n",
    "        if not pos.startswith(\"J\") and (pos not in [\"SF\"]) :\n",
    "            join_text.append(txt)\n",
    "    return \"\".join(join_text)\n",
    "\n",
    "corpus_pecab(\"나는 밥을 먹는다. 학교에서 공부를 했어요.\")"
   ]
  },
  {
   "cell_type": "code",
   "execution_count": 35,
   "metadata": {},
   "outputs": [
    {
     "data": {
      "text/plain": [
       "0            인천→핀란드 항공기 결항…휴가철 여행객 분통\n",
       "1      실리콘밸리 넘어서겠다…구글 15조원 들여 美전역 거점화\n",
       "2      이란 외무 긴장완화 해결책은 미국이 경제전쟁 멈추는 것\n",
       "3    NYT 클린턴 측근韓기업 특수관계 조명…공과 사 맞물려종합\n",
       "4           시진핑 트럼프에 중미 무역협상 조속 타결 희망\n",
       "Name: title, dtype: object"
      ]
     },
     "execution_count": 35,
     "metadata": {},
     "output_type": "execute_result"
    }
   ],
   "source": [
    "train[\"title\"].head()"
   ]
  },
  {
   "cell_type": "code",
   "execution_count": 36,
   "metadata": {},
   "outputs": [
    {
     "data": {
      "text/plain": [
       "0            인천→핀란드 항공기 결항…휴가철 여행객 분통\n",
       "1      실리콘밸리 넘어서겠다…구글 15조원 들여 美전역 거점화\n",
       "2        이란 외무 긴장완화 해결책 미국 경제전쟁 멈추는 것\n",
       "3    NYT 클린턴 측근韓기업 특수관계 조명…공과 사 맞물려종합\n",
       "4            시진핑 트럼프 중미 무역협상 조속 타결 희망\n",
       "Name: title, dtype: object"
      ]
     },
     "execution_count": 36,
     "metadata": {},
     "output_type": "execute_result"
    }
   ],
   "source": [
    "# 형태소 분석기를 통한 전처리\n",
    "train[\"title\"].head().map(corpus_pecab)"
   ]
  },
  {
   "cell_type": "code",
   "execution_count": 37,
   "metadata": {},
   "outputs": [
    {
     "name": "stderr",
     "output_type": "stream",
     "text": [
      "100%|█████████████████████████████████████████████████████████████████████████████████████████████████████████████████████████████████████████████████████████████████| 45654/45654 [07:58<00:00, 95.44it/s]\n",
      "100%|███████████████████████████████████████████████████████████████████████████████████████████████████████████████████████████████████████████████████████████████████| 9131/9131 [01:37<00:00, 93.28it/s]\n"
     ]
    }
   ],
   "source": [
    "from tqdm import tqdm\n",
    "tqdm.pandas()\n",
    "\n",
    "train[\"title_pecab\"] = train[\"title\"].progress_map(corpus_pecab)\n",
    "test[\"title_pecab\"] = test[\"title\"].progress_map(corpus_pecab)"
   ]
  },
  {
   "cell_type": "markdown",
   "metadata": {},
   "source": [
    "### 전처리 결과 저장"
   ]
  },
  {
   "cell_type": "code",
   "execution_count": 42,
   "metadata": {},
   "outputs": [],
   "source": [
    "file_name_train = f\"data/klue/train_pecab.csv\"\n",
    "file_name_test = f\"data/klue/test_pecab.csv\"\n",
    "\n",
    "train.to_csv(file_name_train, index=False)\n",
    "test.to_csv(file_name_test, index=False)"
   ]
  },
  {
   "cell_type": "code",
   "execution_count": 44,
   "metadata": {},
   "outputs": [
    {
     "data": {
      "text/html": [
       "<div>\n",
       "<style scoped>\n",
       "    .dataframe tbody tr th:only-of-type {\n",
       "        vertical-align: middle;\n",
       "    }\n",
       "\n",
       "    .dataframe tbody tr th {\n",
       "        vertical-align: top;\n",
       "    }\n",
       "\n",
       "    .dataframe thead th {\n",
       "        text-align: right;\n",
       "    }\n",
       "</style>\n",
       "<table border=\"1\" class=\"dataframe\">\n",
       "  <thead>\n",
       "    <tr style=\"text-align: right;\">\n",
       "      <th></th>\n",
       "      <th>index</th>\n",
       "      <th>title</th>\n",
       "      <th>topic_idx</th>\n",
       "      <th>title_pecab</th>\n",
       "    </tr>\n",
       "  </thead>\n",
       "  <tbody>\n",
       "    <tr>\n",
       "      <th>0</th>\n",
       "      <td>0</td>\n",
       "      <td>인천→핀란드 항공기 결항…휴가철 여행객 분통</td>\n",
       "      <td>4</td>\n",
       "      <td>인천→핀란드 항공기 결항…휴가철 여행객 분통</td>\n",
       "    </tr>\n",
       "    <tr>\n",
       "      <th>1</th>\n",
       "      <td>1</td>\n",
       "      <td>실리콘밸리 넘어서겠다…구글 15조원 들여 美전역 거점화</td>\n",
       "      <td>4</td>\n",
       "      <td>실리콘밸리 넘어서겠다…구글 15조원 들여 美전역 거점화</td>\n",
       "    </tr>\n",
       "  </tbody>\n",
       "</table>\n",
       "</div>"
      ],
      "text/plain": [
       "   index                           title  topic_idx  \\\n",
       "0      0        인천→핀란드 항공기 결항…휴가철 여행객 분통          4   \n",
       "1      1  실리콘밸리 넘어서겠다…구글 15조원 들여 美전역 거점화          4   \n",
       "\n",
       "                      title_pecab  \n",
       "0        인천→핀란드 항공기 결항…휴가철 여행객 분통  \n",
       "1  실리콘밸리 넘어서겠다…구글 15조원 들여 美전역 거점화  "
      ]
     },
     "execution_count": 44,
     "metadata": {},
     "output_type": "execute_result"
    }
   ],
   "source": [
    "pd.read_csv(file_name_train).head(2)"
   ]
  },
  {
   "cell_type": "code",
   "execution_count": 45,
   "metadata": {},
   "outputs": [
    {
     "data": {
      "text/html": [
       "<div>\n",
       "<style scoped>\n",
       "    .dataframe tbody tr th:only-of-type {\n",
       "        vertical-align: middle;\n",
       "    }\n",
       "\n",
       "    .dataframe tbody tr th {\n",
       "        vertical-align: top;\n",
       "    }\n",
       "\n",
       "    .dataframe thead th {\n",
       "        text-align: right;\n",
       "    }\n",
       "</style>\n",
       "<table border=\"1\" class=\"dataframe\">\n",
       "  <thead>\n",
       "    <tr style=\"text-align: right;\">\n",
       "      <th></th>\n",
       "      <th>index</th>\n",
       "      <th>title</th>\n",
       "      <th>title_pecab</th>\n",
       "    </tr>\n",
       "  </thead>\n",
       "  <tbody>\n",
       "    <tr>\n",
       "      <th>0</th>\n",
       "      <td>45654</td>\n",
       "      <td>유튜브 내달 2일까지 크리에이터 지원 공간 운영</td>\n",
       "      <td>유튜브 내달 2일 크리에이터 지원 공간 운영</td>\n",
       "    </tr>\n",
       "    <tr>\n",
       "      <th>1</th>\n",
       "      <td>45655</td>\n",
       "      <td>어버이날 맑다가 흐려져…남부지방 옅은 황사</td>\n",
       "      <td>어버이날 맑다가 흐려져…남부지방 옅은 황사</td>\n",
       "    </tr>\n",
       "  </tbody>\n",
       "</table>\n",
       "</div>"
      ],
      "text/plain": [
       "   index                       title               title_pecab\n",
       "0  45654  유튜브 내달 2일까지 크리에이터 지원 공간 운영  유튜브 내달 2일 크리에이터 지원 공간 운영\n",
       "1  45655     어버이날 맑다가 흐려져…남부지방 옅은 황사   어버이날 맑다가 흐려져…남부지방 옅은 황사"
      ]
     },
     "execution_count": 45,
     "metadata": {},
     "output_type": "execute_result"
    }
   ],
   "source": [
    "pd.read_csv(file_name_test).head(2)"
   ]
  },
  {
   "cell_type": "markdown",
   "metadata": {},
   "source": [
    "## 학습, 예측 데이터셋 만들기\n",
    "\n",
    "## 벡터화\n",
    "* 머신러닝이나 딥러닝 알고리즘은 문자를 이해할 수 없습니다. 내부에서는 수치 계산이 이루어지기 때문에 문자를 숫자로 변경해 주어야 합니다.\n",
    "\n",
    "\n",
    "### TF-IDF(Term Frequency - Inverse Document Frequency)"
   ]
  },
  {
   "cell_type": "code",
   "execution_count": 48,
   "metadata": {},
   "outputs": [
    {
     "data": {
      "text/html": [
       "<style>#sk-container-id-2 {color: black;}#sk-container-id-2 pre{padding: 0;}#sk-container-id-2 div.sk-toggleable {background-color: white;}#sk-container-id-2 label.sk-toggleable__label {cursor: pointer;display: block;width: 100%;margin-bottom: 0;padding: 0.3em;box-sizing: border-box;text-align: center;}#sk-container-id-2 label.sk-toggleable__label-arrow:before {content: \"▸\";float: left;margin-right: 0.25em;color: #696969;}#sk-container-id-2 label.sk-toggleable__label-arrow:hover:before {color: black;}#sk-container-id-2 div.sk-estimator:hover label.sk-toggleable__label-arrow:before {color: black;}#sk-container-id-2 div.sk-toggleable__content {max-height: 0;max-width: 0;overflow: hidden;text-align: left;background-color: #f0f8ff;}#sk-container-id-2 div.sk-toggleable__content pre {margin: 0.2em;color: black;border-radius: 0.25em;background-color: #f0f8ff;}#sk-container-id-2 input.sk-toggleable__control:checked~div.sk-toggleable__content {max-height: 200px;max-width: 100%;overflow: auto;}#sk-container-id-2 input.sk-toggleable__control:checked~label.sk-toggleable__label-arrow:before {content: \"▾\";}#sk-container-id-2 div.sk-estimator input.sk-toggleable__control:checked~label.sk-toggleable__label {background-color: #d4ebff;}#sk-container-id-2 div.sk-label input.sk-toggleable__control:checked~label.sk-toggleable__label {background-color: #d4ebff;}#sk-container-id-2 input.sk-hidden--visually {border: 0;clip: rect(1px 1px 1px 1px);clip: rect(1px, 1px, 1px, 1px);height: 1px;margin: -1px;overflow: hidden;padding: 0;position: absolute;width: 1px;}#sk-container-id-2 div.sk-estimator {font-family: monospace;background-color: #f0f8ff;border: 1px dotted black;border-radius: 0.25em;box-sizing: border-box;margin-bottom: 0.5em;}#sk-container-id-2 div.sk-estimator:hover {background-color: #d4ebff;}#sk-container-id-2 div.sk-parallel-item::after {content: \"\";width: 100%;border-bottom: 1px solid gray;flex-grow: 1;}#sk-container-id-2 div.sk-label:hover label.sk-toggleable__label {background-color: #d4ebff;}#sk-container-id-2 div.sk-serial::before {content: \"\";position: absolute;border-left: 1px solid gray;box-sizing: border-box;top: 0;bottom: 0;left: 50%;z-index: 0;}#sk-container-id-2 div.sk-serial {display: flex;flex-direction: column;align-items: center;background-color: white;padding-right: 0.2em;padding-left: 0.2em;position: relative;}#sk-container-id-2 div.sk-item {position: relative;z-index: 1;}#sk-container-id-2 div.sk-parallel {display: flex;align-items: stretch;justify-content: center;background-color: white;position: relative;}#sk-container-id-2 div.sk-item::before, #sk-container-id-2 div.sk-parallel-item::before {content: \"\";position: absolute;border-left: 1px solid gray;box-sizing: border-box;top: 0;bottom: 0;left: 50%;z-index: -1;}#sk-container-id-2 div.sk-parallel-item {display: flex;flex-direction: column;z-index: 1;position: relative;background-color: white;}#sk-container-id-2 div.sk-parallel-item:first-child::after {align-self: flex-end;width: 50%;}#sk-container-id-2 div.sk-parallel-item:last-child::after {align-self: flex-start;width: 50%;}#sk-container-id-2 div.sk-parallel-item:only-child::after {width: 0;}#sk-container-id-2 div.sk-dashed-wrapped {border: 1px dashed gray;margin: 0 0.4em 0.5em 0.4em;box-sizing: border-box;padding-bottom: 0.4em;background-color: white;}#sk-container-id-2 div.sk-label label {font-family: monospace;font-weight: bold;display: inline-block;line-height: 1.2em;}#sk-container-id-2 div.sk-label-container {text-align: center;}#sk-container-id-2 div.sk-container {/* jupyter's `normalize.less` sets `[hidden] { display: none; }` but bootstrap.min.css set `[hidden] { display: none !important; }` so we also need the `!important` here to be able to override the default hidden behavior on the sphinx rendered scikit-learn.org. See: https://github.com/scikit-learn/scikit-learn/issues/21755 */display: inline-block !important;position: relative;}#sk-container-id-2 div.sk-text-repr-fallback {display: none;}</style><div id=\"sk-container-id-2\" class=\"sk-top-container\"><div class=\"sk-text-repr-fallback\"><pre>TfidfVectorizer(max_features=2000)</pre><b>In a Jupyter environment, please rerun this cell to show the HTML representation or trust the notebook. <br />On GitHub, the HTML representation is unable to render, please try loading this page with nbviewer.org.</b></div><div class=\"sk-container\" hidden><div class=\"sk-item\"><div class=\"sk-estimator sk-toggleable\"><input class=\"sk-toggleable__control sk-hidden--visually\" id=\"sk-estimator-id-2\" type=\"checkbox\" checked><label for=\"sk-estimator-id-2\" class=\"sk-toggleable__label sk-toggleable__label-arrow\">TfidfVectorizer</label><div class=\"sk-toggleable__content\"><pre>TfidfVectorizer(max_features=2000)</pre></div></div></div></div></div>"
      ],
      "text/plain": [
       "TfidfVectorizer(max_features=2000)"
      ]
     },
     "execution_count": 48,
     "metadata": {},
     "output_type": "execute_result"
    }
   ],
   "source": [
    "# TfidfVectorizer 로 벡터화 합니다.\n",
    "# fit 으로 변환할 어휘를 학습합니다.\n",
    "from sklearn.feature_extraction.text import TfidfVectorizer\n",
    "\n",
    "# tfidfvect = TfidfVectorizer(tokenizer=None, \n",
    "#                              ngram_range=(1,2),\n",
    "#                              min_df=2, \n",
    "#                              max_df=0.95)\n",
    "\n",
    "tfidfvect = TfidfVectorizer(max_features=2000)\n",
    "tfidfvect.fit(train[\"title_pecab\"])"
   ]
  },
  {
   "cell_type": "code",
   "execution_count": 49,
   "metadata": {},
   "outputs": [
    {
     "data": {
      "text/plain": [
       "((45654, 2000), (9131, 2000))"
      ]
     },
     "execution_count": 49,
     "metadata": {},
     "output_type": "execute_result"
    }
   ],
   "source": [
    "# transform\n",
    "X_train = tfidfvect.transform(train[\"title_pecab\"])\n",
    "X_test = tfidfvect.transform(test[\"title_pecab\"])\n",
    "X_train.shape, X_test.shape"
   ]
  },
  {
   "cell_type": "code",
   "execution_count": 52,
   "metadata": {},
   "outputs": [
    {
     "data": {
      "text/plain": [
       "신간      466.393656\n",
       "게시판     357.535253\n",
       "대통령     349.723231\n",
       "출시      338.859051\n",
       "朴대통령    312.620717\n",
       "트럼프     299.511022\n",
       "감독      296.092707\n",
       "한국      280.612034\n",
       "이란      278.515041\n",
       "개발      255.283197\n",
       "kt      247.290902\n",
       "올해      235.747200\n",
       "개최      226.110000\n",
       "서울      195.171333\n",
       "중국      191.588161\n",
       "5g      189.116485\n",
       "작년      188.959399\n",
       "그래픽     183.948820\n",
       "류현진     182.174843\n",
       "미국      180.460877\n",
       "dtype: float64"
      ]
     },
     "execution_count": 52,
     "metadata": {},
     "output_type": "execute_result"
    }
   ],
   "source": [
    "pd.DataFrame(X_train.toarray(), columns=tfidfvect.get_feature_names_out()).sum().nlargest(20)"
   ]
  },
  {
   "cell_type": "code",
   "execution_count": 53,
   "metadata": {},
   "outputs": [
    {
     "data": {
      "text/plain": [
       "0        4\n",
       "1        4\n",
       "2        4\n",
       "3        4\n",
       "4        4\n",
       "        ..\n",
       "45649    1\n",
       "45650    2\n",
       "45651    1\n",
       "45652    2\n",
       "45653    2\n",
       "Name: topic_idx, Length: 45654, dtype: int64"
      ]
     },
     "execution_count": 53,
     "metadata": {},
     "output_type": "execute_result"
    }
   ],
   "source": [
    "# 정답값으로 사용할 topic_idx 를 변수에 담아 재사용 합니다.\n",
    "label_name = \"topic_idx\"\n",
    "y_train = train[label_name]\n",
    "y_train"
   ]
  },
  {
   "cell_type": "markdown",
   "metadata": {},
   "source": [
    "## 모델\n",
    "\n",
    "\n",
    "전체 과정\n",
    "* feature_names : 학습(훈련), 예측에 사용할 단어 사전 입니다.\n",
    "* label_name : 정답값\n",
    "\n",
    "* X_train : feature_names 에 해당되는 컬럼만 train에서 가져옵니다.\n",
    "    * 학습(훈련)에 사용할 데이터셋 예) 시험의 기출문제\n",
    "\n",
    "* X_test : feature_names 에 해당되는 컬럼만 test에서 가져옵니다.\n",
    "    * 예측에 사용할 데이터셋 예) 실전 시험문제\n",
    "\n",
    "* y_train : label_name 에 해당 되는 컬럼만 train에서 가져옵니다.\n",
    "    * 학습(훈련)에 사용할 정답 값 예) 기출문제의 정답\n",
    "\n",
    "* model : 학습, 예측에 사용할 머신러닝 알고리즘\n",
    "\n",
    "* model.fit(X_train, y_train) : 학습(훈련), 기출문제와 정답을 가지고 학습(훈련)하는 과정과 유사합니다.\n",
    "\n",
    "* model.predict(X_test) :  예측, 실제 시험을 보는 과정과 유사합니다. => 문제를 풀어서 정답을 구합니다.\n",
    "\n",
    "* score\n",
    "    * 시험을 봤다면 몇 문제를 맞고 틀렸는지 채점해 봅니다.\n",
    "* metric\n",
    "    * 점수를 채점하는 공식입니다. (예를 들어 학교에서 중간고사를 봤다면 전체 평균을 계산해 줍니다.)\n",
    "    \n",
    "    \n",
    "### DecisionTreeClassifier Parameter\n",
    "* max_depth\n",
    "    * 트리의 최대 깊이\n",
    "* max_features\t\n",
    "    * 피처의 개수(int) 혹은 비율(float)\n",
    "    * sqrt 또는 auto : 전체 피처 중 √(피처개수) 만큼 사용\n",
    "    * log : 전체 피처 중 log2(전체 피처 개수) 만큼 \n",
    "* min_samples_split\n",
    "    * 노드를 분할하기 위한 최소 샘플 데이터수\n",
    "* min_samples_leaf\n",
    "    * 리프노드가 되기 위해 필요한 최소 샘플 데이터수\n",
    "* max_leaf_nodes\n",
    "    * 리프노드의 최대 개수\n",
    "* n_jobs\n",
    "    * 사용할 CPU 코어의 수, -1로 설정 시 사용할 수 있는 모든 CPU코어를 사용\n",
    "    \n",
    "## 학습과 예측\n",
    "\n",
    "\n",
    "* 배깅이나 부스팅과 같은 트리를 여러 개 만드는 알고리즘을 사용하면 느리기 때문에 시연을 위해 DecisionTree를 사용합니다.\n",
    "* 응용에서는 다른 알고리즘을 사용해도 좋습니다."
   ]
  },
  {
   "cell_type": "code",
   "execution_count": 56,
   "metadata": {
    "scrolled": true
   },
   "outputs": [
    {
     "data": {
      "text/html": [
       "<style>#sk-container-id-5 {color: black;}#sk-container-id-5 pre{padding: 0;}#sk-container-id-5 div.sk-toggleable {background-color: white;}#sk-container-id-5 label.sk-toggleable__label {cursor: pointer;display: block;width: 100%;margin-bottom: 0;padding: 0.3em;box-sizing: border-box;text-align: center;}#sk-container-id-5 label.sk-toggleable__label-arrow:before {content: \"▸\";float: left;margin-right: 0.25em;color: #696969;}#sk-container-id-5 label.sk-toggleable__label-arrow:hover:before {color: black;}#sk-container-id-5 div.sk-estimator:hover label.sk-toggleable__label-arrow:before {color: black;}#sk-container-id-5 div.sk-toggleable__content {max-height: 0;max-width: 0;overflow: hidden;text-align: left;background-color: #f0f8ff;}#sk-container-id-5 div.sk-toggleable__content pre {margin: 0.2em;color: black;border-radius: 0.25em;background-color: #f0f8ff;}#sk-container-id-5 input.sk-toggleable__control:checked~div.sk-toggleable__content {max-height: 200px;max-width: 100%;overflow: auto;}#sk-container-id-5 input.sk-toggleable__control:checked~label.sk-toggleable__label-arrow:before {content: \"▾\";}#sk-container-id-5 div.sk-estimator input.sk-toggleable__control:checked~label.sk-toggleable__label {background-color: #d4ebff;}#sk-container-id-5 div.sk-label input.sk-toggleable__control:checked~label.sk-toggleable__label {background-color: #d4ebff;}#sk-container-id-5 input.sk-hidden--visually {border: 0;clip: rect(1px 1px 1px 1px);clip: rect(1px, 1px, 1px, 1px);height: 1px;margin: -1px;overflow: hidden;padding: 0;position: absolute;width: 1px;}#sk-container-id-5 div.sk-estimator {font-family: monospace;background-color: #f0f8ff;border: 1px dotted black;border-radius: 0.25em;box-sizing: border-box;margin-bottom: 0.5em;}#sk-container-id-5 div.sk-estimator:hover {background-color: #d4ebff;}#sk-container-id-5 div.sk-parallel-item::after {content: \"\";width: 100%;border-bottom: 1px solid gray;flex-grow: 1;}#sk-container-id-5 div.sk-label:hover label.sk-toggleable__label {background-color: #d4ebff;}#sk-container-id-5 div.sk-serial::before {content: \"\";position: absolute;border-left: 1px solid gray;box-sizing: border-box;top: 0;bottom: 0;left: 50%;z-index: 0;}#sk-container-id-5 div.sk-serial {display: flex;flex-direction: column;align-items: center;background-color: white;padding-right: 0.2em;padding-left: 0.2em;position: relative;}#sk-container-id-5 div.sk-item {position: relative;z-index: 1;}#sk-container-id-5 div.sk-parallel {display: flex;align-items: stretch;justify-content: center;background-color: white;position: relative;}#sk-container-id-5 div.sk-item::before, #sk-container-id-5 div.sk-parallel-item::before {content: \"\";position: absolute;border-left: 1px solid gray;box-sizing: border-box;top: 0;bottom: 0;left: 50%;z-index: -1;}#sk-container-id-5 div.sk-parallel-item {display: flex;flex-direction: column;z-index: 1;position: relative;background-color: white;}#sk-container-id-5 div.sk-parallel-item:first-child::after {align-self: flex-end;width: 50%;}#sk-container-id-5 div.sk-parallel-item:last-child::after {align-self: flex-start;width: 50%;}#sk-container-id-5 div.sk-parallel-item:only-child::after {width: 0;}#sk-container-id-5 div.sk-dashed-wrapped {border: 1px dashed gray;margin: 0 0.4em 0.5em 0.4em;box-sizing: border-box;padding-bottom: 0.4em;background-color: white;}#sk-container-id-5 div.sk-label label {font-family: monospace;font-weight: bold;display: inline-block;line-height: 1.2em;}#sk-container-id-5 div.sk-label-container {text-align: center;}#sk-container-id-5 div.sk-container {/* jupyter's `normalize.less` sets `[hidden] { display: none; }` but bootstrap.min.css set `[hidden] { display: none !important; }` so we also need the `!important` here to be able to override the default hidden behavior on the sphinx rendered scikit-learn.org. See: https://github.com/scikit-learn/scikit-learn/issues/21755 */display: inline-block !important;position: relative;}#sk-container-id-5 div.sk-text-repr-fallback {display: none;}</style><div id=\"sk-container-id-5\" class=\"sk-top-container\"><div class=\"sk-text-repr-fallback\"><pre>DecisionTreeClassifier(random_state=42)</pre><b>In a Jupyter environment, please rerun this cell to show the HTML representation or trust the notebook. <br />On GitHub, the HTML representation is unable to render, please try loading this page with nbviewer.org.</b></div><div class=\"sk-container\" hidden><div class=\"sk-item\"><div class=\"sk-estimator sk-toggleable\"><input class=\"sk-toggleable__control sk-hidden--visually\" id=\"sk-estimator-id-5\" type=\"checkbox\" checked><label for=\"sk-estimator-id-5\" class=\"sk-toggleable__label sk-toggleable__label-arrow\">DecisionTreeClassifier</label><div class=\"sk-toggleable__content\"><pre>DecisionTreeClassifier(random_state=42)</pre></div></div></div></div></div>"
      ],
      "text/plain": [
       "DecisionTreeClassifier(random_state=42)"
      ]
     },
     "execution_count": 56,
     "metadata": {},
     "output_type": "execute_result"
    }
   ],
   "source": [
    "# DecisionTreeClassifier\n",
    "from sklearn.tree import DecisionTreeClassifier\n",
    "\n",
    "model = DecisionTreeClassifier(random_state=42)\n",
    "model"
   ]
  },
  {
   "cell_type": "markdown",
   "metadata": {},
   "source": [
    "## Parameter Search\n",
    "<img src=\"https://i.imgur.com/h8QtsMz.png\" width=500>\n",
    "\n",
    "### Grid Search\n",
    "\n",
    "* https://scikit-learn.org/stable/modules/generated/sklearn.model_selection.GridSearchCV.html"
   ]
  },
  {
   "cell_type": "code",
   "execution_count": 60,
   "metadata": {
    "scrolled": true
   },
   "outputs": [
    {
     "name": "stdout",
     "output_type": "stream",
     "text": [
      "Fitting 3 folds for each of 16 candidates, totalling 48 fits\n"
     ]
    },
    {
     "data": {
      "text/html": [
       "<style>#sk-container-id-7 {color: black;}#sk-container-id-7 pre{padding: 0;}#sk-container-id-7 div.sk-toggleable {background-color: white;}#sk-container-id-7 label.sk-toggleable__label {cursor: pointer;display: block;width: 100%;margin-bottom: 0;padding: 0.3em;box-sizing: border-box;text-align: center;}#sk-container-id-7 label.sk-toggleable__label-arrow:before {content: \"▸\";float: left;margin-right: 0.25em;color: #696969;}#sk-container-id-7 label.sk-toggleable__label-arrow:hover:before {color: black;}#sk-container-id-7 div.sk-estimator:hover label.sk-toggleable__label-arrow:before {color: black;}#sk-container-id-7 div.sk-toggleable__content {max-height: 0;max-width: 0;overflow: hidden;text-align: left;background-color: #f0f8ff;}#sk-container-id-7 div.sk-toggleable__content pre {margin: 0.2em;color: black;border-radius: 0.25em;background-color: #f0f8ff;}#sk-container-id-7 input.sk-toggleable__control:checked~div.sk-toggleable__content {max-height: 200px;max-width: 100%;overflow: auto;}#sk-container-id-7 input.sk-toggleable__control:checked~label.sk-toggleable__label-arrow:before {content: \"▾\";}#sk-container-id-7 div.sk-estimator input.sk-toggleable__control:checked~label.sk-toggleable__label {background-color: #d4ebff;}#sk-container-id-7 div.sk-label input.sk-toggleable__control:checked~label.sk-toggleable__label {background-color: #d4ebff;}#sk-container-id-7 input.sk-hidden--visually {border: 0;clip: rect(1px 1px 1px 1px);clip: rect(1px, 1px, 1px, 1px);height: 1px;margin: -1px;overflow: hidden;padding: 0;position: absolute;width: 1px;}#sk-container-id-7 div.sk-estimator {font-family: monospace;background-color: #f0f8ff;border: 1px dotted black;border-radius: 0.25em;box-sizing: border-box;margin-bottom: 0.5em;}#sk-container-id-7 div.sk-estimator:hover {background-color: #d4ebff;}#sk-container-id-7 div.sk-parallel-item::after {content: \"\";width: 100%;border-bottom: 1px solid gray;flex-grow: 1;}#sk-container-id-7 div.sk-label:hover label.sk-toggleable__label {background-color: #d4ebff;}#sk-container-id-7 div.sk-serial::before {content: \"\";position: absolute;border-left: 1px solid gray;box-sizing: border-box;top: 0;bottom: 0;left: 50%;z-index: 0;}#sk-container-id-7 div.sk-serial {display: flex;flex-direction: column;align-items: center;background-color: white;padding-right: 0.2em;padding-left: 0.2em;position: relative;}#sk-container-id-7 div.sk-item {position: relative;z-index: 1;}#sk-container-id-7 div.sk-parallel {display: flex;align-items: stretch;justify-content: center;background-color: white;position: relative;}#sk-container-id-7 div.sk-item::before, #sk-container-id-7 div.sk-parallel-item::before {content: \"\";position: absolute;border-left: 1px solid gray;box-sizing: border-box;top: 0;bottom: 0;left: 50%;z-index: -1;}#sk-container-id-7 div.sk-parallel-item {display: flex;flex-direction: column;z-index: 1;position: relative;background-color: white;}#sk-container-id-7 div.sk-parallel-item:first-child::after {align-self: flex-end;width: 50%;}#sk-container-id-7 div.sk-parallel-item:last-child::after {align-self: flex-start;width: 50%;}#sk-container-id-7 div.sk-parallel-item:only-child::after {width: 0;}#sk-container-id-7 div.sk-dashed-wrapped {border: 1px dashed gray;margin: 0 0.4em 0.5em 0.4em;box-sizing: border-box;padding-bottom: 0.4em;background-color: white;}#sk-container-id-7 div.sk-label label {font-family: monospace;font-weight: bold;display: inline-block;line-height: 1.2em;}#sk-container-id-7 div.sk-label-container {text-align: center;}#sk-container-id-7 div.sk-container {/* jupyter's `normalize.less` sets `[hidden] { display: none; }` but bootstrap.min.css set `[hidden] { display: none !important; }` so we also need the `!important` here to be able to override the default hidden behavior on the sphinx rendered scikit-learn.org. See: https://github.com/scikit-learn/scikit-learn/issues/21755 */display: inline-block !important;position: relative;}#sk-container-id-7 div.sk-text-repr-fallback {display: none;}</style><div id=\"sk-container-id-7\" class=\"sk-top-container\"><div class=\"sk-text-repr-fallback\"><pre>GridSearchCV(cv=3, estimator=DecisionTreeClassifier(random_state=42), n_jobs=-1,\n",
       "             param_grid={&#x27;max_depth&#x27;: [600, 700, 1000, 2000],\n",
       "                         &#x27;max_features&#x27;: [0.8, 0.9, 0.95, 0.99]},\n",
       "             return_train_score=True, verbose=2)</pre><b>In a Jupyter environment, please rerun this cell to show the HTML representation or trust the notebook. <br />On GitHub, the HTML representation is unable to render, please try loading this page with nbviewer.org.</b></div><div class=\"sk-container\" hidden><div class=\"sk-item sk-dashed-wrapped\"><div class=\"sk-label-container\"><div class=\"sk-label sk-toggleable\"><input class=\"sk-toggleable__control sk-hidden--visually\" id=\"sk-estimator-id-9\" type=\"checkbox\" ><label for=\"sk-estimator-id-9\" class=\"sk-toggleable__label sk-toggleable__label-arrow\">GridSearchCV</label><div class=\"sk-toggleable__content\"><pre>GridSearchCV(cv=3, estimator=DecisionTreeClassifier(random_state=42), n_jobs=-1,\n",
       "             param_grid={&#x27;max_depth&#x27;: [600, 700, 1000, 2000],\n",
       "                         &#x27;max_features&#x27;: [0.8, 0.9, 0.95, 0.99]},\n",
       "             return_train_score=True, verbose=2)</pre></div></div></div><div class=\"sk-parallel\"><div class=\"sk-parallel-item\"><div class=\"sk-item\"><div class=\"sk-label-container\"><div class=\"sk-label sk-toggleable\"><input class=\"sk-toggleable__control sk-hidden--visually\" id=\"sk-estimator-id-10\" type=\"checkbox\" ><label for=\"sk-estimator-id-10\" class=\"sk-toggleable__label sk-toggleable__label-arrow\">estimator: DecisionTreeClassifier</label><div class=\"sk-toggleable__content\"><pre>DecisionTreeClassifier(random_state=42)</pre></div></div></div><div class=\"sk-serial\"><div class=\"sk-item\"><div class=\"sk-estimator sk-toggleable\"><input class=\"sk-toggleable__control sk-hidden--visually\" id=\"sk-estimator-id-11\" type=\"checkbox\" ><label for=\"sk-estimator-id-11\" class=\"sk-toggleable__label sk-toggleable__label-arrow\">DecisionTreeClassifier</label><div class=\"sk-toggleable__content\"><pre>DecisionTreeClassifier(random_state=42)</pre></div></div></div></div></div></div></div></div></div></div>"
      ],
      "text/plain": [
       "GridSearchCV(cv=3, estimator=DecisionTreeClassifier(random_state=42), n_jobs=-1,\n",
       "             param_grid={'max_depth': [600, 700, 1000, 2000],\n",
       "                         'max_features': [0.8, 0.9, 0.95, 0.99]},\n",
       "             return_train_score=True, verbose=2)"
      ]
     },
     "execution_count": 60,
     "metadata": {},
     "output_type": "execute_result"
    }
   ],
   "source": [
    "# GridSearchCV\n",
    "param_grid = {\"max_depth\": [600, 700, 1000, 2000],\n",
    "              \"max_features\" : [0.8, 0.9, 0.95, 0.99]\n",
    "             }\n",
    "from sklearn.model_selection import GridSearchCV\n",
    "\n",
    "gridcv = GridSearchCV(model, param_grid=param_grid, cv=3, verbose=2, \n",
    "                      return_train_score=True, n_jobs=-1)\n",
    "gridcv.fit(X_train, y_train)"
   ]
  },
  {
   "cell_type": "code",
   "execution_count": 61,
   "metadata": {},
   "outputs": [
    {
     "data": {
      "text/html": [
       "<style>#sk-container-id-8 {color: black;}#sk-container-id-8 pre{padding: 0;}#sk-container-id-8 div.sk-toggleable {background-color: white;}#sk-container-id-8 label.sk-toggleable__label {cursor: pointer;display: block;width: 100%;margin-bottom: 0;padding: 0.3em;box-sizing: border-box;text-align: center;}#sk-container-id-8 label.sk-toggleable__label-arrow:before {content: \"▸\";float: left;margin-right: 0.25em;color: #696969;}#sk-container-id-8 label.sk-toggleable__label-arrow:hover:before {color: black;}#sk-container-id-8 div.sk-estimator:hover label.sk-toggleable__label-arrow:before {color: black;}#sk-container-id-8 div.sk-toggleable__content {max-height: 0;max-width: 0;overflow: hidden;text-align: left;background-color: #f0f8ff;}#sk-container-id-8 div.sk-toggleable__content pre {margin: 0.2em;color: black;border-radius: 0.25em;background-color: #f0f8ff;}#sk-container-id-8 input.sk-toggleable__control:checked~div.sk-toggleable__content {max-height: 200px;max-width: 100%;overflow: auto;}#sk-container-id-8 input.sk-toggleable__control:checked~label.sk-toggleable__label-arrow:before {content: \"▾\";}#sk-container-id-8 div.sk-estimator input.sk-toggleable__control:checked~label.sk-toggleable__label {background-color: #d4ebff;}#sk-container-id-8 div.sk-label input.sk-toggleable__control:checked~label.sk-toggleable__label {background-color: #d4ebff;}#sk-container-id-8 input.sk-hidden--visually {border: 0;clip: rect(1px 1px 1px 1px);clip: rect(1px, 1px, 1px, 1px);height: 1px;margin: -1px;overflow: hidden;padding: 0;position: absolute;width: 1px;}#sk-container-id-8 div.sk-estimator {font-family: monospace;background-color: #f0f8ff;border: 1px dotted black;border-radius: 0.25em;box-sizing: border-box;margin-bottom: 0.5em;}#sk-container-id-8 div.sk-estimator:hover {background-color: #d4ebff;}#sk-container-id-8 div.sk-parallel-item::after {content: \"\";width: 100%;border-bottom: 1px solid gray;flex-grow: 1;}#sk-container-id-8 div.sk-label:hover label.sk-toggleable__label {background-color: #d4ebff;}#sk-container-id-8 div.sk-serial::before {content: \"\";position: absolute;border-left: 1px solid gray;box-sizing: border-box;top: 0;bottom: 0;left: 50%;z-index: 0;}#sk-container-id-8 div.sk-serial {display: flex;flex-direction: column;align-items: center;background-color: white;padding-right: 0.2em;padding-left: 0.2em;position: relative;}#sk-container-id-8 div.sk-item {position: relative;z-index: 1;}#sk-container-id-8 div.sk-parallel {display: flex;align-items: stretch;justify-content: center;background-color: white;position: relative;}#sk-container-id-8 div.sk-item::before, #sk-container-id-8 div.sk-parallel-item::before {content: \"\";position: absolute;border-left: 1px solid gray;box-sizing: border-box;top: 0;bottom: 0;left: 50%;z-index: -1;}#sk-container-id-8 div.sk-parallel-item {display: flex;flex-direction: column;z-index: 1;position: relative;background-color: white;}#sk-container-id-8 div.sk-parallel-item:first-child::after {align-self: flex-end;width: 50%;}#sk-container-id-8 div.sk-parallel-item:last-child::after {align-self: flex-start;width: 50%;}#sk-container-id-8 div.sk-parallel-item:only-child::after {width: 0;}#sk-container-id-8 div.sk-dashed-wrapped {border: 1px dashed gray;margin: 0 0.4em 0.5em 0.4em;box-sizing: border-box;padding-bottom: 0.4em;background-color: white;}#sk-container-id-8 div.sk-label label {font-family: monospace;font-weight: bold;display: inline-block;line-height: 1.2em;}#sk-container-id-8 div.sk-label-container {text-align: center;}#sk-container-id-8 div.sk-container {/* jupyter's `normalize.less` sets `[hidden] { display: none; }` but bootstrap.min.css set `[hidden] { display: none !important; }` so we also need the `!important` here to be able to override the default hidden behavior on the sphinx rendered scikit-learn.org. See: https://github.com/scikit-learn/scikit-learn/issues/21755 */display: inline-block !important;position: relative;}#sk-container-id-8 div.sk-text-repr-fallback {display: none;}</style><div id=\"sk-container-id-8\" class=\"sk-top-container\"><div class=\"sk-text-repr-fallback\"><pre>DecisionTreeClassifier(max_depth=2000, max_features=0.95, random_state=42)</pre><b>In a Jupyter environment, please rerun this cell to show the HTML representation or trust the notebook. <br />On GitHub, the HTML representation is unable to render, please try loading this page with nbviewer.org.</b></div><div class=\"sk-container\" hidden><div class=\"sk-item\"><div class=\"sk-estimator sk-toggleable\"><input class=\"sk-toggleable__control sk-hidden--visually\" id=\"sk-estimator-id-12\" type=\"checkbox\" checked><label for=\"sk-estimator-id-12\" class=\"sk-toggleable__label sk-toggleable__label-arrow\">DecisionTreeClassifier</label><div class=\"sk-toggleable__content\"><pre>DecisionTreeClassifier(max_depth=2000, max_features=0.95, random_state=42)</pre></div></div></div></div></div>"
      ],
      "text/plain": [
       "DecisionTreeClassifier(max_depth=2000, max_features=0.95, random_state=42)"
      ]
     },
     "execution_count": 61,
     "metadata": {},
     "output_type": "execute_result"
    }
   ],
   "source": [
    "# best_estimator_\n",
    "gridcv.best_estimator_"
   ]
  },
  {
   "cell_type": "code",
   "execution_count": 62,
   "metadata": {},
   "outputs": [
    {
     "data": {
      "text/plain": [
       "0.6704779427870505"
      ]
     },
     "execution_count": 62,
     "metadata": {},
     "output_type": "execute_result"
    }
   ],
   "source": [
    "# best_score_\n",
    "gridcv.best_score_"
   ]
  },
  {
   "cell_type": "code",
   "execution_count": 65,
   "metadata": {},
   "outputs": [
    {
     "data": {
      "text/html": [
       "<div>\n",
       "<style scoped>\n",
       "    .dataframe tbody tr th:only-of-type {\n",
       "        vertical-align: middle;\n",
       "    }\n",
       "\n",
       "    .dataframe tbody tr th {\n",
       "        vertical-align: top;\n",
       "    }\n",
       "\n",
       "    .dataframe thead th {\n",
       "        text-align: right;\n",
       "    }\n",
       "</style>\n",
       "<table border=\"1\" class=\"dataframe\">\n",
       "  <thead>\n",
       "    <tr style=\"text-align: right;\">\n",
       "      <th></th>\n",
       "      <th>mean_fit_time</th>\n",
       "      <th>std_fit_time</th>\n",
       "      <th>mean_score_time</th>\n",
       "      <th>std_score_time</th>\n",
       "      <th>param_max_depth</th>\n",
       "      <th>param_max_features</th>\n",
       "      <th>params</th>\n",
       "      <th>split0_test_score</th>\n",
       "      <th>split1_test_score</th>\n",
       "      <th>split2_test_score</th>\n",
       "      <th>mean_test_score</th>\n",
       "      <th>std_test_score</th>\n",
       "      <th>rank_test_score</th>\n",
       "      <th>split0_train_score</th>\n",
       "      <th>split1_train_score</th>\n",
       "      <th>split2_train_score</th>\n",
       "      <th>mean_train_score</th>\n",
       "      <th>std_train_score</th>\n",
       "    </tr>\n",
       "  </thead>\n",
       "  <tbody>\n",
       "    <tr>\n",
       "      <th>14</th>\n",
       "      <td>7.749895</td>\n",
       "      <td>0.076380</td>\n",
       "      <td>0.040459</td>\n",
       "      <td>0.002277</td>\n",
       "      <td>2000</td>\n",
       "      <td>0.95</td>\n",
       "      <td>{'max_depth': 2000, 'max_features': 0.95}</td>\n",
       "      <td>0.646537</td>\n",
       "      <td>0.673939</td>\n",
       "      <td>0.690958</td>\n",
       "      <td>0.670478</td>\n",
       "      <td>0.018299</td>\n",
       "      <td>1</td>\n",
       "      <td>0.926830</td>\n",
       "      <td>0.925844</td>\n",
       "      <td>0.928867</td>\n",
       "      <td>0.927181</td>\n",
       "      <td>0.001259</td>\n",
       "    </tr>\n",
       "    <tr>\n",
       "      <th>13</th>\n",
       "      <td>7.823488</td>\n",
       "      <td>0.210184</td>\n",
       "      <td>0.051669</td>\n",
       "      <td>0.003314</td>\n",
       "      <td>2000</td>\n",
       "      <td>0.9</td>\n",
       "      <td>{'max_depth': 2000, 'max_features': 0.9}</td>\n",
       "      <td>0.647063</td>\n",
       "      <td>0.673610</td>\n",
       "      <td>0.690432</td>\n",
       "      <td>0.670368</td>\n",
       "      <td>0.017853</td>\n",
       "      <td>2</td>\n",
       "      <td>0.926830</td>\n",
       "      <td>0.925844</td>\n",
       "      <td>0.928867</td>\n",
       "      <td>0.927181</td>\n",
       "      <td>0.001259</td>\n",
       "    </tr>\n",
       "    <tr>\n",
       "      <th>15</th>\n",
       "      <td>7.395235</td>\n",
       "      <td>0.161016</td>\n",
       "      <td>0.032256</td>\n",
       "      <td>0.003562</td>\n",
       "      <td>2000</td>\n",
       "      <td>0.99</td>\n",
       "      <td>{'max_depth': 2000, 'max_features': 0.99}</td>\n",
       "      <td>0.644894</td>\n",
       "      <td>0.675384</td>\n",
       "      <td>0.690235</td>\n",
       "      <td>0.670171</td>\n",
       "      <td>0.018874</td>\n",
       "      <td>3</td>\n",
       "      <td>0.926830</td>\n",
       "      <td>0.925844</td>\n",
       "      <td>0.928867</td>\n",
       "      <td>0.927181</td>\n",
       "      <td>0.001259</td>\n",
       "    </tr>\n",
       "    <tr>\n",
       "      <th>12</th>\n",
       "      <td>7.307510</td>\n",
       "      <td>0.215504</td>\n",
       "      <td>0.050970</td>\n",
       "      <td>0.000686</td>\n",
       "      <td>2000</td>\n",
       "      <td>0.8</td>\n",
       "      <td>{'max_depth': 2000, 'max_features': 0.8}</td>\n",
       "      <td>0.646274</td>\n",
       "      <td>0.672756</td>\n",
       "      <td>0.689644</td>\n",
       "      <td>0.669558</td>\n",
       "      <td>0.017849</td>\n",
       "      <td>4</td>\n",
       "      <td>0.926830</td>\n",
       "      <td>0.925844</td>\n",
       "      <td>0.928867</td>\n",
       "      <td>0.927181</td>\n",
       "      <td>0.001259</td>\n",
       "    </tr>\n",
       "    <tr>\n",
       "      <th>9</th>\n",
       "      <td>8.511553</td>\n",
       "      <td>0.154690</td>\n",
       "      <td>0.041055</td>\n",
       "      <td>0.001112</td>\n",
       "      <td>1000</td>\n",
       "      <td>0.9</td>\n",
       "      <td>{'max_depth': 1000, 'max_features': 0.9}</td>\n",
       "      <td>0.644500</td>\n",
       "      <td>0.674662</td>\n",
       "      <td>0.683664</td>\n",
       "      <td>0.667609</td>\n",
       "      <td>0.016748</td>\n",
       "      <td>5</td>\n",
       "      <td>0.886253</td>\n",
       "      <td>0.885366</td>\n",
       "      <td>0.892331</td>\n",
       "      <td>0.887984</td>\n",
       "      <td>0.003096</td>\n",
       "    </tr>\n",
       "    <tr>\n",
       "      <th>11</th>\n",
       "      <td>7.871133</td>\n",
       "      <td>0.201554</td>\n",
       "      <td>0.041282</td>\n",
       "      <td>0.002484</td>\n",
       "      <td>1000</td>\n",
       "      <td>0.99</td>\n",
       "      <td>{'max_depth': 1000, 'max_features': 0.99}</td>\n",
       "      <td>0.642069</td>\n",
       "      <td>0.675450</td>\n",
       "      <td>0.683730</td>\n",
       "      <td>0.667083</td>\n",
       "      <td>0.018008</td>\n",
       "      <td>6</td>\n",
       "      <td>0.886549</td>\n",
       "      <td>0.885399</td>\n",
       "      <td>0.892003</td>\n",
       "      <td>0.887984</td>\n",
       "      <td>0.002881</td>\n",
       "    </tr>\n",
       "    <tr>\n",
       "      <th>10</th>\n",
       "      <td>8.278508</td>\n",
       "      <td>0.277161</td>\n",
       "      <td>0.043488</td>\n",
       "      <td>0.003125</td>\n",
       "      <td>1000</td>\n",
       "      <td>0.95</td>\n",
       "      <td>{'max_depth': 1000, 'max_features': 0.95}</td>\n",
       "      <td>0.641149</td>\n",
       "      <td>0.674662</td>\n",
       "      <td>0.683007</td>\n",
       "      <td>0.666272</td>\n",
       "      <td>0.018089</td>\n",
       "      <td>7</td>\n",
       "      <td>0.886220</td>\n",
       "      <td>0.885892</td>\n",
       "      <td>0.892003</td>\n",
       "      <td>0.888038</td>\n",
       "      <td>0.002807</td>\n",
       "    </tr>\n",
       "    <tr>\n",
       "      <th>8</th>\n",
       "      <td>8.011430</td>\n",
       "      <td>0.187078</td>\n",
       "      <td>0.043510</td>\n",
       "      <td>0.002849</td>\n",
       "      <td>1000</td>\n",
       "      <td>0.8</td>\n",
       "      <td>{'max_depth': 1000, 'max_features': 0.8}</td>\n",
       "      <td>0.642397</td>\n",
       "      <td>0.674727</td>\n",
       "      <td>0.681627</td>\n",
       "      <td>0.666250</td>\n",
       "      <td>0.017100</td>\n",
       "      <td>8</td>\n",
       "      <td>0.886286</td>\n",
       "      <td>0.885333</td>\n",
       "      <td>0.892167</td>\n",
       "      <td>0.887929</td>\n",
       "      <td>0.003022</td>\n",
       "    </tr>\n",
       "    <tr>\n",
       "      <th>6</th>\n",
       "      <td>6.588238</td>\n",
       "      <td>0.296160</td>\n",
       "      <td>0.049231</td>\n",
       "      <td>0.010298</td>\n",
       "      <td>700</td>\n",
       "      <td>0.95</td>\n",
       "      <td>{'max_depth': 700, 'max_features': 0.95}</td>\n",
       "      <td>0.638389</td>\n",
       "      <td>0.666250</td>\n",
       "      <td>0.679459</td>\n",
       "      <td>0.661366</td>\n",
       "      <td>0.017119</td>\n",
       "      <td>9</td>\n",
       "      <td>0.850473</td>\n",
       "      <td>0.848436</td>\n",
       "      <td>0.854712</td>\n",
       "      <td>0.851207</td>\n",
       "      <td>0.002614</td>\n",
       "    </tr>\n",
       "    <tr>\n",
       "      <th>5</th>\n",
       "      <td>6.358276</td>\n",
       "      <td>0.087905</td>\n",
       "      <td>0.034928</td>\n",
       "      <td>0.000313</td>\n",
       "      <td>700</td>\n",
       "      <td>0.9</td>\n",
       "      <td>{'max_depth': 700, 'max_features': 0.9}</td>\n",
       "      <td>0.638980</td>\n",
       "      <td>0.666842</td>\n",
       "      <td>0.678079</td>\n",
       "      <td>0.661300</td>\n",
       "      <td>0.016436</td>\n",
       "      <td>10</td>\n",
       "      <td>0.850999</td>\n",
       "      <td>0.850539</td>\n",
       "      <td>0.854416</td>\n",
       "      <td>0.851984</td>\n",
       "      <td>0.001729</td>\n",
       "    </tr>\n",
       "    <tr>\n",
       "      <th>4</th>\n",
       "      <td>6.021428</td>\n",
       "      <td>0.146112</td>\n",
       "      <td>0.037421</td>\n",
       "      <td>0.001967</td>\n",
       "      <td>700</td>\n",
       "      <td>0.8</td>\n",
       "      <td>{'max_depth': 700, 'max_features': 0.8}</td>\n",
       "      <td>0.636746</td>\n",
       "      <td>0.668090</td>\n",
       "      <td>0.677816</td>\n",
       "      <td>0.660884</td>\n",
       "      <td>0.017524</td>\n",
       "      <td>11</td>\n",
       "      <td>0.851360</td>\n",
       "      <td>0.848666</td>\n",
       "      <td>0.854744</td>\n",
       "      <td>0.851590</td>\n",
       "      <td>0.002487</td>\n",
       "    </tr>\n",
       "    <tr>\n",
       "      <th>7</th>\n",
       "      <td>7.124332</td>\n",
       "      <td>0.259194</td>\n",
       "      <td>0.060657</td>\n",
       "      <td>0.021079</td>\n",
       "      <td>700</td>\n",
       "      <td>0.99</td>\n",
       "      <td>{'max_depth': 700, 'max_features': 0.99}</td>\n",
       "      <td>0.634380</td>\n",
       "      <td>0.668156</td>\n",
       "      <td>0.677553</td>\n",
       "      <td>0.660030</td>\n",
       "      <td>0.018538</td>\n",
       "      <td>12</td>\n",
       "      <td>0.851393</td>\n",
       "      <td>0.848436</td>\n",
       "      <td>0.854712</td>\n",
       "      <td>0.851514</td>\n",
       "      <td>0.002563</td>\n",
       "    </tr>\n",
       "    <tr>\n",
       "      <th>1</th>\n",
       "      <td>6.531093</td>\n",
       "      <td>0.199313</td>\n",
       "      <td>0.037779</td>\n",
       "      <td>0.005074</td>\n",
       "      <td>600</td>\n",
       "      <td>0.9</td>\n",
       "      <td>{'max_depth': 600, 'max_features': 0.9}</td>\n",
       "      <td>0.631423</td>\n",
       "      <td>0.661914</td>\n",
       "      <td>0.676304</td>\n",
       "      <td>0.656547</td>\n",
       "      <td>0.018711</td>\n",
       "      <td>13</td>\n",
       "      <td>0.832764</td>\n",
       "      <td>0.827113</td>\n",
       "      <td>0.835721</td>\n",
       "      <td>0.831866</td>\n",
       "      <td>0.003571</td>\n",
       "    </tr>\n",
       "    <tr>\n",
       "      <th>2</th>\n",
       "      <td>6.784820</td>\n",
       "      <td>0.137402</td>\n",
       "      <td>0.037983</td>\n",
       "      <td>0.008262</td>\n",
       "      <td>600</td>\n",
       "      <td>0.95</td>\n",
       "      <td>{'max_depth': 600, 'max_features': 0.95}</td>\n",
       "      <td>0.632212</td>\n",
       "      <td>0.661782</td>\n",
       "      <td>0.674859</td>\n",
       "      <td>0.656284</td>\n",
       "      <td>0.017839</td>\n",
       "      <td>14</td>\n",
       "      <td>0.832238</td>\n",
       "      <td>0.828033</td>\n",
       "      <td>0.835721</td>\n",
       "      <td>0.831997</td>\n",
       "      <td>0.003143</td>\n",
       "    </tr>\n",
       "    <tr>\n",
       "      <th>0</th>\n",
       "      <td>5.862573</td>\n",
       "      <td>0.194560</td>\n",
       "      <td>0.043489</td>\n",
       "      <td>0.008091</td>\n",
       "      <td>600</td>\n",
       "      <td>0.8</td>\n",
       "      <td>{'max_depth': 600, 'max_features': 0.8}</td>\n",
       "      <td>0.632606</td>\n",
       "      <td>0.661519</td>\n",
       "      <td>0.674399</td>\n",
       "      <td>0.656175</td>\n",
       "      <td>0.017475</td>\n",
       "      <td>15</td>\n",
       "      <td>0.831417</td>\n",
       "      <td>0.828263</td>\n",
       "      <td>0.835622</td>\n",
       "      <td>0.831767</td>\n",
       "      <td>0.003015</td>\n",
       "    </tr>\n",
       "    <tr>\n",
       "      <th>3</th>\n",
       "      <td>6.804123</td>\n",
       "      <td>0.117579</td>\n",
       "      <td>0.032981</td>\n",
       "      <td>0.003331</td>\n",
       "      <td>600</td>\n",
       "      <td>0.99</td>\n",
       "      <td>{'max_depth': 600, 'max_features': 0.99}</td>\n",
       "      <td>0.630635</td>\n",
       "      <td>0.659482</td>\n",
       "      <td>0.677421</td>\n",
       "      <td>0.655846</td>\n",
       "      <td>0.019273</td>\n",
       "      <td>16</td>\n",
       "      <td>0.831614</td>\n",
       "      <td>0.828065</td>\n",
       "      <td>0.835524</td>\n",
       "      <td>0.831734</td>\n",
       "      <td>0.003046</td>\n",
       "    </tr>\n",
       "  </tbody>\n",
       "</table>\n",
       "</div>"
      ],
      "text/plain": [
       "    mean_fit_time  std_fit_time  mean_score_time  std_score_time  \\\n",
       "14       7.749895      0.076380         0.040459        0.002277   \n",
       "13       7.823488      0.210184         0.051669        0.003314   \n",
       "15       7.395235      0.161016         0.032256        0.003562   \n",
       "12       7.307510      0.215504         0.050970        0.000686   \n",
       "9        8.511553      0.154690         0.041055        0.001112   \n",
       "11       7.871133      0.201554         0.041282        0.002484   \n",
       "10       8.278508      0.277161         0.043488        0.003125   \n",
       "8        8.011430      0.187078         0.043510        0.002849   \n",
       "6        6.588238      0.296160         0.049231        0.010298   \n",
       "5        6.358276      0.087905         0.034928        0.000313   \n",
       "4        6.021428      0.146112         0.037421        0.001967   \n",
       "7        7.124332      0.259194         0.060657        0.021079   \n",
       "1        6.531093      0.199313         0.037779        0.005074   \n",
       "2        6.784820      0.137402         0.037983        0.008262   \n",
       "0        5.862573      0.194560         0.043489        0.008091   \n",
       "3        6.804123      0.117579         0.032981        0.003331   \n",
       "\n",
       "   param_max_depth param_max_features  \\\n",
       "14            2000               0.95   \n",
       "13            2000                0.9   \n",
       "15            2000               0.99   \n",
       "12            2000                0.8   \n",
       "9             1000                0.9   \n",
       "11            1000               0.99   \n",
       "10            1000               0.95   \n",
       "8             1000                0.8   \n",
       "6              700               0.95   \n",
       "5              700                0.9   \n",
       "4              700                0.8   \n",
       "7              700               0.99   \n",
       "1              600                0.9   \n",
       "2              600               0.95   \n",
       "0              600                0.8   \n",
       "3              600               0.99   \n",
       "\n",
       "                                       params  split0_test_score  \\\n",
       "14  {'max_depth': 2000, 'max_features': 0.95}           0.646537   \n",
       "13   {'max_depth': 2000, 'max_features': 0.9}           0.647063   \n",
       "15  {'max_depth': 2000, 'max_features': 0.99}           0.644894   \n",
       "12   {'max_depth': 2000, 'max_features': 0.8}           0.646274   \n",
       "9    {'max_depth': 1000, 'max_features': 0.9}           0.644500   \n",
       "11  {'max_depth': 1000, 'max_features': 0.99}           0.642069   \n",
       "10  {'max_depth': 1000, 'max_features': 0.95}           0.641149   \n",
       "8    {'max_depth': 1000, 'max_features': 0.8}           0.642397   \n",
       "6    {'max_depth': 700, 'max_features': 0.95}           0.638389   \n",
       "5     {'max_depth': 700, 'max_features': 0.9}           0.638980   \n",
       "4     {'max_depth': 700, 'max_features': 0.8}           0.636746   \n",
       "7    {'max_depth': 700, 'max_features': 0.99}           0.634380   \n",
       "1     {'max_depth': 600, 'max_features': 0.9}           0.631423   \n",
       "2    {'max_depth': 600, 'max_features': 0.95}           0.632212   \n",
       "0     {'max_depth': 600, 'max_features': 0.8}           0.632606   \n",
       "3    {'max_depth': 600, 'max_features': 0.99}           0.630635   \n",
       "\n",
       "    split1_test_score  split2_test_score  mean_test_score  std_test_score  \\\n",
       "14           0.673939           0.690958         0.670478        0.018299   \n",
       "13           0.673610           0.690432         0.670368        0.017853   \n",
       "15           0.675384           0.690235         0.670171        0.018874   \n",
       "12           0.672756           0.689644         0.669558        0.017849   \n",
       "9            0.674662           0.683664         0.667609        0.016748   \n",
       "11           0.675450           0.683730         0.667083        0.018008   \n",
       "10           0.674662           0.683007         0.666272        0.018089   \n",
       "8            0.674727           0.681627         0.666250        0.017100   \n",
       "6            0.666250           0.679459         0.661366        0.017119   \n",
       "5            0.666842           0.678079         0.661300        0.016436   \n",
       "4            0.668090           0.677816         0.660884        0.017524   \n",
       "7            0.668156           0.677553         0.660030        0.018538   \n",
       "1            0.661914           0.676304         0.656547        0.018711   \n",
       "2            0.661782           0.674859         0.656284        0.017839   \n",
       "0            0.661519           0.674399         0.656175        0.017475   \n",
       "3            0.659482           0.677421         0.655846        0.019273   \n",
       "\n",
       "    rank_test_score  split0_train_score  split1_train_score  \\\n",
       "14                1            0.926830            0.925844   \n",
       "13                2            0.926830            0.925844   \n",
       "15                3            0.926830            0.925844   \n",
       "12                4            0.926830            0.925844   \n",
       "9                 5            0.886253            0.885366   \n",
       "11                6            0.886549            0.885399   \n",
       "10                7            0.886220            0.885892   \n",
       "8                 8            0.886286            0.885333   \n",
       "6                 9            0.850473            0.848436   \n",
       "5                10            0.850999            0.850539   \n",
       "4                11            0.851360            0.848666   \n",
       "7                12            0.851393            0.848436   \n",
       "1                13            0.832764            0.827113   \n",
       "2                14            0.832238            0.828033   \n",
       "0                15            0.831417            0.828263   \n",
       "3                16            0.831614            0.828065   \n",
       "\n",
       "    split2_train_score  mean_train_score  std_train_score  \n",
       "14            0.928867          0.927181         0.001259  \n",
       "13            0.928867          0.927181         0.001259  \n",
       "15            0.928867          0.927181         0.001259  \n",
       "12            0.928867          0.927181         0.001259  \n",
       "9             0.892331          0.887984         0.003096  \n",
       "11            0.892003          0.887984         0.002881  \n",
       "10            0.892003          0.888038         0.002807  \n",
       "8             0.892167          0.887929         0.003022  \n",
       "6             0.854712          0.851207         0.002614  \n",
       "5             0.854416          0.851984         0.001729  \n",
       "4             0.854744          0.851590         0.002487  \n",
       "7             0.854712          0.851514         0.002563  \n",
       "1             0.835721          0.831866         0.003571  \n",
       "2             0.835721          0.831997         0.003143  \n",
       "0             0.835622          0.831767         0.003015  \n",
       "3             0.835524          0.831734         0.003046  "
      ]
     },
     "execution_count": 65,
     "metadata": {},
     "output_type": "execute_result"
    }
   ],
   "source": [
    "pd.DataFrame(gridcv.cv_results_).sort_values(\"rank_test_score\")"
   ]
  },
  {
   "cell_type": "markdown",
   "metadata": {},
   "source": [
    "### Random Search\n",
    "* https://scikit-learn.org/stable/modules/generated/sklearn.model_selection.RandomizedSearchCV.html"
   ]
  },
  {
   "cell_type": "code",
   "execution_count": 68,
   "metadata": {},
   "outputs": [
    {
     "data": {
      "text/plain": [
       "array([2901, 1836, 2352, 2798, 2555, 1479, 2217, 2796, 1351, 2336])"
      ]
     },
     "execution_count": 68,
     "metadata": {},
     "output_type": "execute_result"
    }
   ],
   "source": [
    "np.random.randint(1000, 3000, 10)"
   ]
  },
  {
   "cell_type": "code",
   "execution_count": 70,
   "metadata": {},
   "outputs": [
    {
     "data": {
      "text/plain": [
       "array([0.80450659, 0.90303364, 0.85355986, 0.83221981, 0.83141333,\n",
       "       0.94478167, 0.86193284, 0.97433388, 0.92298329, 0.80069559])"
      ]
     },
     "execution_count": 70,
     "metadata": {},
     "output_type": "execute_result"
    }
   ],
   "source": [
    "np.random.uniform(0.8, 1.0, 10)"
   ]
  },
  {
   "cell_type": "code",
   "execution_count": 71,
   "metadata": {},
   "outputs": [
    {
     "data": {
      "text/plain": [
       "{'max_depth': array([1688, 1889, 2524, 1256, 2568, 2976, 1711, 2805, 2355, 1392]),\n",
       " 'max_features': array([0.95431449, 0.91641665, 0.9760811 , 0.86798757, 0.84463645,\n",
       "        0.8167564 , 0.89590116, 0.92566208, 0.84768753, 0.97806136])}"
      ]
     },
     "execution_count": 71,
     "metadata": {},
     "output_type": "execute_result"
    }
   ],
   "source": [
    "# RandomizedSearchCV\n",
    "max_depth = np.random.randint(1000, 3000, 10)\n",
    "max_features = np.random.uniform(0.8, 1.0, 10)\n",
    "param_distributions = {\"max_depth\" : max_depth, \"max_features\": max_features}\n",
    "param_distributions"
   ]
  },
  {
   "cell_type": "code",
   "execution_count": 73,
   "metadata": {},
   "outputs": [
    {
     "name": "stdout",
     "output_type": "stream",
     "text": [
      "Fitting 3 folds for each of 5 candidates, totalling 15 fits\n"
     ]
    },
    {
     "data": {
      "text/html": [
       "<style>#sk-container-id-9 {color: black;}#sk-container-id-9 pre{padding: 0;}#sk-container-id-9 div.sk-toggleable {background-color: white;}#sk-container-id-9 label.sk-toggleable__label {cursor: pointer;display: block;width: 100%;margin-bottom: 0;padding: 0.3em;box-sizing: border-box;text-align: center;}#sk-container-id-9 label.sk-toggleable__label-arrow:before {content: \"▸\";float: left;margin-right: 0.25em;color: #696969;}#sk-container-id-9 label.sk-toggleable__label-arrow:hover:before {color: black;}#sk-container-id-9 div.sk-estimator:hover label.sk-toggleable__label-arrow:before {color: black;}#sk-container-id-9 div.sk-toggleable__content {max-height: 0;max-width: 0;overflow: hidden;text-align: left;background-color: #f0f8ff;}#sk-container-id-9 div.sk-toggleable__content pre {margin: 0.2em;color: black;border-radius: 0.25em;background-color: #f0f8ff;}#sk-container-id-9 input.sk-toggleable__control:checked~div.sk-toggleable__content {max-height: 200px;max-width: 100%;overflow: auto;}#sk-container-id-9 input.sk-toggleable__control:checked~label.sk-toggleable__label-arrow:before {content: \"▾\";}#sk-container-id-9 div.sk-estimator input.sk-toggleable__control:checked~label.sk-toggleable__label {background-color: #d4ebff;}#sk-container-id-9 div.sk-label input.sk-toggleable__control:checked~label.sk-toggleable__label {background-color: #d4ebff;}#sk-container-id-9 input.sk-hidden--visually {border: 0;clip: rect(1px 1px 1px 1px);clip: rect(1px, 1px, 1px, 1px);height: 1px;margin: -1px;overflow: hidden;padding: 0;position: absolute;width: 1px;}#sk-container-id-9 div.sk-estimator {font-family: monospace;background-color: #f0f8ff;border: 1px dotted black;border-radius: 0.25em;box-sizing: border-box;margin-bottom: 0.5em;}#sk-container-id-9 div.sk-estimator:hover {background-color: #d4ebff;}#sk-container-id-9 div.sk-parallel-item::after {content: \"\";width: 100%;border-bottom: 1px solid gray;flex-grow: 1;}#sk-container-id-9 div.sk-label:hover label.sk-toggleable__label {background-color: #d4ebff;}#sk-container-id-9 div.sk-serial::before {content: \"\";position: absolute;border-left: 1px solid gray;box-sizing: border-box;top: 0;bottom: 0;left: 50%;z-index: 0;}#sk-container-id-9 div.sk-serial {display: flex;flex-direction: column;align-items: center;background-color: white;padding-right: 0.2em;padding-left: 0.2em;position: relative;}#sk-container-id-9 div.sk-item {position: relative;z-index: 1;}#sk-container-id-9 div.sk-parallel {display: flex;align-items: stretch;justify-content: center;background-color: white;position: relative;}#sk-container-id-9 div.sk-item::before, #sk-container-id-9 div.sk-parallel-item::before {content: \"\";position: absolute;border-left: 1px solid gray;box-sizing: border-box;top: 0;bottom: 0;left: 50%;z-index: -1;}#sk-container-id-9 div.sk-parallel-item {display: flex;flex-direction: column;z-index: 1;position: relative;background-color: white;}#sk-container-id-9 div.sk-parallel-item:first-child::after {align-self: flex-end;width: 50%;}#sk-container-id-9 div.sk-parallel-item:last-child::after {align-self: flex-start;width: 50%;}#sk-container-id-9 div.sk-parallel-item:only-child::after {width: 0;}#sk-container-id-9 div.sk-dashed-wrapped {border: 1px dashed gray;margin: 0 0.4em 0.5em 0.4em;box-sizing: border-box;padding-bottom: 0.4em;background-color: white;}#sk-container-id-9 div.sk-label label {font-family: monospace;font-weight: bold;display: inline-block;line-height: 1.2em;}#sk-container-id-9 div.sk-label-container {text-align: center;}#sk-container-id-9 div.sk-container {/* jupyter's `normalize.less` sets `[hidden] { display: none; }` but bootstrap.min.css set `[hidden] { display: none !important; }` so we also need the `!important` here to be able to override the default hidden behavior on the sphinx rendered scikit-learn.org. See: https://github.com/scikit-learn/scikit-learn/issues/21755 */display: inline-block !important;position: relative;}#sk-container-id-9 div.sk-text-repr-fallback {display: none;}</style><div id=\"sk-container-id-9\" class=\"sk-top-container\"><div class=\"sk-text-repr-fallback\"><pre>RandomizedSearchCV(cv=3, estimator=DecisionTreeClassifier(random_state=42),\n",
       "                   n_iter=5, n_jobs=-1,\n",
       "                   param_distributions={&#x27;max_depth&#x27;: array([1688, 1889, 2524, 1256, 2568, 2976, 1711, 2805, 2355, 1392]),\n",
       "                                        &#x27;max_features&#x27;: array([0.95431449, 0.91641665, 0.9760811 , 0.86798757, 0.84463645,\n",
       "       0.8167564 , 0.89590116, 0.92566208, 0.84768753, 0.97806136])},\n",
       "                   verbose=2)</pre><b>In a Jupyter environment, please rerun this cell to show the HTML representation or trust the notebook. <br />On GitHub, the HTML representation is unable to render, please try loading this page with nbviewer.org.</b></div><div class=\"sk-container\" hidden><div class=\"sk-item sk-dashed-wrapped\"><div class=\"sk-label-container\"><div class=\"sk-label sk-toggleable\"><input class=\"sk-toggleable__control sk-hidden--visually\" id=\"sk-estimator-id-13\" type=\"checkbox\" ><label for=\"sk-estimator-id-13\" class=\"sk-toggleable__label sk-toggleable__label-arrow\">RandomizedSearchCV</label><div class=\"sk-toggleable__content\"><pre>RandomizedSearchCV(cv=3, estimator=DecisionTreeClassifier(random_state=42),\n",
       "                   n_iter=5, n_jobs=-1,\n",
       "                   param_distributions={&#x27;max_depth&#x27;: array([1688, 1889, 2524, 1256, 2568, 2976, 1711, 2805, 2355, 1392]),\n",
       "                                        &#x27;max_features&#x27;: array([0.95431449, 0.91641665, 0.9760811 , 0.86798757, 0.84463645,\n",
       "       0.8167564 , 0.89590116, 0.92566208, 0.84768753, 0.97806136])},\n",
       "                   verbose=2)</pre></div></div></div><div class=\"sk-parallel\"><div class=\"sk-parallel-item\"><div class=\"sk-item\"><div class=\"sk-label-container\"><div class=\"sk-label sk-toggleable\"><input class=\"sk-toggleable__control sk-hidden--visually\" id=\"sk-estimator-id-14\" type=\"checkbox\" ><label for=\"sk-estimator-id-14\" class=\"sk-toggleable__label sk-toggleable__label-arrow\">estimator: DecisionTreeClassifier</label><div class=\"sk-toggleable__content\"><pre>DecisionTreeClassifier(random_state=42)</pre></div></div></div><div class=\"sk-serial\"><div class=\"sk-item\"><div class=\"sk-estimator sk-toggleable\"><input class=\"sk-toggleable__control sk-hidden--visually\" id=\"sk-estimator-id-15\" type=\"checkbox\" ><label for=\"sk-estimator-id-15\" class=\"sk-toggleable__label sk-toggleable__label-arrow\">DecisionTreeClassifier</label><div class=\"sk-toggleable__content\"><pre>DecisionTreeClassifier(random_state=42)</pre></div></div></div></div></div></div></div></div></div></div>"
      ],
      "text/plain": [
       "RandomizedSearchCV(cv=3, estimator=DecisionTreeClassifier(random_state=42),\n",
       "                   n_iter=5, n_jobs=-1,\n",
       "                   param_distributions={'max_depth': array([1688, 1889, 2524, 1256, 2568, 2976, 1711, 2805, 2355, 1392]),\n",
       "                                        'max_features': array([0.95431449, 0.91641665, 0.9760811 , 0.86798757, 0.84463645,\n",
       "       0.8167564 , 0.89590116, 0.92566208, 0.84768753, 0.97806136])},\n",
       "                   verbose=2)"
      ]
     },
     "execution_count": 73,
     "metadata": {},
     "output_type": "execute_result"
    }
   ],
   "source": [
    "from sklearn.model_selection import RandomizedSearchCV\n",
    "\n",
    "randomcv = RandomizedSearchCV(model, \n",
    "                              param_distributions=param_distributions, \n",
    "                              n_iter=5, cv=3, verbose=2, n_jobs=-1)\n",
    "randomcv.fit(X_train, y_train)"
   ]
  },
  {
   "cell_type": "code",
   "execution_count": 75,
   "metadata": {},
   "outputs": [
    {
     "data": {
      "text/html": [
       "<style>#sk-container-id-11 {color: black;}#sk-container-id-11 pre{padding: 0;}#sk-container-id-11 div.sk-toggleable {background-color: white;}#sk-container-id-11 label.sk-toggleable__label {cursor: pointer;display: block;width: 100%;margin-bottom: 0;padding: 0.3em;box-sizing: border-box;text-align: center;}#sk-container-id-11 label.sk-toggleable__label-arrow:before {content: \"▸\";float: left;margin-right: 0.25em;color: #696969;}#sk-container-id-11 label.sk-toggleable__label-arrow:hover:before {color: black;}#sk-container-id-11 div.sk-estimator:hover label.sk-toggleable__label-arrow:before {color: black;}#sk-container-id-11 div.sk-toggleable__content {max-height: 0;max-width: 0;overflow: hidden;text-align: left;background-color: #f0f8ff;}#sk-container-id-11 div.sk-toggleable__content pre {margin: 0.2em;color: black;border-radius: 0.25em;background-color: #f0f8ff;}#sk-container-id-11 input.sk-toggleable__control:checked~div.sk-toggleable__content {max-height: 200px;max-width: 100%;overflow: auto;}#sk-container-id-11 input.sk-toggleable__control:checked~label.sk-toggleable__label-arrow:before {content: \"▾\";}#sk-container-id-11 div.sk-estimator input.sk-toggleable__control:checked~label.sk-toggleable__label {background-color: #d4ebff;}#sk-container-id-11 div.sk-label input.sk-toggleable__control:checked~label.sk-toggleable__label {background-color: #d4ebff;}#sk-container-id-11 input.sk-hidden--visually {border: 0;clip: rect(1px 1px 1px 1px);clip: rect(1px, 1px, 1px, 1px);height: 1px;margin: -1px;overflow: hidden;padding: 0;position: absolute;width: 1px;}#sk-container-id-11 div.sk-estimator {font-family: monospace;background-color: #f0f8ff;border: 1px dotted black;border-radius: 0.25em;box-sizing: border-box;margin-bottom: 0.5em;}#sk-container-id-11 div.sk-estimator:hover {background-color: #d4ebff;}#sk-container-id-11 div.sk-parallel-item::after {content: \"\";width: 100%;border-bottom: 1px solid gray;flex-grow: 1;}#sk-container-id-11 div.sk-label:hover label.sk-toggleable__label {background-color: #d4ebff;}#sk-container-id-11 div.sk-serial::before {content: \"\";position: absolute;border-left: 1px solid gray;box-sizing: border-box;top: 0;bottom: 0;left: 50%;z-index: 0;}#sk-container-id-11 div.sk-serial {display: flex;flex-direction: column;align-items: center;background-color: white;padding-right: 0.2em;padding-left: 0.2em;position: relative;}#sk-container-id-11 div.sk-item {position: relative;z-index: 1;}#sk-container-id-11 div.sk-parallel {display: flex;align-items: stretch;justify-content: center;background-color: white;position: relative;}#sk-container-id-11 div.sk-item::before, #sk-container-id-11 div.sk-parallel-item::before {content: \"\";position: absolute;border-left: 1px solid gray;box-sizing: border-box;top: 0;bottom: 0;left: 50%;z-index: -1;}#sk-container-id-11 div.sk-parallel-item {display: flex;flex-direction: column;z-index: 1;position: relative;background-color: white;}#sk-container-id-11 div.sk-parallel-item:first-child::after {align-self: flex-end;width: 50%;}#sk-container-id-11 div.sk-parallel-item:last-child::after {align-self: flex-start;width: 50%;}#sk-container-id-11 div.sk-parallel-item:only-child::after {width: 0;}#sk-container-id-11 div.sk-dashed-wrapped {border: 1px dashed gray;margin: 0 0.4em 0.5em 0.4em;box-sizing: border-box;padding-bottom: 0.4em;background-color: white;}#sk-container-id-11 div.sk-label label {font-family: monospace;font-weight: bold;display: inline-block;line-height: 1.2em;}#sk-container-id-11 div.sk-label-container {text-align: center;}#sk-container-id-11 div.sk-container {/* jupyter's `normalize.less` sets `[hidden] { display: none; }` but bootstrap.min.css set `[hidden] { display: none !important; }` so we also need the `!important` here to be able to override the default hidden behavior on the sphinx rendered scikit-learn.org. See: https://github.com/scikit-learn/scikit-learn/issues/21755 */display: inline-block !important;position: relative;}#sk-container-id-11 div.sk-text-repr-fallback {display: none;}</style><div id=\"sk-container-id-11\" class=\"sk-top-container\"><div class=\"sk-text-repr-fallback\"><pre>DecisionTreeClassifier(max_depth=1711, max_features=0.9760810977954153,\n",
       "                       random_state=42)</pre><b>In a Jupyter environment, please rerun this cell to show the HTML representation or trust the notebook. <br />On GitHub, the HTML representation is unable to render, please try loading this page with nbviewer.org.</b></div><div class=\"sk-container\" hidden><div class=\"sk-item\"><div class=\"sk-estimator sk-toggleable\"><input class=\"sk-toggleable__control sk-hidden--visually\" id=\"sk-estimator-id-17\" type=\"checkbox\" checked><label for=\"sk-estimator-id-17\" class=\"sk-toggleable__label sk-toggleable__label-arrow\">DecisionTreeClassifier</label><div class=\"sk-toggleable__content\"><pre>DecisionTreeClassifier(max_depth=1711, max_features=0.9760810977954153,\n",
       "                       random_state=42)</pre></div></div></div></div></div>"
      ],
      "text/plain": [
       "DecisionTreeClassifier(max_depth=1711, max_features=0.9760810977954153,\n",
       "                       random_state=42)"
      ]
     },
     "execution_count": 75,
     "metadata": {},
     "output_type": "execute_result"
    }
   ],
   "source": [
    "# best_estimator_\n",
    "best_model = randomcv.best_estimator_\n",
    "best_model"
   ]
  },
  {
   "cell_type": "code",
   "execution_count": 93,
   "metadata": {},
   "outputs": [
    {
     "data": {
      "text/plain": [
       "0.6692294212993385"
      ]
     },
     "execution_count": 93,
     "metadata": {},
     "output_type": "execute_result"
    }
   ],
   "source": [
    "# best_score_\n",
    "# valid_accuracy\n",
    "valid_accuracy = randomcv.best_score_\n",
    "valid_accuracy"
   ]
  },
  {
   "cell_type": "code",
   "execution_count": 79,
   "metadata": {},
   "outputs": [
    {
     "data": {
      "text/html": [
       "<div>\n",
       "<style scoped>\n",
       "    .dataframe tbody tr th:only-of-type {\n",
       "        vertical-align: middle;\n",
       "    }\n",
       "\n",
       "    .dataframe tbody tr th {\n",
       "        vertical-align: top;\n",
       "    }\n",
       "\n",
       "    .dataframe thead th {\n",
       "        text-align: right;\n",
       "    }\n",
       "</style>\n",
       "<table border=\"1\" class=\"dataframe\">\n",
       "  <thead>\n",
       "    <tr style=\"text-align: right;\">\n",
       "      <th></th>\n",
       "      <th>mean_fit_time</th>\n",
       "      <th>std_fit_time</th>\n",
       "      <th>mean_score_time</th>\n",
       "      <th>std_score_time</th>\n",
       "      <th>param_max_features</th>\n",
       "      <th>param_max_depth</th>\n",
       "      <th>params</th>\n",
       "      <th>split0_test_score</th>\n",
       "      <th>split1_test_score</th>\n",
       "      <th>split2_test_score</th>\n",
       "      <th>mean_test_score</th>\n",
       "      <th>std_test_score</th>\n",
       "      <th>rank_test_score</th>\n",
       "    </tr>\n",
       "  </thead>\n",
       "  <tbody>\n",
       "    <tr>\n",
       "      <th>1</th>\n",
       "      <td>8.661765</td>\n",
       "      <td>0.298579</td>\n",
       "      <td>0.062484</td>\n",
       "      <td>0.005496</td>\n",
       "      <td>0.976081</td>\n",
       "      <td>1711</td>\n",
       "      <td>{'max_features': 0.9760810977954153, 'max_dept...</td>\n",
       "      <td>0.645157</td>\n",
       "      <td>0.675384</td>\n",
       "      <td>0.687147</td>\n",
       "      <td>0.669229</td>\n",
       "      <td>0.017686</td>\n",
       "      <td>1</td>\n",
       "    </tr>\n",
       "    <tr>\n",
       "      <th>3</th>\n",
       "      <td>7.426673</td>\n",
       "      <td>0.079007</td>\n",
       "      <td>0.039255</td>\n",
       "      <td>0.006363</td>\n",
       "      <td>0.925662</td>\n",
       "      <td>2524</td>\n",
       "      <td>{'max_features': 0.9256620751774205, 'max_dept...</td>\n",
       "      <td>0.643843</td>\n",
       "      <td>0.674070</td>\n",
       "      <td>0.688790</td>\n",
       "      <td>0.668901</td>\n",
       "      <td>0.018710</td>\n",
       "      <td>2</td>\n",
       "    </tr>\n",
       "    <tr>\n",
       "      <th>4</th>\n",
       "      <td>6.917539</td>\n",
       "      <td>0.112335</td>\n",
       "      <td>0.042131</td>\n",
       "      <td>0.004731</td>\n",
       "      <td>0.844636</td>\n",
       "      <td>1889</td>\n",
       "      <td>{'max_features': 0.8446364536182069, 'max_dept...</td>\n",
       "      <td>0.645091</td>\n",
       "      <td>0.675647</td>\n",
       "      <td>0.685241</td>\n",
       "      <td>0.668660</td>\n",
       "      <td>0.017120</td>\n",
       "      <td>3</td>\n",
       "    </tr>\n",
       "    <tr>\n",
       "      <th>2</th>\n",
       "      <td>8.001543</td>\n",
       "      <td>0.208906</td>\n",
       "      <td>0.053190</td>\n",
       "      <td>0.013893</td>\n",
       "      <td>0.925662</td>\n",
       "      <td>1889</td>\n",
       "      <td>{'max_features': 0.9256620751774205, 'max_dept...</td>\n",
       "      <td>0.645880</td>\n",
       "      <td>0.675582</td>\n",
       "      <td>0.684453</td>\n",
       "      <td>0.668638</td>\n",
       "      <td>0.016495</td>\n",
       "      <td>4</td>\n",
       "    </tr>\n",
       "    <tr>\n",
       "      <th>0</th>\n",
       "      <td>8.412125</td>\n",
       "      <td>0.212481</td>\n",
       "      <td>0.058276</td>\n",
       "      <td>0.010073</td>\n",
       "      <td>0.978061</td>\n",
       "      <td>1392</td>\n",
       "      <td>{'max_features': 0.9780613632993471, 'max_dept...</td>\n",
       "      <td>0.644697</td>\n",
       "      <td>0.669273</td>\n",
       "      <td>0.685964</td>\n",
       "      <td>0.666645</td>\n",
       "      <td>0.016949</td>\n",
       "      <td>5</td>\n",
       "    </tr>\n",
       "  </tbody>\n",
       "</table>\n",
       "</div>"
      ],
      "text/plain": [
       "   mean_fit_time  std_fit_time  mean_score_time  std_score_time  \\\n",
       "1       8.661765      0.298579         0.062484        0.005496   \n",
       "3       7.426673      0.079007         0.039255        0.006363   \n",
       "4       6.917539      0.112335         0.042131        0.004731   \n",
       "2       8.001543      0.208906         0.053190        0.013893   \n",
       "0       8.412125      0.212481         0.058276        0.010073   \n",
       "\n",
       "  param_max_features param_max_depth  \\\n",
       "1           0.976081            1711   \n",
       "3           0.925662            2524   \n",
       "4           0.844636            1889   \n",
       "2           0.925662            1889   \n",
       "0           0.978061            1392   \n",
       "\n",
       "                                              params  split0_test_score  \\\n",
       "1  {'max_features': 0.9760810977954153, 'max_dept...           0.645157   \n",
       "3  {'max_features': 0.9256620751774205, 'max_dept...           0.643843   \n",
       "4  {'max_features': 0.8446364536182069, 'max_dept...           0.645091   \n",
       "2  {'max_features': 0.9256620751774205, 'max_dept...           0.645880   \n",
       "0  {'max_features': 0.9780613632993471, 'max_dept...           0.644697   \n",
       "\n",
       "   split1_test_score  split2_test_score  mean_test_score  std_test_score  \\\n",
       "1           0.675384           0.687147         0.669229        0.017686   \n",
       "3           0.674070           0.688790         0.668901        0.018710   \n",
       "4           0.675647           0.685241         0.668660        0.017120   \n",
       "2           0.675582           0.684453         0.668638        0.016495   \n",
       "0           0.669273           0.685964         0.666645        0.016949   \n",
       "\n",
       "   rank_test_score  \n",
       "1                1  \n",
       "3                2  \n",
       "4                3  \n",
       "2                4  \n",
       "0                5  "
      ]
     },
     "execution_count": 79,
     "metadata": {},
     "output_type": "execute_result"
    }
   ],
   "source": [
    "pd.DataFrame(randomcv.cv_results_).sort_values(\"rank_test_score\")"
   ]
  },
  {
   "cell_type": "code",
   "execution_count": 80,
   "metadata": {},
   "outputs": [
    {
     "data": {
      "text/html": [
       "<style>#sk-container-id-12 {color: black;}#sk-container-id-12 pre{padding: 0;}#sk-container-id-12 div.sk-toggleable {background-color: white;}#sk-container-id-12 label.sk-toggleable__label {cursor: pointer;display: block;width: 100%;margin-bottom: 0;padding: 0.3em;box-sizing: border-box;text-align: center;}#sk-container-id-12 label.sk-toggleable__label-arrow:before {content: \"▸\";float: left;margin-right: 0.25em;color: #696969;}#sk-container-id-12 label.sk-toggleable__label-arrow:hover:before {color: black;}#sk-container-id-12 div.sk-estimator:hover label.sk-toggleable__label-arrow:before {color: black;}#sk-container-id-12 div.sk-toggleable__content {max-height: 0;max-width: 0;overflow: hidden;text-align: left;background-color: #f0f8ff;}#sk-container-id-12 div.sk-toggleable__content pre {margin: 0.2em;color: black;border-radius: 0.25em;background-color: #f0f8ff;}#sk-container-id-12 input.sk-toggleable__control:checked~div.sk-toggleable__content {max-height: 200px;max-width: 100%;overflow: auto;}#sk-container-id-12 input.sk-toggleable__control:checked~label.sk-toggleable__label-arrow:before {content: \"▾\";}#sk-container-id-12 div.sk-estimator input.sk-toggleable__control:checked~label.sk-toggleable__label {background-color: #d4ebff;}#sk-container-id-12 div.sk-label input.sk-toggleable__control:checked~label.sk-toggleable__label {background-color: #d4ebff;}#sk-container-id-12 input.sk-hidden--visually {border: 0;clip: rect(1px 1px 1px 1px);clip: rect(1px, 1px, 1px, 1px);height: 1px;margin: -1px;overflow: hidden;padding: 0;position: absolute;width: 1px;}#sk-container-id-12 div.sk-estimator {font-family: monospace;background-color: #f0f8ff;border: 1px dotted black;border-radius: 0.25em;box-sizing: border-box;margin-bottom: 0.5em;}#sk-container-id-12 div.sk-estimator:hover {background-color: #d4ebff;}#sk-container-id-12 div.sk-parallel-item::after {content: \"\";width: 100%;border-bottom: 1px solid gray;flex-grow: 1;}#sk-container-id-12 div.sk-label:hover label.sk-toggleable__label {background-color: #d4ebff;}#sk-container-id-12 div.sk-serial::before {content: \"\";position: absolute;border-left: 1px solid gray;box-sizing: border-box;top: 0;bottom: 0;left: 50%;z-index: 0;}#sk-container-id-12 div.sk-serial {display: flex;flex-direction: column;align-items: center;background-color: white;padding-right: 0.2em;padding-left: 0.2em;position: relative;}#sk-container-id-12 div.sk-item {position: relative;z-index: 1;}#sk-container-id-12 div.sk-parallel {display: flex;align-items: stretch;justify-content: center;background-color: white;position: relative;}#sk-container-id-12 div.sk-item::before, #sk-container-id-12 div.sk-parallel-item::before {content: \"\";position: absolute;border-left: 1px solid gray;box-sizing: border-box;top: 0;bottom: 0;left: 50%;z-index: -1;}#sk-container-id-12 div.sk-parallel-item {display: flex;flex-direction: column;z-index: 1;position: relative;background-color: white;}#sk-container-id-12 div.sk-parallel-item:first-child::after {align-self: flex-end;width: 50%;}#sk-container-id-12 div.sk-parallel-item:last-child::after {align-self: flex-start;width: 50%;}#sk-container-id-12 div.sk-parallel-item:only-child::after {width: 0;}#sk-container-id-12 div.sk-dashed-wrapped {border: 1px dashed gray;margin: 0 0.4em 0.5em 0.4em;box-sizing: border-box;padding-bottom: 0.4em;background-color: white;}#sk-container-id-12 div.sk-label label {font-family: monospace;font-weight: bold;display: inline-block;line-height: 1.2em;}#sk-container-id-12 div.sk-label-container {text-align: center;}#sk-container-id-12 div.sk-container {/* jupyter's `normalize.less` sets `[hidden] { display: none; }` but bootstrap.min.css set `[hidden] { display: none !important; }` so we also need the `!important` here to be able to override the default hidden behavior on the sphinx rendered scikit-learn.org. See: https://github.com/scikit-learn/scikit-learn/issues/21755 */display: inline-block !important;position: relative;}#sk-container-id-12 div.sk-text-repr-fallback {display: none;}</style><div id=\"sk-container-id-12\" class=\"sk-top-container\"><div class=\"sk-text-repr-fallback\"><pre>DecisionTreeClassifier(max_depth=1711, max_features=0.9760810977954153,\n",
       "                       random_state=42)</pre><b>In a Jupyter environment, please rerun this cell to show the HTML representation or trust the notebook. <br />On GitHub, the HTML representation is unable to render, please try loading this page with nbviewer.org.</b></div><div class=\"sk-container\" hidden><div class=\"sk-item\"><div class=\"sk-estimator sk-toggleable\"><input class=\"sk-toggleable__control sk-hidden--visually\" id=\"sk-estimator-id-18\" type=\"checkbox\" checked><label for=\"sk-estimator-id-18\" class=\"sk-toggleable__label sk-toggleable__label-arrow\">DecisionTreeClassifier</label><div class=\"sk-toggleable__content\"><pre>DecisionTreeClassifier(max_depth=1711, max_features=0.9760810977954153,\n",
       "                       random_state=42)</pre></div></div></div></div></div>"
      ],
      "text/plain": [
       "DecisionTreeClassifier(max_depth=1711, max_features=0.9760810977954153,\n",
       "                       random_state=42)"
      ]
     },
     "execution_count": 80,
     "metadata": {},
     "output_type": "execute_result"
    }
   ],
   "source": [
    "best_model.fit(X_train, y_train)"
   ]
  },
  {
   "cell_type": "markdown",
   "metadata": {},
   "source": [
    "## 예측"
   ]
  },
  {
   "cell_type": "code",
   "execution_count": 81,
   "metadata": {},
   "outputs": [
    {
     "data": {
      "text/plain": [
       "array([2, 3, 1, ..., 4, 2, 2])"
      ]
     },
     "execution_count": 81,
     "metadata": {},
     "output_type": "execute_result"
    }
   ],
   "source": [
    "# 실전 시험과 유사합니다. 정답 없이 문제만 넣고 풀어서 예측합니다.\n",
    "# predict로 예측합니다. \n",
    "y_predict = best_model.predict(X_test)\n",
    "y_predict"
   ]
  },
  {
   "cell_type": "code",
   "execution_count": 88,
   "metadata": {},
   "outputs": [
    {
     "data": {
      "text/plain": [
       "<Axes: >"
      ]
     },
     "execution_count": 88,
     "metadata": {},
     "output_type": "execute_result"
    },
    {
     "data": {
      "image/png": "[encoded data removed]",
      "text/plain": [
       "<Figure size 1200x400 with 1 Axes>"
      ]
     },
     "metadata": {},
     "output_type": "display_data"
    }
   ],
   "source": [
    "# feature_importances_\n",
    "fi = pd.Series(best_model.feature_importances_)\n",
    "fi.index = tfidfvect.get_feature_names_out()\n",
    "fi.nlargest(30).plot(kind=\"bar\", figsize=(12, 4))"
   ]
  },
  {
   "cell_type": "markdown",
   "metadata": {},
   "source": [
    "## 정답값 로드"
   ]
  },
  {
   "cell_type": "code",
   "execution_count": 89,
   "metadata": {},
   "outputs": [
    {
     "data": {
      "text/html": [
       "<div>\n",
       "<style scoped>\n",
       "    .dataframe tbody tr th:only-of-type {\n",
       "        vertical-align: middle;\n",
       "    }\n",
       "\n",
       "    .dataframe tbody tr th {\n",
       "        vertical-align: top;\n",
       "    }\n",
       "\n",
       "    .dataframe thead th {\n",
       "        text-align: right;\n",
       "    }\n",
       "</style>\n",
       "<table border=\"1\" class=\"dataframe\">\n",
       "  <thead>\n",
       "    <tr style=\"text-align: right;\">\n",
       "      <th></th>\n",
       "      <th>index</th>\n",
       "      <th>topic_idx</th>\n",
       "    </tr>\n",
       "  </thead>\n",
       "  <tbody>\n",
       "    <tr>\n",
       "      <th>0</th>\n",
       "      <td>45654</td>\n",
       "      <td>0</td>\n",
       "    </tr>\n",
       "    <tr>\n",
       "      <th>1</th>\n",
       "      <td>45655</td>\n",
       "      <td>0</td>\n",
       "    </tr>\n",
       "    <tr>\n",
       "      <th>2</th>\n",
       "      <td>45656</td>\n",
       "      <td>0</td>\n",
       "    </tr>\n",
       "    <tr>\n",
       "      <th>3</th>\n",
       "      <td>45657</td>\n",
       "      <td>0</td>\n",
       "    </tr>\n",
       "    <tr>\n",
       "      <th>4</th>\n",
       "      <td>45658</td>\n",
       "      <td>0</td>\n",
       "    </tr>\n",
       "  </tbody>\n",
       "</table>\n",
       "</div>"
      ],
      "text/plain": [
       "   index  topic_idx\n",
       "0  45654          0\n",
       "1  45655          0\n",
       "2  45656          0\n",
       "3  45657          0\n",
       "4  45658          0"
      ]
     },
     "execution_count": 89,
     "metadata": {},
     "output_type": "execute_result"
    }
   ],
   "source": [
    "# sample_submission 파일을 불러옵니다.\n",
    "# Dacon 에 제출할 답안지 양식입니다.\n",
    "submit = pd.read_csv(\"data/klue/sample_submission.csv\")\n",
    "submit.head()"
   ]
  },
  {
   "cell_type": "code",
   "execution_count": 91,
   "metadata": {},
   "outputs": [],
   "source": [
    "# 정답값 측정을 위해 y_test 변수에 할당\n",
    "submit[\"topic_idx\"] = y_predict"
   ]
  },
  {
   "cell_type": "code",
   "execution_count": 94,
   "metadata": {},
   "outputs": [
    {
     "data": {
      "text/plain": [
       "'data/klue/submit_0.6692294212993385.csv'"
      ]
     },
     "execution_count": 94,
     "metadata": {},
     "output_type": "execute_result"
    }
   ],
   "source": [
    "file_name = f\"data/klue/submit_{valid_accuracy}.csv\"\n",
    "file_name"
   ]
  },
  {
   "cell_type": "code",
   "execution_count": 95,
   "metadata": {},
   "outputs": [],
   "source": [
    "# 잘 저장이 되었는지 확인합니다.\n",
    "submit.to_csv(file_name, index=False)"
   ]
  },
  {
   "cell_type": "code",
   "execution_count": 96,
   "metadata": {},
   "outputs": [
    {
     "data": {
      "text/html": [
       "<div>\n",
       "<style scoped>\n",
       "    .dataframe tbody tr th:only-of-type {\n",
       "        vertical-align: middle;\n",
       "    }\n",
       "\n",
       "    .dataframe tbody tr th {\n",
       "        vertical-align: top;\n",
       "    }\n",
       "\n",
       "    .dataframe thead th {\n",
       "        text-align: right;\n",
       "    }\n",
       "</style>\n",
       "<table border=\"1\" class=\"dataframe\">\n",
       "  <thead>\n",
       "    <tr style=\"text-align: right;\">\n",
       "      <th></th>\n",
       "      <th>index</th>\n",
       "      <th>topic_idx</th>\n",
       "    </tr>\n",
       "  </thead>\n",
       "  <tbody>\n",
       "    <tr>\n",
       "      <th>0</th>\n",
       "      <td>45654</td>\n",
       "      <td>2</td>\n",
       "    </tr>\n",
       "    <tr>\n",
       "      <th>1</th>\n",
       "      <td>45655</td>\n",
       "      <td>3</td>\n",
       "    </tr>\n",
       "    <tr>\n",
       "      <th>2</th>\n",
       "      <td>45656</td>\n",
       "      <td>1</td>\n",
       "    </tr>\n",
       "    <tr>\n",
       "      <th>3</th>\n",
       "      <td>45657</td>\n",
       "      <td>2</td>\n",
       "    </tr>\n",
       "    <tr>\n",
       "      <th>4</th>\n",
       "      <td>45658</td>\n",
       "      <td>3</td>\n",
       "    </tr>\n",
       "    <tr>\n",
       "      <th>...</th>\n",
       "      <td>...</td>\n",
       "      <td>...</td>\n",
       "    </tr>\n",
       "    <tr>\n",
       "      <th>9126</th>\n",
       "      <td>54780</td>\n",
       "      <td>3</td>\n",
       "    </tr>\n",
       "    <tr>\n",
       "      <th>9127</th>\n",
       "      <td>54781</td>\n",
       "      <td>3</td>\n",
       "    </tr>\n",
       "    <tr>\n",
       "      <th>9128</th>\n",
       "      <td>54782</td>\n",
       "      <td>4</td>\n",
       "    </tr>\n",
       "    <tr>\n",
       "      <th>9129</th>\n",
       "      <td>54783</td>\n",
       "      <td>2</td>\n",
       "    </tr>\n",
       "    <tr>\n",
       "      <th>9130</th>\n",
       "      <td>54784</td>\n",
       "      <td>2</td>\n",
       "    </tr>\n",
       "  </tbody>\n",
       "</table>\n",
       "<p>9131 rows × 2 columns</p>\n",
       "</div>"
      ],
      "text/plain": [
       "      index  topic_idx\n",
       "0     45654          2\n",
       "1     45655          3\n",
       "2     45656          1\n",
       "3     45657          2\n",
       "4     45658          3\n",
       "...     ...        ...\n",
       "9126  54780          3\n",
       "9127  54781          3\n",
       "9128  54782          4\n",
       "9129  54783          2\n",
       "9130  54784          2\n",
       "\n",
       "[9131 rows x 2 columns]"
      ]
     },
     "execution_count": 96,
     "metadata": {},
     "output_type": "execute_result"
    }
   ],
   "source": [
    "# 잘 저장이 되었는지 확인합니다.\n",
    "pd.read_csv(file_name)"
   ]
  },
  {
   "cell_type": "markdown",
   "metadata": {},
   "source": [
    "* dacon에 제출해서 리더보드 확인하기 : https://dacon.io/competitions/official/235747/mysubmission\n",
    "\n",
    "\n",
    "## 여러 방법을 통해 예측비율을 높여보세요. \n",
    "* 아래 항목 외의 기법을 사용해도 됩니다.\n",
    " * 전처리 하기\n",
    " * 불용어 처리\n",
    " * BOW, TF-IDF의 파라메터 변경\n",
    " * 분류기의 파라메터 변경\n",
    " * 분류기 변경"
   ]
  },
  {
   "cell_type": "code",
   "execution_count": null,
   "metadata": {},
   "outputs": [],
   "source": []
  },
  {
   "cell_type": "code",
   "execution_count": null,
   "metadata": {},
   "outputs": [],
   "source": []
  }
 ],
 "metadata": {
  "kernelspec": {
   "display_name": "Python 3 (ipykernel)",
   "language": "python",
   "name": "python3"
  },
  "language_info": {
   "codemirror_mode": {
    "name": "ipython",
    "version": 3
   },
   "file_extension": ".py",
   "mimetype": "text/x-python",
   "name": "python",
   "nbconvert_exporter": "python",
   "pygments_lexer": "ipython3",
   "version": "3.11.4"
  },
  "toc": {
   "base_numbering": 1,
   "nav_menu": {},
   "number_sections": false,
   "sideBar": false,
   "skip_h1_title": false,
   "title_cell": "Table of Contents",
   "title_sidebar": "Contents",
   "toc_cell": false,
   "toc_position": {
    "height": "calc(100% - 180px)",
    "left": "10px",
    "top": "150px",
    "width": "320px"
   },
   "toc_section_display": false,
   "toc_window_display": false
  },
  "varInspector": {
   "cols": {
    "lenName": 16,
    "lenType": 16,
    "lenVar": 40
   },
   "kernels_config": {
    "python": {
     "delete_cmd_postfix": "",
     "delete_cmd_prefix": "del ",
     "library": "var_list.py",
     "varRefreshCmd": "print(var_dic_list())"
    },
    "r": {
     "delete_cmd_postfix": ") ",
     "delete_cmd_prefix": "rm(",
     "library": "var_list.r",
     "varRefreshCmd": "cat(var_dic_list()) "
    }
   },
   "types_to_exclude": [
    "module",
    "function",
    "builtin_function_or_method",
    "instance",
    "_Feature"
   ],
   "window_display": false
  }
 },
 "nbformat": 4,
 "nbformat_minor": 4
}
