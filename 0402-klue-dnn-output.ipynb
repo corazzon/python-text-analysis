{
 "cells": [
  {
   "cell_type": "markdown",
   "metadata": {
    "id": "M4_PHrOVj51Z"
   },
   "source": [
    "## DNN (Deep Neural Network) 으로 텍스트 분류하기\n",
    "\n",
    "\n",
    "## 라이브러리 로드"
   ]
  },
  {
   "cell_type": "code",
   "execution_count": 1,
   "metadata": {
    "id": "4CcTgpxw6Aai"
   },
   "outputs": [],
   "source": [
    "import re\n",
    "import numpy as np\n",
    "import pandas as pd\n",
    "import matplotlib.pyplot as plt\n",
    "import seaborn as sns\n",
    "import warnings\n",
    "\n",
    "# 경고 메시지 무시\n",
    "warnings.filterwarnings(\"ignore\")"
   ]
  },
  {
   "cell_type": "code",
   "execution_count": 2,
   "metadata": {
    "id": "hbUdn24iZ0JI"
   },
   "outputs": [
    {
     "name": "stderr",
     "output_type": "stream",
     "text": [
      "2023-12-16 18:16:16.829430: I tensorflow/core/platform/cpu_feature_guard.cc:182] This TensorFlow binary is optimized to use available CPU instructions in performance-critical operations.\n",
      "To enable the following instructions: AVX2 AVX512F AVX512_VNNI FMA, in other operations, rebuild TensorFlow with the appropriate compiler flags.\n"
     ]
    }
   ],
   "source": [
    "# tensorflow\n",
    "# TextVectorization, Embedding, GlobalAveragePooling1D\n",
    "import tensorflow as tf\n",
    "from tensorflow.keras import Sequential\n",
    "from tensorflow.keras.layers import TextVectorization, Embedding\n",
    "from tensorflow.keras.layers import GlobalAvgPool1D, Dense, Dropout"
   ]
  },
  {
   "cell_type": "markdown",
   "metadata": {
    "id": "ESivktS1lEm7"
   },
   "source": [
    "## 데이터 미리보기 및 요약"
   ]
  },
  {
   "cell_type": "code",
   "execution_count": 3,
   "metadata": {
    "colab": {
     "base_uri": "https://localhost:8080/",
     "height": 424
    },
    "id": "eFKC0rSZqNsO",
    "outputId": "fe1d906f-9cb4-4da6-da3b-cbf5c91e278d"
   },
   "outputs": [
    {
     "data": {
      "text/plain": [
       "((45654, 4), (9131, 3))"
      ]
     },
     "execution_count": 3,
     "metadata": {},
     "output_type": "execute_result"
    }
   ],
   "source": [
    "# 학습, 예측 데이터셋을 불러옵니다.\n",
    "# pecab 으로 조사, 구두점을 제거한 데이터를 불러옵니다. \n",
    "# 전처리 되지 않은 텍스트를 사용해도 상관 없습니다.\n",
    "train = pd.read_csv(\"data/klue/train_pecab.csv\")\n",
    "test = pd.read_csv(\"data/klue/test_pecab.csv\")\n",
    "train.shape, test.shape"
   ]
  },
  {
   "cell_type": "code",
   "execution_count": 4,
   "metadata": {
    "id": "TjuWJzWqZ0JF",
    "outputId": "26679284-ba4f-424b-c17b-41f8a5aad382"
   },
   "outputs": [
    {
     "data": {
      "text/plain": [
       "topic_idx\n",
       "4    0.167105\n",
       "2    0.161256\n",
       "5    0.151860\n",
       "6    0.147873\n",
       "1    0.136286\n",
       "3    0.129956\n",
       "0    0.105664\n",
       "Name: proportion, dtype: float64"
      ]
     },
     "execution_count": 4,
     "metadata": {},
     "output_type": "execute_result"
    }
   ],
   "source": [
    "# value_counts()로 분류별 빈도수 확인합니다.\n",
    "train[\"topic_idx\"].value_counts(1)"
   ]
  },
  {
   "cell_type": "code",
   "execution_count": 5,
   "metadata": {
    "id": "zvpvDX5nZ0JG"
   },
   "outputs": [
    {
     "data": {
      "text/plain": [
       "'topic_idx'"
      ]
     },
     "execution_count": 5,
     "metadata": {},
     "output_type": "execute_result"
    }
   ],
   "source": [
    "# 정답(label) 값을 설정합니다.\n",
    "label_name = \"topic_idx\"\n",
    "label_name"
   ]
  },
  {
   "cell_type": "markdown",
   "metadata": {
    "id": "sVldgQfrZ0JH"
   },
   "source": [
    "## label one-hot 형태로 만들기"
   ]
  },
  {
   "cell_type": "code",
   "execution_count": 6,
   "metadata": {
    "scrolled": true
   },
   "outputs": [
    {
     "data": {
      "text/plain": [
       "(45654, 7)"
      ]
     },
     "execution_count": 6,
     "metadata": {},
     "output_type": "execute_result"
    }
   ],
   "source": [
    "# from keras.utils import to_categorical\n",
    "from keras.utils import to_categorical\n",
    "# get_dummies 를 사용하여 label 값을 one-hot 형태로 만듭니다.\n",
    "y = to_categorical(train[label_name])\n",
    "y.shape"
   ]
  },
  {
   "cell_type": "code",
   "execution_count": 7,
   "metadata": {},
   "outputs": [
    {
     "data": {
      "text/plain": [
       "topic_idx\n",
       "0    4824\n",
       "1    6222\n",
       "2    7362\n",
       "3    5933\n",
       "4    7629\n",
       "5    6933\n",
       "6    6751\n",
       "Name: count, dtype: int64"
      ]
     },
     "execution_count": 7,
     "metadata": {},
     "output_type": "execute_result"
    }
   ],
   "source": [
    "# value_counts 로 정답 빈도 보기\n",
    "train[label_name].value_counts().sort_index()"
   ]
  },
  {
   "cell_type": "code",
   "execution_count": 8,
   "metadata": {},
   "outputs": [],
   "source": [
    "# train[label_name]"
   ]
  },
  {
   "cell_type": "code",
   "execution_count": 9,
   "metadata": {},
   "outputs": [
    {
     "data": {
      "text/plain": [
       "0    4824.0\n",
       "1    6222.0\n",
       "2    7362.0\n",
       "3    5933.0\n",
       "4    7629.0\n",
       "5    6933.0\n",
       "6    6751.0\n",
       "dtype: float32"
      ]
     },
     "execution_count": 9,
     "metadata": {},
     "output_type": "execute_result"
    }
   ],
   "source": [
    "# one-hot-encoding 정답 빈도 보기\n",
    "pd.DataFrame(y).sum()"
   ]
  },
  {
   "cell_type": "markdown",
   "metadata": {},
   "source": [
    "## 검증용 데이터 만들기와 데이터 누수\n",
    "\n",
    "* 아래의 경우 데이터 누수(Data Leakage)에 해당됩니다.\n",
    "* label encoding, one-hot encoding 시 test 데이터 셋 활용하여 encoder를 fit하는 경우\n",
    "* data scaling 적용 시 test 데이터 셋 활용하여 scaler를 fit하는 경우\n",
    "* pandas의 get_dummies() 함수를 test 데이터셋에 적용하는 경우\n",
    "* test 데이터 셋의 결측치 처리 시 test 데이터 셋의 통계 값 활용\n",
    "* test 데이터 셋을 EDA하여 얻은 인사이트를 통해 학습에 활용하는 경우\n",
    "* test 데이터 셋을 학습 과정에 사용하는 모든 행위 (test 데이터셋은 추론에만 활용되어야 합니다)\n",
    "* test 데이터 셋의 데이터 개수 정보를 활용하는 경우 (실제 test 데이터셋은 몇개가 입력으로 들어올 지 모르기 때문)\n",
    "* 위 예시 외에도 test 데이터 셋이 모델 학습에 활용되는 경우에 Data leakage에 해당됨.\n",
    "* 출처 : https://dacon.io/competitions/official/236055/talkboard/407731 \n"
   ]
  },
  {
   "cell_type": "code",
   "execution_count": 10,
   "metadata": {},
   "outputs": [],
   "source": [
    "X = train[\"title\"]\n",
    "X_test_text = test[\"title\"]"
   ]
  },
  {
   "cell_type": "code",
   "execution_count": 11,
   "metadata": {},
   "outputs": [
    {
     "data": {
      "text/plain": [
       "((36523,), (9131,), (36523, 7), (9131, 7))"
      ]
     },
     "execution_count": 11,
     "metadata": {},
     "output_type": "execute_result"
    }
   ],
   "source": [
    "# train_test_split\n",
    "from sklearn.model_selection import train_test_split\n",
    "\n",
    "X_train_text, X_valid_text, y_train, y_valid = train_test_split(\n",
    "    X, y, test_size=0.2, random_state=42, stratify=y)\n",
    "X_train_text.shape, X_valid_text.shape, y_train.shape, y_valid.shape"
   ]
  },
  {
   "cell_type": "code",
   "execution_count": 12,
   "metadata": {},
   "outputs": [
    {
     "data": {
      "text/plain": [
       "0    0.105659\n",
       "1    0.136298\n",
       "2    0.161268\n",
       "3    0.129946\n",
       "4    0.167100\n",
       "5    0.151850\n",
       "6    0.147879\n",
       "dtype: float32"
      ]
     },
     "execution_count": 12,
     "metadata": {},
     "output_type": "execute_result"
    }
   ],
   "source": [
    "# 층화표집이 잘 되었는지 확인\n",
    "pd.DataFrame(y_train).mean()"
   ]
  },
  {
   "cell_type": "code",
   "execution_count": 13,
   "metadata": {},
   "outputs": [
    {
     "data": {
      "text/plain": [
       "0    0.105684\n",
       "1    0.136239\n",
       "2    0.161209\n",
       "3    0.129997\n",
       "4    0.167123\n",
       "5    0.151900\n",
       "6    0.147848\n",
       "dtype: float32"
      ]
     },
     "execution_count": 13,
     "metadata": {},
     "output_type": "execute_result"
    }
   ],
   "source": [
    "pd.DataFrame(y_valid).mean()"
   ]
  },
  {
   "cell_type": "markdown",
   "metadata": {
    "id": "5Vm0_ExvnAyN"
   },
   "source": [
    "## TextVectorization\n",
    "\n",
    "* 매개변수\n",
    "    * max_tokens: 텍스트에서 고려할 최대 토큰 수를 지정합니다. 가장 빈도가 높은 max_tokens 개의 토큰만 사용됩니다.\n",
    "    * standardize: 텍스트를 표준화하는 방법을 선택합니다. 'lower_and_strip_punctuation'로 설정하면 소문자로 변환하고 문장부호를 제거합니다.\n",
    "    * split: 텍스트를 토큰화하는 방법을 선택합니다. 'whitespace'로 설정하면 공백을 기준으로 텍스트가 토큰화됩니다.\n",
    "    * ngrams: 단일 토큰 이상의 n-그램을 생성하도록 지정합니다. 예를 들어, ngrams=2로 설정하면 바이그램이 생성됩니다.\n",
    "    * output_mode: 출력 모드를 지정합니다. 'int'로 설정하면 정수로 변환된 토큰이 출력됩니다.\n",
    "    * output_sequence_length: 출력 시퀀스의 길이를 지정합니다. 이 매개변수를 사용하여 모든 시퀀스를 고정된 길이로 패딩하거나 자를 수 있습니다.\n",
    "    * pad_to_max_tokens: True로 설정하면 max_tokens으로 시퀀스를 패딩합니다.\n",
    "    * vocabulary: 사용할 어휘 사전을 지정합니다. 사전이 제공되면 모델은 이 사전에 있는 토큰만 고려합니다.\n",
    "    * sparse: True로 설정하면 희소 텐서를 출력합니다.\n",
    "    * ragged: True로 설정하면 불규칙한 길이의 토큰을 나타내는 tf.RaggedTensor를 출력합니다.\n",
    "    * encoding: 텍스트의 인코딩을 지정합니다.\n",
    "    * kwargs: 기타 설정을 위한 추가적인 키워드 인수를 받습니다.\n",
    "\n",
    "\n",
    "* API Document: https://www.tensorflow.org/api_docs/python/tf/keras/preprocessing/text/Tokenizer"
   ]
  },
  {
   "cell_type": "code",
   "execution_count": 14,
   "metadata": {},
   "outputs": [
    {
     "data": {
      "text/plain": [
       "'!\"#$%&\\'()*+,-./:;<=>?@[\\\\]^_`{|}~'"
      ]
     },
     "execution_count": 14,
     "metadata": {},
     "output_type": "execute_result"
    }
   ],
   "source": [
    "import string\n",
    "string.punctuation"
   ]
  },
  {
   "cell_type": "code",
   "execution_count": 15,
   "metadata": {},
   "outputs": [],
   "source": [
    "# 소문자 변환: 입력된 텍스트를 모두 소문자로 변경합니다.\n",
    "# HTML 태그 제거: HTML 태그(<br />)를 공백으로 대체합니다.\n",
    "# 구두점 제거: 모든 구두점을 제거합니다.\n",
    "\n",
    "def custom_standardization(input_data):\n",
    "    lowercase = tf.strings.lower(input_data)\n",
    "    stripped_html = tf.strings.regex_replace(lowercase, '<br />', ' ')\n",
    "    return tf.strings.regex_replace(stripped_html,\n",
    "                                  '[%s]' % re.escape(string.punctuation), '')"
   ]
  },
  {
   "cell_type": "markdown",
   "metadata": {},
   "source": [
    "## MAX_SEQUENCE_LENGTH \n",
    "* 단어 수에 대한 빈도 수 고려하기"
   ]
  },
  {
   "cell_type": "code",
   "execution_count": 16,
   "metadata": {},
   "outputs": [
    {
     "data": {
      "text/plain": [
       "count    45654.000000\n",
       "mean         6.588207\n",
       "std          1.474083\n",
       "min          1.000000\n",
       "25%          6.000000\n",
       "50%          7.000000\n",
       "75%          8.000000\n",
       "max         13.000000\n",
       "Name: title, dtype: float64"
      ]
     },
     "execution_count": 16,
     "metadata": {},
     "output_type": "execute_result"
    }
   ],
   "source": [
    "# 단어 빈도수의 기술 통계 구하기\n",
    "train[\"title\"].map(lambda x: len(x.split())).describe()"
   ]
  },
  {
   "cell_type": "code",
   "execution_count": 17,
   "metadata": {},
   "outputs": [],
   "source": [
    "# TextVectorization 레이어 설정\n",
    "# standardize, max_tokens, output_mode\n",
    "vocab_size = 10000\n",
    "MAX_SEQUENCE_LENGTH = 10\n",
    "\n",
    "vectorizer = TextVectorization(standardize=custom_standardization, \n",
    "                               max_tokens=vocab_size, \n",
    "                               output_sequence_length=MAX_SEQUENCE_LENGTH)\n",
    "# X_train_text 만 넣어주면 valid 에 있는 어휘는 학습이 되지 않습니다.\n",
    "# test 에만 있는 어휘는 데이터 누수 문제로 사용하지 않습니다.\n",
    "vectorizer.adapt(X)"
   ]
  },
  {
   "cell_type": "code",
   "execution_count": 18,
   "metadata": {},
   "outputs": [
    {
     "data": {
      "text/plain": [
       "(45654,)"
      ]
     },
     "execution_count": 18,
     "metadata": {},
     "output_type": "execute_result"
    }
   ],
   "source": [
    "X.shape"
   ]
  },
  {
   "cell_type": "code",
   "execution_count": 19,
   "metadata": {},
   "outputs": [
    {
     "data": {
      "text/plain": [
       "<tf.Tensor: shape=(36523, 10), dtype=int64, numpy=\n",
       "array([[   4,    1, 1391, ...,    0,    0,    0],\n",
       "       [ 531,  102,    1, ...,  437,    0,    0],\n",
       "       [2457, 7737,    1, ...,    0,    0,    0],\n",
       "       ...,\n",
       "       [   1,    1,   81, ...,    0,    0,    0],\n",
       "       [ 105, 2300,   84, ...,    0,    0,    0],\n",
       "       [ 898, 9971,    1, ...,  554,    0,    0]])>"
      ]
     },
     "execution_count": 19,
     "metadata": {},
     "output_type": "execute_result"
    }
   ],
   "source": [
    "X_train = vectorizer(X_train_text)\n",
    "X_train"
   ]
  },
  {
   "cell_type": "code",
   "execution_count": 20,
   "metadata": {},
   "outputs": [
    {
     "data": {
      "text/plain": [
       "<tf.Tensor: shape=(9131, 10), dtype=int64, numpy=\n",
       "array([[  23, 1924,  569, ...,    0,    0,    0],\n",
       "       [   1,    1,    1, ...,    0,    0,    0],\n",
       "       [ 130,   65,    1, ...,    0,    0,    0],\n",
       "       ...,\n",
       "       [   1,  171,  615, ..., 3147,    0,    0],\n",
       "       [   1,    1, 1930, ...,    0,    0,    0],\n",
       "       [3609, 1861, 5525, ...,    0,    0,    0]])>"
      ]
     },
     "execution_count": 20,
     "metadata": {},
     "output_type": "execute_result"
    }
   ],
   "source": [
    "X_valid = vectorizer(X_valid_text)\n",
    "X_valid"
   ]
  },
  {
   "cell_type": "code",
   "execution_count": 21,
   "metadata": {},
   "outputs": [
    {
     "data": {
      "text/plain": [
       "<tf.Tensor: shape=(9131, 10), dtype=int64, numpy=\n",
       "array([[1179,   88,    1, ...,    0,    0,    0],\n",
       "       [   1, 3462,    1, ...,    0,    0,    0],\n",
       "       [1731,    1,  940, ...,    0,    0,    0],\n",
       "       ...,\n",
       "       [3265,   19,    1, ...,  278,   36,    0],\n",
       "       [   4, 5895,    1, ...,    0,    0,    0],\n",
       "       [1503, 8864,    1, ...,    0,    0,    0]])>"
      ]
     },
     "execution_count": 21,
     "metadata": {},
     "output_type": "execute_result"
    }
   ],
   "source": [
    "X_test = vectorizer(X_test_text)\n",
    "X_test"
   ]
  },
  {
   "cell_type": "code",
   "execution_count": 22,
   "metadata": {},
   "outputs": [
    {
     "data": {
      "text/plain": [
       "(10000, ['', '[UNK]', '첫', '등', '게시판', '北', '신간', '대통령', '감독', '美'])"
      ]
     },
     "execution_count": 22,
     "metadata": {},
     "output_type": "execute_result"
    }
   ],
   "source": [
    "vocab = vectorizer.get_vocabulary()\n",
    "len(vocab), vocab[:10]"
   ]
  },
  {
   "cell_type": "markdown",
   "metadata": {},
   "source": [
    "### 텍스트 길이 시각화"
   ]
  },
  {
   "cell_type": "code",
   "execution_count": 23,
   "metadata": {},
   "outputs": [
    {
     "data": {
      "text/plain": [
       "<Axes: >"
      ]
     },
     "execution_count": 23,
     "metadata": {},
     "output_type": "execute_result"
    },
    {
     "data": {
      "image/png": "[encoded data removed]",
      "text/plain": [
       "<Figure size 640x480 with 2 Axes>"
      ]
     },
     "metadata": {},
     "output_type": "display_data"
    }
   ],
   "source": [
    "df_train = pd.DataFrame(X_train)\n",
    "sns.heatmap(df_train.replace(0, np.nan).notnull(), cmap=\"gray_r\")"
   ]
  },
  {
   "cell_type": "markdown",
   "metadata": {},
   "source": [
    "###  vocab index 분포\n",
    "* 0에 가까울 수록 빈도수가 높음"
   ]
  },
  {
   "cell_type": "code",
   "execution_count": 24,
   "metadata": {
    "scrolled": false
   },
   "outputs": [
    {
     "data": {
      "text/plain": [
       "<Axes: >"
      ]
     },
     "execution_count": 24,
     "metadata": {},
     "output_type": "execute_result"
    },
    {
     "data": {
      "image/png": "[encoded data removed]",
      "text/plain": [
       "<Figure size 640x480 with 2 Axes>"
      ]
     },
     "metadata": {},
     "output_type": "display_data"
    }
   ],
   "source": [
    "# vocab index 분포 : 0에 가까울 수록 빈도수가 높음\n",
    "\n",
    "sns.heatmap(df_train, cmap=\"Blues\")"
   ]
  },
  {
   "cell_type": "markdown",
   "metadata": {},
   "source": [
    "## 임베딩 \n",
    "\n",
    "* https://www.tensorflow.org/text/guide/word_embeddings?hl=ko\n",
    "* https://damien0x0023.github.io/rnnExplainer/"
   ]
  },
  {
   "cell_type": "code",
   "execution_count": 25,
   "metadata": {
    "id": "MbtT1Vdebei7"
   },
   "outputs": [],
   "source": [
    "# 하이퍼파라미터(모델링할 때 사용자가 직접 세팅해주는 값)을 설정합니다.\n",
    "# vocab_size는 텍스트 데이터의 전체 단어 집합의 크기입니다.\n",
    "# embedding_dim는 임베딩 할 벡터의 차원입니다.\n",
    "# max_length는 패딩의 기준이 됩니다.\n",
    "\n",
    "embedding_dim = 64"
   ]
  },
  {
   "cell_type": "code",
   "execution_count": 26,
   "metadata": {
    "scrolled": true
   },
   "outputs": [
    {
     "data": {
      "text/plain": [
       "(TensorShape([36523, 10]), 64)"
      ]
     },
     "execution_count": 26,
     "metadata": {},
     "output_type": "execute_result"
    }
   ],
   "source": [
    "X_train.shape, embedding_dim"
   ]
  },
  {
   "cell_type": "code",
   "execution_count": 27,
   "metadata": {},
   "outputs": [
    {
     "data": {
      "text/plain": [
       "TensorShape([36523, 10, 64])"
      ]
     },
     "execution_count": 27,
     "metadata": {},
     "output_type": "execute_result"
    }
   ],
   "source": [
    "embedding_layer = Embedding(input_dim=vocab_size, \n",
    "                            output_dim=embedding_dim, \n",
    "                            input_length=MAX_SEQUENCE_LENGTH)\n",
    "embedding_train = embedding_layer(X_train)\n",
    "embedding_train.shape"
   ]
  },
  {
   "cell_type": "markdown",
   "metadata": {},
   "source": [
    "## GlobalAvgPool1D\n",
    "\n",
    "* 고정된 출력 크기: GlobalAvgPool1D를 사용하면 입력 텍스트의 길이에 관계없이 고정된 출력 크기를 얻을 수 있습니다. 이는 다양한 길이의 문장을 처리하고 동일한 크기의 임베딩을 얻을 수 있도록 해줍니다.\n",
    "* 전역 정보 캡처: GlobalAvgPool1D는 각 시퀀스 차원에 대한 평균을 계산합니다. 이로써 각 차원의 전역 정보를 캡처할 수 있습니다. 이는 문장의 중요한 특징을 추출하는 데 도움이 되며, 특히 문장이 길거나 다양한 길이일 때 유용합니다.\n",
    "* 과적합 방지: GlobalAvgPool1D를 사용하면 모델이 입력의 특정 위치에 과도하게 의존하는 것을 방지할 수 있습니다. 이는 모델을 더욱 일반화되게 만들어주어 새로운 데이터에 대한 성능을 향상시킬 수 있습니다.\n",
    "* 계산 효율성: GlobalAvgPool1D는 입력의 평균을 계산하므로 모델이 더 적은 파라미터로 텍스트를 처리할 수 있습니다. 이는 모델의 효율성을 높여줍니다."
   ]
  },
  {
   "cell_type": "code",
   "execution_count": 28,
   "metadata": {},
   "outputs": [
    {
     "data": {
      "text/plain": [
       "<Axes: >"
      ]
     },
     "execution_count": 28,
     "metadata": {},
     "output_type": "execute_result"
    },
    {
     "data": {
      "image/png": "[encoded data removed]",
      "text/plain": [
       "<Figure size 640x480 with 2 Axes>"
      ]
     },
     "metadata": {},
     "output_type": "display_data"
    }
   ],
   "source": [
    "# avg_pooling_layer heatmap\n",
    "avg_pooling_layer = GlobalAvgPool1D()\n",
    "sns.heatmap(avg_pooling_layer(embedding_train), cmap=\"Blues\")"
   ]
  },
  {
   "cell_type": "markdown",
   "metadata": {
    "id": "uInDm3wobb5v"
   },
   "source": [
    "## 층 구성\n",
    " <img src=\"https://cs231n.github.io/assets/nn1/neural_net2.jpeg\" width=\"40%\">\n",
    "\n",
    "* 이미지 출처 : https://cs231n.github.io/neural-networks-1/"
   ]
  },
  {
   "cell_type": "code",
   "execution_count": 29,
   "metadata": {
    "id": "ATWh1mLDZ0JN",
    "outputId": "a30b1258-17b2-4b5b-e36e-ecc3e269b8eb"
   },
   "outputs": [
    {
     "data": {
      "text/plain": [
       "7"
      ]
     },
     "execution_count": 29,
     "metadata": {},
     "output_type": "execute_result"
    }
   ],
   "source": [
    "# 클래스의 수는 분류될 예측값의 종류입니다.\n",
    "# 정답값이 one-hot 형태로 인코딩 되어 있기 때문에 정답값의 컬럼의 수가 예측값의 종류가 됩니다.\n",
    "n_class = y.shape[1]\n",
    "n_class"
   ]
  },
  {
   "cell_type": "code",
   "execution_count": 30,
   "metadata": {
    "id": "VyRptbe9bjP-"
   },
   "outputs": [],
   "source": [
    "# Sequential Layer\n",
    "\n",
    "model = Sequential()\n",
    "model.add(embedding_layer)\n",
    "model.add(avg_pooling_layer)\n",
    "model.add(Dense(units=32))\n",
    "model.add(Dense(units=32))\n",
    "model.add(Dropout(0.1))\n",
    "model.add(Dense(units=n_class, activation=\"softmax\"))"
   ]
  },
  {
   "cell_type": "markdown",
   "metadata": {
    "id": "TD6brH6LZ0JN"
   },
   "source": [
    "## 모델 컴파일"
   ]
  },
  {
   "cell_type": "code",
   "execution_count": 31,
   "metadata": {
    "id": "_uYPV_gbZ0JO",
    "outputId": "0240ab38-6945-433a-e32e-d383d5ddfbd6"
   },
   "outputs": [
    {
     "name": "stdout",
     "output_type": "stream",
     "text": [
      "Model: \"sequential\"\n",
      "_________________________________________________________________\n",
      " Layer (type)                Output Shape              Param #   \n",
      "=================================================================\n",
      " embedding (Embedding)       (None, 10, 64)            640000    \n",
      "                                                                 \n",
      " global_average_pooling1d (  (None, 64)                0         \n",
      " GlobalAveragePooling1D)                                         \n",
      "                                                                 \n",
      " dense (Dense)               (None, 32)                2080      \n",
      "                                                                 \n",
      " dense_1 (Dense)             (None, 32)                1056      \n",
      "                                                                 \n",
      " dropout (Dropout)           (None, 32)                0         \n",
      "                                                                 \n",
      " dense_2 (Dense)             (None, 7)                 231       \n",
      "                                                                 \n",
      "=================================================================\n",
      "Total params: 643367 (2.45 MB)\n",
      "Trainable params: 643367 (2.45 MB)\n",
      "Non-trainable params: 0 (0.00 Byte)\n",
      "_________________________________________________________________\n"
     ]
    }
   ],
   "source": [
    "# 여러개 정답 중 하나 맞추는 문제이며, 정답값이 one-hot 형태이기 때문에\n",
    "# 손실 함수는 categorical_crossentropy를 사용합니다.\n",
    "model.compile(loss=\"categorical_crossentropy\", \n",
    "              optimizer=tf.keras.optimizers.Adam(learning_rate=0.0001), \n",
    "              metrics=[\"accuracy\"]\n",
    "             )\n",
    "model.summary()"
   ]
  },
  {
   "cell_type": "markdown",
   "metadata": {
    "id": "K6Z8ZNu-Z0JO"
   },
   "source": [
    "## 학습 fit\n",
    "\n",
    "<img src=\"https://i.imgur.com/uWkUCu1.png\" width=\"700\">\n",
    "\n",
    "* https://www.tensorflow.org/tensorboard/get_started?hl=ko"
   ]
  },
  {
   "cell_type": "code",
   "execution_count": 32,
   "metadata": {},
   "outputs": [],
   "source": [
    "# Clear any logs from previous runs\n",
    "# !rm -rf ./logs/"
   ]
  },
  {
   "cell_type": "code",
   "execution_count": 33,
   "metadata": {},
   "outputs": [],
   "source": [
    "from tensorflow.keras.callbacks import EarlyStopping, TensorBoard\n",
    "from datetime import datetime\n",
    "\n",
    "log_dir = \"logs/fit/\" + datetime.now().strftime(\"%Y%m%d-%H%M%S\")\n",
    "\n",
    "tensorboard_callback = TensorBoard(log_dir=log_dir)\n",
    "early_stop = EarlyStopping(monitor='val_loss', patience=5)"
   ]
  },
  {
   "cell_type": "code",
   "execution_count": 34,
   "metadata": {
    "colab": {
     "base_uri": "https://localhost:8080/"
    },
    "id": "o-IIagNa8n9z",
    "outputId": "f724cbb3-c7ef-4df6-c14c-e8f324132f30",
    "scrolled": false
   },
   "outputs": [
    {
     "name": "stdout",
     "output_type": "stream",
     "text": [
      "Epoch 1/100\n",
      "571/571 [==============================] - 8s 12ms/step - loss: 1.9126 - accuracy: 0.2497 - val_loss: 1.8528 - val_accuracy: 0.3536\n",
      "Epoch 2/100\n",
      "571/571 [==============================] - 8s 14ms/step - loss: 1.6781 - accuracy: 0.4667 - val_loss: 1.4694 - val_accuracy: 0.5604\n",
      "Epoch 3/100\n",
      "571/571 [==============================] - 9s 16ms/step - loss: 1.2634 - accuracy: 0.6219 - val_loss: 1.1327 - val_accuracy: 0.6495\n",
      "Epoch 4/100\n",
      "571/571 [==============================] - 12s 20ms/step - loss: 0.9735 - accuracy: 0.7109 - val_loss: 0.9412 - val_accuracy: 0.7080\n",
      "Epoch 5/100\n",
      "571/571 [==============================] - 12s 21ms/step - loss: 0.8017 - accuracy: 0.7573 - val_loss: 0.8483 - val_accuracy: 0.7271\n",
      "Epoch 6/100\n",
      "571/571 [==============================] - 12s 21ms/step - loss: 0.7023 - accuracy: 0.7856 - val_loss: 0.8040 - val_accuracy: 0.7407\n",
      "Epoch 7/100\n",
      "571/571 [==============================] - 13s 23ms/step - loss: 0.6335 - accuracy: 0.8055 - val_loss: 0.7795 - val_accuracy: 0.7503\n",
      "Epoch 8/100\n",
      "571/571 [==============================] - 14s 24ms/step - loss: 0.5815 - accuracy: 0.8212 - val_loss: 0.7635 - val_accuracy: 0.7563\n",
      "Epoch 9/100\n",
      "571/571 [==============================] - 14s 24ms/step - loss: 0.5389 - accuracy: 0.8319 - val_loss: 0.7554 - val_accuracy: 0.7629\n",
      "Epoch 10/100\n",
      "571/571 [==============================] - 14s 25ms/step - loss: 0.5009 - accuracy: 0.8436 - val_loss: 0.7495 - val_accuracy: 0.7683\n",
      "Epoch 11/100\n",
      "571/571 [==============================] - 13s 23ms/step - loss: 0.4680 - accuracy: 0.8541 - val_loss: 0.7479 - val_accuracy: 0.7715\n",
      "Epoch 12/100\n",
      "571/571 [==============================] - 14s 25ms/step - loss: 0.4370 - accuracy: 0.8638 - val_loss: 0.7509 - val_accuracy: 0.7717\n",
      "Epoch 13/100\n",
      "571/571 [==============================] - 14s 24ms/step - loss: 0.4118 - accuracy: 0.8710 - val_loss: 0.7547 - val_accuracy: 0.7707\n",
      "Epoch 14/100\n",
      "571/571 [==============================] - 15s 27ms/step - loss: 0.3894 - accuracy: 0.8764 - val_loss: 0.7621 - val_accuracy: 0.7723\n",
      "Epoch 15/100\n",
      "571/571 [==============================] - 13s 23ms/step - loss: 0.3679 - accuracy: 0.8829 - val_loss: 0.7733 - val_accuracy: 0.7723\n",
      "Epoch 16/100\n",
      "571/571 [==============================] - 12s 22ms/step - loss: 0.3508 - accuracy: 0.8879 - val_loss: 0.7884 - val_accuracy: 0.7723\n"
     ]
    }
   ],
   "source": [
    "# 모델 학습을 실행합니다.\n",
    "history = model.fit(X_train, y_train, \n",
    "                    epochs=100, batch_size=64,\n",
    "                    callbacks=[early_stop, tensorboard_callback],\n",
    "                    validation_data=(X_valid, y_valid), \n",
    "                    use_multiprocessing=True)"
   ]
  },
  {
   "cell_type": "code",
   "execution_count": 35,
   "metadata": {
    "id": "LMnumSxuZ0JO",
    "outputId": "5e243138-3f6d-43bd-c220-0d17762e4cdd"
   },
   "outputs": [
    {
     "data": {
      "text/html": [
       "<div>\n",
       "<style scoped>\n",
       "    .dataframe tbody tr th:only-of-type {\n",
       "        vertical-align: middle;\n",
       "    }\n",
       "\n",
       "    .dataframe tbody tr th {\n",
       "        vertical-align: top;\n",
       "    }\n",
       "\n",
       "    .dataframe thead th {\n",
       "        text-align: right;\n",
       "    }\n",
       "</style>\n",
       "<table border=\"1\" class=\"dataframe\">\n",
       "  <thead>\n",
       "    <tr style=\"text-align: right;\">\n",
       "      <th></th>\n",
       "      <th>loss</th>\n",
       "      <th>accuracy</th>\n",
       "      <th>val_loss</th>\n",
       "      <th>val_accuracy</th>\n",
       "    </tr>\n",
       "  </thead>\n",
       "  <tbody>\n",
       "    <tr>\n",
       "      <th>0</th>\n",
       "      <td>1.912610</td>\n",
       "      <td>0.249706</td>\n",
       "      <td>1.852776</td>\n",
       "      <td>0.353630</td>\n",
       "    </tr>\n",
       "    <tr>\n",
       "      <th>1</th>\n",
       "      <td>1.678145</td>\n",
       "      <td>0.466747</td>\n",
       "      <td>1.469357</td>\n",
       "      <td>0.560399</td>\n",
       "    </tr>\n",
       "    <tr>\n",
       "      <th>2</th>\n",
       "      <td>1.263371</td>\n",
       "      <td>0.621909</td>\n",
       "      <td>1.132696</td>\n",
       "      <td>0.649545</td>\n",
       "    </tr>\n",
       "    <tr>\n",
       "      <th>3</th>\n",
       "      <td>0.973474</td>\n",
       "      <td>0.710922</td>\n",
       "      <td>0.941204</td>\n",
       "      <td>0.708028</td>\n",
       "    </tr>\n",
       "    <tr>\n",
       "      <th>4</th>\n",
       "      <td>0.801713</td>\n",
       "      <td>0.757331</td>\n",
       "      <td>0.848296</td>\n",
       "      <td>0.727084</td>\n",
       "    </tr>\n",
       "    <tr>\n",
       "      <th>5</th>\n",
       "      <td>0.702311</td>\n",
       "      <td>0.785642</td>\n",
       "      <td>0.804029</td>\n",
       "      <td>0.740664</td>\n",
       "    </tr>\n",
       "    <tr>\n",
       "      <th>6</th>\n",
       "      <td>0.633533</td>\n",
       "      <td>0.805492</td>\n",
       "      <td>0.779507</td>\n",
       "      <td>0.750301</td>\n",
       "    </tr>\n",
       "    <tr>\n",
       "      <th>7</th>\n",
       "      <td>0.581490</td>\n",
       "      <td>0.821181</td>\n",
       "      <td>0.763532</td>\n",
       "      <td>0.756325</td>\n",
       "    </tr>\n",
       "    <tr>\n",
       "      <th>8</th>\n",
       "      <td>0.538926</td>\n",
       "      <td>0.831887</td>\n",
       "      <td>0.755379</td>\n",
       "      <td>0.762896</td>\n",
       "    </tr>\n",
       "    <tr>\n",
       "      <th>9</th>\n",
       "      <td>0.500897</td>\n",
       "      <td>0.843633</td>\n",
       "      <td>0.749486</td>\n",
       "      <td>0.768262</td>\n",
       "    </tr>\n",
       "    <tr>\n",
       "      <th>10</th>\n",
       "      <td>0.468015</td>\n",
       "      <td>0.854119</td>\n",
       "      <td>0.747853</td>\n",
       "      <td>0.771547</td>\n",
       "    </tr>\n",
       "    <tr>\n",
       "      <th>11</th>\n",
       "      <td>0.436965</td>\n",
       "      <td>0.863784</td>\n",
       "      <td>0.750858</td>\n",
       "      <td>0.771657</td>\n",
       "    </tr>\n",
       "    <tr>\n",
       "      <th>12</th>\n",
       "      <td>0.411826</td>\n",
       "      <td>0.870958</td>\n",
       "      <td>0.754743</td>\n",
       "      <td>0.770671</td>\n",
       "    </tr>\n",
       "    <tr>\n",
       "      <th>13</th>\n",
       "      <td>0.389436</td>\n",
       "      <td>0.876407</td>\n",
       "      <td>0.762060</td>\n",
       "      <td>0.772314</td>\n",
       "    </tr>\n",
       "    <tr>\n",
       "      <th>14</th>\n",
       "      <td>0.367918</td>\n",
       "      <td>0.882923</td>\n",
       "      <td>0.773295</td>\n",
       "      <td>0.772314</td>\n",
       "    </tr>\n",
       "    <tr>\n",
       "      <th>15</th>\n",
       "      <td>0.350771</td>\n",
       "      <td>0.887851</td>\n",
       "      <td>0.788391</td>\n",
       "      <td>0.772314</td>\n",
       "    </tr>\n",
       "  </tbody>\n",
       "</table>\n",
       "</div>"
      ],
      "text/plain": [
       "        loss  accuracy  val_loss  val_accuracy\n",
       "0   1.912610  0.249706  1.852776      0.353630\n",
       "1   1.678145  0.466747  1.469357      0.560399\n",
       "2   1.263371  0.621909  1.132696      0.649545\n",
       "3   0.973474  0.710922  0.941204      0.708028\n",
       "4   0.801713  0.757331  0.848296      0.727084\n",
       "5   0.702311  0.785642  0.804029      0.740664\n",
       "6   0.633533  0.805492  0.779507      0.750301\n",
       "7   0.581490  0.821181  0.763532      0.756325\n",
       "8   0.538926  0.831887  0.755379      0.762896\n",
       "9   0.500897  0.843633  0.749486      0.768262\n",
       "10  0.468015  0.854119  0.747853      0.771547\n",
       "11  0.436965  0.863784  0.750858      0.771657\n",
       "12  0.411826  0.870958  0.754743      0.770671\n",
       "13  0.389436  0.876407  0.762060      0.772314\n",
       "14  0.367918  0.882923  0.773295      0.772314\n",
       "15  0.350771  0.887851  0.788391      0.772314"
      ]
     },
     "execution_count": 35,
     "metadata": {},
     "output_type": "execute_result"
    }
   ],
   "source": [
    "# 모델 학습의 결과값을 데이터 프레임으로 만들어 확인합니다.\n",
    "df_hist = pd.DataFrame(history.history)\n",
    "df_hist"
   ]
  },
  {
   "cell_type": "code",
   "execution_count": 36,
   "metadata": {
    "colab": {
     "base_uri": "https://localhost:8080/",
     "height": 315
    },
    "id": "MCU7v3_Ec5eA",
    "outputId": "85ad719d-b5a7-4f8f-a34d-734b40f2b427"
   },
   "outputs": [
    {
     "data": {
      "text/plain": [
       "<Axes: >"
      ]
     },
     "execution_count": 36,
     "metadata": {},
     "output_type": "execute_result"
    },
    {
     "data": {
      "image/png": "[encoded data removed]",
      "text/plain": [
       "<Figure size 640x480 with 1 Axes>"
      ]
     },
     "metadata": {},
     "output_type": "display_data"
    },
    {
     "data": {
      "image/png": "[encoded data removed]",
      "text/plain": [
       "<Figure size 640x480 with 1 Axes>"
      ]
     },
     "metadata": {},
     "output_type": "display_data"
    }
   ],
   "source": [
    "# 모델 학습 결과을 그래프로 시각화합니다.\n",
    "df_hist[[\"accuracy\", \"val_accuracy\"]].plot()\n",
    "\n",
    "df_hist[[\"loss\", \"val_loss\"]].plot()"
   ]
  },
  {
   "cell_type": "markdown",
   "metadata": {},
   "source": [
    "## tensorboard"
   ]
  },
  {
   "cell_type": "code",
   "execution_count": 37,
   "metadata": {},
   "outputs": [],
   "source": [
    "# !kill 12560"
   ]
  },
  {
   "cell_type": "code",
   "execution_count": 38,
   "metadata": {
    "scrolled": true
   },
   "outputs": [
    {
     "data": {
      "text/html": [
       "\n",
       "      <iframe id=\"tensorboard-frame-7010641da6e6dee7\" width=\"100%\" height=\"800\" frameborder=\"0\">\n",
       "      </iframe>\n",
       "      <script>\n",
       "        (function() {\n",
       "          const frame = document.getElementById(\"tensorboard-frame-7010641da6e6dee7\");\n",
       "          const url = new URL(\"/\", window.location);\n",
       "          const port = 6006;\n",
       "          if (port) {\n",
       "            url.port = port;\n",
       "          }\n",
       "          frame.src = url;\n",
       "        })();\n",
       "      </script>\n",
       "    "
      ],
      "text/plain": [
       "<IPython.core.display.HTML object>"
      ]
     },
     "metadata": {},
     "output_type": "display_data"
    }
   ],
   "source": [
    "# docs_infra: no_execute\n",
    "%load_ext tensorboard\n",
    "# %reload_ext tensorboard\n",
    "%tensorboard --logdir logs"
   ]
  },
  {
   "cell_type": "markdown",
   "metadata": {
    "id": "OFpNLGzUZ0JP"
   },
   "source": [
    "## 예측"
   ]
  },
  {
   "cell_type": "code",
   "execution_count": 39,
   "metadata": {
    "colab": {
     "base_uri": "https://localhost:8080/"
    },
    "id": "o-jaBsHTt7Ri",
    "outputId": "e3e24efa-b451-4e2d-a594-953acadd4231"
   },
   "outputs": [
    {
     "name": "stdout",
     "output_type": "stream",
     "text": [
      "286/286 [==============================] - 1s 2ms/step\n"
     ]
    },
    {
     "data": {
      "text/plain": [
       "array([[2.4454135e-01, 4.1179629e-03, 1.5380041e-01, ..., 1.2828516e-04,\n",
       "        1.2370635e-05, 1.6778093e-03],\n",
       "       [1.1874215e-03, 4.4177400e-06, 3.4808301e-04, ..., 7.2191765e-06,\n",
       "        3.2851528e-08, 8.9278049e-04],\n",
       "       [2.4073562e-03, 2.1918350e-01, 3.5345295e-01, ..., 3.9968488e-01,\n",
       "        2.2719473e-02, 1.1027746e-03],\n",
       "       ...,\n",
       "       [2.2170539e-03, 2.9119133e-04, 6.8074125e-01, ..., 1.5858679e-01,\n",
       "        8.2471361e-06, 1.1581543e-04],\n",
       "       [6.4938427e-03, 1.2293403e-03, 9.5124614e-01, ..., 5.3470023e-04,\n",
       "        3.4290348e-04, 9.3817366e-03],\n",
       "       [1.0900661e-01, 3.5216730e-02, 4.9985304e-01, ..., 8.1781335e-03,\n",
       "        1.9215032e-02, 1.7389488e-01]], dtype=float32)"
      ]
     },
     "execution_count": 39,
     "metadata": {},
     "output_type": "execute_result"
    }
   ],
   "source": [
    "# predict() 메서드로 모델 예측합니다.\n",
    "y_pred = model.predict(X_test)\n",
    "y_pred"
   ]
  },
  {
   "cell_type": "code",
   "execution_count": 40,
   "metadata": {},
   "outputs": [
    {
     "data": {
      "text/plain": [
       "TensorShape([9131, 10])"
      ]
     },
     "execution_count": 40,
     "metadata": {},
     "output_type": "execute_result"
    }
   ],
   "source": [
    "X_test.shape"
   ]
  },
  {
   "cell_type": "code",
   "execution_count": 41,
   "metadata": {
    "scrolled": true
   },
   "outputs": [
    {
     "data": {
      "text/plain": [
       "(9131, 7)"
      ]
     },
     "execution_count": 41,
     "metadata": {},
     "output_type": "execute_result"
    }
   ],
   "source": [
    "y_pred.shape"
   ]
  },
  {
   "cell_type": "code",
   "execution_count": 42,
   "metadata": {},
   "outputs": [
    {
     "data": {
      "text/plain": [
       "array([0.245, 0.004, 0.154, 0.596, 0.   , 0.   , 0.002], dtype=float32)"
      ]
     },
     "execution_count": 42,
     "metadata": {},
     "output_type": "execute_result"
    }
   ],
   "source": [
    "y_pred[0].round(3)"
   ]
  },
  {
   "cell_type": "code",
   "execution_count": 43,
   "metadata": {},
   "outputs": [
    {
     "data": {
      "text/plain": [
       "3"
      ]
     },
     "execution_count": 43,
     "metadata": {},
     "output_type": "execute_result"
    }
   ],
   "source": [
    "np.argmax(y_pred[0].round(3))"
   ]
  },
  {
   "cell_type": "code",
   "execution_count": 44,
   "metadata": {},
   "outputs": [
    {
     "data": {
      "text/plain": [
       "array([3, 3, 4, ..., 2, 2, 2])"
      ]
     },
     "execution_count": 44,
     "metadata": {},
     "output_type": "execute_result"
    }
   ],
   "source": [
    "# numpy.argmax를 이용해 가장 큰 값의 인덱스들을 반환한 값(클래스 예측)을 y_predict에 할당합니다.\n",
    "y_predict = np.argmax(y_pred, axis=1)\n",
    "y_predict"
   ]
  },
  {
   "cell_type": "markdown",
   "metadata": {
    "id": "CTE70dO3Z0JP"
   },
   "source": [
    "## 평가\n",
    "* 실제 미래의 데이터나 경진대회 데이터는 test 의 정답을 모릅니다. \n",
    "* 그렇기 때문에 validation 점수를 평가 점수로 활용합니다."
   ]
  },
  {
   "cell_type": "markdown",
   "metadata": {},
   "source": [
    "## 제출하기"
   ]
  },
  {
   "cell_type": "code",
   "execution_count": 45,
   "metadata": {},
   "outputs": [
    {
     "data": {
      "text/html": [
       "<div>\n",
       "<style scoped>\n",
       "    .dataframe tbody tr th:only-of-type {\n",
       "        vertical-align: middle;\n",
       "    }\n",
       "\n",
       "    .dataframe tbody tr th {\n",
       "        vertical-align: top;\n",
       "    }\n",
       "\n",
       "    .dataframe thead th {\n",
       "        text-align: right;\n",
       "    }\n",
       "</style>\n",
       "<table border=\"1\" class=\"dataframe\">\n",
       "  <thead>\n",
       "    <tr style=\"text-align: right;\">\n",
       "      <th></th>\n",
       "      <th>index</th>\n",
       "      <th>topic_idx</th>\n",
       "    </tr>\n",
       "  </thead>\n",
       "  <tbody>\n",
       "    <tr>\n",
       "      <th>0</th>\n",
       "      <td>45654</td>\n",
       "      <td>0</td>\n",
       "    </tr>\n",
       "    <tr>\n",
       "      <th>1</th>\n",
       "      <td>45655</td>\n",
       "      <td>0</td>\n",
       "    </tr>\n",
       "    <tr>\n",
       "      <th>2</th>\n",
       "      <td>45656</td>\n",
       "      <td>0</td>\n",
       "    </tr>\n",
       "    <tr>\n",
       "      <th>3</th>\n",
       "      <td>45657</td>\n",
       "      <td>0</td>\n",
       "    </tr>\n",
       "    <tr>\n",
       "      <th>4</th>\n",
       "      <td>45658</td>\n",
       "      <td>0</td>\n",
       "    </tr>\n",
       "  </tbody>\n",
       "</table>\n",
       "</div>"
      ],
      "text/plain": [
       "   index  topic_idx\n",
       "0  45654          0\n",
       "1  45655          0\n",
       "2  45656          0\n",
       "3  45657          0\n",
       "4  45658          0"
      ]
     },
     "execution_count": 45,
     "metadata": {},
     "output_type": "execute_result"
    }
   ],
   "source": [
    "# sample_submission 파일을 불러옵니다.\n",
    "# Dacon 에 제출할 답안지 양식입니다.\n",
    "submit = pd.read_csv(\"data/klue/sample_submission.csv\")\n",
    "submit.head()"
   ]
  },
  {
   "cell_type": "code",
   "execution_count": 46,
   "metadata": {},
   "outputs": [
    {
     "data": {
      "text/html": [
       "<div>\n",
       "<style scoped>\n",
       "    .dataframe tbody tr th:only-of-type {\n",
       "        vertical-align: middle;\n",
       "    }\n",
       "\n",
       "    .dataframe tbody tr th {\n",
       "        vertical-align: top;\n",
       "    }\n",
       "\n",
       "    .dataframe thead th {\n",
       "        text-align: right;\n",
       "    }\n",
       "</style>\n",
       "<table border=\"1\" class=\"dataframe\">\n",
       "  <thead>\n",
       "    <tr style=\"text-align: right;\">\n",
       "      <th></th>\n",
       "      <th>index</th>\n",
       "      <th>topic_idx</th>\n",
       "    </tr>\n",
       "  </thead>\n",
       "  <tbody>\n",
       "    <tr>\n",
       "      <th>0</th>\n",
       "      <td>45654</td>\n",
       "      <td>3</td>\n",
       "    </tr>\n",
       "    <tr>\n",
       "      <th>1</th>\n",
       "      <td>45655</td>\n",
       "      <td>3</td>\n",
       "    </tr>\n",
       "    <tr>\n",
       "      <th>2</th>\n",
       "      <td>45656</td>\n",
       "      <td>4</td>\n",
       "    </tr>\n",
       "    <tr>\n",
       "      <th>3</th>\n",
       "      <td>45657</td>\n",
       "      <td>2</td>\n",
       "    </tr>\n",
       "    <tr>\n",
       "      <th>4</th>\n",
       "      <td>45658</td>\n",
       "      <td>3</td>\n",
       "    </tr>\n",
       "    <tr>\n",
       "      <th>...</th>\n",
       "      <td>...</td>\n",
       "      <td>...</td>\n",
       "    </tr>\n",
       "    <tr>\n",
       "      <th>9126</th>\n",
       "      <td>54780</td>\n",
       "      <td>2</td>\n",
       "    </tr>\n",
       "    <tr>\n",
       "      <th>9127</th>\n",
       "      <td>54781</td>\n",
       "      <td>6</td>\n",
       "    </tr>\n",
       "    <tr>\n",
       "      <th>9128</th>\n",
       "      <td>54782</td>\n",
       "      <td>2</td>\n",
       "    </tr>\n",
       "    <tr>\n",
       "      <th>9129</th>\n",
       "      <td>54783</td>\n",
       "      <td>2</td>\n",
       "    </tr>\n",
       "    <tr>\n",
       "      <th>9130</th>\n",
       "      <td>54784</td>\n",
       "      <td>2</td>\n",
       "    </tr>\n",
       "  </tbody>\n",
       "</table>\n",
       "<p>9131 rows × 2 columns</p>\n",
       "</div>"
      ],
      "text/plain": [
       "      index  topic_idx\n",
       "0     45654          3\n",
       "1     45655          3\n",
       "2     45656          4\n",
       "3     45657          2\n",
       "4     45658          3\n",
       "...     ...        ...\n",
       "9126  54780          2\n",
       "9127  54781          6\n",
       "9128  54782          2\n",
       "9129  54783          2\n",
       "9130  54784          2\n",
       "\n",
       "[9131 rows x 2 columns]"
      ]
     },
     "execution_count": 46,
     "metadata": {},
     "output_type": "execute_result"
    }
   ],
   "source": [
    "# 정답값 측정을 위해 y_test 변수에 할당\n",
    "submit[\"topic_idx\"] = y_predict\n",
    "submit"
   ]
  },
  {
   "cell_type": "code",
   "execution_count": 47,
   "metadata": {},
   "outputs": [
    {
     "data": {
      "text/plain": [
       "0.7723140716552734"
      ]
     },
     "execution_count": 47,
     "metadata": {},
     "output_type": "execute_result"
    }
   ],
   "source": [
    "valid_accuracy = df_hist[\"val_accuracy\"].iloc[-1]\n",
    "valid_accuracy"
   ]
  },
  {
   "cell_type": "code",
   "execution_count": 48,
   "metadata": {
    "scrolled": true
   },
   "outputs": [
    {
     "data": {
      "text/plain": [
       "'data/klue/submit_0.77231.csv'"
      ]
     },
     "execution_count": 48,
     "metadata": {},
     "output_type": "execute_result"
    }
   ],
   "source": [
    "file_name = f\"data/klue/submit_{valid_accuracy:.5f}.csv\"\n",
    "file_name"
   ]
  },
  {
   "cell_type": "code",
   "execution_count": 49,
   "metadata": {},
   "outputs": [],
   "source": [
    "# 잘 저장이 되었는지 확인합니다.\n",
    "submit.to_csv(file_name, index=False)"
   ]
  },
  {
   "cell_type": "code",
   "execution_count": 50,
   "metadata": {},
   "outputs": [
    {
     "data": {
      "text/html": [
       "<div>\n",
       "<style scoped>\n",
       "    .dataframe tbody tr th:only-of-type {\n",
       "        vertical-align: middle;\n",
       "    }\n",
       "\n",
       "    .dataframe tbody tr th {\n",
       "        vertical-align: top;\n",
       "    }\n",
       "\n",
       "    .dataframe thead th {\n",
       "        text-align: right;\n",
       "    }\n",
       "</style>\n",
       "<table border=\"1\" class=\"dataframe\">\n",
       "  <thead>\n",
       "    <tr style=\"text-align: right;\">\n",
       "      <th></th>\n",
       "      <th>index</th>\n",
       "      <th>topic_idx</th>\n",
       "    </tr>\n",
       "  </thead>\n",
       "  <tbody>\n",
       "    <tr>\n",
       "      <th>0</th>\n",
       "      <td>45654</td>\n",
       "      <td>3</td>\n",
       "    </tr>\n",
       "    <tr>\n",
       "      <th>1</th>\n",
       "      <td>45655</td>\n",
       "      <td>3</td>\n",
       "    </tr>\n",
       "    <tr>\n",
       "      <th>2</th>\n",
       "      <td>45656</td>\n",
       "      <td>4</td>\n",
       "    </tr>\n",
       "    <tr>\n",
       "      <th>3</th>\n",
       "      <td>45657</td>\n",
       "      <td>2</td>\n",
       "    </tr>\n",
       "    <tr>\n",
       "      <th>4</th>\n",
       "      <td>45658</td>\n",
       "      <td>3</td>\n",
       "    </tr>\n",
       "    <tr>\n",
       "      <th>...</th>\n",
       "      <td>...</td>\n",
       "      <td>...</td>\n",
       "    </tr>\n",
       "    <tr>\n",
       "      <th>9126</th>\n",
       "      <td>54780</td>\n",
       "      <td>2</td>\n",
       "    </tr>\n",
       "    <tr>\n",
       "      <th>9127</th>\n",
       "      <td>54781</td>\n",
       "      <td>6</td>\n",
       "    </tr>\n",
       "    <tr>\n",
       "      <th>9128</th>\n",
       "      <td>54782</td>\n",
       "      <td>2</td>\n",
       "    </tr>\n",
       "    <tr>\n",
       "      <th>9129</th>\n",
       "      <td>54783</td>\n",
       "      <td>2</td>\n",
       "    </tr>\n",
       "    <tr>\n",
       "      <th>9130</th>\n",
       "      <td>54784</td>\n",
       "      <td>2</td>\n",
       "    </tr>\n",
       "  </tbody>\n",
       "</table>\n",
       "<p>9131 rows × 2 columns</p>\n",
       "</div>"
      ],
      "text/plain": [
       "      index  topic_idx\n",
       "0     45654          3\n",
       "1     45655          3\n",
       "2     45656          4\n",
       "3     45657          2\n",
       "4     45658          3\n",
       "...     ...        ...\n",
       "9126  54780          2\n",
       "9127  54781          6\n",
       "9128  54782          2\n",
       "9129  54783          2\n",
       "9130  54784          2\n",
       "\n",
       "[9131 rows x 2 columns]"
      ]
     },
     "execution_count": 50,
     "metadata": {},
     "output_type": "execute_result"
    }
   ],
   "source": [
    "# 잘 저장이 되었는지 확인합니다.\n",
    "pd.read_csv(file_name)"
   ]
  },
  {
   "cell_type": "markdown",
   "metadata": {},
   "source": [
    "* dacon에 제출해서 리더보드 확인하기 : https://dacon.io/competitions/official/235747/mysubmission\n",
    "\n",
    "\n",
    "## 여러 방법을 통해 예측비율을 높여보세요. \n",
    "* 아래 항목 외의 기법을 사용해도 됩니다.\n",
    " * 전처리 하기\n",
    " * 불용어 처리\n",
    " * BOW, TF-IDF의 파라메터 변경\n",
    " * 분류기의 파라메터 변경\n",
    " * 분류기 변경"
   ]
  },
  {
   "cell_type": "markdown",
   "metadata": {},
   "source": [
    "## 임베딩 프로젝터 사용하기\n",
    "* 임베딩 프로젝터 : [링크](https://projector.tensorflow.org/?hl=ko&_gl=1*qcvijm*_ga*ODk4NzAxOTgzLjE3MDExNjQyNzM.*_ga_W0YLR4190T*MTcwMTgzNzYzMy42LjEuMTcwMTgzODU2Mi4wLjAuMA..)"
   ]
  },
  {
   "cell_type": "code",
   "execution_count": 51,
   "metadata": {},
   "outputs": [
    {
     "name": "stdout",
     "output_type": "stream",
     "text": [
      "Model: \"sequential\"\n",
      "_________________________________________________________________\n",
      " Layer (type)                Output Shape              Param #   \n",
      "=================================================================\n",
      " embedding (Embedding)       (None, 10, 64)            640000    \n",
      "                                                                 \n",
      " global_average_pooling1d (  (None, 64)                0         \n",
      " GlobalAveragePooling1D)                                         \n",
      "                                                                 \n",
      " dense (Dense)               (None, 32)                2080      \n",
      "                                                                 \n",
      " dense_1 (Dense)             (None, 32)                1056      \n",
      "                                                                 \n",
      " dropout (Dropout)           (None, 32)                0         \n",
      "                                                                 \n",
      " dense_2 (Dense)             (None, 7)                 231       \n",
      "                                                                 \n",
      "=================================================================\n",
      "Total params: 643367 (2.45 MB)\n",
      "Trainable params: 643367 (2.45 MB)\n",
      "Non-trainable params: 0 (0.00 Byte)\n",
      "_________________________________________________________________\n"
     ]
    }
   ],
   "source": [
    "model.summary()"
   ]
  },
  {
   "cell_type": "code",
   "execution_count": 52,
   "metadata": {},
   "outputs": [
    {
     "data": {
      "text/plain": [
       "['', '[UNK]', '첫', '등', '게시판']"
      ]
     },
     "execution_count": 52,
     "metadata": {},
     "output_type": "execute_result"
    }
   ],
   "source": [
    "# No such layer: embedding. Existing layers are: ['embedding_2', 등의 메시지가 나온다면\n",
    "# 컴파일을 여러번 해서 그렇습니다. embedding_2 등으로 변경해 주거나 해당 주피터 노트북의 커널 메뉴에서 재시작을 해주시면 됩니다.\n",
    "# weights\n",
    "# vocab\n",
    "weights = model.get_layer(\"embedding\").get_weights()[0]\n",
    "vocab[:5]"
   ]
  },
  {
   "cell_type": "code",
   "execution_count": 53,
   "metadata": {},
   "outputs": [
    {
     "data": {
      "text/html": [
       "<div>\n",
       "<style scoped>\n",
       "    .dataframe tbody tr th:only-of-type {\n",
       "        vertical-align: middle;\n",
       "    }\n",
       "\n",
       "    .dataframe tbody tr th {\n",
       "        vertical-align: top;\n",
       "    }\n",
       "\n",
       "    .dataframe thead th {\n",
       "        text-align: right;\n",
       "    }\n",
       "</style>\n",
       "<table border=\"1\" class=\"dataframe\">\n",
       "  <thead>\n",
       "    <tr style=\"text-align: right;\">\n",
       "      <th></th>\n",
       "      <th>[UNK]</th>\n",
       "    </tr>\n",
       "  </thead>\n",
       "  <tbody>\n",
       "    <tr>\n",
       "      <th>0</th>\n",
       "      <td>첫</td>\n",
       "    </tr>\n",
       "    <tr>\n",
       "      <th>1</th>\n",
       "      <td>등</td>\n",
       "    </tr>\n",
       "    <tr>\n",
       "      <th>2</th>\n",
       "      <td>게시판</td>\n",
       "    </tr>\n",
       "    <tr>\n",
       "      <th>3</th>\n",
       "      <td>北</td>\n",
       "    </tr>\n",
       "    <tr>\n",
       "      <th>4</th>\n",
       "      <td>신간</td>\n",
       "    </tr>\n",
       "    <tr>\n",
       "      <th>...</th>\n",
       "      <td>...</td>\n",
       "    </tr>\n",
       "    <tr>\n",
       "      <th>9993</th>\n",
       "      <td>유전</td>\n",
       "    </tr>\n",
       "    <tr>\n",
       "      <th>9994</th>\n",
       "      <td>유적지서</td>\n",
       "    </tr>\n",
       "    <tr>\n",
       "      <th>9995</th>\n",
       "      <td>유재학</td>\n",
       "    </tr>\n",
       "    <tr>\n",
       "      <th>9996</th>\n",
       "      <td>유작</td>\n",
       "    </tr>\n",
       "    <tr>\n",
       "      <th>9997</th>\n",
       "      <td>유임</td>\n",
       "    </tr>\n",
       "  </tbody>\n",
       "</table>\n",
       "<p>9998 rows × 1 columns</p>\n",
       "</div>"
      ],
      "text/plain": [
       "     [UNK]\n",
       "0        첫\n",
       "1        등\n",
       "2      게시판\n",
       "3        北\n",
       "4       신간\n",
       "...    ...\n",
       "9993    유전\n",
       "9994  유적지서\n",
       "9995   유재학\n",
       "9996    유작\n",
       "9997    유임\n",
       "\n",
       "[9998 rows x 1 columns]"
      ]
     },
     "execution_count": 53,
     "metadata": {},
     "output_type": "execute_result"
    }
   ],
   "source": [
    "# 가장 첫 데이터는 패딩으로 이후 데이터 부터 사용\n",
    "# 파일로 저장 : \"metadata.tsv\",  sep=\"\\t\", index=False, header=False\n",
    "df_vocab = pd.DataFrame(vocab[1:])\n",
    "df_vocab.to_csv(\"metadata.tsv\", sep=\"\\t\", index=False, header=False)\n",
    "pd.read_csv(\"metadata.tsv\", sep=\"\\t\")"
   ]
  },
  {
   "cell_type": "code",
   "execution_count": 54,
   "metadata": {},
   "outputs": [
    {
     "data": {
      "text/plain": [
       "10000"
      ]
     },
     "execution_count": 54,
     "metadata": {},
     "output_type": "execute_result"
    }
   ],
   "source": [
    "len(vocab)"
   ]
  },
  {
   "cell_type": "code",
   "execution_count": 55,
   "metadata": {},
   "outputs": [
    {
     "data": {
      "text/html": [
       "<div>\n",
       "<style scoped>\n",
       "    .dataframe tbody tr th:only-of-type {\n",
       "        vertical-align: middle;\n",
       "    }\n",
       "\n",
       "    .dataframe tbody tr th {\n",
       "        vertical-align: top;\n",
       "    }\n",
       "\n",
       "    .dataframe thead th {\n",
       "        text-align: right;\n",
       "    }\n",
       "</style>\n",
       "<table border=\"1\" class=\"dataframe\">\n",
       "  <thead>\n",
       "    <tr style=\"text-align: right;\">\n",
       "      <th></th>\n",
       "      <th>-0.0030594869</th>\n",
       "      <th>-0.021908686</th>\n",
       "      <th>-0.006332541</th>\n",
       "      <th>-0.029790018</th>\n",
       "      <th>-0.014056583</th>\n",
       "      <th>0.019522417</th>\n",
       "      <th>-0.021364052</th>\n",
       "      <th>-0.026322097</th>\n",
       "      <th>0.013077043</th>\n",
       "      <th>0.048947953</th>\n",
       "      <th>...</th>\n",
       "      <th>-0.018743865</th>\n",
       "      <th>0.005321037</th>\n",
       "      <th>-0.0032379369</th>\n",
       "      <th>0.034092676</th>\n",
       "      <th>-0.02595583</th>\n",
       "      <th>0.037519284</th>\n",
       "      <th>0.033254053</th>\n",
       "      <th>0.043791447</th>\n",
       "      <th>-0.04261065</th>\n",
       "      <th>-0.05009249</th>\n",
       "    </tr>\n",
       "  </thead>\n",
       "  <tbody>\n",
       "    <tr>\n",
       "      <th>0</th>\n",
       "      <td>-0.060886</td>\n",
       "      <td>0.053186</td>\n",
       "      <td>0.035159</td>\n",
       "      <td>0.077219</td>\n",
       "      <td>0.027470</td>\n",
       "      <td>0.031742</td>\n",
       "      <td>-0.026134</td>\n",
       "      <td>0.059799</td>\n",
       "      <td>0.015636</td>\n",
       "      <td>-0.040177</td>\n",
       "      <td>...</td>\n",
       "      <td>0.027378</td>\n",
       "      <td>-0.015751</td>\n",
       "      <td>0.023973</td>\n",
       "      <td>0.014351</td>\n",
       "      <td>-0.005376</td>\n",
       "      <td>0.013189</td>\n",
       "      <td>-0.036368</td>\n",
       "      <td>0.001482</td>\n",
       "      <td>0.004892</td>\n",
       "      <td>-0.009380</td>\n",
       "    </tr>\n",
       "    <tr>\n",
       "      <th>1</th>\n",
       "      <td>0.049075</td>\n",
       "      <td>-0.078737</td>\n",
       "      <td>0.055392</td>\n",
       "      <td>-0.072645</td>\n",
       "      <td>-0.012353</td>\n",
       "      <td>-0.043689</td>\n",
       "      <td>0.035538</td>\n",
       "      <td>-0.064473</td>\n",
       "      <td>-0.002086</td>\n",
       "      <td>-0.001162</td>\n",
       "      <td>...</td>\n",
       "      <td>0.030059</td>\n",
       "      <td>0.001205</td>\n",
       "      <td>-0.053094</td>\n",
       "      <td>-0.031094</td>\n",
       "      <td>-0.007185</td>\n",
       "      <td>0.015966</td>\n",
       "      <td>0.042741</td>\n",
       "      <td>0.005806</td>\n",
       "      <td>0.036571</td>\n",
       "      <td>0.000183</td>\n",
       "    </tr>\n",
       "    <tr>\n",
       "      <th>2</th>\n",
       "      <td>0.068160</td>\n",
       "      <td>-0.199542</td>\n",
       "      <td>0.083718</td>\n",
       "      <td>0.011103</td>\n",
       "      <td>0.013463</td>\n",
       "      <td>-0.019877</td>\n",
       "      <td>0.037557</td>\n",
       "      <td>-0.131591</td>\n",
       "      <td>-0.149101</td>\n",
       "      <td>0.055411</td>\n",
       "      <td>...</td>\n",
       "      <td>0.004914</td>\n",
       "      <td>-0.009223</td>\n",
       "      <td>-0.192491</td>\n",
       "      <td>0.046734</td>\n",
       "      <td>0.059570</td>\n",
       "      <td>0.116772</td>\n",
       "      <td>-0.008699</td>\n",
       "      <td>0.037783</td>\n",
       "      <td>0.033965</td>\n",
       "      <td>0.007545</td>\n",
       "    </tr>\n",
       "    <tr>\n",
       "      <th>3</th>\n",
       "      <td>0.151854</td>\n",
       "      <td>0.343776</td>\n",
       "      <td>-0.010329</td>\n",
       "      <td>-0.062634</td>\n",
       "      <td>-0.048207</td>\n",
       "      <td>-0.084357</td>\n",
       "      <td>-0.025355</td>\n",
       "      <td>0.041701</td>\n",
       "      <td>0.123331</td>\n",
       "      <td>-0.140135</td>\n",
       "      <td>...</td>\n",
       "      <td>0.078058</td>\n",
       "      <td>-0.004534</td>\n",
       "      <td>-0.032620</td>\n",
       "      <td>0.038696</td>\n",
       "      <td>-0.025949</td>\n",
       "      <td>0.007402</td>\n",
       "      <td>0.058728</td>\n",
       "      <td>0.056710</td>\n",
       "      <td>0.010464</td>\n",
       "      <td>-0.045831</td>\n",
       "    </tr>\n",
       "    <tr>\n",
       "      <th>4</th>\n",
       "      <td>0.204413</td>\n",
       "      <td>-0.069902</td>\n",
       "      <td>-0.131237</td>\n",
       "      <td>0.322309</td>\n",
       "      <td>-0.227344</td>\n",
       "      <td>-0.141936</td>\n",
       "      <td>-0.141966</td>\n",
       "      <td>0.198913</td>\n",
       "      <td>-0.284505</td>\n",
       "      <td>0.208275</td>\n",
       "      <td>...</td>\n",
       "      <td>-0.121993</td>\n",
       "      <td>0.225130</td>\n",
       "      <td>-0.165683</td>\n",
       "      <td>0.198171</td>\n",
       "      <td>0.236321</td>\n",
       "      <td>0.220491</td>\n",
       "      <td>-0.291206</td>\n",
       "      <td>0.062596</td>\n",
       "      <td>-0.038694</td>\n",
       "      <td>-0.291128</td>\n",
       "    </tr>\n",
       "    <tr>\n",
       "      <th>...</th>\n",
       "      <td>...</td>\n",
       "      <td>...</td>\n",
       "      <td>...</td>\n",
       "      <td>...</td>\n",
       "      <td>...</td>\n",
       "      <td>...</td>\n",
       "      <td>...</td>\n",
       "      <td>...</td>\n",
       "      <td>...</td>\n",
       "      <td>...</td>\n",
       "      <td>...</td>\n",
       "      <td>...</td>\n",
       "      <td>...</td>\n",
       "      <td>...</td>\n",
       "      <td>...</td>\n",
       "      <td>...</td>\n",
       "      <td>...</td>\n",
       "      <td>...</td>\n",
       "      <td>...</td>\n",
       "      <td>...</td>\n",
       "      <td>...</td>\n",
       "    </tr>\n",
       "    <tr>\n",
       "      <th>9993</th>\n",
       "      <td>-0.023548</td>\n",
       "      <td>0.081437</td>\n",
       "      <td>-0.025308</td>\n",
       "      <td>0.012666</td>\n",
       "      <td>-0.058985</td>\n",
       "      <td>0.084137</td>\n",
       "      <td>0.063588</td>\n",
       "      <td>0.032992</td>\n",
       "      <td>-0.051704</td>\n",
       "      <td>0.077810</td>\n",
       "      <td>...</td>\n",
       "      <td>-0.083701</td>\n",
       "      <td>-0.080253</td>\n",
       "      <td>0.073999</td>\n",
       "      <td>-0.023165</td>\n",
       "      <td>-0.090743</td>\n",
       "      <td>-0.069637</td>\n",
       "      <td>-0.056774</td>\n",
       "      <td>-0.004359</td>\n",
       "      <td>-0.051964</td>\n",
       "      <td>0.065627</td>\n",
       "    </tr>\n",
       "    <tr>\n",
       "      <th>9994</th>\n",
       "      <td>0.016062</td>\n",
       "      <td>0.036560</td>\n",
       "      <td>-0.027451</td>\n",
       "      <td>0.073912</td>\n",
       "      <td>-0.031690</td>\n",
       "      <td>-0.001107</td>\n",
       "      <td>0.032623</td>\n",
       "      <td>0.095315</td>\n",
       "      <td>-0.033196</td>\n",
       "      <td>0.000488</td>\n",
       "      <td>...</td>\n",
       "      <td>-0.056540</td>\n",
       "      <td>0.002616</td>\n",
       "      <td>0.030366</td>\n",
       "      <td>0.002743</td>\n",
       "      <td>-0.015085</td>\n",
       "      <td>0.027882</td>\n",
       "      <td>-0.053672</td>\n",
       "      <td>0.048045</td>\n",
       "      <td>-0.047991</td>\n",
       "      <td>-0.052953</td>\n",
       "    </tr>\n",
       "    <tr>\n",
       "      <th>9995</th>\n",
       "      <td>-0.054924</td>\n",
       "      <td>0.061067</td>\n",
       "      <td>0.041327</td>\n",
       "      <td>-0.030925</td>\n",
       "      <td>0.042627</td>\n",
       "      <td>-0.014704</td>\n",
       "      <td>-0.063469</td>\n",
       "      <td>-0.049250</td>\n",
       "      <td>0.033490</td>\n",
       "      <td>0.009027</td>\n",
       "      <td>...</td>\n",
       "      <td>0.064704</td>\n",
       "      <td>-0.038800</td>\n",
       "      <td>0.003669</td>\n",
       "      <td>0.006371</td>\n",
       "      <td>-0.071749</td>\n",
       "      <td>-0.074866</td>\n",
       "      <td>-0.013044</td>\n",
       "      <td>-0.060729</td>\n",
       "      <td>-0.005727</td>\n",
       "      <td>0.058483</td>\n",
       "    </tr>\n",
       "    <tr>\n",
       "      <th>9996</th>\n",
       "      <td>0.067798</td>\n",
       "      <td>-0.015144</td>\n",
       "      <td>-0.040362</td>\n",
       "      <td>0.086182</td>\n",
       "      <td>-0.003003</td>\n",
       "      <td>-0.031985</td>\n",
       "      <td>-0.010200</td>\n",
       "      <td>0.046585</td>\n",
       "      <td>-0.044793</td>\n",
       "      <td>0.004949</td>\n",
       "      <td>...</td>\n",
       "      <td>-0.018300</td>\n",
       "      <td>0.011548</td>\n",
       "      <td>-0.002817</td>\n",
       "      <td>0.040713</td>\n",
       "      <td>0.000576</td>\n",
       "      <td>0.057323</td>\n",
       "      <td>-0.012639</td>\n",
       "      <td>-0.001651</td>\n",
       "      <td>-0.028798</td>\n",
       "      <td>-0.048197</td>\n",
       "    </tr>\n",
       "    <tr>\n",
       "      <th>9997</th>\n",
       "      <td>0.054596</td>\n",
       "      <td>0.007665</td>\n",
       "      <td>0.053243</td>\n",
       "      <td>-0.000057</td>\n",
       "      <td>-0.026011</td>\n",
       "      <td>-0.002167</td>\n",
       "      <td>-0.011178</td>\n",
       "      <td>0.006316</td>\n",
       "      <td>0.047354</td>\n",
       "      <td>-0.024342</td>\n",
       "      <td>...</td>\n",
       "      <td>-0.018951</td>\n",
       "      <td>0.020266</td>\n",
       "      <td>-0.064025</td>\n",
       "      <td>0.047593</td>\n",
       "      <td>0.010288</td>\n",
       "      <td>0.027306</td>\n",
       "      <td>0.065600</td>\n",
       "      <td>-0.048982</td>\n",
       "      <td>0.000822</td>\n",
       "      <td>-0.002681</td>\n",
       "    </tr>\n",
       "  </tbody>\n",
       "</table>\n",
       "<p>9998 rows × 64 columns</p>\n",
       "</div>"
      ],
      "text/plain": [
       "      -0.0030594869  -0.021908686  -0.006332541  -0.029790018  -0.014056583  \\\n",
       "0         -0.060886      0.053186      0.035159      0.077219      0.027470   \n",
       "1          0.049075     -0.078737      0.055392     -0.072645     -0.012353   \n",
       "2          0.068160     -0.199542      0.083718      0.011103      0.013463   \n",
       "3          0.151854      0.343776     -0.010329     -0.062634     -0.048207   \n",
       "4          0.204413     -0.069902     -0.131237      0.322309     -0.227344   \n",
       "...             ...           ...           ...           ...           ...   \n",
       "9993      -0.023548      0.081437     -0.025308      0.012666     -0.058985   \n",
       "9994       0.016062      0.036560     -0.027451      0.073912     -0.031690   \n",
       "9995      -0.054924      0.061067      0.041327     -0.030925      0.042627   \n",
       "9996       0.067798     -0.015144     -0.040362      0.086182     -0.003003   \n",
       "9997       0.054596      0.007665      0.053243     -0.000057     -0.026011   \n",
       "\n",
       "      0.019522417  -0.021364052  -0.026322097  0.013077043  0.048947953  ...  \\\n",
       "0        0.031742     -0.026134      0.059799     0.015636    -0.040177  ...   \n",
       "1       -0.043689      0.035538     -0.064473    -0.002086    -0.001162  ...   \n",
       "2       -0.019877      0.037557     -0.131591    -0.149101     0.055411  ...   \n",
       "3       -0.084357     -0.025355      0.041701     0.123331    -0.140135  ...   \n",
       "4       -0.141936     -0.141966      0.198913    -0.284505     0.208275  ...   \n",
       "...           ...           ...           ...          ...          ...  ...   \n",
       "9993     0.084137      0.063588      0.032992    -0.051704     0.077810  ...   \n",
       "9994    -0.001107      0.032623      0.095315    -0.033196     0.000488  ...   \n",
       "9995    -0.014704     -0.063469     -0.049250     0.033490     0.009027  ...   \n",
       "9996    -0.031985     -0.010200      0.046585    -0.044793     0.004949  ...   \n",
       "9997    -0.002167     -0.011178      0.006316     0.047354    -0.024342  ...   \n",
       "\n",
       "      -0.018743865  0.005321037  -0.0032379369  0.034092676  -0.02595583  \\\n",
       "0         0.027378    -0.015751       0.023973     0.014351    -0.005376   \n",
       "1         0.030059     0.001205      -0.053094    -0.031094    -0.007185   \n",
       "2         0.004914    -0.009223      -0.192491     0.046734     0.059570   \n",
       "3         0.078058    -0.004534      -0.032620     0.038696    -0.025949   \n",
       "4        -0.121993     0.225130      -0.165683     0.198171     0.236321   \n",
       "...            ...          ...            ...          ...          ...   \n",
       "9993     -0.083701    -0.080253       0.073999    -0.023165    -0.090743   \n",
       "9994     -0.056540     0.002616       0.030366     0.002743    -0.015085   \n",
       "9995      0.064704    -0.038800       0.003669     0.006371    -0.071749   \n",
       "9996     -0.018300     0.011548      -0.002817     0.040713     0.000576   \n",
       "9997     -0.018951     0.020266      -0.064025     0.047593     0.010288   \n",
       "\n",
       "      0.037519284  0.033254053  0.043791447  -0.04261065  -0.05009249  \n",
       "0        0.013189    -0.036368     0.001482     0.004892    -0.009380  \n",
       "1        0.015966     0.042741     0.005806     0.036571     0.000183  \n",
       "2        0.116772    -0.008699     0.037783     0.033965     0.007545  \n",
       "3        0.007402     0.058728     0.056710     0.010464    -0.045831  \n",
       "4        0.220491    -0.291206     0.062596    -0.038694    -0.291128  \n",
       "...           ...          ...          ...          ...          ...  \n",
       "9993    -0.069637    -0.056774    -0.004359    -0.051964     0.065627  \n",
       "9994     0.027882    -0.053672     0.048045    -0.047991    -0.052953  \n",
       "9995    -0.074866    -0.013044    -0.060729    -0.005727     0.058483  \n",
       "9996     0.057323    -0.012639    -0.001651    -0.028798    -0.048197  \n",
       "9997     0.027306     0.065600    -0.048982     0.000822    -0.002681  \n",
       "\n",
       "[9998 rows x 64 columns]"
      ]
     },
     "execution_count": 55,
     "metadata": {},
     "output_type": "execute_result"
    }
   ],
   "source": [
    "# \"vectors.tsv\"\n",
    "# index=False, header=False 로 저장\n",
    "df_w = pd.DataFrame(weights[1:len(vocab)])\n",
    "df_w.to_csv(\"vectors.tsv\", sep=\"\\t\", index=False, header=False)\n",
    "pd.read_csv(\"vectors.tsv\", sep=\"\\t\")"
   ]
  },
  {
   "cell_type": "markdown",
   "metadata": {},
   "source": [
    "* 임베딩 프로젝터 : [링크](https://projector.tensorflow.org/?hl=ko&_gl=1*qcvijm*_ga*ODk4NzAxOTgzLjE3MDExNjQyNzM.*_ga_W0YLR4190T*MTcwMTgzNzYzMy42LjEuMTcwMTgzODU2Mi4wLjAuMA..)"
   ]
  },
  {
   "cell_type": "code",
   "execution_count": 56,
   "metadata": {},
   "outputs": [],
   "source": [
    "# colab 사용시 파일 다운로드\n",
    "# try:\n",
    "#     from google.colab import files\n",
    "#     files.download('vectors.tsv')\n",
    "#     files.download('metadata.tsv')\n",
    "# except Exception:\n",
    "#     pass"
   ]
  },
  {
   "cell_type": "code",
   "execution_count": null,
   "metadata": {},
   "outputs": [],
   "source": []
  },
  {
   "cell_type": "code",
   "execution_count": null,
   "metadata": {},
   "outputs": [],
   "source": []
  }
 ],
 "metadata": {
  "colab": {
   "collapsed_sections": [],
   "name": "6. baseline-rnn.ipynb",
   "provenance": []
  },
  "kernelspec": {
   "display_name": "Python 3 (ipykernel)",
   "language": "python",
   "name": "python3"
  },
  "language_info": {
   "codemirror_mode": {
    "name": "ipython",
    "version": 3
   },
   "file_extension": ".py",
   "mimetype": "text/x-python",
   "name": "python",
   "nbconvert_exporter": "python",
   "pygments_lexer": "ipython3",
   "version": "3.11.4"
  },
  "toc": {
   "base_numbering": 1,
   "nav_menu": {},
   "number_sections": false,
   "sideBar": true,
   "skip_h1_title": false,
   "title_cell": "Table of Contents",
   "title_sidebar": "Contents",
   "toc_cell": false,
   "toc_position": {
    "height": "calc(100% - 180px)",
    "left": "10px",
    "top": "150px",
    "width": "256px"
   },
   "toc_section_display": false,
   "toc_window_display": false
  },
  "varInspector": {
   "cols": {
    "lenName": 16,
    "lenType": 16,
    "lenVar": 40
   },
   "kernels_config": {
    "python": {
     "delete_cmd_postfix": "",
     "delete_cmd_prefix": "del ",
     "library": "var_list.py",
     "varRefreshCmd": "print(var_dic_list())"
    },
    "r": {
     "delete_cmd_postfix": ") ",
     "delete_cmd_prefix": "rm(",
     "library": "var_list.r",
     "varRefreshCmd": "cat(var_dic_list()) "
    }
   },
   "types_to_exclude": [
    "module",
    "function",
    "builtin_function_or_method",
    "instance",
    "_Feature"
   ],
   "window_display": false
  }
 },
 "nbformat": 4,
 "nbformat_minor": 1
}
