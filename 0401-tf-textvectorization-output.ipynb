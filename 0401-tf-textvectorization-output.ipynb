{
 "cells": [
  {
   "cell_type": "code",
   "execution_count": 1,
   "id": "928c58d1",
   "metadata": {},
   "outputs": [],
   "source": [
    "# !pip install tensorflow\n",
    "# !pip install tensorboard"
   ]
  },
  {
   "cell_type": "markdown",
   "id": "ea0353b1",
   "metadata": {},
   "source": [
    "## Word Embeddings\n",
    "\n",
    "* https://www.tensorflow.org/text/guide/word_embeddings?hl=ko\n",
    "\n",
    "* 임베딩 프로젝터 : [링크](https://projector.tensorflow.org/?hl=ko&_gl=1*qcvijm*_ga*ODk4NzAxOTgzLjE3MDExNjQyNzM.*_ga_W0YLR4190T*MTcwMTgzNzYzMy42LjEuMTcwMTgzODU2Mi4wLjAuMA..)\n",
    "\n",
    "[tensorflow/text: Making text a first-class citizen in TensorFlow.](https://github.com/tensorflow/text/tree/master)"
   ]
  },
  {
   "cell_type": "code",
   "execution_count": 2,
   "id": "bfa5e9aa",
   "metadata": {},
   "outputs": [],
   "source": [
    "import os\n",
    "import re\n",
    "import pandas as pd\n",
    "import numpy as np\n",
    "import seaborn as sns\n",
    "import matplotlib.pyplot as plt\n",
    "import koreanize_matplotlib"
   ]
  },
  {
   "cell_type": "markdown",
   "id": "1384120c",
   "metadata": {},
   "source": [
    "## 예시 코퍼스"
   ]
  },
  {
   "cell_type": "code",
   "execution_count": 3,
   "id": "500d69fd",
   "metadata": {},
   "outputs": [
    {
     "data": {
      "text/plain": [
       "[1, 0, 1, 0, 1, 0, 0, 0, 1, 1, 1, 0, 0, 1, 0, 0, 1, 0, 0, 0, 0, 0, 1]"
      ]
     },
     "execution_count": 3,
     "metadata": {},
     "output_type": "execute_result"
    }
   ],
   "source": [
    "# 음식 리뷰 예제 텍스트 데이터\n",
    "corpus = [\n",
    "    \"Salad 맛이 깔끔해서 좋아요.\",\n",
    "    \"주문한 음식이 늦게 와서 배고팠어요.\",\n",
    "    \"Pizza가 맛있어요.\",\n",
    "    \"라면이 너무 짜게 나왔어요.\",\n",
    "    \"배달된 치킨이 맛있어요.\",\n",
    "    \"메뉴 설명보다 양이 적어요.\",\n",
    "    \"주문한 음식이 다른 것으로 와서 다시 주문했어요.\",\n",
    "    \"맛은 좋은데 양이 좀 적은 편이에요.\",\n",
    "    \"떡볶이의 매운맛이 적절해요.\",\n",
    "    \"초밥이 신선해서 좋았어요.\",\n",
    "    \"빵이 부드럽고 맛있네요!\",\n",
    "    \"스테이크가 너무 질겼어요.\",\n",
    "    \"샐러드의 드레싱이 너무 강했어요.\",\n",
    "    \"나초의 치즈소스가 맛있었어요.\",\n",
    "    \"파스타가 약간 덜 익은 것 같아요.\",\n",
    "    \"커피가 너무 진해서 물을 더 추가했어요.\",\n",
    "    \"디저트는 달지 않아서 좋았습니다.\",\n",
    "    \"음료가 너무 달아서 다음엔 당도 조절할게요.\",\n",
    "    \"피자 도우가 너무 두꺼워서 먹기 힘들었어요.\",\n",
    "    \"피자가 맛 없어요.\",\n",
    "    \"햄버거의 빵이 너무 딱딱해요.\",\n",
    "    \"감자튀김이 너무 기름져서 느끼했어요.\",\n",
    "    \"치즈케이크가 아주 부드럽고 맛있어요.\"\n",
    "]\n",
    "labels = [1, 0, 1, 0, 1, 0, 0, 0, 1, 1, 1, 0, 0, 1, 0, 0, 1, 0, 0, 0, 0, 0, 1]\n",
    "labels"
   ]
  },
  {
   "cell_type": "code",
   "execution_count": 4,
   "id": "d35d7729",
   "metadata": {},
   "outputs": [
    {
     "data": {
      "text/html": [
       "<div>\n",
       "<style scoped>\n",
       "    .dataframe tbody tr th:only-of-type {\n",
       "        vertical-align: middle;\n",
       "    }\n",
       "\n",
       "    .dataframe tbody tr th {\n",
       "        vertical-align: top;\n",
       "    }\n",
       "\n",
       "    .dataframe thead th {\n",
       "        text-align: right;\n",
       "    }\n",
       "</style>\n",
       "<table border=\"1\" class=\"dataframe\">\n",
       "  <thead>\n",
       "    <tr style=\"text-align: right;\">\n",
       "      <th></th>\n",
       "      <th>문서</th>\n",
       "      <th>긍정부정</th>\n",
       "    </tr>\n",
       "  </thead>\n",
       "  <tbody>\n",
       "    <tr>\n",
       "      <th>0</th>\n",
       "      <td>Salad 맛이 깔끔해서 좋아요.</td>\n",
       "      <td>1</td>\n",
       "    </tr>\n",
       "    <tr>\n",
       "      <th>1</th>\n",
       "      <td>주문한 음식이 늦게 와서 배고팠어요.</td>\n",
       "      <td>0</td>\n",
       "    </tr>\n",
       "    <tr>\n",
       "      <th>2</th>\n",
       "      <td>Pizza가 맛있어요.</td>\n",
       "      <td>1</td>\n",
       "    </tr>\n",
       "    <tr>\n",
       "      <th>3</th>\n",
       "      <td>라면이 너무 짜게 나왔어요.</td>\n",
       "      <td>0</td>\n",
       "    </tr>\n",
       "    <tr>\n",
       "      <th>4</th>\n",
       "      <td>배달된 치킨이 맛있어요.</td>\n",
       "      <td>1</td>\n",
       "    </tr>\n",
       "    <tr>\n",
       "      <th>5</th>\n",
       "      <td>메뉴 설명보다 양이 적어요.</td>\n",
       "      <td>0</td>\n",
       "    </tr>\n",
       "    <tr>\n",
       "      <th>6</th>\n",
       "      <td>주문한 음식이 다른 것으로 와서 다시 주문했어요.</td>\n",
       "      <td>0</td>\n",
       "    </tr>\n",
       "    <tr>\n",
       "      <th>7</th>\n",
       "      <td>맛은 좋은데 양이 좀 적은 편이에요.</td>\n",
       "      <td>0</td>\n",
       "    </tr>\n",
       "    <tr>\n",
       "      <th>8</th>\n",
       "      <td>떡볶이의 매운맛이 적절해요.</td>\n",
       "      <td>1</td>\n",
       "    </tr>\n",
       "    <tr>\n",
       "      <th>9</th>\n",
       "      <td>초밥이 신선해서 좋았어요.</td>\n",
       "      <td>1</td>\n",
       "    </tr>\n",
       "    <tr>\n",
       "      <th>10</th>\n",
       "      <td>빵이 부드럽고 맛있네요!</td>\n",
       "      <td>1</td>\n",
       "    </tr>\n",
       "    <tr>\n",
       "      <th>11</th>\n",
       "      <td>스테이크가 너무 질겼어요.</td>\n",
       "      <td>0</td>\n",
       "    </tr>\n",
       "    <tr>\n",
       "      <th>12</th>\n",
       "      <td>샐러드의 드레싱이 너무 강했어요.</td>\n",
       "      <td>0</td>\n",
       "    </tr>\n",
       "    <tr>\n",
       "      <th>13</th>\n",
       "      <td>나초의 치즈소스가 맛있었어요.</td>\n",
       "      <td>1</td>\n",
       "    </tr>\n",
       "    <tr>\n",
       "      <th>14</th>\n",
       "      <td>파스타가 약간 덜 익은 것 같아요.</td>\n",
       "      <td>0</td>\n",
       "    </tr>\n",
       "    <tr>\n",
       "      <th>15</th>\n",
       "      <td>커피가 너무 진해서 물을 더 추가했어요.</td>\n",
       "      <td>0</td>\n",
       "    </tr>\n",
       "    <tr>\n",
       "      <th>16</th>\n",
       "      <td>디저트는 달지 않아서 좋았습니다.</td>\n",
       "      <td>1</td>\n",
       "    </tr>\n",
       "    <tr>\n",
       "      <th>17</th>\n",
       "      <td>음료가 너무 달아서 다음엔 당도 조절할게요.</td>\n",
       "      <td>0</td>\n",
       "    </tr>\n",
       "    <tr>\n",
       "      <th>18</th>\n",
       "      <td>피자 도우가 너무 두꺼워서 먹기 힘들었어요.</td>\n",
       "      <td>0</td>\n",
       "    </tr>\n",
       "    <tr>\n",
       "      <th>19</th>\n",
       "      <td>피자가 맛 없어요.</td>\n",
       "      <td>0</td>\n",
       "    </tr>\n",
       "    <tr>\n",
       "      <th>20</th>\n",
       "      <td>햄버거의 빵이 너무 딱딱해요.</td>\n",
       "      <td>0</td>\n",
       "    </tr>\n",
       "    <tr>\n",
       "      <th>21</th>\n",
       "      <td>감자튀김이 너무 기름져서 느끼했어요.</td>\n",
       "      <td>0</td>\n",
       "    </tr>\n",
       "    <tr>\n",
       "      <th>22</th>\n",
       "      <td>치즈케이크가 아주 부드럽고 맛있어요.</td>\n",
       "      <td>1</td>\n",
       "    </tr>\n",
       "  </tbody>\n",
       "</table>\n",
       "</div>"
      ],
      "text/plain": [
       "                             문서  긍정부정\n",
       "0            Salad 맛이 깔끔해서 좋아요.     1\n",
       "1          주문한 음식이 늦게 와서 배고팠어요.     0\n",
       "2                  Pizza가 맛있어요.     1\n",
       "3               라면이 너무 짜게 나왔어요.     0\n",
       "4                 배달된 치킨이 맛있어요.     1\n",
       "5               메뉴 설명보다 양이 적어요.     0\n",
       "6   주문한 음식이 다른 것으로 와서 다시 주문했어요.     0\n",
       "7          맛은 좋은데 양이 좀 적은 편이에요.     0\n",
       "8               떡볶이의 매운맛이 적절해요.     1\n",
       "9                초밥이 신선해서 좋았어요.     1\n",
       "10                빵이 부드럽고 맛있네요!     1\n",
       "11               스테이크가 너무 질겼어요.     0\n",
       "12           샐러드의 드레싱이 너무 강했어요.     0\n",
       "13             나초의 치즈소스가 맛있었어요.     1\n",
       "14          파스타가 약간 덜 익은 것 같아요.     0\n",
       "15       커피가 너무 진해서 물을 더 추가했어요.     0\n",
       "16           디저트는 달지 않아서 좋았습니다.     1\n",
       "17     음료가 너무 달아서 다음엔 당도 조절할게요.     0\n",
       "18     피자 도우가 너무 두꺼워서 먹기 힘들었어요.     0\n",
       "19                   피자가 맛 없어요.     0\n",
       "20             햄버거의 빵이 너무 딱딱해요.     0\n",
       "21         감자튀김이 너무 기름져서 느끼했어요.     0\n",
       "22         치즈케이크가 아주 부드럽고 맛있어요.     1"
      ]
     },
     "execution_count": 4,
     "metadata": {},
     "output_type": "execute_result"
    }
   ],
   "source": [
    "# DataFrame\n",
    "df = pd.DataFrame(corpus, columns=[\"문서\"])\n",
    "df[\"긍정부정\"] = labels\n",
    "df"
   ]
  },
  {
   "cell_type": "markdown",
   "id": "884223a7",
   "metadata": {},
   "source": [
    "## TextVectorization\n",
    "* https://www.tensorflow.org/api_docs/python/tf/keras/layers/TextVectorization"
   ]
  },
  {
   "cell_type": "code",
   "execution_count": 5,
   "id": "2891ea98",
   "metadata": {},
   "outputs": [
    {
     "name": "stderr",
     "output_type": "stream",
     "text": [
      "2023-12-09 22:21:48.673554: I tensorflow/core/platform/cpu_feature_guard.cc:182] This TensorFlow binary is optimized to use available CPU instructions in performance-critical operations.\n",
      "To enable the following instructions: AVX2 AVX512F AVX512_VNNI FMA, in other operations, rebuild TensorFlow with the appropriate compiler flags.\n"
     ]
    }
   ],
   "source": [
    "# tensorflow\n",
    "# TextVectorization, Embedding, GlobalAveragePooling1D\n",
    "import tensorflow as tf\n",
    "from tensorflow.keras.layers import TextVectorization, Embedding, GlobalAvgPool1D"
   ]
  },
  {
   "cell_type": "code",
   "execution_count": 6,
   "id": "1043d27a",
   "metadata": {},
   "outputs": [
    {
     "data": {
      "text/plain": [
       "'!\"#$%&\\'()*+,-./:;<=>?@[\\\\]^_`{|}~'"
      ]
     },
     "execution_count": 6,
     "metadata": {},
     "output_type": "execute_result"
    }
   ],
   "source": [
    "import string\n",
    "string.punctuation"
   ]
  },
  {
   "cell_type": "code",
   "execution_count": 7,
   "id": "bab346a6",
   "metadata": {},
   "outputs": [],
   "source": [
    "# 소문자 변환: 입력된 텍스트를 모두 소문자로 변경합니다.\n",
    "# HTML 태그 제거: HTML 태그(<br />)를 공백으로 대체합니다.\n",
    "# 구두점 제거: 모든 구두점을 제거합니다.\n",
    "\n",
    "def custom_standardization(input_data):\n",
    "    lowercase = tf.strings.lower(input_data)\n",
    "    stripped_html = tf.strings.regex_replace(lowercase, '<br />', ' ')\n",
    "    return tf.strings.regex_replace(stripped_html,\n",
    "                                  '[%s]' % re.escape(string.punctuation), '')"
   ]
  },
  {
   "cell_type": "markdown",
   "id": "4a3db121",
   "metadata": {},
   "source": [
    "* max_tokens: 텍스트에서 고려할 최대 토큰 수를 지정합니다. 가장 빈도가 높은 max_tokens 개의 토큰만 사용됩니다.\n",
    "* standardize: 텍스트를 표준화하는 방법을 선택합니다. 'lower_and_strip_punctuation'로 설정하면 소문자로 변환하고 문장부호를 제거합니다.\n",
    "* split: 텍스트를 토큰화하는 방법을 선택합니다. 'whitespace'로 설정하면 공백을 기준으로 텍스트가 토큰화됩니다.\n",
    "* ngrams: 단일 토큰 이상의 n-그램을 생성하도록 지정합니다. 예를 들어, ngrams=2로 설정하면 바이그램이 생성됩니다.\n",
    "* output_mode: 출력 모드를 지정합니다. 'int'로 설정하면 정수로 변환된 토큰이 출력됩니다.\n",
    "* output_sequence_length: 출력 시퀀스의 길이를 지정합니다. 이 매개변수를 사용하여 모든 시퀀스를 고정된 길이로 패딩하거나 자를 수 있습니다.\n",
    "* pad_to_max_tokens: True로 설정하면 max_tokens으로 시퀀스를 패딩합니다.\n",
    "* vocabulary: 사용할 어휘 사전을 지정합니다. 사전이 제공되면 모델은 이 사전에 있는 토큰만 고려합니다.\n",
    "* sparse: True로 설정하면 희소 텐서를 출력합니다.\n",
    "* ragged: True로 설정하면 불규칙한 길이의 토큰을 나타내는 tf.RaggedTensor를 출력합니다.\n",
    "* encoding: 텍스트의 인코딩을 지정합니다.\n",
    "* kwargs: 기타 설정을 위한 추가적인 키워드 인수를 받습니다."
   ]
  },
  {
   "cell_type": "code",
   "execution_count": 8,
   "id": "a4773bb2",
   "metadata": {},
   "outputs": [
    {
     "data": {
      "text/html": [
       "<div>\n",
       "<style scoped>\n",
       "    .dataframe tbody tr th:only-of-type {\n",
       "        vertical-align: middle;\n",
       "    }\n",
       "\n",
       "    .dataframe tbody tr th {\n",
       "        vertical-align: top;\n",
       "    }\n",
       "\n",
       "    .dataframe thead th {\n",
       "        text-align: right;\n",
       "    }\n",
       "</style>\n",
       "<table border=\"1\" class=\"dataframe\">\n",
       "  <thead>\n",
       "    <tr style=\"text-align: right;\">\n",
       "      <th></th>\n",
       "      <th>문서</th>\n",
       "      <th>긍정부정</th>\n",
       "    </tr>\n",
       "  </thead>\n",
       "  <tbody>\n",
       "    <tr>\n",
       "      <th>0</th>\n",
       "      <td>Salad 맛이 깔끔해서 좋아요.</td>\n",
       "      <td>1</td>\n",
       "    </tr>\n",
       "    <tr>\n",
       "      <th>1</th>\n",
       "      <td>주문한 음식이 늦게 와서 배고팠어요.</td>\n",
       "      <td>0</td>\n",
       "    </tr>\n",
       "    <tr>\n",
       "      <th>2</th>\n",
       "      <td>Pizza가 맛있어요.</td>\n",
       "      <td>1</td>\n",
       "    </tr>\n",
       "    <tr>\n",
       "      <th>3</th>\n",
       "      <td>라면이 너무 짜게 나왔어요.</td>\n",
       "      <td>0</td>\n",
       "    </tr>\n",
       "    <tr>\n",
       "      <th>4</th>\n",
       "      <td>배달된 치킨이 맛있어요.</td>\n",
       "      <td>1</td>\n",
       "    </tr>\n",
       "    <tr>\n",
       "      <th>5</th>\n",
       "      <td>메뉴 설명보다 양이 적어요.</td>\n",
       "      <td>0</td>\n",
       "    </tr>\n",
       "    <tr>\n",
       "      <th>6</th>\n",
       "      <td>주문한 음식이 다른 것으로 와서 다시 주문했어요.</td>\n",
       "      <td>0</td>\n",
       "    </tr>\n",
       "    <tr>\n",
       "      <th>7</th>\n",
       "      <td>맛은 좋은데 양이 좀 적은 편이에요.</td>\n",
       "      <td>0</td>\n",
       "    </tr>\n",
       "    <tr>\n",
       "      <th>8</th>\n",
       "      <td>떡볶이의 매운맛이 적절해요.</td>\n",
       "      <td>1</td>\n",
       "    </tr>\n",
       "    <tr>\n",
       "      <th>9</th>\n",
       "      <td>초밥이 신선해서 좋았어요.</td>\n",
       "      <td>1</td>\n",
       "    </tr>\n",
       "    <tr>\n",
       "      <th>10</th>\n",
       "      <td>빵이 부드럽고 맛있네요!</td>\n",
       "      <td>1</td>\n",
       "    </tr>\n",
       "    <tr>\n",
       "      <th>11</th>\n",
       "      <td>스테이크가 너무 질겼어요.</td>\n",
       "      <td>0</td>\n",
       "    </tr>\n",
       "    <tr>\n",
       "      <th>12</th>\n",
       "      <td>샐러드의 드레싱이 너무 강했어요.</td>\n",
       "      <td>0</td>\n",
       "    </tr>\n",
       "    <tr>\n",
       "      <th>13</th>\n",
       "      <td>나초의 치즈소스가 맛있었어요.</td>\n",
       "      <td>1</td>\n",
       "    </tr>\n",
       "    <tr>\n",
       "      <th>14</th>\n",
       "      <td>파스타가 약간 덜 익은 것 같아요.</td>\n",
       "      <td>0</td>\n",
       "    </tr>\n",
       "    <tr>\n",
       "      <th>15</th>\n",
       "      <td>커피가 너무 진해서 물을 더 추가했어요.</td>\n",
       "      <td>0</td>\n",
       "    </tr>\n",
       "    <tr>\n",
       "      <th>16</th>\n",
       "      <td>디저트는 달지 않아서 좋았습니다.</td>\n",
       "      <td>1</td>\n",
       "    </tr>\n",
       "    <tr>\n",
       "      <th>17</th>\n",
       "      <td>음료가 너무 달아서 다음엔 당도 조절할게요.</td>\n",
       "      <td>0</td>\n",
       "    </tr>\n",
       "    <tr>\n",
       "      <th>18</th>\n",
       "      <td>피자 도우가 너무 두꺼워서 먹기 힘들었어요.</td>\n",
       "      <td>0</td>\n",
       "    </tr>\n",
       "    <tr>\n",
       "      <th>19</th>\n",
       "      <td>피자가 맛 없어요.</td>\n",
       "      <td>0</td>\n",
       "    </tr>\n",
       "    <tr>\n",
       "      <th>20</th>\n",
       "      <td>햄버거의 빵이 너무 딱딱해요.</td>\n",
       "      <td>0</td>\n",
       "    </tr>\n",
       "    <tr>\n",
       "      <th>21</th>\n",
       "      <td>감자튀김이 너무 기름져서 느끼했어요.</td>\n",
       "      <td>0</td>\n",
       "    </tr>\n",
       "    <tr>\n",
       "      <th>22</th>\n",
       "      <td>치즈케이크가 아주 부드럽고 맛있어요.</td>\n",
       "      <td>1</td>\n",
       "    </tr>\n",
       "  </tbody>\n",
       "</table>\n",
       "</div>"
      ],
      "text/plain": [
       "                             문서  긍정부정\n",
       "0            Salad 맛이 깔끔해서 좋아요.     1\n",
       "1          주문한 음식이 늦게 와서 배고팠어요.     0\n",
       "2                  Pizza가 맛있어요.     1\n",
       "3               라면이 너무 짜게 나왔어요.     0\n",
       "4                 배달된 치킨이 맛있어요.     1\n",
       "5               메뉴 설명보다 양이 적어요.     0\n",
       "6   주문한 음식이 다른 것으로 와서 다시 주문했어요.     0\n",
       "7          맛은 좋은데 양이 좀 적은 편이에요.     0\n",
       "8               떡볶이의 매운맛이 적절해요.     1\n",
       "9                초밥이 신선해서 좋았어요.     1\n",
       "10                빵이 부드럽고 맛있네요!     1\n",
       "11               스테이크가 너무 질겼어요.     0\n",
       "12           샐러드의 드레싱이 너무 강했어요.     0\n",
       "13             나초의 치즈소스가 맛있었어요.     1\n",
       "14          파스타가 약간 덜 익은 것 같아요.     0\n",
       "15       커피가 너무 진해서 물을 더 추가했어요.     0\n",
       "16           디저트는 달지 않아서 좋았습니다.     1\n",
       "17     음료가 너무 달아서 다음엔 당도 조절할게요.     0\n",
       "18     피자 도우가 너무 두꺼워서 먹기 힘들었어요.     0\n",
       "19                   피자가 맛 없어요.     0\n",
       "20             햄버거의 빵이 너무 딱딱해요.     0\n",
       "21         감자튀김이 너무 기름져서 느끼했어요.     0\n",
       "22         치즈케이크가 아주 부드럽고 맛있어요.     1"
      ]
     },
     "execution_count": 8,
     "metadata": {},
     "output_type": "execute_result"
    }
   ],
   "source": [
    "df"
   ]
  },
  {
   "cell_type": "code",
   "execution_count": 9,
   "id": "9cf09ad0",
   "metadata": {},
   "outputs": [],
   "source": [
    "# TextVectorization 레이어 설정\n",
    "# standardize, max_tokens, output_mode\n",
    "VOCAB_SIZE = 100\n",
    "MAX_SEQUENCE_LENGTH = 10\n",
    "\n",
    "vectorizer = TextVectorization(standardize=custom_standardization, \n",
    "                              max_tokens=VOCAB_SIZE, \n",
    "                              output_sequence_length=MAX_SEQUENCE_LENGTH)\n",
    "vectorizer.adapt(corpus)"
   ]
  },
  {
   "cell_type": "code",
   "execution_count": 10,
   "id": "460b9397",
   "metadata": {},
   "outputs": [
    {
     "data": {
      "text/plain": [
       "['', '[UNK]', '너무', '맛있어요', '주문한', '음식이', '와서', '양이', '빵이', '부드럽고']"
      ]
     },
     "execution_count": 10,
     "metadata": {},
     "output_type": "execute_result"
    }
   ],
   "source": [
    "vocab = vectorizer.get_vocabulary()[:10]\n",
    "vocab"
   ]
  },
  {
   "cell_type": "code",
   "execution_count": 11,
   "id": "88cc352f",
   "metadata": {},
   "outputs": [
    {
     "data": {
      "text/plain": [
       "['Salad 맛이 깔끔해서 좋아요.',\n",
       " '주문한 음식이 늦게 와서 배고팠어요.',\n",
       " 'Pizza가 맛있어요.',\n",
       " '라면이 너무 짜게 나왔어요.']"
      ]
     },
     "execution_count": 11,
     "metadata": {},
     "output_type": "execute_result"
    }
   ],
   "source": [
    "corpus[:4]"
   ]
  },
  {
   "cell_type": "code",
   "execution_count": 12,
   "id": "b1512160",
   "metadata": {},
   "outputs": [
    {
     "data": {
      "text/plain": [
       "('주문한', '음식이')"
      ]
     },
     "execution_count": 12,
     "metadata": {},
     "output_type": "execute_result"
    }
   ],
   "source": [
    "vocab[4], vocab[5]"
   ]
  },
  {
   "cell_type": "code",
   "execution_count": 13,
   "id": "a50bd867",
   "metadata": {},
   "outputs": [
    {
     "data": {
      "text/html": [
       "<div>\n",
       "<style scoped>\n",
       "    .dataframe tbody tr th:only-of-type {\n",
       "        vertical-align: middle;\n",
       "    }\n",
       "\n",
       "    .dataframe tbody tr th {\n",
       "        vertical-align: top;\n",
       "    }\n",
       "\n",
       "    .dataframe thead th {\n",
       "        text-align: right;\n",
       "    }\n",
       "</style>\n",
       "<table border=\"1\" class=\"dataframe\">\n",
       "  <thead>\n",
       "    <tr style=\"text-align: right;\">\n",
       "      <th></th>\n",
       "      <th>0</th>\n",
       "      <th>1</th>\n",
       "      <th>2</th>\n",
       "      <th>3</th>\n",
       "      <th>4</th>\n",
       "      <th>5</th>\n",
       "      <th>6</th>\n",
       "      <th>7</th>\n",
       "      <th>8</th>\n",
       "      <th>9</th>\n",
       "    </tr>\n",
       "  </thead>\n",
       "  <tbody>\n",
       "    <tr>\n",
       "      <th>0</th>\n",
       "      <td>82</td>\n",
       "      <td>53</td>\n",
       "      <td>75</td>\n",
       "      <td>29</td>\n",
       "      <td>0</td>\n",
       "      <td>0</td>\n",
       "      <td>0</td>\n",
       "      <td>0</td>\n",
       "      <td>0</td>\n",
       "      <td>0</td>\n",
       "    </tr>\n",
       "    <tr>\n",
       "      <th>1</th>\n",
       "      <td>4</td>\n",
       "      <td>5</td>\n",
       "      <td>71</td>\n",
       "      <td>6</td>\n",
       "      <td>46</td>\n",
       "      <td>0</td>\n",
       "      <td>0</td>\n",
       "      <td>0</td>\n",
       "      <td>0</td>\n",
       "      <td>0</td>\n",
       "    </tr>\n",
       "    <tr>\n",
       "      <th>2</th>\n",
       "      <td>83</td>\n",
       "      <td>3</td>\n",
       "      <td>0</td>\n",
       "      <td>0</td>\n",
       "      <td>0</td>\n",
       "      <td>0</td>\n",
       "      <td>0</td>\n",
       "      <td>0</td>\n",
       "      <td>0</td>\n",
       "      <td>0</td>\n",
       "    </tr>\n",
       "    <tr>\n",
       "      <th>3</th>\n",
       "      <td>56</td>\n",
       "      <td>2</td>\n",
       "      <td>22</td>\n",
       "      <td>74</td>\n",
       "      <td>0</td>\n",
       "      <td>0</td>\n",
       "      <td>0</td>\n",
       "      <td>0</td>\n",
       "      <td>0</td>\n",
       "      <td>0</td>\n",
       "    </tr>\n",
       "    <tr>\n",
       "      <th>4</th>\n",
       "      <td>45</td>\n",
       "      <td>17</td>\n",
       "      <td>3</td>\n",
       "      <td>0</td>\n",
       "      <td>0</td>\n",
       "      <td>0</td>\n",
       "      <td>0</td>\n",
       "      <td>0</td>\n",
       "      <td>0</td>\n",
       "      <td>0</td>\n",
       "    </tr>\n",
       "    <tr>\n",
       "      <th>5</th>\n",
       "      <td>48</td>\n",
       "      <td>43</td>\n",
       "      <td>7</td>\n",
       "      <td>34</td>\n",
       "      <td>0</td>\n",
       "      <td>0</td>\n",
       "      <td>0</td>\n",
       "      <td>0</td>\n",
       "      <td>0</td>\n",
       "      <td>0</td>\n",
       "    </tr>\n",
       "    <tr>\n",
       "      <th>6</th>\n",
       "      <td>4</td>\n",
       "      <td>5</td>\n",
       "      <td>70</td>\n",
       "      <td>77</td>\n",
       "      <td>6</td>\n",
       "      <td>69</td>\n",
       "      <td>25</td>\n",
       "      <td>0</td>\n",
       "      <td>0</td>\n",
       "      <td>0</td>\n",
       "    </tr>\n",
       "    <tr>\n",
       "      <th>7</th>\n",
       "      <td>54</td>\n",
       "      <td>26</td>\n",
       "      <td>7</td>\n",
       "      <td>30</td>\n",
       "      <td>33</td>\n",
       "      <td>14</td>\n",
       "      <td>0</td>\n",
       "      <td>0</td>\n",
       "      <td>0</td>\n",
       "      <td>0</td>\n",
       "    </tr>\n",
       "    <tr>\n",
       "      <th>8</th>\n",
       "      <td>57</td>\n",
       "      <td>50</td>\n",
       "      <td>32</td>\n",
       "      <td>0</td>\n",
       "      <td>0</td>\n",
       "      <td>0</td>\n",
       "      <td>0</td>\n",
       "      <td>0</td>\n",
       "      <td>0</td>\n",
       "      <td>0</td>\n",
       "    </tr>\n",
       "    <tr>\n",
       "      <th>9</th>\n",
       "      <td>21</td>\n",
       "      <td>41</td>\n",
       "      <td>27</td>\n",
       "      <td>0</td>\n",
       "      <td>0</td>\n",
       "      <td>0</td>\n",
       "      <td>0</td>\n",
       "      <td>0</td>\n",
       "      <td>0</td>\n",
       "      <td>0</td>\n",
       "    </tr>\n",
       "    <tr>\n",
       "      <th>10</th>\n",
       "      <td>8</td>\n",
       "      <td>9</td>\n",
       "      <td>52</td>\n",
       "      <td>0</td>\n",
       "      <td>0</td>\n",
       "      <td>0</td>\n",
       "      <td>0</td>\n",
       "      <td>0</td>\n",
       "      <td>0</td>\n",
       "      <td>0</td>\n",
       "    </tr>\n",
       "    <tr>\n",
       "      <th>11</th>\n",
       "      <td>42</td>\n",
       "      <td>2</td>\n",
       "      <td>23</td>\n",
       "      <td>0</td>\n",
       "      <td>0</td>\n",
       "      <td>0</td>\n",
       "      <td>0</td>\n",
       "      <td>0</td>\n",
       "      <td>0</td>\n",
       "      <td>0</td>\n",
       "    </tr>\n",
       "    <tr>\n",
       "      <th>12</th>\n",
       "      <td>44</td>\n",
       "      <td>60</td>\n",
       "      <td>2</td>\n",
       "      <td>80</td>\n",
       "      <td>0</td>\n",
       "      <td>0</td>\n",
       "      <td>0</td>\n",
       "      <td>0</td>\n",
       "      <td>0</td>\n",
       "      <td>0</td>\n",
       "    </tr>\n",
       "    <tr>\n",
       "      <th>13</th>\n",
       "      <td>73</td>\n",
       "      <td>19</td>\n",
       "      <td>51</td>\n",
       "      <td>0</td>\n",
       "      <td>0</td>\n",
       "      <td>0</td>\n",
       "      <td>0</td>\n",
       "      <td>0</td>\n",
       "      <td>0</td>\n",
       "      <td>0</td>\n",
       "    </tr>\n",
       "    <tr>\n",
       "      <th>14</th>\n",
       "      <td>15</td>\n",
       "      <td>38</td>\n",
       "      <td>63</td>\n",
       "      <td>35</td>\n",
       "      <td>78</td>\n",
       "      <td>79</td>\n",
       "      <td>0</td>\n",
       "      <td>0</td>\n",
       "      <td>0</td>\n",
       "      <td>0</td>\n",
       "    </tr>\n",
       "    <tr>\n",
       "      <th>15</th>\n",
       "      <td>16</td>\n",
       "      <td>2</td>\n",
       "      <td>24</td>\n",
       "      <td>47</td>\n",
       "      <td>64</td>\n",
       "      <td>20</td>\n",
       "      <td>0</td>\n",
       "      <td>0</td>\n",
       "      <td>0</td>\n",
       "      <td>0</td>\n",
       "    </tr>\n",
       "    <tr>\n",
       "      <th>16</th>\n",
       "      <td>59</td>\n",
       "      <td>66</td>\n",
       "      <td>39</td>\n",
       "      <td>28</td>\n",
       "      <td>0</td>\n",
       "      <td>0</td>\n",
       "      <td>0</td>\n",
       "      <td>0</td>\n",
       "      <td>0</td>\n",
       "      <td>0</td>\n",
       "    </tr>\n",
       "    <tr>\n",
       "      <th>17</th>\n",
       "      <td>36</td>\n",
       "      <td>2</td>\n",
       "      <td>67</td>\n",
       "      <td>68</td>\n",
       "      <td>65</td>\n",
       "      <td>31</td>\n",
       "      <td>0</td>\n",
       "      <td>0</td>\n",
       "      <td>0</td>\n",
       "      <td>0</td>\n",
       "    </tr>\n",
       "    <tr>\n",
       "      <th>18</th>\n",
       "      <td>13</td>\n",
       "      <td>62</td>\n",
       "      <td>2</td>\n",
       "      <td>61</td>\n",
       "      <td>49</td>\n",
       "      <td>10</td>\n",
       "      <td>0</td>\n",
       "      <td>0</td>\n",
       "      <td>0</td>\n",
       "      <td>0</td>\n",
       "    </tr>\n",
       "    <tr>\n",
       "      <th>19</th>\n",
       "      <td>12</td>\n",
       "      <td>55</td>\n",
       "      <td>37</td>\n",
       "      <td>0</td>\n",
       "      <td>0</td>\n",
       "      <td>0</td>\n",
       "      <td>0</td>\n",
       "      <td>0</td>\n",
       "      <td>0</td>\n",
       "      <td>0</td>\n",
       "    </tr>\n",
       "    <tr>\n",
       "      <th>20</th>\n",
       "      <td>11</td>\n",
       "      <td>8</td>\n",
       "      <td>2</td>\n",
       "      <td>58</td>\n",
       "      <td>0</td>\n",
       "      <td>0</td>\n",
       "      <td>0</td>\n",
       "      <td>0</td>\n",
       "      <td>0</td>\n",
       "      <td>0</td>\n",
       "    </tr>\n",
       "    <tr>\n",
       "      <th>21</th>\n",
       "      <td>81</td>\n",
       "      <td>2</td>\n",
       "      <td>76</td>\n",
       "      <td>72</td>\n",
       "      <td>0</td>\n",
       "      <td>0</td>\n",
       "      <td>0</td>\n",
       "      <td>0</td>\n",
       "      <td>0</td>\n",
       "      <td>0</td>\n",
       "    </tr>\n",
       "    <tr>\n",
       "      <th>22</th>\n",
       "      <td>18</td>\n",
       "      <td>40</td>\n",
       "      <td>9</td>\n",
       "      <td>3</td>\n",
       "      <td>0</td>\n",
       "      <td>0</td>\n",
       "      <td>0</td>\n",
       "      <td>0</td>\n",
       "      <td>0</td>\n",
       "      <td>0</td>\n",
       "    </tr>\n",
       "  </tbody>\n",
       "</table>\n",
       "</div>"
      ],
      "text/plain": [
       "     0   1   2   3   4   5   6  7  8  9\n",
       "0   82  53  75  29   0   0   0  0  0  0\n",
       "1    4   5  71   6  46   0   0  0  0  0\n",
       "2   83   3   0   0   0   0   0  0  0  0\n",
       "3   56   2  22  74   0   0   0  0  0  0\n",
       "4   45  17   3   0   0   0   0  0  0  0\n",
       "5   48  43   7  34   0   0   0  0  0  0\n",
       "6    4   5  70  77   6  69  25  0  0  0\n",
       "7   54  26   7  30  33  14   0  0  0  0\n",
       "8   57  50  32   0   0   0   0  0  0  0\n",
       "9   21  41  27   0   0   0   0  0  0  0\n",
       "10   8   9  52   0   0   0   0  0  0  0\n",
       "11  42   2  23   0   0   0   0  0  0  0\n",
       "12  44  60   2  80   0   0   0  0  0  0\n",
       "13  73  19  51   0   0   0   0  0  0  0\n",
       "14  15  38  63  35  78  79   0  0  0  0\n",
       "15  16   2  24  47  64  20   0  0  0  0\n",
       "16  59  66  39  28   0   0   0  0  0  0\n",
       "17  36   2  67  68  65  31   0  0  0  0\n",
       "18  13  62   2  61  49  10   0  0  0  0\n",
       "19  12  55  37   0   0   0   0  0  0  0\n",
       "20  11   8   2  58   0   0   0  0  0  0\n",
       "21  81   2  76  72   0   0   0  0  0  0\n",
       "22  18  40   9   3   0   0   0  0  0  0"
      ]
     },
     "execution_count": 13,
     "metadata": {},
     "output_type": "execute_result"
    }
   ],
   "source": [
    "# df_vect\n",
    "vectorizer_corpus = vectorizer(corpus)\n",
    "df_vect = pd.DataFrame(vectorizer_corpus)\n",
    "df_vect"
   ]
  },
  {
   "cell_type": "markdown",
   "id": "5371660c",
   "metadata": {},
   "source": [
    "## 벡터화 결과 시각화"
   ]
  },
  {
   "cell_type": "code",
   "execution_count": 14,
   "id": "2e7fe961",
   "metadata": {},
   "outputs": [],
   "source": [
    "# df_vect.replace(0, np.nan).isnull()"
   ]
  },
  {
   "cell_type": "code",
   "execution_count": 15,
   "id": "7693c9ff",
   "metadata": {},
   "outputs": [
    {
     "data": {
      "text/plain": [
       "<Axes: >"
      ]
     },
     "execution_count": 15,
     "metadata": {},
     "output_type": "execute_result"
    },
    {
     "data": {
      "image/png": "[encoded data removed]",
      "text/plain": [
       "<Figure size 640x480 with 2 Axes>"
      ]
     },
     "metadata": {},
     "output_type": "display_data"
    }
   ],
   "source": [
    "# sns.heatmap\n",
    "sns.heatmap(df_vect.replace(0, np.nan).isnull(), cmap=\"gray\")"
   ]
  },
  {
   "cell_type": "code",
   "execution_count": 16,
   "id": "9b9295ce",
   "metadata": {},
   "outputs": [
    {
     "data": {
      "text/plain": [
       "<Axes: >"
      ]
     },
     "execution_count": 16,
     "metadata": {},
     "output_type": "execute_result"
    },
    {
     "data": {
      "image/png": "[encoded data removed]",
      "text/plain": [
       "<Figure size 640x480 with 2 Axes>"
      ]
     },
     "metadata": {},
     "output_type": "display_data"
    }
   ],
   "source": [
    "# sns.heatmap\n",
    "sns.heatmap(df_vect, annot=True, cmap=\"Blues\")"
   ]
  },
  {
   "cell_type": "markdown",
   "id": "df83f534",
   "metadata": {},
   "source": [
    "## 원래 텍스트로 복원하기\n",
    "\n",
    "encoder.get_vocabulary() 메서드를 사용할 때 TextVectorization 레이어는 일반적으로 어휘 목록을 빈도 순으로 정렬합니다. 즉, 코퍼스에서 가장 자주 나타나는 단어가 목록의 상위에 위치하게 됩니다. 이렇게 하는 이유는 빈도가 높은 단어들이 데이터에서 더 중요하거나 유용할 가능성이 높기 때문입니다.\n",
    "\n",
    "그러나 이 목록에는 일반적으로 몇 가지 예약된 토큰들이 포함되어 있습니다. 예를 들어, [UNK] (알 수 없는 단어를 나타내는 토큰), [PAD] (패딩을 위한 토큰) 등이 이에 해당합니다. 이러한 예약된 토큰들은 목록의 최상위에 위치합니다.\n",
    "\n",
    "어휘 목록의 정렬 순서는 TextVectorization 레이어의 설정에 따라 달라질 수 있으며, 필요에 따라 사용자가 이를 커스터마이징할 수도 있습니다. 예를 들어, 토큰화 방식, 텍스트 표준화 방법, 최대 토큰 수 등의 설정을 변경하여 어휘 목록의 생성 방식을 조정할 수 있습니다."
   ]
  },
  {
   "cell_type": "code",
   "execution_count": 17,
   "id": "e424b0d8",
   "metadata": {},
   "outputs": [
    {
     "data": {
      "text/plain": [
       "['', '[UNK]', '너무', '맛있어요', '주문한', '음식이', '와서', '양이', '빵이', '부드럽고']"
      ]
     },
     "execution_count": 17,
     "metadata": {},
     "output_type": "execute_result"
    }
   ],
   "source": [
    "vocabulary = vectorizer.get_vocabulary()\n",
    "vocabulary[:10]"
   ]
  },
  {
   "cell_type": "code",
   "execution_count": 18,
   "id": "f628e6f4",
   "metadata": {
    "scrolled": true
   },
   "outputs": [
    {
     "name": "stdout",
     "output_type": "stream",
     "text": [
      "salad 맛이 깔끔해서 좋아요       "
     ]
    }
   ],
   "source": [
    "# 반복문으로 어휘의 짝을 찾아보기 \n",
    "for num in df_vect.iloc[0]:\n",
    "    print(vocabulary[num], end=\" \")"
   ]
  },
  {
   "cell_type": "markdown",
   "id": "ce05014b",
   "metadata": {},
   "source": [
    "## 다른 텍스트에 적용하기"
   ]
  },
  {
   "cell_type": "code",
   "execution_count": 19,
   "id": "c62f4282",
   "metadata": {},
   "outputs": [],
   "source": [
    "new_corpus = [\n",
    "    \"샌드위치가 신선한 재료로 만들어져서 좋았어요.\",\n",
    "    \"햄버거의 패티가 매우 맛있어요.\",\n",
    "    \"주문한 스시가 빨리 도착해서 만족스러웠어요.\",\n",
    "    \"라멘의 국물이 너무 매워서 못 먹었어요.\",\n",
    "    \"배달된 파스타가 따뜻해서 좋았어요.\",\n",
    "    \"주문한 샐러드가 늦게 와서 아쉬웠어요.\",\n",
    "    \"케이크의 크림이 너무 달지 않아서 좋았어요.\",\n",
    "    \"샌드위치의 빵이 너무 딱딱해서 먹기 어려웠어요.\",\n",
    "    \"피자의 토핑이 푸짐해서 좋았어요.\",\n",
    "    \"불고기가 너무 질겨서 실망했어요.\"\n",
    "]"
   ]
  },
  {
   "cell_type": "code",
   "execution_count": 20,
   "id": "2f516164",
   "metadata": {},
   "outputs": [
    {
     "data": {
      "text/plain": [
       "<tf.Tensor: shape=(10, 10), dtype=int64, numpy=\n",
       "array([[ 1,  1,  1,  1, 27,  0,  0,  0,  0,  0],\n",
       "       [11,  1,  1,  3,  0,  0,  0,  0,  0,  0],\n",
       "       [ 4,  1,  1,  1,  1,  0,  0,  0,  0,  0],\n",
       "       [ 1,  1,  2,  1,  1,  1,  0,  0,  0,  0],\n",
       "       [45, 15,  1, 27,  0,  0,  0,  0,  0,  0],\n",
       "       [ 4,  1, 71,  6,  1,  0,  0,  0,  0,  0],\n",
       "       [ 1,  1,  2, 66, 39, 27,  0,  0,  0,  0],\n",
       "       [ 1,  8,  2,  1, 49,  1,  0,  0,  0,  0],\n",
       "       [ 1,  1,  1, 27,  0,  0,  0,  0,  0,  0],\n",
       "       [ 1,  2,  1,  1,  0,  0,  0,  0,  0,  0]])>"
      ]
     },
     "execution_count": 20,
     "metadata": {},
     "output_type": "execute_result"
    }
   ],
   "source": [
    "vectorizer(new_corpus)"
   ]
  },
  {
   "cell_type": "markdown",
   "id": "211d23a5",
   "metadata": {},
   "source": [
    "## 임베딩하고 시각화 하기\n",
    "* https://www.tensorflow.org/api_docs/python/tf/keras/layers/Embedding\n",
    "* 시각화 했을 때 너무 겹쳐 보이지 않게 하기 위해 적은양의 텍스트로 실습합니다."
   ]
  },
  {
   "cell_type": "code",
   "execution_count": 21,
   "id": "c85a35ae",
   "metadata": {},
   "outputs": [
    {
     "data": {
      "text/plain": [
       "<keras.src.layers.core.embedding.Embedding at 0x13aa74890>"
      ]
     },
     "execution_count": 21,
     "metadata": {},
     "output_type": "execute_result"
    }
   ],
   "source": [
    "# 임베딩 레이어 생성\n",
    "embedding_dim = 4\n",
    "embedding_layer = Embedding(input_dim=100, output_dim=embedding_dim)\n",
    "embedding_layer"
   ]
  },
  {
   "cell_type": "code",
   "execution_count": 22,
   "id": "95a953e0",
   "metadata": {},
   "outputs": [],
   "source": [
    "short_corpus = [\"피자가 맛있어요.\", \n",
    "              \"햄버거가 맛있어요.\", \n",
    "              \"치킨이 맛있어요\", \n",
    "              \"피자가 맛없어요.\",\n",
    "              \"햄버거가 맛없어요.\", \n",
    "              \"치킨이 맛없어요\", ]\n",
    "\n",
    "# 텍스트를 벡터화하고 임베딩 적용\n",
    "vectorized_texts = vectorizer(short_corpus)\n",
    "embeddings = embedding_layer(vectorized_texts)"
   ]
  },
  {
   "cell_type": "code",
   "execution_count": 23,
   "id": "e0393a31",
   "metadata": {},
   "outputs": [
    {
     "data": {
      "text/plain": [
       "(TensorShape([6, 10]), TensorShape([6, 10, 4]))"
      ]
     },
     "execution_count": 23,
     "metadata": {},
     "output_type": "execute_result"
    }
   ],
   "source": [
    "# shape (문장의 수, 각 문장의 최대 길이, 임베딩 차원)\n",
    "vectorized_texts.shape, embeddings.shape"
   ]
  },
  {
   "cell_type": "markdown",
   "id": "0f9e1541",
   "metadata": {},
   "source": [
    "## 차원축소로 시각화 하기"
   ]
  },
  {
   "cell_type": "code",
   "execution_count": 24,
   "id": "080f4459",
   "metadata": {},
   "outputs": [
    {
     "data": {
      "text/plain": [
       "<tf.Tensor: shape=(6, 4), dtype=float32, numpy=\n",
       "array([[ 0.01675782,  0.027034  , -0.02147168, -0.03378123],\n",
       "       [ 0.01101944,  0.02282492, -0.01759885, -0.0271598 ],\n",
       "       [ 0.01157174,  0.02430947, -0.02246631, -0.02824588],\n",
       "       [ 0.01471905,  0.01867659, -0.02163013, -0.03356628],\n",
       "       [ 0.00898067,  0.01446751, -0.01775729, -0.02694485],\n",
       "       [ 0.00953297,  0.01595205, -0.02262475, -0.02803093]],\n",
       "      dtype=float32)>"
      ]
     },
     "execution_count": 24,
     "metadata": {},
     "output_type": "execute_result"
    }
   ],
   "source": [
    "from tensorflow.keras.layers import GlobalAveragePooling1D\n",
    "# 차원축소를 위해 dim 3 => dim => 2 로 줄이기\n",
    "# GlobalAveragePooling1D 레이어 추가\n",
    "pooling_layer = GlobalAveragePooling1D()\n",
    "\n",
    "# 각 문장에 대한 임베딩의 평균 계산\n",
    "average_embeddings = pooling_layer(embeddings)\n",
    "average_embeddings"
   ]
  },
  {
   "cell_type": "code",
   "execution_count": 25,
   "id": "4e8e148f",
   "metadata": {},
   "outputs": [
    {
     "data": {
      "text/plain": [
       "array([[ -56.48057   ,   75.48894   ],\n",
       "       [  75.050545  ,   20.996138  ],\n",
       "       [  25.346807  ,   49.34595   ],\n",
       "       [ -56.171974  ,  -18.02028   ],\n",
       "       [  55.58583   , -106.00941   ],\n",
       "       [   0.86041415,  -82.85081   ]], dtype=float32)"
      ]
     },
     "execution_count": 25,
     "metadata": {},
     "output_type": "execute_result"
    }
   ],
   "source": [
    "from sklearn.manifold import TSNE\n",
    "\n",
    "# t-SNE를 사용한 차원 축소\n",
    "tsne = TSNE(n_components=2, perplexity=3, random_state=42)\n",
    "reduced_embeddings = tsne.fit_transform(average_embeddings)\n",
    "reduced_embeddings"
   ]
  },
  {
   "cell_type": "code",
   "execution_count": 26,
   "id": "340634c5",
   "metadata": {},
   "outputs": [
    {
     "data": {
      "image/png": "[encoded data removed]",
      "text/plain": [
       "<Figure size 640x480 with 1 Axes>"
      ]
     },
     "metadata": {},
     "output_type": "display_data"
    }
   ],
   "source": [
    "# 시각화\n",
    "plt.scatter(reduced_embeddings[:, 0], reduced_embeddings[:, 1])\n",
    "for i, text in enumerate(short_corpus):\n",
    "    plt.annotate(text, (reduced_embeddings[i, 0], reduced_embeddings[i, 1]))\n",
    "plt.xlabel('t-SNE feature 0')\n",
    "plt.ylabel('t-SNE feature 1')\n",
    "plt.title('Text Embeddings Visualized with t-SNE')\n",
    "plt.show()"
   ]
  },
  {
   "cell_type": "markdown",
   "id": "1728d827",
   "metadata": {},
   "source": [
    "## Sequential\n",
    "\n",
    "* TextVectorization 레이어는 문자열을 어휘 인덱스로 변환합니다.\n",
    "* TextVectorization으로 변환된 문자열을 Embedding 계층에 공급할 수 있습니다.\n",
    "* Embedding 레이어는 정수로 인코딩된 어휘를 취하고 각 단어 인덱스에 대한 임베딩 벡터를 찾습니다. \n",
    "* 이러한 벡터는 모델이 학습될 때 학습됩니다. \n",
    "* 벡터는 출력 배열에 차원을 추가합니다. 결과 차원은 (batch, sequence, embedding) 입니다.\n",
    "* GlobalAveragePooling1D 계층은 시퀀스 차원을 평균화하여 각 예제에 대해 고정 길이 출력 벡터를 반환합니다. 이를 통해 모델은 가능한 가장 간단한 방법으로 가변 길이의 입력을 처리할 수 있습니다.\n",
    "* 고정 길이 출력 벡터는 16개의 은닉 유닛이 있는 완전 연결( Dense ) 레이어를 통해 연결됩니다.\n",
    "* 마지막 레이어는 단일 출력 노드와 조밀하게 연결됩니다.\n"
   ]
  },
  {
   "cell_type": "code",
   "execution_count": 27,
   "id": "7a4823da",
   "metadata": {},
   "outputs": [
    {
     "data": {
      "text/plain": [
       "<keras.src.engine.sequential.Sequential at 0x13e051790>"
      ]
     },
     "execution_count": 27,
     "metadata": {},
     "output_type": "execute_result"
    }
   ],
   "source": [
    "from tensorflow.keras import Sequential\n",
    "from tensorflow.keras.layers import Dense\n",
    "\n",
    "# embedding_dim = 16\n",
    "\n",
    "# Sequential\n",
    "model = Sequential([embedding_layer, \n",
    "                    GlobalAveragePooling1D(), \n",
    "                    Dense(units=16, activation=\"relu\"),\n",
    "                    Dense(1)\n",
    "                   ])\n",
    "model"
   ]
  },
  {
   "cell_type": "markdown",
   "id": "f16f945e",
   "metadata": {},
   "source": [
    "## summary"
   ]
  },
  {
   "cell_type": "code",
   "execution_count": 28,
   "id": "3f4955b6",
   "metadata": {},
   "outputs": [
    {
     "name": "stdout",
     "output_type": "stream",
     "text": [
      "Model: \"sequential\"\n",
      "_________________________________________________________________\n",
      " Layer (type)                Output Shape              Param #   \n",
      "=================================================================\n",
      " embedding (Embedding)       (None, None, 4)           400       \n",
      "                                                                 \n",
      " global_average_pooling1d_1  (None, 4)                 0         \n",
      "  (GlobalAveragePooling1D)                                       \n",
      "                                                                 \n",
      " dense (Dense)               (None, 16)                80        \n",
      "                                                                 \n",
      " dense_1 (Dense)             (None, 1)                 17        \n",
      "                                                                 \n",
      "=================================================================\n",
      "Total params: 497 (1.94 KB)\n",
      "Trainable params: 497 (1.94 KB)\n",
      "Non-trainable params: 0 (0.00 Byte)\n",
      "_________________________________________________________________\n"
     ]
    }
   ],
   "source": [
    "model.summary()"
   ]
  },
  {
   "cell_type": "markdown",
   "id": "13b9e27c",
   "metadata": {},
   "source": [
    "## compile\n",
    "\n",
    "* model.compile은 TensorFlow 모델을 컴파일하는 메서드로, 모델의 학습 과정을 설정합니다. \n",
    "* optimizer: 옵티마이저를 지정합니다. 'adam'은 Adam 옵티마이저를 사용하겠다는 것을 의미합니다. Adam은 경사 하강법의 한 종류로, 학습 속도를 동적으로 조절하여 효율적인 최적화를 수행하는 알고리즘입니다.\n",
    "* loss: 손실 함수를 지정합니다. tf.keras.losses.BinaryCrossentropy는 이진 분류 문제를 위한 크로스 엔트로피 손실 함수입니다. from_logits=True는 모델의 출력이 로짓(확률이 아닌 모델의 선형 출력)으로 제공되며, 이를 확률로 변환하여 손실을 계산하겠다는 의미입니다.\n",
    "* metrics: 모델의 성능을 평가할 지표를 지정합니다. 여기서는 'accuracy'만 사용되었으며, 이는 모델의 정확도를 평가하는 지표입니다."
   ]
  },
  {
   "cell_type": "code",
   "execution_count": 29,
   "id": "aaeeb0e9",
   "metadata": {},
   "outputs": [],
   "source": [
    "tensorboard_callback = tf.keras.callbacks.TensorBoard(log_dir=\"logs\")"
   ]
  },
  {
   "cell_type": "code",
   "execution_count": 30,
   "id": "30d6831f",
   "metadata": {},
   "outputs": [],
   "source": [
    "# model.compile\n",
    "# y = ax + b\n",
    "model.compile(optimizer=\"adam\", \n",
    "              loss=tf.keras.losses.BinaryCrossentropy(from_logits=True), \n",
    "              metrics=[\"accuracy\"])"
   ]
  },
  {
   "cell_type": "markdown",
   "id": "842f1bf5",
   "metadata": {},
   "source": [
    "## fit\n",
    "\n",
    "* model.fit은 TensorFlow 모델을 학습시키는 메서드입니다.\n",
    "* x: 모델의 입력 데이터를 지정합니다. 시험의 기출문제인 x_train 을 지정합니다.\n",
    "* y: 모델의 정답값(label)을 지정합니다.\n",
    "* epochs: 전체 데이터셋에 대해 학습을 반복하는 횟수를 지정합니다.\n",
    "* callbacks: 학습 중에 호출되는 콜백 함수들의 리스트를 지정합니다. \n",
    "* model.fit을 호출하면 모델은 주어진 데이터셋과 목표값을 사용하여 지정된 에포크 수만큼 학습을 진행합니다. 각 에포크마다 모델의 가중치가 조정되며, 손실 함수를 최소화하는 방향으로 학습이 이루어집니다. \n",
    "* TensorBoard 콜백을 사용하면 학습 과정을 모니터링하고 시각화할 수 있습니다.\n",
    "* https://www.tensorflow.org/tensorboard/get_started?hl=ko"
   ]
  },
  {
   "cell_type": "code",
   "execution_count": null,
   "id": "7633f0b2",
   "metadata": {},
   "outputs": [],
   "source": [
    "# Clear any logs from previous runs\n",
    "# 아래 명령어가 운영체제 문제로 동작하지 않는다면 폴더위치에 가서 삭제해 주어도 됩니다.\n",
    "# !rm -rf ./logs/"
   ]
  },
  {
   "cell_type": "code",
   "execution_count": null,
   "id": "b651800d",
   "metadata": {},
   "outputs": [],
   "source": [
    "tensorboard_callback = tf.keras.callbacks.TensorBoard(log_dir=\"logs\")"
   ]
  },
  {
   "cell_type": "code",
   "execution_count": 31,
   "id": "d8a0f702",
   "metadata": {},
   "outputs": [
    {
     "data": {
      "text/plain": [
       "(TensorShape([23, 10]), (23,))"
      ]
     },
     "execution_count": 31,
     "metadata": {},
     "output_type": "execute_result"
    }
   ],
   "source": [
    "vectorizer_corpus.shape, np.array(labels).shape"
   ]
  },
  {
   "cell_type": "code",
   "execution_count": 32,
   "id": "f2d81bda",
   "metadata": {},
   "outputs": [],
   "source": [
    "# for tensorboard Clear any logs from previous runs\n",
    "!rm -rf ./logs/"
   ]
  },
  {
   "cell_type": "code",
   "execution_count": 43,
   "id": "8cc8111f",
   "metadata": {},
   "outputs": [
    {
     "name": "stdout",
     "output_type": "stream",
     "text": [
      "Epoch 1/100\n",
      "1/1 [==============================] - 0s 28ms/step - loss: 0.6037 - accuracy: 0.6087\n",
      "Epoch 2/100\n",
      "1/1 [==============================] - 0s 12ms/step - loss: 0.6020 - accuracy: 0.6087\n",
      "Epoch 3/100\n",
      "1/1 [==============================] - 0s 13ms/step - loss: 0.6004 - accuracy: 0.6087\n",
      "Epoch 4/100\n",
      "1/1 [==============================] - 0s 14ms/step - loss: 0.5987 - accuracy: 0.6087\n",
      "Epoch 5/100\n",
      "1/1 [==============================] - 0s 16ms/step - loss: 0.5970 - accuracy: 0.6087\n",
      "Epoch 6/100\n",
      "1/1 [==============================] - 0s 13ms/step - loss: 0.5953 - accuracy: 0.6087\n",
      "Epoch 7/100\n",
      "1/1 [==============================] - 0s 14ms/step - loss: 0.5935 - accuracy: 0.6087\n",
      "Epoch 8/100\n",
      "1/1 [==============================] - 0s 15ms/step - loss: 0.5918 - accuracy: 0.6087\n",
      "Epoch 9/100\n",
      "1/1 [==============================] - 0s 13ms/step - loss: 0.5901 - accuracy: 0.6087\n",
      "Epoch 10/100\n",
      "1/1 [==============================] - 0s 15ms/step - loss: 0.5883 - accuracy: 0.6087\n",
      "Epoch 11/100\n",
      "1/1 [==============================] - 0s 14ms/step - loss: 0.5866 - accuracy: 0.6087\n",
      "Epoch 12/100\n",
      "1/1 [==============================] - 0s 13ms/step - loss: 0.5848 - accuracy: 0.6087\n",
      "Epoch 13/100\n",
      "1/1 [==============================] - 0s 13ms/step - loss: 0.5831 - accuracy: 0.6087\n",
      "Epoch 14/100\n",
      "1/1 [==============================] - 0s 9ms/step - loss: 0.5813 - accuracy: 0.6087\n",
      "Epoch 15/100\n",
      "1/1 [==============================] - 0s 10ms/step - loss: 0.5795 - accuracy: 0.6087\n",
      "Epoch 16/100\n",
      "1/1 [==============================] - 0s 11ms/step - loss: 0.5777 - accuracy: 0.6087\n",
      "Epoch 17/100\n",
      "1/1 [==============================] - 0s 13ms/step - loss: 0.5759 - accuracy: 0.6087\n",
      "Epoch 18/100\n",
      "1/1 [==============================] - 0s 13ms/step - loss: 0.5741 - accuracy: 0.6087\n",
      "Epoch 19/100\n",
      "1/1 [==============================] - 0s 14ms/step - loss: 0.5722 - accuracy: 0.6087\n",
      "Epoch 20/100\n",
      "1/1 [==============================] - 0s 18ms/step - loss: 0.5704 - accuracy: 0.6087\n",
      "Epoch 21/100\n",
      "1/1 [==============================] - 0s 20ms/step - loss: 0.5685 - accuracy: 0.6087\n",
      "Epoch 22/100\n",
      "1/1 [==============================] - 0s 11ms/step - loss: 0.5666 - accuracy: 0.6087\n",
      "Epoch 23/100\n",
      "1/1 [==============================] - 0s 15ms/step - loss: 0.5648 - accuracy: 0.6087\n",
      "Epoch 24/100\n",
      "1/1 [==============================] - 0s 14ms/step - loss: 0.5629 - accuracy: 0.6087\n",
      "Epoch 25/100\n",
      "1/1 [==============================] - 0s 14ms/step - loss: 0.5609 - accuracy: 0.6087\n",
      "Epoch 26/100\n",
      "1/1 [==============================] - 0s 15ms/step - loss: 0.5590 - accuracy: 0.6087\n",
      "Epoch 27/100\n",
      "1/1 [==============================] - 0s 15ms/step - loss: 0.5571 - accuracy: 0.6087\n",
      "Epoch 28/100\n",
      "1/1 [==============================] - 0s 17ms/step - loss: 0.5552 - accuracy: 0.6087\n",
      "Epoch 29/100\n",
      "1/1 [==============================] - 0s 16ms/step - loss: 0.5532 - accuracy: 0.6087\n",
      "Epoch 30/100\n",
      "1/1 [==============================] - 0s 13ms/step - loss: 0.5513 - accuracy: 0.6087\n",
      "Epoch 31/100\n",
      "1/1 [==============================] - 0s 16ms/step - loss: 0.5493 - accuracy: 0.6087\n",
      "Epoch 32/100\n",
      "1/1 [==============================] - 0s 14ms/step - loss: 0.5473 - accuracy: 0.6087\n",
      "Epoch 33/100\n",
      "1/1 [==============================] - 0s 12ms/step - loss: 0.5454 - accuracy: 0.6087\n",
      "Epoch 34/100\n",
      "1/1 [==============================] - 0s 15ms/step - loss: 0.5434 - accuracy: 0.6087\n",
      "Epoch 35/100\n",
      "1/1 [==============================] - 0s 15ms/step - loss: 0.5414 - accuracy: 0.6087\n",
      "Epoch 36/100\n",
      "1/1 [==============================] - 0s 17ms/step - loss: 0.5393 - accuracy: 0.6087\n",
      "Epoch 37/100\n",
      "1/1 [==============================] - 0s 15ms/step - loss: 0.5373 - accuracy: 0.6087\n",
      "Epoch 38/100\n",
      "1/1 [==============================] - 0s 16ms/step - loss: 0.5353 - accuracy: 0.6087\n",
      "Epoch 39/100\n",
      "1/1 [==============================] - 0s 20ms/step - loss: 0.5332 - accuracy: 0.6087\n",
      "Epoch 40/100\n",
      "1/1 [==============================] - 0s 15ms/step - loss: 0.5312 - accuracy: 0.6087\n",
      "Epoch 41/100\n",
      "1/1 [==============================] - 0s 15ms/step - loss: 0.5291 - accuracy: 0.6087\n",
      "Epoch 42/100\n",
      "1/1 [==============================] - 0s 11ms/step - loss: 0.5270 - accuracy: 0.6087\n",
      "Epoch 43/100\n",
      "1/1 [==============================] - 0s 13ms/step - loss: 0.5249 - accuracy: 0.6087\n",
      "Epoch 44/100\n",
      "1/1 [==============================] - 0s 12ms/step - loss: 0.5228 - accuracy: 0.6087\n",
      "Epoch 45/100\n",
      "1/1 [==============================] - 0s 14ms/step - loss: 0.5207 - accuracy: 0.6087\n",
      "Epoch 46/100\n",
      "1/1 [==============================] - 0s 13ms/step - loss: 0.5186 - accuracy: 0.6087\n",
      "Epoch 47/100\n",
      "1/1 [==============================] - 0s 19ms/step - loss: 0.5165 - accuracy: 0.6087\n",
      "Epoch 48/100\n",
      "1/1 [==============================] - 0s 26ms/step - loss: 0.5143 - accuracy: 0.6087\n",
      "Epoch 49/100\n",
      "1/1 [==============================] - 0s 13ms/step - loss: 0.5122 - accuracy: 0.6087\n",
      "Epoch 50/100\n",
      "1/1 [==============================] - 0s 29ms/step - loss: 0.5100 - accuracy: 0.6087\n",
      "Epoch 51/100\n",
      "1/1 [==============================] - 0s 16ms/step - loss: 0.5079 - accuracy: 0.6087\n",
      "Epoch 52/100\n",
      "1/1 [==============================] - 0s 13ms/step - loss: 0.5057 - accuracy: 0.6087\n",
      "Epoch 53/100\n",
      "1/1 [==============================] - 0s 10ms/step - loss: 0.5035 - accuracy: 0.6087\n",
      "Epoch 54/100\n",
      "1/1 [==============================] - 0s 12ms/step - loss: 0.5014 - accuracy: 0.6087\n",
      "Epoch 55/100\n",
      "1/1 [==============================] - 0s 11ms/step - loss: 0.4992 - accuracy: 0.6087\n",
      "Epoch 56/100\n",
      "1/1 [==============================] - 0s 13ms/step - loss: 0.4970 - accuracy: 0.6087\n",
      "Epoch 57/100\n",
      "1/1 [==============================] - 0s 8ms/step - loss: 0.4947 - accuracy: 0.6087\n",
      "Epoch 58/100\n",
      "1/1 [==============================] - 0s 10ms/step - loss: 0.4925 - accuracy: 0.6087\n",
      "Epoch 59/100\n",
      "1/1 [==============================] - 0s 10ms/step - loss: 0.4903 - accuracy: 0.6087\n",
      "Epoch 60/100\n",
      "1/1 [==============================] - 0s 13ms/step - loss: 0.4881 - accuracy: 0.6087\n",
      "Epoch 61/100\n",
      "1/1 [==============================] - 0s 12ms/step - loss: 0.4858 - accuracy: 0.6087\n",
      "Epoch 62/100\n",
      "1/1 [==============================] - 0s 13ms/step - loss: 0.4836 - accuracy: 0.6087\n",
      "Epoch 63/100\n",
      "1/1 [==============================] - 0s 12ms/step - loss: 0.4813 - accuracy: 0.6087\n",
      "Epoch 64/100\n",
      "1/1 [==============================] - 0s 9ms/step - loss: 0.4791 - accuracy: 0.6087\n",
      "Epoch 65/100\n",
      "1/1 [==============================] - 0s 12ms/step - loss: 0.4768 - accuracy: 0.6087\n",
      "Epoch 66/100\n",
      "1/1 [==============================] - 0s 15ms/step - loss: 0.4745 - accuracy: 0.6087\n",
      "Epoch 67/100\n",
      "1/1 [==============================] - 0s 10ms/step - loss: 0.4723 - accuracy: 0.6087\n",
      "Epoch 68/100\n",
      "1/1 [==============================] - 0s 8ms/step - loss: 0.4700 - accuracy: 0.6087\n",
      "Epoch 69/100\n",
      "1/1 [==============================] - 0s 13ms/step - loss: 0.4677 - accuracy: 0.6087\n",
      "Epoch 70/100\n",
      "1/1 [==============================] - 0s 11ms/step - loss: 0.4654 - accuracy: 0.6087\n",
      "Epoch 71/100\n",
      "1/1 [==============================] - 0s 14ms/step - loss: 0.4631 - accuracy: 0.6087\n",
      "Epoch 72/100\n",
      "1/1 [==============================] - 0s 15ms/step - loss: 0.4608 - accuracy: 0.6087\n",
      "Epoch 73/100\n",
      "1/1 [==============================] - 0s 14ms/step - loss: 0.4585 - accuracy: 0.6087\n",
      "Epoch 74/100\n",
      "1/1 [==============================] - 0s 14ms/step - loss: 0.4562 - accuracy: 0.6087\n",
      "Epoch 75/100\n",
      "1/1 [==============================] - 0s 12ms/step - loss: 0.4539 - accuracy: 0.6087\n",
      "Epoch 76/100\n",
      "1/1 [==============================] - 0s 15ms/step - loss: 0.4516 - accuracy: 0.6087\n",
      "Epoch 77/100\n",
      "1/1 [==============================] - 0s 11ms/step - loss: 0.4493 - accuracy: 0.6087\n",
      "Epoch 78/100\n",
      "1/1 [==============================] - 0s 7ms/step - loss: 0.4470 - accuracy: 0.6087\n",
      "Epoch 79/100\n",
      "1/1 [==============================] - 0s 15ms/step - loss: 0.4447 - accuracy: 0.6087\n",
      "Epoch 80/100\n",
      "1/1 [==============================] - 0s 10ms/step - loss: 0.4423 - accuracy: 0.6087\n",
      "Epoch 81/100\n",
      "1/1 [==============================] - 0s 12ms/step - loss: 0.4400 - accuracy: 0.6087\n",
      "Epoch 82/100\n",
      "1/1 [==============================] - 0s 13ms/step - loss: 0.4377 - accuracy: 0.6087\n",
      "Epoch 83/100\n",
      "1/1 [==============================] - 0s 13ms/step - loss: 0.4354 - accuracy: 0.6087\n",
      "Epoch 84/100\n",
      "1/1 [==============================] - 0s 14ms/step - loss: 0.4330 - accuracy: 0.6087\n",
      "Epoch 85/100\n",
      "1/1 [==============================] - 0s 13ms/step - loss: 0.4307 - accuracy: 0.6087\n",
      "Epoch 86/100\n",
      "1/1 [==============================] - 0s 14ms/step - loss: 0.4284 - accuracy: 0.6087\n",
      "Epoch 87/100\n",
      "1/1 [==============================] - 0s 19ms/step - loss: 0.4260 - accuracy: 0.6087\n",
      "Epoch 88/100\n",
      "1/1 [==============================] - 0s 11ms/step - loss: 0.4236 - accuracy: 0.6087\n",
      "Epoch 89/100\n",
      "1/1 [==============================] - 0s 7ms/step - loss: 0.4211 - accuracy: 0.6087\n",
      "Epoch 90/100\n",
      "1/1 [==============================] - 0s 9ms/step - loss: 0.4186 - accuracy: 0.6087\n",
      "Epoch 91/100\n",
      "1/1 [==============================] - 0s 13ms/step - loss: 0.4162 - accuracy: 0.6087\n",
      "Epoch 92/100\n",
      "1/1 [==============================] - 0s 12ms/step - loss: 0.4137 - accuracy: 0.6087\n",
      "Epoch 93/100\n",
      "1/1 [==============================] - 0s 12ms/step - loss: 0.4113 - accuracy: 0.6087\n",
      "Epoch 94/100\n",
      "1/1 [==============================] - 0s 8ms/step - loss: 0.4088 - accuracy: 0.6087\n",
      "Epoch 95/100\n",
      "1/1 [==============================] - 0s 11ms/step - loss: 0.4063 - accuracy: 0.6087\n",
      "Epoch 96/100\n",
      "1/1 [==============================] - 0s 12ms/step - loss: 0.4039 - accuracy: 0.6087\n",
      "Epoch 97/100\n",
      "1/1 [==============================] - 0s 7ms/step - loss: 0.4014 - accuracy: 0.6087\n",
      "Epoch 98/100\n",
      "1/1 [==============================] - 0s 18ms/step - loss: 0.3989 - accuracy: 0.6087\n",
      "Epoch 99/100\n",
      "1/1 [==============================] - 0s 13ms/step - loss: 0.3965 - accuracy: 0.6087\n",
      "Epoch 100/100\n",
      "1/1 [==============================] - 0s 12ms/step - loss: 0.3940 - accuracy: 0.6087\n"
     ]
    },
    {
     "data": {
      "text/plain": [
       "<keras.src.callbacks.History at 0x13e1fbbd0>"
      ]
     },
     "execution_count": 43,
     "metadata": {},
     "output_type": "execute_result"
    }
   ],
   "source": [
    "# model.fit\n",
    "model.fit(x=vectorizer_corpus, y=np.array(labels), epochs=100, \n",
    "    callbacks=[tensorboard_callback])"
   ]
  },
  {
   "cell_type": "markdown",
   "id": "43af0a87",
   "metadata": {},
   "source": [
    "## tensorboard\n",
    "* https://www.tensorflow.org/get_started/summaries_and_tensorboard"
   ]
  },
  {
   "cell_type": "code",
   "execution_count": 46,
   "id": "1eb8a85c",
   "metadata": {},
   "outputs": [
    {
     "name": "stdout",
     "output_type": "stream",
     "text": [
      "The tensorboard extension is already loaded. To reload it, use:\n",
      "  %reload_ext tensorboard\n"
     ]
    },
    {
     "data": {
      "text/html": [
       "\n",
       "      <iframe id=\"tensorboard-frame-d9b87a4200238eab\" width=\"100%\" height=\"800\" frameborder=\"0\">\n",
       "      </iframe>\n",
       "      <script>\n",
       "        (function() {\n",
       "          const frame = document.getElementById(\"tensorboard-frame-d9b87a4200238eab\");\n",
       "          const url = new URL(\"/\", window.location);\n",
       "          const port = 6006;\n",
       "          if (port) {\n",
       "            url.port = port;\n",
       "          }\n",
       "          frame.src = url;\n",
       "        })();\n",
       "      </script>\n",
       "    "
      ],
      "text/plain": [
       "<IPython.core.display.HTML object>"
      ]
     },
     "metadata": {},
     "output_type": "display_data"
    }
   ],
   "source": [
    "# docs_infra: no_execute\n",
    "%load_ext tensorboard\n",
    "%tensorboard --logdir logs"
   ]
  },
  {
   "cell_type": "markdown",
   "id": "ac80c046",
   "metadata": {},
   "source": [
    "## visualize_the_embeddings\n",
    "\n",
    "* https://www.tensorflow.org/text/guide/word_embeddings?hl=ko#visualize_the_embeddings"
   ]
  },
  {
   "cell_type": "code",
   "execution_count": 35,
   "id": "41a94ea8",
   "metadata": {},
   "outputs": [
    {
     "name": "stdout",
     "output_type": "stream",
     "text": [
      "Model: \"sequential\"\n",
      "_________________________________________________________________\n",
      " Layer (type)                Output Shape              Param #   \n",
      "=================================================================\n",
      " embedding (Embedding)       (None, None, 4)           400       \n",
      "                                                                 \n",
      " global_average_pooling1d_1  (None, 4)                 0         \n",
      "  (GlobalAveragePooling1D)                                       \n",
      "                                                                 \n",
      " dense (Dense)               (None, 16)                80        \n",
      "                                                                 \n",
      " dense_1 (Dense)             (None, 1)                 17        \n",
      "                                                                 \n",
      "=================================================================\n",
      "Total params: 497 (1.94 KB)\n",
      "Trainable params: 497 (1.94 KB)\n",
      "Non-trainable params: 0 (0.00 Byte)\n",
      "_________________________________________________________________\n"
     ]
    }
   ],
   "source": [
    "model.summary()"
   ]
  },
  {
   "cell_type": "code",
   "execution_count": 36,
   "id": "7be172da",
   "metadata": {},
   "outputs": [],
   "source": [
    "# No such layer: embedding. Existing layers are: ['embedding_2', 등의 메시지가 나온다면\n",
    "# 컴파일을 여러번 해서 그렇습니다. embedding_2 등으로 변경해 주거나 해당 주피터 노트북의 커널 메뉴에서 재시작을 해주시면 됩니다.\n",
    "# weights\n",
    "# vocab\n",
    "weights = model.get_layer(\"embedding\").get_weights()[0]\n",
    "vocab = vectorizer.get_vocabulary()"
   ]
  },
  {
   "cell_type": "code",
   "execution_count": 37,
   "id": "a36f4ca3",
   "metadata": {},
   "outputs": [
    {
     "data": {
      "text/html": [
       "<div>\n",
       "<style scoped>\n",
       "    .dataframe tbody tr th:only-of-type {\n",
       "        vertical-align: middle;\n",
       "    }\n",
       "\n",
       "    .dataframe tbody tr th {\n",
       "        vertical-align: top;\n",
       "    }\n",
       "\n",
       "    .dataframe thead th {\n",
       "        text-align: right;\n",
       "    }\n",
       "</style>\n",
       "<table border=\"1\" class=\"dataframe\">\n",
       "  <thead>\n",
       "    <tr style=\"text-align: right;\">\n",
       "      <th></th>\n",
       "      <th>[UNK]</th>\n",
       "    </tr>\n",
       "  </thead>\n",
       "  <tbody>\n",
       "    <tr>\n",
       "      <th>0</th>\n",
       "      <td>너무</td>\n",
       "    </tr>\n",
       "    <tr>\n",
       "      <th>1</th>\n",
       "      <td>맛있어요</td>\n",
       "    </tr>\n",
       "    <tr>\n",
       "      <th>2</th>\n",
       "      <td>주문한</td>\n",
       "    </tr>\n",
       "    <tr>\n",
       "      <th>3</th>\n",
       "      <td>음식이</td>\n",
       "    </tr>\n",
       "    <tr>\n",
       "      <th>4</th>\n",
       "      <td>와서</td>\n",
       "    </tr>\n",
       "    <tr>\n",
       "      <th>...</th>\n",
       "      <td>...</td>\n",
       "    </tr>\n",
       "    <tr>\n",
       "      <th>77</th>\n",
       "      <td>같아요</td>\n",
       "    </tr>\n",
       "    <tr>\n",
       "      <th>78</th>\n",
       "      <td>강했어요</td>\n",
       "    </tr>\n",
       "    <tr>\n",
       "      <th>79</th>\n",
       "      <td>감자튀김이</td>\n",
       "    </tr>\n",
       "    <tr>\n",
       "      <th>80</th>\n",
       "      <td>salad</td>\n",
       "    </tr>\n",
       "    <tr>\n",
       "      <th>81</th>\n",
       "      <td>pizza가</td>\n",
       "    </tr>\n",
       "  </tbody>\n",
       "</table>\n",
       "<p>82 rows × 1 columns</p>\n",
       "</div>"
      ],
      "text/plain": [
       "     [UNK]\n",
       "0       너무\n",
       "1     맛있어요\n",
       "2      주문한\n",
       "3      음식이\n",
       "4       와서\n",
       "..     ...\n",
       "77     같아요\n",
       "78    강했어요\n",
       "79   감자튀김이\n",
       "80   salad\n",
       "81  pizza가\n",
       "\n",
       "[82 rows x 1 columns]"
      ]
     },
     "execution_count": 37,
     "metadata": {},
     "output_type": "execute_result"
    }
   ],
   "source": [
    "# columns=['word'] 로 데이터프레임을 생성 \n",
    "# 가장 첫 데이터는 패딩으로 이후 데이터 부터 사용\n",
    "# 파일로 저장 : \"metadata.tsv\",  sep=\"\\t\", index=False, header=False\n",
    "df_vocab = pd.DataFrame(vocab[1:], columns=[\"word\"])\n",
    "df_vocab.to_csv(\"metadata.tsv\", sep=\"\\t\", index=False, header=False)\n",
    "pd.read_csv(\"metadata.tsv\", sep=\"\\t\")"
   ]
  },
  {
   "cell_type": "code",
   "execution_count": 38,
   "id": "ac1a53b9",
   "metadata": {},
   "outputs": [
    {
     "data": {
      "text/html": [
       "<div>\n",
       "<style scoped>\n",
       "    .dataframe tbody tr th:only-of-type {\n",
       "        vertical-align: middle;\n",
       "    }\n",
       "\n",
       "    .dataframe tbody tr th {\n",
       "        vertical-align: top;\n",
       "    }\n",
       "\n",
       "    .dataframe thead th {\n",
       "        text-align: right;\n",
       "    }\n",
       "</style>\n",
       "<table border=\"1\" class=\"dataframe\">\n",
       "  <thead>\n",
       "    <tr style=\"text-align: right;\">\n",
       "      <th></th>\n",
       "      <th>-0.042667903</th>\n",
       "      <th>-0.04853275</th>\n",
       "      <th>0.019147303</th>\n",
       "      <th>0.021409761</th>\n",
       "    </tr>\n",
       "  </thead>\n",
       "  <tbody>\n",
       "    <tr>\n",
       "      <th>0</th>\n",
       "      <td>0.141308</td>\n",
       "      <td>0.123149</td>\n",
       "      <td>-0.129947</td>\n",
       "      <td>-0.118388</td>\n",
       "    </tr>\n",
       "    <tr>\n",
       "      <th>1</th>\n",
       "      <td>-0.144288</td>\n",
       "      <td>-0.082949</td>\n",
       "      <td>0.145169</td>\n",
       "      <td>0.147159</td>\n",
       "    </tr>\n",
       "    <tr>\n",
       "      <th>2</th>\n",
       "      <td>0.166320</td>\n",
       "      <td>0.097318</td>\n",
       "      <td>-0.087067</td>\n",
       "      <td>-0.080207</td>\n",
       "    </tr>\n",
       "    <tr>\n",
       "      <th>3</th>\n",
       "      <td>0.072453</td>\n",
       "      <td>0.068829</td>\n",
       "      <td>-0.148653</td>\n",
       "      <td>-0.142139</td>\n",
       "    </tr>\n",
       "    <tr>\n",
       "      <th>4</th>\n",
       "      <td>0.071517</td>\n",
       "      <td>0.154308</td>\n",
       "      <td>-0.146167</td>\n",
       "      <td>-0.074678</td>\n",
       "    </tr>\n",
       "    <tr>\n",
       "      <th>...</th>\n",
       "      <td>...</td>\n",
       "      <td>...</td>\n",
       "      <td>...</td>\n",
       "      <td>...</td>\n",
       "    </tr>\n",
       "    <tr>\n",
       "      <th>77</th>\n",
       "      <td>0.126403</td>\n",
       "      <td>0.159853</td>\n",
       "      <td>-0.148593</td>\n",
       "      <td>-0.121677</td>\n",
       "    </tr>\n",
       "    <tr>\n",
       "      <th>78</th>\n",
       "      <td>0.166985</td>\n",
       "      <td>0.104194</td>\n",
       "      <td>-0.140893</td>\n",
       "      <td>-0.086625</td>\n",
       "    </tr>\n",
       "    <tr>\n",
       "      <th>79</th>\n",
       "      <td>0.073908</td>\n",
       "      <td>0.099187</td>\n",
       "      <td>-0.140462</td>\n",
       "      <td>-0.142638</td>\n",
       "    </tr>\n",
       "    <tr>\n",
       "      <th>80</th>\n",
       "      <td>-0.107122</td>\n",
       "      <td>-0.091469</td>\n",
       "      <td>0.088074</td>\n",
       "      <td>0.138564</td>\n",
       "    </tr>\n",
       "    <tr>\n",
       "      <th>81</th>\n",
       "      <td>-0.164181</td>\n",
       "      <td>-0.127142</td>\n",
       "      <td>0.082837</td>\n",
       "      <td>0.091115</td>\n",
       "    </tr>\n",
       "  </tbody>\n",
       "</table>\n",
       "<p>82 rows × 4 columns</p>\n",
       "</div>"
      ],
      "text/plain": [
       "    -0.042667903  -0.04853275  0.019147303  0.021409761\n",
       "0       0.141308     0.123149    -0.129947    -0.118388\n",
       "1      -0.144288    -0.082949     0.145169     0.147159\n",
       "2       0.166320     0.097318    -0.087067    -0.080207\n",
       "3       0.072453     0.068829    -0.148653    -0.142139\n",
       "4       0.071517     0.154308    -0.146167    -0.074678\n",
       "..           ...          ...          ...          ...\n",
       "77      0.126403     0.159853    -0.148593    -0.121677\n",
       "78      0.166985     0.104194    -0.140893    -0.086625\n",
       "79      0.073908     0.099187    -0.140462    -0.142638\n",
       "80     -0.107122    -0.091469     0.088074     0.138564\n",
       "81     -0.164181    -0.127142     0.082837     0.091115\n",
       "\n",
       "[82 rows x 4 columns]"
      ]
     },
     "execution_count": 38,
     "metadata": {},
     "output_type": "execute_result"
    }
   ],
   "source": [
    "# \"vectors.tsv\"\n",
    "# index=False, header=False 로 저장\n",
    "df_w = pd.DataFrame(weights[1:len(vocab)])\n",
    "df_w.to_csv(\"vectors.tsv\", sep=\"\\t\", index=False, header=False)\n",
    "pd.read_csv(\"vectors.tsv\", sep=\"\\t\")"
   ]
  },
  {
   "cell_type": "markdown",
   "id": "7618f7b6",
   "metadata": {},
   "source": [
    "* 임베딩 프로젝터 : [링크](https://projector.tensorflow.org/?hl=ko&_gl=1*qcvijm*_ga*ODk4NzAxOTgzLjE3MDExNjQyNzM.*_ga_W0YLR4190T*MTcwMTgzNzYzMy42LjEuMTcwMTgzODU2Mi4wLjAuMA..)"
   ]
  },
  {
   "cell_type": "code",
   "execution_count": 39,
   "id": "ae83a74e",
   "metadata": {},
   "outputs": [],
   "source": [
    "# colab 사용시 파일 다운로드\n",
    "# try:\n",
    "#     from google.colab import files\n",
    "#     files.download('vectors.tsv')\n",
    "#     files.download('metadata.tsv')\n",
    "# except Exception:\n",
    "#     pass"
   ]
  }
 ],
 "metadata": {
  "kernelspec": {
   "display_name": "Python 3 (ipykernel)",
   "language": "python",
   "name": "python3"
  },
  "language_info": {
   "codemirror_mode": {
    "name": "ipython",
    "version": 3
   },
   "file_extension": ".py",
   "mimetype": "text/x-python",
   "name": "python",
   "nbconvert_exporter": "python",
   "pygments_lexer": "ipython3",
   "version": "3.11.4"
  },
  "toc": {
   "base_numbering": 1,
   "nav_menu": {},
   "number_sections": false,
   "sideBar": false,
   "skip_h1_title": false,
   "title_cell": "Table of Contents",
   "title_sidebar": "Contents",
   "toc_cell": false,
   "toc_position": {},
   "toc_section_display": false,
   "toc_window_display": false
  },
  "varInspector": {
   "cols": {
    "lenName": 16,
    "lenType": 16,
    "lenVar": 40
   },
   "kernels_config": {
    "python": {
     "delete_cmd_postfix": "",
     "delete_cmd_prefix": "del ",
     "library": "var_list.py",
     "varRefreshCmd": "print(var_dic_list())"
    },
    "r": {
     "delete_cmd_postfix": ") ",
     "delete_cmd_prefix": "rm(",
     "library": "var_list.r",
     "varRefreshCmd": "cat(var_dic_list()) "
    }
   },
   "types_to_exclude": [
    "module",
    "function",
    "builtin_function_or_method",
    "instance",
    "_Feature"
   ],
   "window_display": false
  }
 },
 "nbformat": 4,
 "nbformat_minor": 5
}
