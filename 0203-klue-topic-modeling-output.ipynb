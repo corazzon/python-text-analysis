{
 "cells": [
  {
   "cell_type": "markdown",
   "metadata": {
    "id": "1kpwaWyzo1Yr"
   },
   "source": [
    "## 라이브러리 로드"
   ]
  },
  {
   "cell_type": "code",
   "execution_count": null,
   "metadata": {
    "colab": {
     "base_uri": "https://localhost:8080/"
    },
    "executionInfo": {
     "elapsed": 4168,
     "status": "ok",
     "timestamp": 1695347885466,
     "user": {
      "displayName": "Joeun Park",
      "userId": "17163383815352082166"
     },
     "user_tz": -540
    },
    "id": "gWlEwF3FmwiW",
    "outputId": "83faf0bd-da35-4b2b-d495-5e437d5e5d8c"
   },
   "outputs": [],
   "source": [
    "# !pip install koreanize-matplotlib"
   ]
  },
  {
   "cell_type": "code",
   "execution_count": null,
   "metadata": {
    "executionInfo": {
     "elapsed": 1363,
     "status": "ok",
     "timestamp": 1695347886825,
     "user": {
      "displayName": "Joeun Park",
      "userId": "17163383815352082166"
     },
     "user_tz": -540
    },
    "id": "7jEmmKL0o1Ys"
   },
   "outputs": [],
   "source": [
    "# 필요 라이브러리를 로드합니다.\n",
    "import pandas as pd\n",
    "import numpy as np\n",
    "import seaborn as sns\n",
    "import matplotlib.pyplot as plt\n",
    "import koreanize_matplotlib"
   ]
  },
  {
   "cell_type": "markdown",
   "metadata": {
    "id": "3MzjjX3ho1Ys"
   },
   "source": [
    "## 데이터 로드\n",
    "* [KLUE Benchmark](https://klue-benchmark.com/)"
   ]
  },
  {
   "cell_type": "code",
   "execution_count": null,
   "metadata": {
    "colab": {
     "base_uri": "https://localhost:8080/"
    },
    "executionInfo": {
     "elapsed": 1768,
     "status": "ok",
     "timestamp": 1695348492900,
     "user": {
      "displayName": "Joeun Park",
      "userId": "17163383815352082166"
     },
     "user_tz": -540
    },
    "id": "Qdo8RVgomwiX",
    "outputId": "7c9e15da-9bfd-4ba7-96d3-23ad5e2bb5c9"
   },
   "outputs": [],
   "source": [
    "# read_json 으로 url 데이터 불러오기\n",
    "url = \"https://raw.githubusercontent.com/KLUE-benchmark/KLUE/main/klue_benchmark/ynat-v1.1/ynat-v1.1_train.json\"\n",
    "df = pd.read_json(url)\n",
    "df.shape"
   ]
  },
  {
   "cell_type": "code",
   "execution_count": null,
   "metadata": {
    "colab": {
     "base_uri": "https://localhost:8080/",
     "height": 293
    },
    "executionInfo": {
     "elapsed": 6,
     "status": "ok",
     "timestamp": 1695348492901,
     "user": {
      "displayName": "Joeun Park",
      "userId": "17163383815352082166"
     },
     "user_tz": -540
    },
    "id": "W3fN4JkkmwiX",
    "outputId": "81c87938-dc34-4f68-c319-eedaaf31fcc9"
   },
   "outputs": [],
   "source": [
    "df.head()"
   ]
  },
  {
   "cell_type": "code",
   "execution_count": null,
   "metadata": {
    "colab": {
     "base_uri": "https://localhost:8080/"
    },
    "executionInfo": {
     "elapsed": 279,
     "status": "ok",
     "timestamp": 1695348504395,
     "user": {
      "displayName": "Joeun Park",
      "userId": "17163383815352082166"
     },
     "user_tz": -540
    },
    "id": "j2MRNkRtmwiX",
    "outputId": "b64ddd9d-8aa9-4d96-c47e-38e29f5c6002"
   },
   "outputs": [],
   "source": [
    "df = df[df[\"label\"] == \"생활문화\"]\n",
    "df.shape"
   ]
  },
  {
   "cell_type": "markdown",
   "metadata": {
    "id": "52A6h91gmwiX"
   },
   "source": [
    "## TF-IDF"
   ]
  },
  {
   "cell_type": "code",
   "execution_count": null,
   "metadata": {
    "colab": {
     "base_uri": "https://localhost:8080/",
     "height": 74
    },
    "executionInfo": {
     "elapsed": 295,
     "status": "ok",
     "timestamp": 1695348507802,
     "user": {
      "displayName": "Joeun Park",
      "userId": "17163383815352082166"
     },
     "user_tz": -540
    },
    "id": "WCG39r_jmwiX",
    "outputId": "dd8a46cf-7b8f-4654-b784-8ff4ddd25751"
   },
   "outputs": [],
   "source": [
    "from sklearn.feature_extraction.text import TfidfVectorizer\n",
    "tfidfvect = TfidfVectorizer()\n",
    "tfidfvect"
   ]
  },
  {
   "cell_type": "code",
   "execution_count": null,
   "metadata": {
    "colab": {
     "base_uri": "https://localhost:8080/"
    },
    "executionInfo": {
     "elapsed": 374,
     "status": "ok",
     "timestamp": 1695348508465,
     "user": {
      "displayName": "Joeun Park",
      "userId": "17163383815352082166"
     },
     "user_tz": -540
    },
    "id": "X9Q7BrmHmwiX",
    "outputId": "baf542b1-4633-46f5-83c0-377a70ce3f9c"
   },
   "outputs": [],
   "source": [
    "dtm_tfidf = tfidfvect.fit_transform(df[\"title\"].dropna())\n",
    "dtm_tfidf"
   ]
  },
  {
   "cell_type": "code",
   "execution_count": null,
   "metadata": {
    "colab": {
     "base_uri": "https://localhost:8080/",
     "height": 437
    },
    "executionInfo": {
     "elapsed": 880,
     "status": "ok",
     "timestamp": 1695348510374,
     "user": {
      "displayName": "Joeun Park",
      "userId": "17163383815352082166"
     },
     "user_tz": -540
    },
    "id": "SpSS7OK4mwiY",
    "outputId": "269880fb-8a28-4682-acbe-1dda34d1da31"
   },
   "outputs": [],
   "source": [
    "df_dtm = pd.DataFrame(dtm_tfidf.toarray(), columns=tfidfvect.get_feature_names_out())\n",
    "df_dtm.sum().nlargest(50).plot.bar(figsize=(15, 4))"
   ]
  },
  {
   "cell_type": "markdown",
   "metadata": {
    "id": "RXCQLJKGo1Y3"
   },
   "source": [
    "## LDA 토픽모델링"
   ]
  },
  {
   "cell_type": "code",
   "execution_count": null,
   "metadata": {
    "executionInfo": {
     "elapsed": 2,
     "status": "ok",
     "timestamp": 1695348510719,
     "user": {
      "displayName": "Joeun Park",
      "userId": "17163383815352082166"
     },
     "user_tz": -540
    },
    "id": "X30dEpfqmwiY"
   },
   "outputs": [],
   "source": [
    "# 주제별로 상위 키워드를 막대그래프로 시각화합니다.\n",
    "def plot_top_words(model, feature_names, n_top_words, title):\n",
    "    fig, axes = plt.subplots(1, 5, figsize=(30, 15), sharex=True)\n",
    "    axes = axes.flatten()\n",
    "    for topic_idx, topic in enumerate(model.components_):\n",
    "        # 역순 정렬\n",
    "        top_features_ind = topic.argsort()[: -n_top_words - 1 : -1]\n",
    "        top_features = [feature_names[i] for i in top_features_ind]\n",
    "        weights = topic[top_features_ind]\n",
    "\n",
    "        ax = axes[topic_idx]\n",
    "        ax.barh(top_features, weights, height=0.7)\n",
    "        ax.set_title(f\"Topic {topic_idx +1}\",\n",
    "                     fontdict={\"fontsize\": 30})\n",
    "        ax.invert_yaxis()\n",
    "        ax.tick_params(axis=\"both\", which=\"major\", labelsize=20)\n",
    "        for i in \"top right\".split():\n",
    "            ax.spines[i].set_visible(False)\n",
    "        fig.suptitle(title, fontsize=40)\n",
    "\n",
    "    plt.subplots_adjust(top=0.90, bottom=0.05, wspace=0.90, hspace=0.3)\n",
    "    plt.show()"
   ]
  },
  {
   "cell_type": "code",
   "execution_count": null,
   "metadata": {
    "colab": {
     "base_uri": "https://localhost:8080/",
     "height": 74
    },
    "executionInfo": {
     "elapsed": 4192,
     "status": "ok",
     "timestamp": 1695348515366,
     "user": {
      "displayName": "Joeun Park",
      "userId": "17163383815352082166"
     },
     "user_tz": -540
    },
    "id": "w3b8NzMBmwiY",
    "outputId": "6e163551-a819-4bf3-8e41-cf41534993a5"
   },
   "outputs": [],
   "source": [
    "# LDA_model\n",
    "\n",
    "from sklearn.decomposition import LatentDirichletAllocation\n",
    "\n",
    "NUM_TOPICS = 5\n",
    "LDA_model = LatentDirichletAllocation(n_components=NUM_TOPICS, random_state=42)\n",
    "# LDA 모델을 학습시킵니다.\n",
    "LDA_model.fit(dtm_tfidf)"
   ]
  },
  {
   "cell_type": "code",
   "execution_count": null,
   "metadata": {
    "colab": {
     "base_uri": "https://localhost:8080/",
     "height": 851
    },
    "executionInfo": {
     "elapsed": 1273,
     "status": "ok",
     "timestamp": 1695348516636,
     "user": {
      "displayName": "Joeun Park",
      "userId": "17163383815352082166"
     },
     "user_tz": -540
    },
    "id": "rFrpXSQimwiY",
    "outputId": "c386fbad-aa99-4314-b806-d1df5bc71686"
   },
   "outputs": [],
   "source": [
    "n_top_words = 20\n",
    "\n",
    "plot_top_words(\n",
    "    LDA_model, tfidfvect.get_feature_names_out(), n_top_words, \"Topics in LDA model (LatentDirichletAllocation)\"\n",
    ")"
   ]
  },
  {
   "cell_type": "markdown",
   "metadata": {
    "id": "vbI_90bamwiY"
   },
   "source": [
    "## NMF 토픽모델링"
   ]
  },
  {
   "cell_type": "code",
   "execution_count": null,
   "metadata": {
    "colab": {
     "base_uri": "https://localhost:8080/"
    },
    "executionInfo": {
     "elapsed": 28359,
     "status": "ok",
     "timestamp": 1695348544993,
     "user": {
      "displayName": "Joeun Park",
      "userId": "17163383815352082166"
     },
     "user_tz": -540
    },
    "id": "Pxacv_bMmwiY",
    "outputId": "81c0c895-75dc-4800-c87d-7311609a6cd3"
   },
   "outputs": [],
   "source": [
    "# nmf_model\n",
    "from sklearn.decomposition import NMF\n",
    "\n",
    "n_samples = 2000\n",
    "n_features = 1000\n",
    "n_components = 5\n",
    "n_top_words = 20\n",
    "\n",
    "# Fit the NMF model\n",
    "print(\n",
    "    \"Fitting the NMF model (Frobenius norm) with tf-idf features, \"\n",
    "    \"n_samples=%d and n_features=%d...\" % (n_samples, n_features)\n",
    ")\n",
    "\n",
    "nmf_model = NMF(n_components=n_components, random_state=42, l1_ratio=0.5).fit(df_dtm)"
   ]
  },
  {
   "cell_type": "code",
   "execution_count": null,
   "metadata": {
    "colab": {
     "base_uri": "https://localhost:8080/",
     "height": 860
    },
    "executionInfo": {
     "elapsed": 1890,
     "status": "ok",
     "timestamp": 1695348546879,
     "user": {
      "displayName": "Joeun Park",
      "userId": "17163383815352082166"
     },
     "user_tz": -540
    },
    "id": "nlg0zSLFmwiZ",
    "outputId": "342672e2-107b-489e-b32b-0b55dcb96ea1"
   },
   "outputs": [],
   "source": [
    "plot_top_words(\n",
    "    nmf_model, tfidfvect.get_feature_names_out(), n_top_words, \"Topics in NMF model (Frobenius norm)\"\n",
    ")"
   ]
  },
  {
   "cell_type": "code",
   "execution_count": null,
   "metadata": {
    "id": "NUJKkYAomwiZ"
   },
   "outputs": [],
   "source": []
  },
  {
   "cell_type": "code",
   "execution_count": null,
   "metadata": {
    "id": "Au0rBeTcmwiZ"
   },
   "outputs": [],
   "source": []
  },
  {
   "cell_type": "code",
   "execution_count": null,
   "metadata": {
    "id": "8QWVdsUTmwiZ"
   },
   "outputs": [],
   "source": []
  },
  {
   "cell_type": "code",
   "execution_count": null,
   "metadata": {
    "id": "afeliFmnmwiZ"
   },
   "outputs": [],
   "source": []
  }
 ],
 "metadata": {
  "colab": {
   "provenance": [
    {
     "file_id": "1Gf96ryVUeKp9an732gDokUT7RzE9fZNq",
     "timestamp": 1695347852821
    }
   ]
  },
  "kernelspec": {
   "display_name": "Python 3 (ipykernel)",
   "language": "python",
   "name": "python3"
  },
  "language_info": {
   "codemirror_mode": {
    "name": "ipython",
    "version": 3
   },
   "file_extension": ".py",
   "mimetype": "text/x-python",
   "name": "python",
   "nbconvert_exporter": "python",
   "pygments_lexer": "ipython3",
   "version": "3.11.4"
  },
  "toc": {
   "base_numbering": 1,
   "nav_menu": {},
   "number_sections": true,
   "sideBar": true,
   "skip_h1_title": false,
   "title_cell": "Table of Contents",
   "title_sidebar": "Contents",
   "toc_cell": false,
   "toc_position": {
    "height": "calc(100% - 180px)",
    "left": "10px",
    "top": "150px",
    "width": "255.998px"
   },
   "toc_section_display": true,
   "toc_window_display": true
  },
  "varInspector": {
   "cols": {
    "lenName": 16,
    "lenType": 16,
    "lenVar": 40
   },
   "kernels_config": {
    "python": {
     "delete_cmd_postfix": "",
     "delete_cmd_prefix": "del ",
     "library": "var_list.py",
     "varRefreshCmd": "print(var_dic_list())"
    },
    "r": {
     "delete_cmd_postfix": ") ",
     "delete_cmd_prefix": "rm(",
     "library": "var_list.r",
     "varRefreshCmd": "cat(var_dic_list()) "
    }
   },
   "types_to_exclude": [
    "module",
    "function",
    "builtin_function_or_method",
    "instance",
    "_Feature"
   ],
   "window_display": false
  }
 },
 "nbformat": 4,
 "nbformat_minor": 1
}
