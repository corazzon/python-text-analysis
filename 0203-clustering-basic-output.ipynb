{
 "cells": [
  {
   "cell_type": "markdown",
   "id": "fd4ac211",
   "metadata": {
    "id": "fd4ac211"
   },
   "source": [
    "🌱 인프런 📚 모두의 한국어 텍스트 분석과 자연어처리 with 파이썬 🐍 https://inf.run/FX4TP\n",
    "\n",
    "\n",
    "[![Open In Colab](https://colab.research.google.com/assets/colab-badge.svg)](https://colab.research.google.com/github/corazzon/python-text-analysis/blob/main/0203-clustering-basic-output.ipynb)\n",
    "\n",
    "## 라이브러리 로드"
   ]
  },
  {
   "cell_type": "code",
   "execution_count": null,
   "id": "bf1b2e05",
   "metadata": {
    "colab": {
     "base_uri": "https://localhost:8080/"
    },
    "executionInfo": {
     "elapsed": 29904,
     "status": "ok",
     "timestamp": 1695350631690,
     "user": {
      "displayName": "Joeun Park",
      "userId": "17163383815352082166"
     },
     "user_tz": -540
    },
    "id": "bf1b2e05",
    "outputId": "69a26819-2d89-46c4-e29b-d986cd723676"
   },
   "outputs": [],
   "source": [
    "# !pip install koreanize-matplotlib\n",
    "# !pip install pecab"
   ]
  },
  {
   "cell_type": "code",
   "execution_count": 1,
   "id": "114d072c",
   "metadata": {
    "executionInfo": {
     "elapsed": 261,
     "status": "ok",
     "timestamp": 1695350643736,
     "user": {
      "displayName": "Joeun Park",
      "userId": "17163383815352082166"
     },
     "user_tz": -540
    },
    "id": "114d072c"
   },
   "outputs": [],
   "source": [
    "import pandas as pd\n",
    "from sklearn.feature_extraction.text import CountVectorizer, TfidfVectorizer\n",
    "from sklearn.cluster import KMeans\n",
    "import seaborn as sns\n",
    "import matplotlib.pyplot as plt\n",
    "import koreanize_matplotlib"
   ]
  },
  {
   "cell_type": "markdown",
   "id": "21ae922e",
   "metadata": {
    "id": "21ae922e"
   },
   "source": [
    "## 예시 텍스트"
   ]
  },
  {
   "cell_type": "code",
   "execution_count": 32,
   "id": "22aab1e4",
   "metadata": {
    "executionInfo": {
     "elapsed": 3,
     "status": "ok",
     "timestamp": 1695350644879,
     "user": {
      "displayName": "Joeun Park",
      "userId": "17163383815352082166"
     },
     "user_tz": -540
    },
    "id": "22aab1e4"
   },
   "outputs": [],
   "source": [
    "# 음식 리뷰 예제 텍스트 데이터\n",
    "corpus = [\n",
    "    \"샐러드 맛이 깔끔해서 좋아요.\",\n",
    "    \"주문한 음식이 늦게 와서 배고팠어요.\",\n",
    "    \"피자가 맛있어요.\",\n",
    "    \"라면이 너무 짜게 나왔어요.\",\n",
    "    \"배달된 치킨이 맛있어요.\",\n",
    "    \"메뉴 설명보다 양이 적어요.\",\n",
    "    \"주문한 음식이 다른 것으로 와서 다시 주문했어요.\",\n",
    "    \"맛은 좋은데 양이 좀 적은 편이에요.\",\n",
    "    \"떡볶이의 매운맛이 적절해요.\",\n",
    "    \"초밥이 신선해서 좋았어요.\",\n",
    "    \"빵이 부드럽고 맛있네요!\",\n",
    "    \"스테이크가 너무 질겼어요.\",\n",
    "    \"샐러드의 드레싱이 너무 강했어요.\",\n",
    "    \"나초의 치즈소스가 맛있었어요.\",\n",
    "    \"파스타가 약간 덜 익은 것 같아요.\",\n",
    "    \"커피가 너무 진해서 물을 더 추가했어요.\",\n",
    "    \"디저트는 달지 않아서 좋았습니다.\",\n",
    "    \"음료가 너무 달아서 다음엔 당도 조절할게요.\",\n",
    "    \"피자 도우가 너무 두꺼워서 먹기 힘들었어요.\",\n",
    "    \"햄버거의 빵이 너무 딱딱해요.\",\n",
    "    \"감자튀김이 너무 기름져서 느끼했어요.\",\n",
    "    \"치즈케이크가 아주 부드럽고 맛있어요.\"\n",
    "]"
   ]
  },
  {
   "cell_type": "markdown",
   "id": "d0d1c334",
   "metadata": {
    "id": "d0d1c334"
   },
   "source": [
    "## 전처리\n",
    "### 형태소 분석기를 통한 조사 구두점 제거\n",
    "* https://github.com/hyunwoongko/pecab\n",
    "* 조사, 구두점 제거\n",
    "* 품사태그표 : \n",
    "    * https://konlpy.org/ko/v0.6.0/morph/\n",
    "    * https://docs.google.com/spreadsheets/d/1OGAjUvalBuX-oZvZ_-9tEfYD2gQe7hTGsgUpiiBSXI8/edit#gid=0"
   ]
  },
  {
   "cell_type": "code",
   "execution_count": 9,
   "id": "561fb5dd",
   "metadata": {
    "colab": {
     "base_uri": "https://localhost:8080/"
    },
    "executionInfo": {
     "elapsed": 6,
     "status": "ok",
     "timestamp": 1695350646397,
     "user": {
      "displayName": "Joeun Park",
      "userId": "17163383815352082166"
     },
     "user_tz": -540
    },
    "id": "561fb5dd",
    "outputId": "721f0430-3f88-4c3f-c02a-cb651bb66e21"
   },
   "outputs": [
    {
     "data": {
      "text/plain": [
       "<pecab._pecab.PeCab at 0x12afe7e10>"
      ]
     },
     "execution_count": 9,
     "metadata": {},
     "output_type": "execute_result"
    }
   ],
   "source": [
    "# pecab\n",
    "from pecab import PeCab\n",
    "\n",
    "pecab = PeCab()\n",
    "pecab"
   ]
  },
  {
   "cell_type": "code",
   "execution_count": 33,
   "id": "6d096918",
   "metadata": {
    "colab": {
     "base_uri": "https://localhost:8080/"
    },
    "executionInfo": {
     "elapsed": 253,
     "status": "ok",
     "timestamp": 1695351004568,
     "user": {
      "displayName": "Joeun Park",
      "userId": "17163383815352082166"
     },
     "user_tz": -540
    },
    "id": "6d096918",
    "outputId": "32b1206a-7356-4067-c626-d1a058aaab6e"
   },
   "outputs": [
    {
     "data": {
      "text/plain": [
       "['샐러드 맛 깔끔해서 좋아요',\n",
       " '주문한 음식 늦게 와서 배고팠어요',\n",
       " '피자 맛있어요',\n",
       " '라면 너무 짜게 나왔어요',\n",
       " '배달된 치킨 맛있어요',\n",
       " '메뉴 설명 양 적어요',\n",
       " '주문한 음식 다른 것 와서 다시 주문했어요',\n",
       " '맛 좋은데 양 좀 적은 편이에요',\n",
       " '떡볶이 매운맛 적절해요',\n",
       " '초밥 신선해서 좋았어요',\n",
       " '빵 부드럽고 맛있네요',\n",
       " '스테이크 너무 질겼어요',\n",
       " '샐러드 드레싱 너무 강했어요',\n",
       " '나초 치즈소스 맛있었어요',\n",
       " '파스타 약간 덜 익은 것 같아요',\n",
       " '커피 너무 진해서 물 더 추가했어요',\n",
       " '디저트 달지 않아서 좋았습니다',\n",
       " '음료 너무 달아서 다음 당도 조절할게요',\n",
       " '피자 도우 너무 두꺼워서 먹기 힘들었어요',\n",
       " '햄버거 빵 너무 딱딱해요',\n",
       " '감자튀김 너무 기름져서 느끼했어요',\n",
       " '치즈케이크 아주 부드럽고 맛있어요']"
      ]
     },
     "execution_count": 33,
     "metadata": {},
     "output_type": "execute_result"
    }
   ],
   "source": [
    "corpus_pecab = []\n",
    "for corpus_text in corpus:\n",
    "    join_text = []\n",
    "    for text, pos in pecab.pos(corpus_text, drop_space=False):\n",
    "        if (not pos.startswith(\"J\")) and (pos not in [\"SF\"]):\n",
    "            join_text.append(text)\n",
    "    corpus_pecab.append(\"\".join(join_text))\n",
    "corpus_pecab"
   ]
  },
  {
   "cell_type": "markdown",
   "id": "d8aa7023",
   "metadata": {
    "id": "d8aa7023"
   },
   "source": [
    "## 텍스트 벡터화\n",
    "* https://scikit-learn.org/stable/modules/classes.html#module-sklearn.feature_extraction.text"
   ]
  },
  {
   "cell_type": "code",
   "execution_count": 95,
   "id": "8be6019b",
   "metadata": {
    "colab": {
     "base_uri": "https://localhost:8080/"
    },
    "executionInfo": {
     "elapsed": 312,
     "status": "ok",
     "timestamp": 1695351807188,
     "user": {
      "displayName": "Joeun Park",
      "userId": "17163383815352082166"
     },
     "user_tz": -540
    },
    "id": "8be6019b",
    "outputId": "695a468d-43b7-445e-c547-3578af72dc7a"
   },
   "outputs": [
    {
     "data": {
      "text/plain": [
       "<22x67 sparse matrix of type '<class 'numpy.float64'>'\n",
       "\twith 82 stored elements in Compressed Sparse Row format>"
      ]
     },
     "execution_count": 95,
     "metadata": {},
     "output_type": "execute_result"
    }
   ],
   "source": [
    "# vectorizer\n",
    "vectorizer = TfidfVectorizer()\n",
    "dtm = vectorizer.fit_transform(corpus_pecab)\n",
    "dtm"
   ]
  },
  {
   "cell_type": "code",
   "execution_count": 96,
   "id": "9ac4557e",
   "metadata": {},
   "outputs": [
    {
     "data": {
      "text/plain": [
       "array(['감자튀김', '강했어요', '같아요', '기름져서', '깔끔해서', '나왔어요', '나초', '너무', '느끼했어요',\n",
       "       '늦게', '다른', '다시', '다음', '달아서', '달지', '당도', '도우', '두꺼워서', '드레싱',\n",
       "       '디저트', '딱딱해요', '떡볶이', '라면', '맛있네요', '맛있어요', '맛있었어요', '매운맛', '먹기',\n",
       "       '메뉴', '배고팠어요', '배달된', '부드럽고', '샐러드', '설명', '스테이크', '신선해서', '아주',\n",
       "       '않아서', '약간', '와서', '음료', '음식', '익은', '적어요', '적은', '적절해요', '조절할게요',\n",
       "       '좋아요', '좋았습니다', '좋았어요', '좋은데', '주문한', '주문했어요', '진해서', '질겼어요', '짜게',\n",
       "       '초밥', '추가했어요', '치즈소스', '치즈케이크', '치킨', '커피', '파스타', '편이에요', '피자',\n",
       "       '햄버거', '힘들었어요'], dtype=object)"
      ]
     },
     "execution_count": 96,
     "metadata": {},
     "output_type": "execute_result"
    }
   ],
   "source": [
    "vectorizer.get_feature_names_out()"
   ]
  },
  {
   "cell_type": "code",
   "execution_count": 97,
   "id": "c4159275",
   "metadata": {
    "colab": {
     "base_uri": "https://localhost:8080/",
     "height": 360
    },
    "executionInfo": {
     "elapsed": 1217,
     "status": "ok",
     "timestamp": 1695351809587,
     "user": {
      "displayName": "Joeun Park",
      "userId": "17163383815352082166"
     },
     "user_tz": -540
    },
    "id": "c4159275",
    "outputId": "020e10b9-59d2-4b48-d206-a5c0cde913a9"
   },
   "outputs": [
    {
     "data": {
      "text/plain": [
       "(22, 67)"
      ]
     },
     "execution_count": 97,
     "metadata": {},
     "output_type": "execute_result"
    }
   ],
   "source": [
    "df_dtm = pd.DataFrame(dtm.toarray(), columns=vectorizer.get_feature_names_out())\n",
    "df_dtm.shape"
   ]
  },
  {
   "cell_type": "markdown",
   "id": "5e604c00",
   "metadata": {
    "id": "5e604c00"
   },
   "source": [
    "## 군집화\n",
    "\n",
    "* https://scikit-learn.org/stable/modules/clustering.html#k-means\n",
    "* https://scikit-learn.org/stable/modules/generated/sklearn.cluster.KMeans.html"
   ]
  },
  {
   "cell_type": "code",
   "execution_count": 120,
   "id": "ec808348",
   "metadata": {
    "colab": {
     "base_uri": "https://localhost:8080/"
    },
    "executionInfo": {
     "elapsed": 355,
     "status": "ok",
     "timestamp": 1695351811214,
     "user": {
      "displayName": "Joeun Park",
      "userId": "17163383815352082166"
     },
     "user_tz": -540
    },
    "id": "ec808348",
    "outputId": "c5d3378d-2a19-4b10-8502-7844642663f0"
   },
   "outputs": [
    {
     "data": {
      "text/plain": [
       "array([1, 2, 5, 1, 5, 1, 2, 6, 0, 1, 4, 1, 1, 1, 1, 1, 1, 1, 3, 1, 1, 4],\n",
       "      dtype=int32)"
      ]
     },
     "execution_count": 120,
     "metadata": {},
     "output_type": "execute_result"
    }
   ],
   "source": [
    "# K-means 군집화\n",
    "num_clusters = 7 \n",
    "from sklearn.cluster import KMeans\n",
    "\n",
    "kmeans = KMeans(n_clusters=num_clusters, n_init=\"auto\", random_state=42)\n",
    "clusters = kmeans.fit(df_dtm).predict(df_dtm)\n",
    "clusters"
   ]
  },
  {
   "cell_type": "code",
   "execution_count": 121,
   "id": "20e370b0",
   "metadata": {},
   "outputs": [
    {
     "data": {
      "text/plain": [
       "array([1, 2, 5, 1, 5, 1, 2, 6, 0, 1, 4, 1, 1, 1, 1, 1, 1, 1, 3, 1, 1, 4],\n",
       "      dtype=int32)"
      ]
     },
     "execution_count": 121,
     "metadata": {},
     "output_type": "execute_result"
    }
   ],
   "source": [
    "# labels_\n",
    "kmeans.labels_"
   ]
  },
  {
   "cell_type": "markdown",
   "id": "c9bf7515",
   "metadata": {
    "id": "c9bf7515"
   },
   "source": [
    "## 군집화 결과\n",
    "* 같은 내용의 텍스트끼리 군집화가 되었는지 확인"
   ]
  },
  {
   "cell_type": "code",
   "execution_count": 122,
   "id": "60e97c10",
   "metadata": {
    "colab": {
     "base_uri": "https://localhost:8080/",
     "height": 613
    },
    "executionInfo": {
     "elapsed": 3,
     "status": "ok",
     "timestamp": 1695351813541,
     "user": {
      "displayName": "Joeun Park",
      "userId": "17163383815352082166"
     },
     "user_tz": -540
    },
    "id": "60e97c10",
    "outputId": "8be06355-e93d-4db5-f2ca-1411971beca5"
   },
   "outputs": [
    {
     "data": {
      "text/html": [
       "<div>\n",
       "<style scoped>\n",
       "    .dataframe tbody tr th:only-of-type {\n",
       "        vertical-align: middle;\n",
       "    }\n",
       "\n",
       "    .dataframe tbody tr th {\n",
       "        vertical-align: top;\n",
       "    }\n",
       "\n",
       "    .dataframe thead th {\n",
       "        text-align: right;\n",
       "    }\n",
       "</style>\n",
       "<table border=\"1\" class=\"dataframe\">\n",
       "  <thead>\n",
       "    <tr style=\"text-align: right;\">\n",
       "      <th></th>\n",
       "      <th>corpus</th>\n",
       "      <th>label</th>\n",
       "    </tr>\n",
       "  </thead>\n",
       "  <tbody>\n",
       "    <tr>\n",
       "      <th>8</th>\n",
       "      <td>떡볶이의 매운맛이 적절해요.</td>\n",
       "      <td>0</td>\n",
       "    </tr>\n",
       "    <tr>\n",
       "      <th>14</th>\n",
       "      <td>파스타가 약간 덜 익은 것 같아요.</td>\n",
       "      <td>1</td>\n",
       "    </tr>\n",
       "    <tr>\n",
       "      <th>13</th>\n",
       "      <td>나초의 치즈소스가 맛있었어요.</td>\n",
       "      <td>1</td>\n",
       "    </tr>\n",
       "    <tr>\n",
       "      <th>12</th>\n",
       "      <td>샐러드의 드레싱이 너무 강했어요.</td>\n",
       "      <td>1</td>\n",
       "    </tr>\n",
       "    <tr>\n",
       "      <th>11</th>\n",
       "      <td>스테이크가 너무 질겼어요.</td>\n",
       "      <td>1</td>\n",
       "    </tr>\n",
       "    <tr>\n",
       "      <th>20</th>\n",
       "      <td>감자튀김이 너무 기름져서 느끼했어요.</td>\n",
       "      <td>1</td>\n",
       "    </tr>\n",
       "    <tr>\n",
       "      <th>9</th>\n",
       "      <td>초밥이 신선해서 좋았어요.</td>\n",
       "      <td>1</td>\n",
       "    </tr>\n",
       "    <tr>\n",
       "      <th>15</th>\n",
       "      <td>커피가 너무 진해서 물을 더 추가했어요.</td>\n",
       "      <td>1</td>\n",
       "    </tr>\n",
       "    <tr>\n",
       "      <th>0</th>\n",
       "      <td>샐러드 맛이 깔끔해서 좋아요.</td>\n",
       "      <td>1</td>\n",
       "    </tr>\n",
       "    <tr>\n",
       "      <th>5</th>\n",
       "      <td>메뉴 설명보다 양이 적어요.</td>\n",
       "      <td>1</td>\n",
       "    </tr>\n",
       "    <tr>\n",
       "      <th>3</th>\n",
       "      <td>라면이 너무 짜게 나왔어요.</td>\n",
       "      <td>1</td>\n",
       "    </tr>\n",
       "    <tr>\n",
       "      <th>19</th>\n",
       "      <td>햄버거의 빵이 너무 딱딱해요.</td>\n",
       "      <td>1</td>\n",
       "    </tr>\n",
       "    <tr>\n",
       "      <th>17</th>\n",
       "      <td>음료가 너무 달아서 다음엔 당도 조절할게요.</td>\n",
       "      <td>1</td>\n",
       "    </tr>\n",
       "    <tr>\n",
       "      <th>16</th>\n",
       "      <td>디저트는 달지 않아서 좋았습니다.</td>\n",
       "      <td>1</td>\n",
       "    </tr>\n",
       "    <tr>\n",
       "      <th>6</th>\n",
       "      <td>주문한 음식이 다른 것으로 와서 다시 주문했어요.</td>\n",
       "      <td>2</td>\n",
       "    </tr>\n",
       "    <tr>\n",
       "      <th>1</th>\n",
       "      <td>주문한 음식이 늦게 와서 배고팠어요.</td>\n",
       "      <td>2</td>\n",
       "    </tr>\n",
       "    <tr>\n",
       "      <th>18</th>\n",
       "      <td>피자 도우가 너무 두꺼워서 먹기 힘들었어요.</td>\n",
       "      <td>3</td>\n",
       "    </tr>\n",
       "    <tr>\n",
       "      <th>10</th>\n",
       "      <td>빵이 부드럽고 맛있네요!</td>\n",
       "      <td>4</td>\n",
       "    </tr>\n",
       "    <tr>\n",
       "      <th>21</th>\n",
       "      <td>치즈케이크가 아주 부드럽고 맛있어요.</td>\n",
       "      <td>4</td>\n",
       "    </tr>\n",
       "    <tr>\n",
       "      <th>4</th>\n",
       "      <td>배달된 치킨이 맛있어요.</td>\n",
       "      <td>5</td>\n",
       "    </tr>\n",
       "    <tr>\n",
       "      <th>2</th>\n",
       "      <td>피자가 맛있어요.</td>\n",
       "      <td>5</td>\n",
       "    </tr>\n",
       "    <tr>\n",
       "      <th>7</th>\n",
       "      <td>맛은 좋은데 양이 좀 적은 편이에요.</td>\n",
       "      <td>6</td>\n",
       "    </tr>\n",
       "  </tbody>\n",
       "</table>\n",
       "</div>"
      ],
      "text/plain": [
       "                         corpus  label\n",
       "8               떡볶이의 매운맛이 적절해요.      0\n",
       "14          파스타가 약간 덜 익은 것 같아요.      1\n",
       "13             나초의 치즈소스가 맛있었어요.      1\n",
       "12           샐러드의 드레싱이 너무 강했어요.      1\n",
       "11               스테이크가 너무 질겼어요.      1\n",
       "20         감자튀김이 너무 기름져서 느끼했어요.      1\n",
       "9                초밥이 신선해서 좋았어요.      1\n",
       "15       커피가 너무 진해서 물을 더 추가했어요.      1\n",
       "0              샐러드 맛이 깔끔해서 좋아요.      1\n",
       "5               메뉴 설명보다 양이 적어요.      1\n",
       "3               라면이 너무 짜게 나왔어요.      1\n",
       "19             햄버거의 빵이 너무 딱딱해요.      1\n",
       "17     음료가 너무 달아서 다음엔 당도 조절할게요.      1\n",
       "16           디저트는 달지 않아서 좋았습니다.      1\n",
       "6   주문한 음식이 다른 것으로 와서 다시 주문했어요.      2\n",
       "1          주문한 음식이 늦게 와서 배고팠어요.      2\n",
       "18     피자 도우가 너무 두꺼워서 먹기 힘들었어요.      3\n",
       "10                빵이 부드럽고 맛있네요!      4\n",
       "21         치즈케이크가 아주 부드럽고 맛있어요.      4\n",
       "4                 배달된 치킨이 맛있어요.      5\n",
       "2                     피자가 맛있어요.      5\n",
       "7          맛은 좋은데 양이 좀 적은 편이에요.      6"
      ]
     },
     "execution_count": 122,
     "metadata": {},
     "output_type": "execute_result"
    }
   ],
   "source": [
    "df = pd.DataFrame()\n",
    "df[\"corpus\"] = corpus\n",
    "df[\"label\"] = kmeans.labels_\n",
    "df.sort_values(\"label\")"
   ]
  },
  {
   "cell_type": "code",
   "execution_count": 123,
   "id": "29bf9727",
   "metadata": {},
   "outputs": [
    {
     "data": {
      "text/plain": [
       "label\n",
       "1    13\n",
       "2     2\n",
       "5     2\n",
       "4     2\n",
       "6     1\n",
       "0     1\n",
       "3     1\n",
       "Name: count, dtype: int64"
      ]
     },
     "execution_count": 123,
     "metadata": {},
     "output_type": "execute_result"
    }
   ],
   "source": [
    "df[\"label\"].value_counts()"
   ]
  },
  {
   "cell_type": "markdown",
   "id": "dd09f7ae",
   "metadata": {},
   "source": [
    "### 차원축소와 시각화\n",
    "* https://scikit-learn.org/stable/modules/generated/sklearn.manifold.TSNE.html\n",
    "* 실제 텍스트와 label_ 값이 비슷한 의미의 텍스트끼리 군집화 되었는지 차원 축소기법을 통해 2차원 평면에 표현해 봅니다."
   ]
  },
  {
   "cell_type": "code",
   "execution_count": 124,
   "id": "d1d4ac15",
   "metadata": {},
   "outputs": [
    {
     "data": {
      "text/plain": [
       "(22, 67)"
      ]
     },
     "execution_count": 124,
     "metadata": {},
     "output_type": "execute_result"
    }
   ],
   "source": [
    "df_dtm.shape"
   ]
  },
  {
   "cell_type": "code",
   "execution_count": 125,
   "id": "ce30f7d5",
   "metadata": {
    "executionInfo": {
     "elapsed": 386,
     "status": "ok",
     "timestamp": 1695351744417,
     "user": {
      "displayName": "Joeun Park",
      "userId": "17163383815352082166"
     },
     "user_tz": -540
    },
    "id": "ce30f7d5"
   },
   "outputs": [],
   "source": [
    "# t-SNE (t-distributed Stochastic Neighbor Embedding)\n",
    "from sklearn.manifold import TSNE\n",
    "\n",
    "# help(TSNE)\n",
    "tsne = TSNE(n_components=2, perplexity=10, random_state=42)\n",
    "tsne_result = tsne.fit_transform(df_dtm)"
   ]
  },
  {
   "cell_type": "code",
   "execution_count": 126,
   "id": "7cd23d81",
   "metadata": {},
   "outputs": [
    {
     "data": {
      "text/html": [
       "<div>\n",
       "<style scoped>\n",
       "    .dataframe tbody tr th:only-of-type {\n",
       "        vertical-align: middle;\n",
       "    }\n",
       "\n",
       "    .dataframe tbody tr th {\n",
       "        vertical-align: top;\n",
       "    }\n",
       "\n",
       "    .dataframe thead th {\n",
       "        text-align: right;\n",
       "    }\n",
       "</style>\n",
       "<table border=\"1\" class=\"dataframe\">\n",
       "  <thead>\n",
       "    <tr style=\"text-align: right;\">\n",
       "      <th></th>\n",
       "      <th>x</th>\n",
       "      <th>y</th>\n",
       "      <th>corpus</th>\n",
       "      <th>label</th>\n",
       "    </tr>\n",
       "  </thead>\n",
       "  <tbody>\n",
       "    <tr>\n",
       "      <th>0</th>\n",
       "      <td>1.981525</td>\n",
       "      <td>3.346380</td>\n",
       "      <td>샐러드 맛이 깔끔해서 좋아요.</td>\n",
       "      <td>1</td>\n",
       "    </tr>\n",
       "    <tr>\n",
       "      <th>1</th>\n",
       "      <td>0.025337</td>\n",
       "      <td>-9.345027</td>\n",
       "      <td>주문한 음식이 늦게 와서 배고팠어요.</td>\n",
       "      <td>2</td>\n",
       "    </tr>\n",
       "    <tr>\n",
       "      <th>2</th>\n",
       "      <td>-14.553224</td>\n",
       "      <td>-0.477301</td>\n",
       "      <td>피자가 맛있어요.</td>\n",
       "      <td>5</td>\n",
       "    </tr>\n",
       "    <tr>\n",
       "      <th>3</th>\n",
       "      <td>-2.886031</td>\n",
       "      <td>19.599838</td>\n",
       "      <td>라면이 너무 짜게 나왔어요.</td>\n",
       "      <td>1</td>\n",
       "    </tr>\n",
       "    <tr>\n",
       "      <th>4</th>\n",
       "      <td>-18.636333</td>\n",
       "      <td>-2.218875</td>\n",
       "      <td>배달된 치킨이 맛있어요.</td>\n",
       "      <td>5</td>\n",
       "    </tr>\n",
       "    <tr>\n",
       "      <th>5</th>\n",
       "      <td>-38.751343</td>\n",
       "      <td>-3.634021</td>\n",
       "      <td>메뉴 설명보다 양이 적어요.</td>\n",
       "      <td>1</td>\n",
       "    </tr>\n",
       "    <tr>\n",
       "      <th>6</th>\n",
       "      <td>3.398985</td>\n",
       "      <td>-8.017451</td>\n",
       "      <td>주문한 음식이 다른 것으로 와서 다시 주문했어요.</td>\n",
       "      <td>2</td>\n",
       "    </tr>\n",
       "    <tr>\n",
       "      <th>7</th>\n",
       "      <td>-7.759202</td>\n",
       "      <td>-29.874292</td>\n",
       "      <td>맛은 좋은데 양이 좀 적은 편이에요.</td>\n",
       "      <td>6</td>\n",
       "    </tr>\n",
       "    <tr>\n",
       "      <th>8</th>\n",
       "      <td>23.096228</td>\n",
       "      <td>-7.471128</td>\n",
       "      <td>떡볶이의 매운맛이 적절해요.</td>\n",
       "      <td>0</td>\n",
       "    </tr>\n",
       "    <tr>\n",
       "      <th>9</th>\n",
       "      <td>-33.593315</td>\n",
       "      <td>20.094219</td>\n",
       "      <td>초밥이 신선해서 좋았어요.</td>\n",
       "      <td>1</td>\n",
       "    </tr>\n",
       "    <tr>\n",
       "      <th>10</th>\n",
       "      <td>-11.496445</td>\n",
       "      <td>-10.310987</td>\n",
       "      <td>빵이 부드럽고 맛있네요!</td>\n",
       "      <td>4</td>\n",
       "    </tr>\n",
       "    <tr>\n",
       "      <th>11</th>\n",
       "      <td>-2.864507</td>\n",
       "      <td>13.399057</td>\n",
       "      <td>스테이크가 너무 질겼어요.</td>\n",
       "      <td>1</td>\n",
       "    </tr>\n",
       "    <tr>\n",
       "      <th>12</th>\n",
       "      <td>0.020275</td>\n",
       "      <td>6.712429</td>\n",
       "      <td>샐러드의 드레싱이 너무 강했어요.</td>\n",
       "      <td>1</td>\n",
       "    </tr>\n",
       "    <tr>\n",
       "      <th>13</th>\n",
       "      <td>-27.980890</td>\n",
       "      <td>-23.905991</td>\n",
       "      <td>나초의 치즈소스가 맛있었어요.</td>\n",
       "      <td>1</td>\n",
       "    </tr>\n",
       "    <tr>\n",
       "      <th>14</th>\n",
       "      <td>12.381809</td>\n",
       "      <td>-25.949480</td>\n",
       "      <td>파스타가 약간 덜 익은 것 같아요.</td>\n",
       "      <td>1</td>\n",
       "    </tr>\n",
       "    <tr>\n",
       "      <th>15</th>\n",
       "      <td>-6.857045</td>\n",
       "      <td>10.008870</td>\n",
       "      <td>커피가 너무 진해서 물을 더 추가했어요.</td>\n",
       "      <td>1</td>\n",
       "    </tr>\n",
       "    <tr>\n",
       "      <th>16</th>\n",
       "      <td>25.070839</td>\n",
       "      <td>14.880673</td>\n",
       "      <td>디저트는 달지 않아서 좋았습니다.</td>\n",
       "      <td>1</td>\n",
       "    </tr>\n",
       "    <tr>\n",
       "      <th>17</th>\n",
       "      <td>2.669381</td>\n",
       "      <td>15.031615</td>\n",
       "      <td>음료가 너무 달아서 다음엔 당도 조절할게요.</td>\n",
       "      <td>1</td>\n",
       "    </tr>\n",
       "    <tr>\n",
       "      <th>18</th>\n",
       "      <td>-11.961347</td>\n",
       "      <td>3.754031</td>\n",
       "      <td>피자 도우가 너무 두꺼워서 먹기 힘들었어요.</td>\n",
       "      <td>3</td>\n",
       "    </tr>\n",
       "    <tr>\n",
       "      <th>19</th>\n",
       "      <td>-6.634336</td>\n",
       "      <td>16.073687</td>\n",
       "      <td>햄버거의 빵이 너무 딱딱해요.</td>\n",
       "      <td>1</td>\n",
       "    </tr>\n",
       "    <tr>\n",
       "      <th>20</th>\n",
       "      <td>-11.396762</td>\n",
       "      <td>14.342366</td>\n",
       "      <td>감자튀김이 너무 기름져서 느끼했어요.</td>\n",
       "      <td>1</td>\n",
       "    </tr>\n",
       "    <tr>\n",
       "      <th>21</th>\n",
       "      <td>-13.382157</td>\n",
       "      <td>-6.593828</td>\n",
       "      <td>치즈케이크가 아주 부드럽고 맛있어요.</td>\n",
       "      <td>4</td>\n",
       "    </tr>\n",
       "  </tbody>\n",
       "</table>\n",
       "</div>"
      ],
      "text/plain": [
       "            x          y                       corpus  label\n",
       "0    1.981525   3.346380             샐러드 맛이 깔끔해서 좋아요.      1\n",
       "1    0.025337  -9.345027         주문한 음식이 늦게 와서 배고팠어요.      2\n",
       "2  -14.553224  -0.477301                    피자가 맛있어요.      5\n",
       "3   -2.886031  19.599838              라면이 너무 짜게 나왔어요.      1\n",
       "4  -18.636333  -2.218875                배달된 치킨이 맛있어요.      5\n",
       "5  -38.751343  -3.634021              메뉴 설명보다 양이 적어요.      1\n",
       "6    3.398985  -8.017451  주문한 음식이 다른 것으로 와서 다시 주문했어요.      2\n",
       "7   -7.759202 -29.874292         맛은 좋은데 양이 좀 적은 편이에요.      6\n",
       "8   23.096228  -7.471128              떡볶이의 매운맛이 적절해요.      0\n",
       "9  -33.593315  20.094219               초밥이 신선해서 좋았어요.      1\n",
       "10 -11.496445 -10.310987                빵이 부드럽고 맛있네요!      4\n",
       "11  -2.864507  13.399057               스테이크가 너무 질겼어요.      1\n",
       "12   0.020275   6.712429           샐러드의 드레싱이 너무 강했어요.      1\n",
       "13 -27.980890 -23.905991             나초의 치즈소스가 맛있었어요.      1\n",
       "14  12.381809 -25.949480          파스타가 약간 덜 익은 것 같아요.      1\n",
       "15  -6.857045  10.008870       커피가 너무 진해서 물을 더 추가했어요.      1\n",
       "16  25.070839  14.880673           디저트는 달지 않아서 좋았습니다.      1\n",
       "17   2.669381  15.031615     음료가 너무 달아서 다음엔 당도 조절할게요.      1\n",
       "18 -11.961347   3.754031     피자 도우가 너무 두꺼워서 먹기 힘들었어요.      3\n",
       "19  -6.634336  16.073687             햄버거의 빵이 너무 딱딱해요.      1\n",
       "20 -11.396762  14.342366         감자튀김이 너무 기름져서 느끼했어요.      1\n",
       "21 -13.382157  -6.593828         치즈케이크가 아주 부드럽고 맛있어요.      4"
      ]
     },
     "execution_count": 126,
     "metadata": {},
     "output_type": "execute_result"
    }
   ],
   "source": [
    "df_tsne = pd.DataFrame(tsne_result, columns=[\"x\", \"y\"])\n",
    "df_tsne[\"corpus\"] = corpus\n",
    "df_tsne[\"label\"] = kmeans.labels_\n",
    "df_tsne"
   ]
  },
  {
   "cell_type": "code",
   "execution_count": 127,
   "id": "0284a304",
   "metadata": {},
   "outputs": [],
   "source": [
    "# plt.colormaps()"
   ]
  },
  {
   "cell_type": "code",
   "execution_count": 128,
   "id": "6faf05a5",
   "metadata": {
    "colab": {
     "base_uri": "https://localhost:8080/",
     "height": 521
    },
    "executionInfo": {
     "elapsed": 441,
     "status": "ok",
     "timestamp": 1695351745858,
     "user": {
      "displayName": "Joeun Park",
      "userId": "17163383815352082166"
     },
     "user_tz": -540
    },
    "id": "6faf05a5",
    "outputId": "58d912f3-fc25-437b-8e9f-1ce999b41b39"
   },
   "outputs": [
    {
     "data": {
      "text/plain": [
       "<Axes: xlabel='x', ylabel='y'>"
      ]
     },
     "execution_count": 128,
     "metadata": {},
     "output_type": "execute_result"
    },
    {
     "data": {
      "image/png": "[encoded data removed]",
      "text/plain": [
       "<Figure size 640x480 with 1 Axes>"
      ]
     },
     "metadata": {},
     "output_type": "display_data"
    }
   ],
   "source": [
    "# 2차원 산점도로 군집 결과 시각화\n",
    "sns.scatterplot(data=df_tsne, x=\"x\", y=\"y\", hue=\"label\", palette=\"Set1\")"
   ]
  },
  {
   "cell_type": "code",
   "execution_count": 129,
   "id": "61180ecc",
   "metadata": {},
   "outputs": [],
   "source": [
    "# plt.text?"
   ]
  },
  {
   "cell_type": "code",
   "execution_count": 130,
   "id": "5d65c7b3",
   "metadata": {
    "colab": {
     "base_uri": "https://localhost:8080/",
     "height": 851
    },
    "executionInfo": {
     "elapsed": 1310,
     "status": "ok",
     "timestamp": 1695351748392,
     "user": {
      "displayName": "Joeun Park",
      "userId": "17163383815352082166"
     },
     "user_tz": -540
    },
    "id": "5d65c7b3",
    "outputId": "fb88ac41-c888-40b6-c13a-b50b162da655"
   },
   "outputs": [
    {
     "data": {
      "image/png": "[encoded data removed]",
      "text/plain": [
       "<Figure size 1500x800 with 1 Axes>"
      ]
     },
     "metadata": {},
     "output_type": "display_data"
    }
   ],
   "source": [
    "# 어떤 텍스트인지 표기하기\n",
    "plt.figure(figsize=(15, 8))\n",
    "sns.scatterplot(data=df_tsne, x=\"x\", y=\"y\", hue=\"label\", palette=\"Set1\")\n",
    "for i in df_tsne.index:\n",
    "    plt.text(x=df_tsne.loc[i, \"x\"], y=df_tsne.loc[i, \"y\"], s=df_tsne.loc[i, \"corpus\"])"
   ]
  },
  {
   "cell_type": "code",
   "execution_count": null,
   "id": "7809c85c",
   "metadata": {
    "id": "7809c85c"
   },
   "outputs": [],
   "source": []
  },
  {
   "cell_type": "code",
   "execution_count": null,
   "id": "26acf191",
   "metadata": {},
   "outputs": [],
   "source": []
  },
  {
   "cell_type": "code",
   "execution_count": null,
   "id": "1ea44ae6",
   "metadata": {},
   "outputs": [],
   "source": []
  },
  {
   "cell_type": "code",
   "execution_count": null,
   "id": "66a37982",
   "metadata": {},
   "outputs": [],
   "source": []
  },
  {
   "cell_type": "code",
   "execution_count": null,
   "id": "a97090f3",
   "metadata": {},
   "outputs": [],
   "source": []
  },
  {
   "cell_type": "code",
   "execution_count": null,
   "id": "56d81d21",
   "metadata": {},
   "outputs": [],
   "source": []
  },
  {
   "cell_type": "code",
   "execution_count": null,
   "id": "c2f8c527",
   "metadata": {},
   "outputs": [],
   "source": []
  }
 ],
 "metadata": {
  "colab": {
   "provenance": [
    {
     "file_id": "1r2pMk14ED01xYSOFKjYyVE7Gw1Gy0d7H",
     "timestamp": 1695350447401
    }
   ]
  },
  "kernelspec": {
   "display_name": "Python 3 (ipykernel)",
   "language": "python",
   "name": "python3"
  },
  "language_info": {
   "codemirror_mode": {
    "name": "ipython",
    "version": 3
   },
   "file_extension": ".py",
   "mimetype": "text/x-python",
   "name": "python",
   "nbconvert_exporter": "python",
   "pygments_lexer": "ipython3",
   "version": "3.11.4"
  },
  "toc": {
   "base_numbering": 1,
   "nav_menu": {},
   "number_sections": false,
   "sideBar": false,
   "skip_h1_title": false,
   "title_cell": "Table of Contents",
   "title_sidebar": "Contents",
   "toc_cell": false,
   "toc_position": {},
   "toc_section_display": false,
   "toc_window_display": false
  },
  "varInspector": {
   "cols": {
    "lenName": 16,
    "lenType": 16,
    "lenVar": 40
   },
   "kernels_config": {
    "python": {
     "delete_cmd_postfix": "",
     "delete_cmd_prefix": "del ",
     "library": "var_list.py",
     "varRefreshCmd": "print(var_dic_list())"
    },
    "r": {
     "delete_cmd_postfix": ") ",
     "delete_cmd_prefix": "rm(",
     "library": "var_list.r",
     "varRefreshCmd": "cat(var_dic_list()) "
    }
   },
   "types_to_exclude": [
    "module",
    "function",
    "builtin_function_or_method",
    "instance",
    "_Feature"
   ],
   "window_display": false
  }
 },
 "nbformat": 4,
 "nbformat_minor": 5
}
