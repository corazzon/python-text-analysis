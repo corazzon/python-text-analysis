{
 "cells": [
  {
   "cell_type": "markdown",
   "metadata": {
    "id": "1kpwaWyzo1Yr"
   },
   "source": [
    "## 문서 유사도 분석\n",
    "* 각 단어를 축으로 하는 특성 공간(feature space)에서 문서들을 하나의 위치로 보고 특성 공간 상에서 거리를 이용해 두 문서의 유사성(similarity)을 측정하는 방식\n",
    "    * 코사인 유사도(cosine similarity) : 두 벡터 간의 각도의 코사인 값을 이용하여 유사도를 계산, 크기가 아닌 방향성에 중점, 벡터의 길이(문서의 길이)에 영향을 받지 않음\n",
    "    * 유클리드 거리(euclidean distance) : '직선 거리'를 계산, 클러스터링, 위치 기반 서비스, 이미지 처리 등에 사용\n",
    "    * 맨해튼 거리(Manhattan distance) : 경로의 절대적인 길이를 측정, 격자 형태의 경로를 따라 계산되는 거리 측정 방법\n",
    "    * 피어슨 유사도 (Pearson Similarity) : 데이터의 평균값에 대한 각 데이터 포인트의 상대적 위치를 기반으로 측정\n",
    "    * 자카드 유사도(Jaccard similarity) : 두 집합 간의 공통 원소의 비율을 측정\n",
    "\n",
    "\n",
    "## 라이브러리 로드"
   ]
  },
  {
   "cell_type": "code",
   "execution_count": 1,
   "metadata": {},
   "outputs": [],
   "source": [
    "# !pip install koreanize-matplotlib"
   ]
  },
  {
   "cell_type": "code",
   "execution_count": 2,
   "metadata": {
    "id": "7jEmmKL0o1Ys"
   },
   "outputs": [],
   "source": [
    "# 필요 라이브러리를 로드합니다.\n",
    "import pandas as pd\n",
    "import numpy as np\n",
    "import seaborn as sns\n",
    "import matplotlib.pyplot as plt\n",
    "import koreanize_matplotlib"
   ]
  },
  {
   "cell_type": "markdown",
   "metadata": {
    "id": "3MzjjX3ho1Ys"
   },
   "source": [
    "## 데이터 로드\n",
    "\n",
    "### 서울특별시 다산콜센터(☎120)의 주요 민원\n",
    "* 서울특별시 다산콜센터(☎120)의 주요 민원(자주 묻는 질문)에 대한 답변정보\n",
    "* https://opengov.seoul.go.kr/civilappeal/list"
   ]
  },
  {
   "cell_type": "code",
   "execution_count": 3,
   "metadata": {
    "colab": {
     "base_uri": "https://localhost:8080/"
    },
    "executionInfo": {
     "elapsed": 387,
     "status": "ok",
     "timestamp": 1695284077511,
     "user": {
      "displayName": "Joeun Park",
      "userId": "17163383815352082166"
     },
     "user_tz": -540
    },
    "id": "s11JARRabZjF",
    "outputId": "33797291-6443-4ad2-9ca6-eb0098614ccd"
   },
   "outputs": [
    {
     "data": {
      "text/plain": [
       "(2645, 5)"
      ]
     },
     "execution_count": 3,
     "metadata": {},
     "output_type": "execute_result"
    }
   ],
   "source": [
    "df = pd.read_csv(\"https://bit.ly/seoul-120-text-csv\")\n",
    "df.shape"
   ]
  },
  {
   "cell_type": "code",
   "execution_count": 4,
   "metadata": {},
   "outputs": [
    {
     "data": {
      "text/html": [
       "<div>\n",
       "<style scoped>\n",
       "    .dataframe tbody tr th:only-of-type {\n",
       "        vertical-align: middle;\n",
       "    }\n",
       "\n",
       "    .dataframe tbody tr th {\n",
       "        vertical-align: top;\n",
       "    }\n",
       "\n",
       "    .dataframe thead th {\n",
       "        text-align: right;\n",
       "    }\n",
       "</style>\n",
       "<table border=\"1\" class=\"dataframe\">\n",
       "  <thead>\n",
       "    <tr style=\"text-align: right;\">\n",
       "      <th></th>\n",
       "      <th>번호</th>\n",
       "      <th>분류</th>\n",
       "      <th>제목</th>\n",
       "      <th>내용</th>\n",
       "      <th>내용번호</th>\n",
       "    </tr>\n",
       "  </thead>\n",
       "  <tbody>\n",
       "    <tr>\n",
       "      <th>0</th>\n",
       "      <td>2645</td>\n",
       "      <td>복지</td>\n",
       "      <td>아빠 육아휴직 장려금</td>\n",
       "      <td>아빠 육아휴직 장려금   업무개요  남성근로자의 육아휴직을 장려하고 양육에 따른 경...</td>\n",
       "      <td>23522464</td>\n",
       "    </tr>\n",
       "    <tr>\n",
       "      <th>1</th>\n",
       "      <td>2644</td>\n",
       "      <td>경제</td>\n",
       "      <td>[서울산업진흥원] 서울메이드란?</td>\n",
       "      <td>서울산업진흥원 서울메이드란 서울의 감성을 담은 다양하고 새로운 경험을 제공하기 위해...</td>\n",
       "      <td>23194045</td>\n",
       "    </tr>\n",
       "  </tbody>\n",
       "</table>\n",
       "</div>"
      ],
      "text/plain": [
       "     번호  분류                 제목  \\\n",
       "0  2645  복지        아빠 육아휴직 장려금   \n",
       "1  2644  경제  [서울산업진흥원] 서울메이드란?   \n",
       "\n",
       "                                                  내용      내용번호  \n",
       "0  아빠 육아휴직 장려금   업무개요  남성근로자의 육아휴직을 장려하고 양육에 따른 경...  23522464  \n",
       "1  서울산업진흥원 서울메이드란 서울의 감성을 담은 다양하고 새로운 경험을 제공하기 위해...  23194045  "
      ]
     },
     "execution_count": 4,
     "metadata": {},
     "output_type": "execute_result"
    }
   ],
   "source": [
    "df.head(2)"
   ]
  },
  {
   "cell_type": "code",
   "execution_count": 5,
   "metadata": {
    "colab": {
     "base_uri": "https://localhost:8080/",
     "height": 53
    },
    "executionInfo": {
     "elapsed": 5,
     "status": "ok",
     "timestamp": 1695283840877,
     "user": {
      "displayName": "Joeun Park",
      "userId": "17163383815352082166"
     },
     "user_tz": -540
    },
    "id": "otWESxHlbZjG",
    "outputId": "82a19883-793c-485f-b8de-06efb1fe92f7"
   },
   "outputs": [
    {
     "data": {
      "text/html": [
       "<div>\n",
       "<style scoped>\n",
       "    .dataframe tbody tr th:only-of-type {\n",
       "        vertical-align: middle;\n",
       "    }\n",
       "\n",
       "    .dataframe tbody tr th {\n",
       "        vertical-align: top;\n",
       "    }\n",
       "\n",
       "    .dataframe thead th {\n",
       "        text-align: right;\n",
       "    }\n",
       "</style>\n",
       "<table border=\"1\" class=\"dataframe\">\n",
       "  <thead>\n",
       "    <tr style=\"text-align: right;\">\n",
       "      <th></th>\n",
       "      <th>번호</th>\n",
       "      <th>분류</th>\n",
       "      <th>제목</th>\n",
       "      <th>내용</th>\n",
       "      <th>내용번호</th>\n",
       "    </tr>\n",
       "  </thead>\n",
       "  <tbody>\n",
       "  </tbody>\n",
       "</table>\n",
       "</div>"
      ],
      "text/plain": [
       "Empty DataFrame\n",
       "Columns: [번호, 분류, 제목, 내용, 내용번호]\n",
       "Index: []"
      ]
     },
     "execution_count": 5,
     "metadata": {},
     "output_type": "execute_result"
    }
   ],
   "source": [
    "# 중복데이터가 있는지 확인합니다.\n",
    "df[df.duplicated()]"
   ]
  },
  {
   "cell_type": "code",
   "execution_count": 6,
   "metadata": {
    "colab": {
     "base_uri": "https://localhost:8080/"
    },
    "executionInfo": {
     "elapsed": 2,
     "status": "ok",
     "timestamp": 1695283841425,
     "user": {
      "displayName": "Joeun Park",
      "userId": "17163383815352082166"
     },
     "user_tz": -540
    },
    "id": "YXAtNDKco1Yv",
    "outputId": "4350cb9d-44c6-43a4-f56c-71b1bf70b3d1",
    "scrolled": false
   },
   "outputs": [
    {
     "data": {
      "text/plain": [
       "번호      0\n",
       "분류      0\n",
       "제목      0\n",
       "내용      0\n",
       "내용번호    0\n",
       "dtype: int64"
      ]
     },
     "execution_count": 6,
     "metadata": {},
     "output_type": "execute_result"
    }
   ],
   "source": [
    "# 결측치를 확인합니다.\n",
    "df.isnull().sum()"
   ]
  },
  {
   "cell_type": "markdown",
   "metadata": {
    "id": "lMII7R0go1Yx"
   },
   "source": [
    "## 벡터화"
   ]
  },
  {
   "cell_type": "code",
   "execution_count": 7,
   "metadata": {
    "colab": {
     "base_uri": "https://localhost:8080/",
     "height": 112
    },
    "executionInfo": {
     "elapsed": 7,
     "status": "ok",
     "timestamp": 1695283842461,
     "user": {
      "displayName": "Joeun Park",
      "userId": "17163383815352082166"
     },
     "user_tz": -540
    },
    "id": "oxcuJF0akErO",
    "outputId": "817aecd7-2755-4c79-85ca-bb8c51d55154"
   },
   "outputs": [],
   "source": [
    "df[\"제목내용\"] = df[\"제목\"] + \" \" + df[\"내용\"].str.replace(\"돋움\", \"\")"
   ]
  },
  {
   "cell_type": "code",
   "execution_count": 8,
   "metadata": {
    "colab": {
     "base_uri": "https://localhost:8080/",
     "height": 74
    },
    "executionInfo": {
     "elapsed": 979,
     "status": "ok",
     "timestamp": 1695283844164,
     "user": {
      "displayName": "Joeun Park",
      "userId": "17163383815352082166"
     },
     "user_tz": -540
    },
    "id": "tEUNepLOo1Y1",
    "outputId": "6742d468-529f-456f-aa22-9ddeb465ef39"
   },
   "outputs": [
    {
     "data": {
      "text/html": [
       "<style>#sk-container-id-1 {color: black;}#sk-container-id-1 pre{padding: 0;}#sk-container-id-1 div.sk-toggleable {background-color: white;}#sk-container-id-1 label.sk-toggleable__label {cursor: pointer;display: block;width: 100%;margin-bottom: 0;padding: 0.3em;box-sizing: border-box;text-align: center;}#sk-container-id-1 label.sk-toggleable__label-arrow:before {content: \"▸\";float: left;margin-right: 0.25em;color: #696969;}#sk-container-id-1 label.sk-toggleable__label-arrow:hover:before {color: black;}#sk-container-id-1 div.sk-estimator:hover label.sk-toggleable__label-arrow:before {color: black;}#sk-container-id-1 div.sk-toggleable__content {max-height: 0;max-width: 0;overflow: hidden;text-align: left;background-color: #f0f8ff;}#sk-container-id-1 div.sk-toggleable__content pre {margin: 0.2em;color: black;border-radius: 0.25em;background-color: #f0f8ff;}#sk-container-id-1 input.sk-toggleable__control:checked~div.sk-toggleable__content {max-height: 200px;max-width: 100%;overflow: auto;}#sk-container-id-1 input.sk-toggleable__control:checked~label.sk-toggleable__label-arrow:before {content: \"▾\";}#sk-container-id-1 div.sk-estimator input.sk-toggleable__control:checked~label.sk-toggleable__label {background-color: #d4ebff;}#sk-container-id-1 div.sk-label input.sk-toggleable__control:checked~label.sk-toggleable__label {background-color: #d4ebff;}#sk-container-id-1 input.sk-hidden--visually {border: 0;clip: rect(1px 1px 1px 1px);clip: rect(1px, 1px, 1px, 1px);height: 1px;margin: -1px;overflow: hidden;padding: 0;position: absolute;width: 1px;}#sk-container-id-1 div.sk-estimator {font-family: monospace;background-color: #f0f8ff;border: 1px dotted black;border-radius: 0.25em;box-sizing: border-box;margin-bottom: 0.5em;}#sk-container-id-1 div.sk-estimator:hover {background-color: #d4ebff;}#sk-container-id-1 div.sk-parallel-item::after {content: \"\";width: 100%;border-bottom: 1px solid gray;flex-grow: 1;}#sk-container-id-1 div.sk-label:hover label.sk-toggleable__label {background-color: #d4ebff;}#sk-container-id-1 div.sk-serial::before {content: \"\";position: absolute;border-left: 1px solid gray;box-sizing: border-box;top: 0;bottom: 0;left: 50%;z-index: 0;}#sk-container-id-1 div.sk-serial {display: flex;flex-direction: column;align-items: center;background-color: white;padding-right: 0.2em;padding-left: 0.2em;position: relative;}#sk-container-id-1 div.sk-item {position: relative;z-index: 1;}#sk-container-id-1 div.sk-parallel {display: flex;align-items: stretch;justify-content: center;background-color: white;position: relative;}#sk-container-id-1 div.sk-item::before, #sk-container-id-1 div.sk-parallel-item::before {content: \"\";position: absolute;border-left: 1px solid gray;box-sizing: border-box;top: 0;bottom: 0;left: 50%;z-index: -1;}#sk-container-id-1 div.sk-parallel-item {display: flex;flex-direction: column;z-index: 1;position: relative;background-color: white;}#sk-container-id-1 div.sk-parallel-item:first-child::after {align-self: flex-end;width: 50%;}#sk-container-id-1 div.sk-parallel-item:last-child::after {align-self: flex-start;width: 50%;}#sk-container-id-1 div.sk-parallel-item:only-child::after {width: 0;}#sk-container-id-1 div.sk-dashed-wrapped {border: 1px dashed gray;margin: 0 0.4em 0.5em 0.4em;box-sizing: border-box;padding-bottom: 0.4em;background-color: white;}#sk-container-id-1 div.sk-label label {font-family: monospace;font-weight: bold;display: inline-block;line-height: 1.2em;}#sk-container-id-1 div.sk-label-container {text-align: center;}#sk-container-id-1 div.sk-container {/* jupyter's `normalize.less` sets `[hidden] { display: none; }` but bootstrap.min.css set `[hidden] { display: none !important; }` so we also need the `!important` here to be able to override the default hidden behavior on the sphinx rendered scikit-learn.org. See: https://github.com/scikit-learn/scikit-learn/issues/21755 */display: inline-block !important;position: relative;}#sk-container-id-1 div.sk-text-repr-fallback {display: none;}</style><div id=\"sk-container-id-1\" class=\"sk-top-container\"><div class=\"sk-text-repr-fallback\"><pre>TfidfVectorizer(max_features=2000)</pre><b>In a Jupyter environment, please rerun this cell to show the HTML representation or trust the notebook. <br />On GitHub, the HTML representation is unable to render, please try loading this page with nbviewer.org.</b></div><div class=\"sk-container\" hidden><div class=\"sk-item\"><div class=\"sk-estimator sk-toggleable\"><input class=\"sk-toggleable__control sk-hidden--visually\" id=\"sk-estimator-id-1\" type=\"checkbox\" checked><label for=\"sk-estimator-id-1\" class=\"sk-toggleable__label sk-toggleable__label-arrow\">TfidfVectorizer</label><div class=\"sk-toggleable__content\"><pre>TfidfVectorizer(max_features=2000)</pre></div></div></div></div></div>"
      ],
      "text/plain": [
       "TfidfVectorizer(max_features=2000)"
      ]
     },
     "execution_count": 8,
     "metadata": {},
     "output_type": "execute_result"
    }
   ],
   "source": [
    "from sklearn.feature_extraction.text import TfidfVectorizer\n",
    "# TfidfVectorizer\n",
    "tfidfvect = TfidfVectorizer(max_features=2000)\n",
    "tfidfvect"
   ]
  },
  {
   "cell_type": "code",
   "execution_count": 9,
   "metadata": {
    "colab": {
     "base_uri": "https://localhost:8080/"
    },
    "executionInfo": {
     "elapsed": 287,
     "status": "ok",
     "timestamp": 1695283845492,
     "user": {
      "displayName": "Joeun Park",
      "userId": "17163383815352082166"
     },
     "user_tz": -540
    },
    "id": "1IyqqMlcj_SI",
    "outputId": "1e168e0b-221d-4cc8-f44c-ab996675c35e"
   },
   "outputs": [
    {
     "data": {
      "text/plain": [
       "<2645x2000 sparse matrix of type '<class 'numpy.float64'>'\n",
       "\twith 44024 stored elements in Compressed Sparse Row format>"
      ]
     },
     "execution_count": 9,
     "metadata": {},
     "output_type": "execute_result"
    }
   ],
   "source": [
    "dtm = tfidfvect.fit(df[\"제목내용\"]).transform(df[\"제목내용\"])\n",
    "dtm"
   ]
  },
  {
   "cell_type": "markdown",
   "metadata": {
    "id": "ft2MvWD57MjT"
   },
   "source": [
    "### 참고: fit, transform, fit_transfrom의 차이점\n",
    "- fit(): 원시 문서에 있는 모든 토큰의 어휘 사전을 배웁니다.\n",
    "- transform(): 문서를 문서 용어 매트릭스로 변환합니다. transform 이후엔 매트릭스로 변환되어 숫자형태로 변경됩니다.\n",
    "- fit_transform(): 어휘 사전을 배우고 문서 용어 매트릭스를 반환합니다. fit 다음에 변환이 오는 것과 동일하지만 더 효율적으로 구현됩니다.\n",
    "\n",
    "* API Document: https://scikit-learn.org/stable/modules/generated/sklearn.feature_extraction.text.CountVectorizer.html#sklearn.feature_extraction.text.CountVectorizer.fit_transform"
   ]
  },
  {
   "cell_type": "code",
   "execution_count": 10,
   "metadata": {
    "id": "UKEXeuKQo1Y1"
   },
   "outputs": [
    {
     "data": {
      "text/html": [
       "<div>\n",
       "<style scoped>\n",
       "    .dataframe tbody tr th:only-of-type {\n",
       "        vertical-align: middle;\n",
       "    }\n",
       "\n",
       "    .dataframe tbody tr th {\n",
       "        vertical-align: top;\n",
       "    }\n",
       "\n",
       "    .dataframe thead th {\n",
       "        text-align: right;\n",
       "    }\n",
       "</style>\n",
       "<table border=\"1\" class=\"dataframe\">\n",
       "  <thead>\n",
       "    <tr style=\"text-align: right;\">\n",
       "      <th></th>\n",
       "      <th>amp</th>\n",
       "      <th>apos</th>\n",
       "      <th>가구</th>\n",
       "      <th>가구의</th>\n",
       "      <th>가급적</th>\n",
       "      <th>가까운</th>\n",
       "      <th>가꾸기</th>\n",
       "      <th>가능</th>\n",
       "      <th>가능하나</th>\n",
       "      <th>가능하도록</th>\n",
       "      <th>...</th>\n",
       "      <th>회의실</th>\n",
       "      <th>횡단보도</th>\n",
       "      <th>효율적으로</th>\n",
       "      <th>후에</th>\n",
       "      <th>후원</th>\n",
       "      <th>훈련</th>\n",
       "      <th>휴관</th>\n",
       "      <th>휴관일</th>\n",
       "      <th>휴무</th>\n",
       "      <th>희망하는</th>\n",
       "    </tr>\n",
       "  </thead>\n",
       "  <tbody>\n",
       "    <tr>\n",
       "      <th>0</th>\n",
       "      <td>0.0</td>\n",
       "      <td>0.0</td>\n",
       "      <td>0.0</td>\n",
       "      <td>0.0</td>\n",
       "      <td>0.0</td>\n",
       "      <td>0.0</td>\n",
       "      <td>0.0</td>\n",
       "      <td>0.000000</td>\n",
       "      <td>0.0</td>\n",
       "      <td>0.0</td>\n",
       "      <td>...</td>\n",
       "      <td>0.0</td>\n",
       "      <td>0.0</td>\n",
       "      <td>0.0</td>\n",
       "      <td>0.0</td>\n",
       "      <td>0.0</td>\n",
       "      <td>0.0</td>\n",
       "      <td>0.0</td>\n",
       "      <td>0.0</td>\n",
       "      <td>0.0</td>\n",
       "      <td>0.0</td>\n",
       "    </tr>\n",
       "    <tr>\n",
       "      <th>1</th>\n",
       "      <td>0.0</td>\n",
       "      <td>0.0</td>\n",
       "      <td>0.0</td>\n",
       "      <td>0.0</td>\n",
       "      <td>0.0</td>\n",
       "      <td>0.0</td>\n",
       "      <td>0.0</td>\n",
       "      <td>0.000000</td>\n",
       "      <td>0.0</td>\n",
       "      <td>0.0</td>\n",
       "      <td>...</td>\n",
       "      <td>0.0</td>\n",
       "      <td>0.0</td>\n",
       "      <td>0.0</td>\n",
       "      <td>0.0</td>\n",
       "      <td>0.0</td>\n",
       "      <td>0.0</td>\n",
       "      <td>0.0</td>\n",
       "      <td>0.0</td>\n",
       "      <td>0.0</td>\n",
       "      <td>0.0</td>\n",
       "    </tr>\n",
       "    <tr>\n",
       "      <th>2</th>\n",
       "      <td>0.0</td>\n",
       "      <td>0.0</td>\n",
       "      <td>0.0</td>\n",
       "      <td>0.0</td>\n",
       "      <td>0.0</td>\n",
       "      <td>0.0</td>\n",
       "      <td>0.0</td>\n",
       "      <td>0.055109</td>\n",
       "      <td>0.0</td>\n",
       "      <td>0.0</td>\n",
       "      <td>...</td>\n",
       "      <td>0.0</td>\n",
       "      <td>0.0</td>\n",
       "      <td>0.0</td>\n",
       "      <td>0.0</td>\n",
       "      <td>0.0</td>\n",
       "      <td>0.0</td>\n",
       "      <td>0.0</td>\n",
       "      <td>0.0</td>\n",
       "      <td>0.0</td>\n",
       "      <td>0.0</td>\n",
       "    </tr>\n",
       "  </tbody>\n",
       "</table>\n",
       "<p>3 rows × 2000 columns</p>\n",
       "</div>"
      ],
      "text/plain": [
       "   amp  apos   가구  가구의  가급적  가까운  가꾸기        가능  가능하나  가능하도록  ...  회의실  횡단보도  \\\n",
       "0  0.0   0.0  0.0  0.0  0.0  0.0  0.0  0.000000   0.0    0.0  ...  0.0   0.0   \n",
       "1  0.0   0.0  0.0  0.0  0.0  0.0  0.0  0.000000   0.0    0.0  ...  0.0   0.0   \n",
       "2  0.0   0.0  0.0  0.0  0.0  0.0  0.0  0.055109   0.0    0.0  ...  0.0   0.0   \n",
       "\n",
       "   효율적으로   후에   후원   훈련   휴관  휴관일   휴무  희망하는  \n",
       "0    0.0  0.0  0.0  0.0  0.0  0.0  0.0   0.0  \n",
       "1    0.0  0.0  0.0  0.0  0.0  0.0  0.0   0.0  \n",
       "2    0.0  0.0  0.0  0.0  0.0  0.0  0.0   0.0  \n",
       "\n",
       "[3 rows x 2000 columns]"
      ]
     },
     "execution_count": 10,
     "metadata": {},
     "output_type": "execute_result"
    }
   ],
   "source": [
    "# 문장에서 노출되는 feature(특징이 될만한 단어) 수를 합한 변수 Document Term Matrix(이하 dtm)를 생성합니다.\n",
    "df_dtm_tfidf = pd.DataFrame(dtm.toarray(), columns=tfidfvect.get_feature_names_out())\n",
    "df_dtm_tfidf.head(3)"
   ]
  },
  {
   "cell_type": "code",
   "execution_count": 11,
   "metadata": {
    "colab": {
     "base_uri": "https://localhost:8080/"
    },
    "executionInfo": {
     "elapsed": 324,
     "status": "ok",
     "timestamp": 1695283881472,
     "user": {
      "displayName": "Joeun Park",
      "userId": "17163383815352082166"
     },
     "user_tz": -540
    },
    "id": "l61luP9mo1Y2",
    "outputId": "4077b9af-4f40-4594-ff95-3f42f2e9abae"
   },
   "outputs": [
    {
     "data": {
      "text/plain": [
       "<Axes: >"
      ]
     },
     "execution_count": 11,
     "metadata": {},
     "output_type": "execute_result"
    },
    {
     "data": {
      "image/png": "[encoded data removed]",
      "text/plain": [
       "<Figure size 1000x400 with 1 Axes>"
      ]
     },
     "metadata": {},
     "output_type": "display_data"
    }
   ],
   "source": [
    "# 각 row에서 전체 단어가방에 있는 어휘에서 등장하는 단어에 대한 가중치를 적용한 vector를 확인합니다.\n",
    "# df_dtm_tfidf\n",
    "df_dtm_tfidf.sum().nlargest(20).plot(kind=\"bar\", figsize=(10, 4))"
   ]
  },
  {
   "cell_type": "markdown",
   "metadata": {
    "id": "5SfyYdvZo1Y3"
   },
   "source": [
    "## 코사인 유사도\n",
    "\n",
    "\n",
    "<img src=\"https://i.imgur.com/RdPPH33.png\">\n",
    "* 이미지 출처 : https://pyimagesearch.com/\n",
    "\n",
    "<img src=\"https://storage.googleapis.com/lds-media/images/cosine-similarity-vectors.original.jpg\">\n",
    "* 이미지 출처 : https://www.learndatasci.com/glossary/cosine-similarity/\n",
    "\n",
    "\n",
    "\n",
    "\n",
    "- 내적 공간 내에서 두 벡터 사이의 코사인 각도를 구하는 방법( –1∼1 사이 값을 가지며, 1에 가까울수록 유사도가 높음)\n",
    "- 벡터의 크기가 아닌 방향의 유사도를 판단하는 목적으로 사용되며, 두 벡터의 방향이 완전히 같을 경우 1, 90°의 각을 이룰 경우 0, 180°로 완전히 반대 방향인 경우 -1의 값을 갖음 >> 코사인 유사도에서는 각 데이터 간의 각도가 작을 수록 데이터가 비슷\n",
    "- 장점: 어떤 개수의 차원에도 적용할 수 있지만 흔히 다차원의 양수 공간에서의 유사도 측정에서 자주 이용\n",
    "- 단점: 상호 상관관계를 가지는 특성(키, 몸무게 등)를 갖는 원소들간의 유사도를 계산할때에 성능이 낮음\n",
    "\n",
    "\n",
    "* 코사인 유사도는 원점(모든 단어의 빈도가 0인 경우)에서 보았을 때 두 문서의 각도에 바탕을 둔 거리 측정 방식\n",
    "* 내적공간의 두 벡터간 각도의 코사인값을 이용하여 측정된 벡터간의 유사한 정도를 의미한다. 각도가 0°일 때의 코사인값은 1이며, 다른 모든 각도의 코사인값은 1보다 작다. 따라서 이 값은 벡터의 크기가 아닌 방향의 유사도를 판단하는 목적으로 사용되며, 두 벡터의 방향이 완전히 같을 경우 1, 90°의 각을 이룰 경우 0, 180°로 완전히 반대 방향인 경우 -1의 값을 갖는다. 이 때 벡터의 크기는 값에 아무런 영향을 미치지 않는다. 코사인 유사도는 특히 결과값이 [0,1]의 범위로 떨어지는 양수 공간에서 사용된다.\n",
    "* 코사인 유사도는 어떤 개수의 차원에도 적용이 가능하여 흔히 다차원의 양수 공간에서의 유사도 측정에 자주 이용된다. 예를 들어 정보 검색 및 텍스트 마이닝 분야에서, 단어 하나 하나는 각각의 차원을 구성하고 문서는 각 단어가 문서에 나타나는 회수로 표현되는 벡터값을 가진다. 이러한 다차원 공간에서 코사인 유사도는 두 문서의 유사를 측정하는 매우 유용한 방법이다.\n",
    "* 코사인 유사도는 데이터 마이닝 분야에서 클러스터들간의 응집도를 측정하는 방법으로도 사용된다.\n",
    "\n",
    "* 출처: https://ko.wikipedia.org/wiki/%EC%BD%94%EC%82%AC%EC%9D%B8_%EC%9C%A0%EC%82%AC%EB%8F%84\n",
    "* API Document: https://scikit-learn.org/stable/modules/generated/sklearn.metrics.pairwise.cosine_similarity.html\n",
    "\n",
    "\n",
    "\n",
    "$$ \\text{{Cosine Similarity}}(A, B) = \\frac{{A \\cdot B}}{{\\|A\\|\\|B\\|}} = \\frac{{\\sum^n_{i=1}A_iB_i}}{{\\sqrt{\\sum^n_{i=1}A_i^2}\\sqrt{\\sum^n_{i=1}B_i^2}}} $$\n"
   ]
  },
  {
   "cell_type": "markdown",
   "metadata": {
    "id": "XiRyNAtSbZjK"
   },
   "source": [
    "https://scikit-learn.org/stable/modules/generated/sklearn.metrics.pairwise.cosine_similarity.html#sklearn-metrics-pairwise-cosine-similarity"
   ]
  },
  {
   "cell_type": "code",
   "execution_count": 12,
   "metadata": {},
   "outputs": [
    {
     "data": {
      "text/html": [
       "<div>\n",
       "<style scoped>\n",
       "    .dataframe tbody tr th:only-of-type {\n",
       "        vertical-align: middle;\n",
       "    }\n",
       "\n",
       "    .dataframe tbody tr th {\n",
       "        vertical-align: top;\n",
       "    }\n",
       "\n",
       "    .dataframe thead th {\n",
       "        text-align: right;\n",
       "    }\n",
       "</style>\n",
       "<table border=\"1\" class=\"dataframe\">\n",
       "  <thead>\n",
       "    <tr style=\"text-align: right;\">\n",
       "      <th></th>\n",
       "      <th>amp</th>\n",
       "      <th>apos</th>\n",
       "      <th>가구</th>\n",
       "      <th>가구의</th>\n",
       "      <th>가급적</th>\n",
       "      <th>가까운</th>\n",
       "      <th>가꾸기</th>\n",
       "      <th>가능</th>\n",
       "      <th>가능하나</th>\n",
       "      <th>가능하도록</th>\n",
       "      <th>...</th>\n",
       "      <th>회의실</th>\n",
       "      <th>횡단보도</th>\n",
       "      <th>효율적으로</th>\n",
       "      <th>후에</th>\n",
       "      <th>후원</th>\n",
       "      <th>훈련</th>\n",
       "      <th>휴관</th>\n",
       "      <th>휴관일</th>\n",
       "      <th>휴무</th>\n",
       "      <th>희망하는</th>\n",
       "    </tr>\n",
       "  </thead>\n",
       "  <tbody>\n",
       "    <tr>\n",
       "      <th>0</th>\n",
       "      <td>0.0</td>\n",
       "      <td>0.0</td>\n",
       "      <td>0.0</td>\n",
       "      <td>0.0</td>\n",
       "      <td>0.0</td>\n",
       "      <td>0.0</td>\n",
       "      <td>0.0</td>\n",
       "      <td>0.000000</td>\n",
       "      <td>0.0</td>\n",
       "      <td>0.0</td>\n",
       "      <td>...</td>\n",
       "      <td>0.0</td>\n",
       "      <td>0.0</td>\n",
       "      <td>0.0</td>\n",
       "      <td>0.0</td>\n",
       "      <td>0.0</td>\n",
       "      <td>0.0</td>\n",
       "      <td>0.0</td>\n",
       "      <td>0.0</td>\n",
       "      <td>0.0</td>\n",
       "      <td>0.0</td>\n",
       "    </tr>\n",
       "    <tr>\n",
       "      <th>1</th>\n",
       "      <td>0.0</td>\n",
       "      <td>0.0</td>\n",
       "      <td>0.0</td>\n",
       "      <td>0.0</td>\n",
       "      <td>0.0</td>\n",
       "      <td>0.0</td>\n",
       "      <td>0.0</td>\n",
       "      <td>0.000000</td>\n",
       "      <td>0.0</td>\n",
       "      <td>0.0</td>\n",
       "      <td>...</td>\n",
       "      <td>0.0</td>\n",
       "      <td>0.0</td>\n",
       "      <td>0.0</td>\n",
       "      <td>0.0</td>\n",
       "      <td>0.0</td>\n",
       "      <td>0.0</td>\n",
       "      <td>0.0</td>\n",
       "      <td>0.0</td>\n",
       "      <td>0.0</td>\n",
       "      <td>0.0</td>\n",
       "    </tr>\n",
       "    <tr>\n",
       "      <th>2</th>\n",
       "      <td>0.0</td>\n",
       "      <td>0.0</td>\n",
       "      <td>0.0</td>\n",
       "      <td>0.0</td>\n",
       "      <td>0.0</td>\n",
       "      <td>0.0</td>\n",
       "      <td>0.0</td>\n",
       "      <td>0.055109</td>\n",
       "      <td>0.0</td>\n",
       "      <td>0.0</td>\n",
       "      <td>...</td>\n",
       "      <td>0.0</td>\n",
       "      <td>0.0</td>\n",
       "      <td>0.0</td>\n",
       "      <td>0.0</td>\n",
       "      <td>0.0</td>\n",
       "      <td>0.0</td>\n",
       "      <td>0.0</td>\n",
       "      <td>0.0</td>\n",
       "      <td>0.0</td>\n",
       "      <td>0.0</td>\n",
       "    </tr>\n",
       "    <tr>\n",
       "      <th>3</th>\n",
       "      <td>0.0</td>\n",
       "      <td>0.0</td>\n",
       "      <td>0.0</td>\n",
       "      <td>0.0</td>\n",
       "      <td>0.0</td>\n",
       "      <td>0.0</td>\n",
       "      <td>0.0</td>\n",
       "      <td>0.114472</td>\n",
       "      <td>0.0</td>\n",
       "      <td>0.0</td>\n",
       "      <td>...</td>\n",
       "      <td>0.0</td>\n",
       "      <td>0.0</td>\n",
       "      <td>0.0</td>\n",
       "      <td>0.0</td>\n",
       "      <td>0.0</td>\n",
       "      <td>0.0</td>\n",
       "      <td>0.0</td>\n",
       "      <td>0.0</td>\n",
       "      <td>0.0</td>\n",
       "      <td>0.0</td>\n",
       "    </tr>\n",
       "    <tr>\n",
       "      <th>4</th>\n",
       "      <td>0.0</td>\n",
       "      <td>0.0</td>\n",
       "      <td>0.0</td>\n",
       "      <td>0.0</td>\n",
       "      <td>0.0</td>\n",
       "      <td>0.0</td>\n",
       "      <td>0.0</td>\n",
       "      <td>0.000000</td>\n",
       "      <td>0.0</td>\n",
       "      <td>0.0</td>\n",
       "      <td>...</td>\n",
       "      <td>0.0</td>\n",
       "      <td>0.0</td>\n",
       "      <td>0.0</td>\n",
       "      <td>0.0</td>\n",
       "      <td>0.0</td>\n",
       "      <td>0.0</td>\n",
       "      <td>0.0</td>\n",
       "      <td>0.0</td>\n",
       "      <td>0.0</td>\n",
       "      <td>0.0</td>\n",
       "    </tr>\n",
       "    <tr>\n",
       "      <th>...</th>\n",
       "      <td>...</td>\n",
       "      <td>...</td>\n",
       "      <td>...</td>\n",
       "      <td>...</td>\n",
       "      <td>...</td>\n",
       "      <td>...</td>\n",
       "      <td>...</td>\n",
       "      <td>...</td>\n",
       "      <td>...</td>\n",
       "      <td>...</td>\n",
       "      <td>...</td>\n",
       "      <td>...</td>\n",
       "      <td>...</td>\n",
       "      <td>...</td>\n",
       "      <td>...</td>\n",
       "      <td>...</td>\n",
       "      <td>...</td>\n",
       "      <td>...</td>\n",
       "      <td>...</td>\n",
       "      <td>...</td>\n",
       "      <td>...</td>\n",
       "    </tr>\n",
       "    <tr>\n",
       "      <th>2640</th>\n",
       "      <td>0.0</td>\n",
       "      <td>0.0</td>\n",
       "      <td>0.0</td>\n",
       "      <td>0.0</td>\n",
       "      <td>0.0</td>\n",
       "      <td>0.0</td>\n",
       "      <td>0.0</td>\n",
       "      <td>0.000000</td>\n",
       "      <td>0.0</td>\n",
       "      <td>0.0</td>\n",
       "      <td>...</td>\n",
       "      <td>0.0</td>\n",
       "      <td>0.0</td>\n",
       "      <td>0.0</td>\n",
       "      <td>0.0</td>\n",
       "      <td>0.0</td>\n",
       "      <td>0.0</td>\n",
       "      <td>0.0</td>\n",
       "      <td>0.0</td>\n",
       "      <td>0.0</td>\n",
       "      <td>0.0</td>\n",
       "    </tr>\n",
       "    <tr>\n",
       "      <th>2641</th>\n",
       "      <td>0.0</td>\n",
       "      <td>0.0</td>\n",
       "      <td>0.0</td>\n",
       "      <td>0.0</td>\n",
       "      <td>0.0</td>\n",
       "      <td>0.0</td>\n",
       "      <td>0.0</td>\n",
       "      <td>0.000000</td>\n",
       "      <td>0.0</td>\n",
       "      <td>0.0</td>\n",
       "      <td>...</td>\n",
       "      <td>0.0</td>\n",
       "      <td>0.0</td>\n",
       "      <td>0.0</td>\n",
       "      <td>0.0</td>\n",
       "      <td>0.0</td>\n",
       "      <td>0.0</td>\n",
       "      <td>0.0</td>\n",
       "      <td>0.0</td>\n",
       "      <td>0.0</td>\n",
       "      <td>0.0</td>\n",
       "    </tr>\n",
       "    <tr>\n",
       "      <th>2642</th>\n",
       "      <td>0.0</td>\n",
       "      <td>0.0</td>\n",
       "      <td>0.0</td>\n",
       "      <td>0.0</td>\n",
       "      <td>0.0</td>\n",
       "      <td>0.0</td>\n",
       "      <td>0.0</td>\n",
       "      <td>0.486628</td>\n",
       "      <td>0.0</td>\n",
       "      <td>0.0</td>\n",
       "      <td>...</td>\n",
       "      <td>0.0</td>\n",
       "      <td>0.0</td>\n",
       "      <td>0.0</td>\n",
       "      <td>0.0</td>\n",
       "      <td>0.0</td>\n",
       "      <td>0.0</td>\n",
       "      <td>0.0</td>\n",
       "      <td>0.0</td>\n",
       "      <td>0.0</td>\n",
       "      <td>0.0</td>\n",
       "    </tr>\n",
       "    <tr>\n",
       "      <th>2643</th>\n",
       "      <td>0.0</td>\n",
       "      <td>0.0</td>\n",
       "      <td>0.0</td>\n",
       "      <td>0.0</td>\n",
       "      <td>0.0</td>\n",
       "      <td>0.0</td>\n",
       "      <td>0.0</td>\n",
       "      <td>0.000000</td>\n",
       "      <td>0.0</td>\n",
       "      <td>0.0</td>\n",
       "      <td>...</td>\n",
       "      <td>0.0</td>\n",
       "      <td>0.0</td>\n",
       "      <td>0.0</td>\n",
       "      <td>0.0</td>\n",
       "      <td>0.0</td>\n",
       "      <td>0.0</td>\n",
       "      <td>0.0</td>\n",
       "      <td>0.0</td>\n",
       "      <td>0.0</td>\n",
       "      <td>0.0</td>\n",
       "    </tr>\n",
       "    <tr>\n",
       "      <th>2644</th>\n",
       "      <td>0.0</td>\n",
       "      <td>0.0</td>\n",
       "      <td>0.0</td>\n",
       "      <td>0.0</td>\n",
       "      <td>0.0</td>\n",
       "      <td>0.0</td>\n",
       "      <td>0.0</td>\n",
       "      <td>0.000000</td>\n",
       "      <td>0.0</td>\n",
       "      <td>0.0</td>\n",
       "      <td>...</td>\n",
       "      <td>0.0</td>\n",
       "      <td>0.0</td>\n",
       "      <td>0.0</td>\n",
       "      <td>0.0</td>\n",
       "      <td>0.0</td>\n",
       "      <td>0.0</td>\n",
       "      <td>0.0</td>\n",
       "      <td>0.0</td>\n",
       "      <td>0.0</td>\n",
       "      <td>0.0</td>\n",
       "    </tr>\n",
       "  </tbody>\n",
       "</table>\n",
       "<p>2645 rows × 2000 columns</p>\n",
       "</div>"
      ],
      "text/plain": [
       "      amp  apos   가구  가구의  가급적  가까운  가꾸기        가능  가능하나  가능하도록  ...  회의실  \\\n",
       "0     0.0   0.0  0.0  0.0  0.0  0.0  0.0  0.000000   0.0    0.0  ...  0.0   \n",
       "1     0.0   0.0  0.0  0.0  0.0  0.0  0.0  0.000000   0.0    0.0  ...  0.0   \n",
       "2     0.0   0.0  0.0  0.0  0.0  0.0  0.0  0.055109   0.0    0.0  ...  0.0   \n",
       "3     0.0   0.0  0.0  0.0  0.0  0.0  0.0  0.114472   0.0    0.0  ...  0.0   \n",
       "4     0.0   0.0  0.0  0.0  0.0  0.0  0.0  0.000000   0.0    0.0  ...  0.0   \n",
       "...   ...   ...  ...  ...  ...  ...  ...       ...   ...    ...  ...  ...   \n",
       "2640  0.0   0.0  0.0  0.0  0.0  0.0  0.0  0.000000   0.0    0.0  ...  0.0   \n",
       "2641  0.0   0.0  0.0  0.0  0.0  0.0  0.0  0.000000   0.0    0.0  ...  0.0   \n",
       "2642  0.0   0.0  0.0  0.0  0.0  0.0  0.0  0.486628   0.0    0.0  ...  0.0   \n",
       "2643  0.0   0.0  0.0  0.0  0.0  0.0  0.0  0.000000   0.0    0.0  ...  0.0   \n",
       "2644  0.0   0.0  0.0  0.0  0.0  0.0  0.0  0.000000   0.0    0.0  ...  0.0   \n",
       "\n",
       "      횡단보도  효율적으로   후에   후원   훈련   휴관  휴관일   휴무  희망하는  \n",
       "0      0.0    0.0  0.0  0.0  0.0  0.0  0.0  0.0   0.0  \n",
       "1      0.0    0.0  0.0  0.0  0.0  0.0  0.0  0.0   0.0  \n",
       "2      0.0    0.0  0.0  0.0  0.0  0.0  0.0  0.0   0.0  \n",
       "3      0.0    0.0  0.0  0.0  0.0  0.0  0.0  0.0   0.0  \n",
       "4      0.0    0.0  0.0  0.0  0.0  0.0  0.0  0.0   0.0  \n",
       "...    ...    ...  ...  ...  ...  ...  ...  ...   ...  \n",
       "2640   0.0    0.0  0.0  0.0  0.0  0.0  0.0  0.0   0.0  \n",
       "2641   0.0    0.0  0.0  0.0  0.0  0.0  0.0  0.0   0.0  \n",
       "2642   0.0    0.0  0.0  0.0  0.0  0.0  0.0  0.0   0.0  \n",
       "2643   0.0    0.0  0.0  0.0  0.0  0.0  0.0  0.0   0.0  \n",
       "2644   0.0    0.0  0.0  0.0  0.0  0.0  0.0  0.0   0.0  \n",
       "\n",
       "[2645 rows x 2000 columns]"
      ]
     },
     "execution_count": 12,
     "metadata": {},
     "output_type": "execute_result"
    }
   ],
   "source": [
    "df_dtm_tfidf"
   ]
  },
  {
   "cell_type": "code",
   "execution_count": 13,
   "metadata": {
    "colab": {
     "base_uri": "https://localhost:8080/"
    },
    "executionInfo": {
     "elapsed": 1683,
     "status": "ok",
     "timestamp": 1695282301747,
     "user": {
      "displayName": "Joeun Park",
      "userId": "17163383815352082166"
     },
     "user_tz": -540
    },
    "id": "AC98n4w5o1Y3",
    "outputId": "863f225f-6e28-4929-ed46-6bc17aa7fc46"
   },
   "outputs": [
    {
     "data": {
      "text/plain": [
       "array([[1.        , 0.        , 0.03860744, ..., 0.01996438, 0.        ,\n",
       "        0.        ],\n",
       "       [0.        , 1.        , 0.        , ..., 0.        , 0.        ,\n",
       "        0.        ],\n",
       "       [0.03860744, 0.        , 1.        , ..., 0.02681782, 0.        ,\n",
       "        0.        ],\n",
       "       ...,\n",
       "       [0.01996438, 0.        , 0.02681782, ..., 1.        , 0.        ,\n",
       "        0.        ],\n",
       "       [0.        , 0.        , 0.        , ..., 0.        , 1.        ,\n",
       "        0.319022  ],\n",
       "       [0.        , 0.        , 0.        , ..., 0.        , 0.319022  ,\n",
       "        1.        ]])"
      ]
     },
     "execution_count": 13,
     "metadata": {},
     "output_type": "execute_result"
    }
   ],
   "source": [
    "# sklearn.metrics.pairwise 에서 cosine_similarity 를 불러옵니다.\n",
    "from sklearn.metrics.pairwise import cosine_similarity\n",
    "cosine_matrix = cosine_similarity(df_dtm_tfidf, df_dtm_tfidf)\n",
    "cosine_matrix"
   ]
  },
  {
   "cell_type": "code",
   "execution_count": 14,
   "metadata": {
    "colab": {
     "base_uri": "https://localhost:8080/",
     "height": 457
    },
    "executionInfo": {
     "elapsed": 907,
     "status": "ok",
     "timestamp": 1695282302911,
     "user": {
      "displayName": "Joeun Park",
      "userId": "17163383815352082166"
     },
     "user_tz": -540
    },
    "id": "c2av-wxhbZjK",
    "outputId": "530a9c18-aacc-48c3-b4ad-be69469571b7"
   },
   "outputs": [
    {
     "data": {
      "text/plain": [
       "<Axes: >"
      ]
     },
     "execution_count": 14,
     "metadata": {},
     "output_type": "execute_result"
    },
    {
     "data": {
      "image/png": "[encoded data removed]",
      "text/plain": [
       "<Figure size 640x480 with 2 Axes>"
      ]
     },
     "metadata": {},
     "output_type": "display_data"
    }
   ],
   "source": [
    "# heatmap cosine_matrix[:100, :100]\n",
    "sns.heatmap(cosine_matrix[:100, :100], cmap=\"gray_r\")"
   ]
  },
  {
   "cell_type": "markdown",
   "metadata": {
    "id": "_Fl13qB5bZjK"
   },
   "source": [
    "## 유사도가 높은 문서"
   ]
  },
  {
   "cell_type": "code",
   "execution_count": 15,
   "metadata": {},
   "outputs": [
    {
     "data": {
      "text/plain": [
       "((2645, 6), (2645, 2645))"
      ]
     },
     "execution_count": 15,
     "metadata": {},
     "output_type": "execute_result"
    }
   ],
   "source": [
    "df.shape, cosine_matrix.shape"
   ]
  },
  {
   "cell_type": "code",
   "execution_count": 16,
   "metadata": {
    "id": "FJFB-n4Lo1Y3"
   },
   "outputs": [
    {
     "data": {
      "text/plain": [
       "0       1.000000\n",
       "1772    0.213216\n",
       "1073    0.182389\n",
       "155     0.178752\n",
       "539     0.168218\n",
       "1642    0.165228\n",
       "2252    0.163825\n",
       "2222    0.161060\n",
       "141     0.152984\n",
       "2095    0.152530\n",
       "Name: 0, dtype: float64"
      ]
     },
     "execution_count": 16,
     "metadata": {},
     "output_type": "execute_result"
    }
   ],
   "source": [
    "# result_list를 \"similarity\" 파생변수로 생성하고 유사도가 높은 순으로 정렬합니다.\n",
    "pd.DataFrame(cosine_matrix)[0].nlargest(10)"
   ]
  },
  {
   "cell_type": "code",
   "execution_count": 17,
   "metadata": {},
   "outputs": [
    {
     "data": {
      "text/html": [
       "<div>\n",
       "<style scoped>\n",
       "    .dataframe tbody tr th:only-of-type {\n",
       "        vertical-align: middle;\n",
       "    }\n",
       "\n",
       "    .dataframe tbody tr th {\n",
       "        vertical-align: top;\n",
       "    }\n",
       "\n",
       "    .dataframe thead th {\n",
       "        text-align: right;\n",
       "    }\n",
       "</style>\n",
       "<table border=\"1\" class=\"dataframe\">\n",
       "  <thead>\n",
       "    <tr style=\"text-align: right;\">\n",
       "      <th></th>\n",
       "      <th>번호</th>\n",
       "      <th>제목</th>\n",
       "      <th>similarity_0</th>\n",
       "    </tr>\n",
       "  </thead>\n",
       "  <tbody>\n",
       "    <tr>\n",
       "      <th>0</th>\n",
       "      <td>2645</td>\n",
       "      <td>아빠 육아휴직 장려금</td>\n",
       "      <td>1.000000</td>\n",
       "    </tr>\n",
       "    <tr>\n",
       "      <th>1772</th>\n",
       "      <td>873</td>\n",
       "      <td>도시계획시설부지 재결신청 이후 진행단계는 어떤 과정을 거칩니까?</td>\n",
       "      <td>0.213216</td>\n",
       "    </tr>\n",
       "    <tr>\n",
       "      <th>1073</th>\n",
       "      <td>1572</td>\n",
       "      <td>부기등기 이후 제한물권 설정의 효력은?</td>\n",
       "      <td>0.182389</td>\n",
       "    </tr>\n",
       "    <tr>\n",
       "      <th>155</th>\n",
       "      <td>2490</td>\n",
       "      <td>[농업기술센터] 후계농업경영인 선정 및 청년창업형 후계농업경영인 신청 안내</td>\n",
       "      <td>0.178752</td>\n",
       "    </tr>\n",
       "    <tr>\n",
       "      <th>539</th>\n",
       "      <td>2106</td>\n",
       "      <td>행려자도 아니고 시설수용자도 아닌 사람이 살고 있던 비닐하우스에서 화상을 입었습니다...</td>\n",
       "      <td>0.168218</td>\n",
       "    </tr>\n",
       "    <tr>\n",
       "      <th>1642</th>\n",
       "      <td>1003</td>\n",
       "      <td>의약품등의 제조업 폐업, 휴업인 경우 구비서류?</td>\n",
       "      <td>0.165228</td>\n",
       "    </tr>\n",
       "    <tr>\n",
       "      <th>2252</th>\n",
       "      <td>393</td>\n",
       "      <td>내가 가입되어 있는 보험이 무엇이 있는지 조회할수 있나요?</td>\n",
       "      <td>0.163825</td>\n",
       "    </tr>\n",
       "    <tr>\n",
       "      <th>2222</th>\n",
       "      <td>423</td>\n",
       "      <td>장애인을 위한 방송수신기 보급사업</td>\n",
       "      <td>0.161060</td>\n",
       "    </tr>\n",
       "    <tr>\n",
       "      <th>141</th>\n",
       "      <td>2504</td>\n",
       "      <td>[농업기술센터] 도시농업전문가양성교육 신청</td>\n",
       "      <td>0.152984</td>\n",
       "    </tr>\n",
       "    <tr>\n",
       "      <th>2095</th>\n",
       "      <td>550</td>\n",
       "      <td>서울수화전문교육원</td>\n",
       "      <td>0.152530</td>\n",
       "    </tr>\n",
       "  </tbody>\n",
       "</table>\n",
       "</div>"
      ],
      "text/plain": [
       "        번호                                                 제목  similarity_0\n",
       "0     2645                                        아빠 육아휴직 장려금      1.000000\n",
       "1772   873                도시계획시설부지 재결신청 이후 진행단계는 어떤 과정을 거칩니까?      0.213216\n",
       "1073  1572                              부기등기 이후 제한물권 설정의 효력은?      0.182389\n",
       "155   2490          [농업기술센터] 후계농업경영인 선정 및 청년창업형 후계농업경영인 신청 안내      0.178752\n",
       "539   2106  행려자도 아니고 시설수용자도 아닌 사람이 살고 있던 비닐하우스에서 화상을 입었습니다...      0.168218\n",
       "1642  1003                         의약품등의 제조업 폐업, 휴업인 경우 구비서류?      0.165228\n",
       "2252   393                   내가 가입되어 있는 보험이 무엇이 있는지 조회할수 있나요?      0.163825\n",
       "2222   423                                 장애인을 위한 방송수신기 보급사업      0.161060\n",
       "141   2504                            [농업기술센터] 도시농업전문가양성교육 신청      0.152984\n",
       "2095   550                                          서울수화전문교육원      0.152530"
      ]
     },
     "execution_count": 17,
     "metadata": {},
     "output_type": "execute_result"
    }
   ],
   "source": [
    "df_consine = df[[\"번호\", \"제목\"]].copy()\n",
    "df_consine[\"similarity_0\"] = pd.DataFrame(cosine_matrix)[0]\n",
    "df_consine.nlargest(10, \"similarity_0\")"
   ]
  },
  {
   "cell_type": "markdown",
   "metadata": {
    "id": "QO-owdewbZjK"
   },
   "source": [
    "## 유사도가 낮은 문서"
   ]
  },
  {
   "cell_type": "code",
   "execution_count": 18,
   "metadata": {
    "colab": {
     "base_uri": "https://localhost:8080/",
     "height": 710
    },
    "executionInfo": {
     "elapsed": 437,
     "status": "ok",
     "timestamp": 1695282487691,
     "user": {
      "displayName": "Joeun Park",
      "userId": "17163383815352082166"
     },
     "user_tz": -540
    },
    "id": "RXCQLJKGo1Y3",
    "outputId": "1ea2233f-68b6-423c-b9d3-12dd24e2095b"
   },
   "outputs": [
    {
     "data": {
      "text/html": [
       "<div>\n",
       "<style scoped>\n",
       "    .dataframe tbody tr th:only-of-type {\n",
       "        vertical-align: middle;\n",
       "    }\n",
       "\n",
       "    .dataframe tbody tr th {\n",
       "        vertical-align: top;\n",
       "    }\n",
       "\n",
       "    .dataframe thead th {\n",
       "        text-align: right;\n",
       "    }\n",
       "</style>\n",
       "<table border=\"1\" class=\"dataframe\">\n",
       "  <thead>\n",
       "    <tr style=\"text-align: right;\">\n",
       "      <th></th>\n",
       "      <th>번호</th>\n",
       "      <th>제목</th>\n",
       "      <th>similarity_0</th>\n",
       "    </tr>\n",
       "  </thead>\n",
       "  <tbody>\n",
       "    <tr>\n",
       "      <th>1</th>\n",
       "      <td>2644</td>\n",
       "      <td>[서울산업진흥원] 서울메이드란?</td>\n",
       "      <td>0.0</td>\n",
       "    </tr>\n",
       "    <tr>\n",
       "      <th>16</th>\n",
       "      <td>2629</td>\n",
       "      <td>등록된 법인의 지점이나 사업소는 별도로 등록해야 시공이 가능한가요 ?</td>\n",
       "      <td>0.0</td>\n",
       "    </tr>\n",
       "    <tr>\n",
       "      <th>20</th>\n",
       "      <td>2625</td>\n",
       "      <td>ESCO사업의 주요 사업분야에는 어떤게 있나요?</td>\n",
       "      <td>0.0</td>\n",
       "    </tr>\n",
       "    <tr>\n",
       "      <th>31</th>\n",
       "      <td>2614</td>\n",
       "      <td>3.1절 나라사랑 기념행사</td>\n",
       "      <td>0.0</td>\n",
       "    </tr>\n",
       "    <tr>\n",
       "      <th>32</th>\n",
       "      <td>2613</td>\n",
       "      <td>궁동체육관 FAQ</td>\n",
       "      <td>0.0</td>\n",
       "    </tr>\n",
       "    <tr>\n",
       "      <th>44</th>\n",
       "      <td>2601</td>\n",
       "      <td>서울 도시농업 사진전</td>\n",
       "      <td>0.0</td>\n",
       "    </tr>\n",
       "    <tr>\n",
       "      <th>67</th>\n",
       "      <td>2578</td>\n",
       "      <td>찾아가는 청소년 거리상담 서울시연합아웃리치</td>\n",
       "      <td>0.0</td>\n",
       "    </tr>\n",
       "    <tr>\n",
       "      <th>68</th>\n",
       "      <td>2577</td>\n",
       "      <td>태양광 시민펀드</td>\n",
       "      <td>0.0</td>\n",
       "    </tr>\n",
       "    <tr>\n",
       "      <th>90</th>\n",
       "      <td>2555</td>\n",
       "      <td>동북아 대기질개선 국제 포럼</td>\n",
       "      <td>0.0</td>\n",
       "    </tr>\n",
       "    <tr>\n",
       "      <th>99</th>\n",
       "      <td>2546</td>\n",
       "      <td>[건강가정지원센터] 서울가족학교 예비부부교실</td>\n",
       "      <td>0.0</td>\n",
       "    </tr>\n",
       "  </tbody>\n",
       "</table>\n",
       "</div>"
      ],
      "text/plain": [
       "      번호                                      제목  similarity_0\n",
       "1   2644                       [서울산업진흥원] 서울메이드란?           0.0\n",
       "16  2629  등록된 법인의 지점이나 사업소는 별도로 등록해야 시공이 가능한가요 ?           0.0\n",
       "20  2625              ESCO사업의 주요 사업분야에는 어떤게 있나요?           0.0\n",
       "31  2614                          3.1절 나라사랑 기념행사           0.0\n",
       "32  2613                               궁동체육관 FAQ           0.0\n",
       "44  2601                             서울 도시농업 사진전           0.0\n",
       "67  2578                 찾아가는 청소년 거리상담 서울시연합아웃리치           0.0\n",
       "68  2577                                태양광 시민펀드           0.0\n",
       "90  2555                         동북아 대기질개선 국제 포럼           0.0\n",
       "99  2546                [건강가정지원센터] 서울가족학교 예비부부교실           0.0"
      ]
     },
     "execution_count": 18,
     "metadata": {},
     "output_type": "execute_result"
    }
   ],
   "source": [
    "# 유사도가 높은 순\n",
    "df_consine.nsmallest(10, \"similarity_0\")"
   ]
  },
  {
   "cell_type": "markdown",
   "metadata": {},
   "source": [
    "### 유사도가 높은 문서 찾는 함수 만들기"
   ]
  },
  {
   "cell_type": "code",
   "execution_count": 19,
   "metadata": {},
   "outputs": [],
   "source": [
    "def find_similarity(idx, n=10):\n",
    "    \"\"\"유사도가 높은 문서를 반환\"\"\"\n",
    "    df_consine = df[[\"번호\", \"제목\"]].copy()\n",
    "    df_consine[f\"similarity_{idx}\"] = pd.DataFrame(cosine_matrix)[idx]\n",
    "    return df_consine.nlargest(n, f\"similarity_{idx}\")"
   ]
  },
  {
   "cell_type": "code",
   "execution_count": 20,
   "metadata": {
    "id": "WvgfJ7vmo1Y3"
   },
   "outputs": [
    {
     "data": {
      "text/html": [
       "<div>\n",
       "<style scoped>\n",
       "    .dataframe tbody tr th:only-of-type {\n",
       "        vertical-align: middle;\n",
       "    }\n",
       "\n",
       "    .dataframe tbody tr th {\n",
       "        vertical-align: top;\n",
       "    }\n",
       "\n",
       "    .dataframe thead th {\n",
       "        text-align: right;\n",
       "    }\n",
       "</style>\n",
       "<table border=\"1\" class=\"dataframe\">\n",
       "  <thead>\n",
       "    <tr style=\"text-align: right;\">\n",
       "      <th></th>\n",
       "      <th>번호</th>\n",
       "      <th>제목</th>\n",
       "      <th>similarity_75</th>\n",
       "    </tr>\n",
       "  </thead>\n",
       "  <tbody>\n",
       "    <tr>\n",
       "      <th>75</th>\n",
       "      <td>2570</td>\n",
       "      <td>친환경급식 안심식재료 지킴이단</td>\n",
       "      <td>1.000000</td>\n",
       "    </tr>\n",
       "    <tr>\n",
       "      <th>85</th>\n",
       "      <td>2560</td>\n",
       "      <td>친환경급식 안심식재료 모니터링 체험단</td>\n",
       "      <td>0.669170</td>\n",
       "    </tr>\n",
       "    <tr>\n",
       "      <th>70</th>\n",
       "      <td>2575</td>\n",
       "      <td>서울시 친환경 먹거리교육 학부모강사 양성과정 수강생모집</td>\n",
       "      <td>0.256972</td>\n",
       "    </tr>\n",
       "    <tr>\n",
       "      <th>2179</th>\n",
       "      <td>466</td>\n",
       "      <td>서울시 함께꿈 학부모단</td>\n",
       "      <td>0.187992</td>\n",
       "    </tr>\n",
       "    <tr>\n",
       "      <th>310</th>\n",
       "      <td>2335</td>\n",
       "      <td>소비자식품위생감시원 및 농,수산물 명예감시원</td>\n",
       "      <td>0.183558</td>\n",
       "    </tr>\n",
       "    <tr>\n",
       "      <th>2531</th>\n",
       "      <td>114</td>\n",
       "      <td>서울시 생활체육지도자 채용</td>\n",
       "      <td>0.160352</td>\n",
       "    </tr>\n",
       "    <tr>\n",
       "      <th>1623</th>\n",
       "      <td>1022</td>\n",
       "      <td>전술적 계획이란?</td>\n",
       "      <td>0.142389</td>\n",
       "    </tr>\n",
       "    <tr>\n",
       "      <th>1624</th>\n",
       "      <td>1021</td>\n",
       "      <td>조직적 계획이란?</td>\n",
       "      <td>0.142389</td>\n",
       "    </tr>\n",
       "    <tr>\n",
       "      <th>88</th>\n",
       "      <td>2557</td>\n",
       "      <td>꽃 피는 서울상 콘테스트</td>\n",
       "      <td>0.137242</td>\n",
       "    </tr>\n",
       "    <tr>\n",
       "      <th>2087</th>\n",
       "      <td>558</td>\n",
       "      <td>잔류물질 모니터링 검사와 규제검사의 차이를 설명해 주세요</td>\n",
       "      <td>0.129695</td>\n",
       "    </tr>\n",
       "  </tbody>\n",
       "</table>\n",
       "</div>"
      ],
      "text/plain": [
       "        번호                               제목  similarity_75\n",
       "75    2570                 친환경급식 안심식재료 지킴이단       1.000000\n",
       "85    2560             친환경급식 안심식재료 모니터링 체험단       0.669170\n",
       "70    2575   서울시 친환경 먹거리교육 학부모강사 양성과정 수강생모집       0.256972\n",
       "2179   466                     서울시 함께꿈 학부모단       0.187992\n",
       "310   2335         소비자식품위생감시원 및 농,수산물 명예감시원       0.183558\n",
       "2531   114                   서울시 생활체육지도자 채용       0.160352\n",
       "1623  1022                        전술적 계획이란?       0.142389\n",
       "1624  1021                        조직적 계획이란?       0.142389\n",
       "88    2557                    꽃 피는 서울상 콘테스트       0.137242\n",
       "2087   558  잔류물질 모니터링 검사와 규제검사의 차이를 설명해 주세요       0.129695"
      ]
     },
     "execution_count": 20,
     "metadata": {},
     "output_type": "execute_result"
    }
   ],
   "source": [
    "find_similarity(75)"
   ]
  },
  {
   "cell_type": "markdown",
   "metadata": {
    "id": "UTBQcCjObZjK"
   },
   "source": [
    "## 유클리드 유사도\n",
    "\n",
    "- 유클리드 거리(Euclidean distance)는 두 점 사이의 거리를 계산할 때 흔히 쓰는 방법으로 유클리드 공간에서의 기하학적 최단 거리(직선 거리) >> 유클리드 거리의 값이 가장 작다는 것은 문서 간 거리가 가장 가깝다는 것을 의미\n",
    "- 장점: 계산하기 쉬움\n",
    "- 단점: 결과 값이 1보다 큰 값이 나올 수 있으므로 값을 제한하는 과정이 필요, 분포가 다르거나 범위가 다른 경우에 상관성을 놓침\n",
    "- 유클리드 거리는 두 벡터 간의 직선 거리를 계산하는 방법으로, 텍스트 데이터에 대해서는 코사인 유사도보다 덜 효과적일 수 있습니다. \n",
    "- 텍스트의 차원이 높거나 데이터가 희소할 경우, 유클리드 거리는 유용한 정보를 제공하기 어려울 수 있습니다. 따라서, 텍스트 데이터에 대한 유사도 측정에는 코사인 유사도 또는 다른 방법을 고려하는 것이 좋습니다.\n",
    "\n",
    "<img src=\"https://upload.wikimedia.org/wikipedia/commons/thumb/c/cf/DistanceFromAtoB001.svg/800px-DistanceFromAtoB001.svg.png\" width=\"300\">\n",
    "\n",
    "\n",
    "\n",
    "$$ \\text{{Euclidean Distance}}(A, B) = \\sqrt{\\sum^n_{i=1}(A_i - B_i)^2} $$\n"
   ]
  },
  {
   "cell_type": "code",
   "execution_count": 21,
   "metadata": {
    "id": "JisCvyuKbZjL"
   },
   "outputs": [
    {
     "data": {
      "text/plain": [
       "(2645, 2645)"
      ]
     },
     "execution_count": 21,
     "metadata": {},
     "output_type": "execute_result"
    }
   ],
   "source": [
    "# sklearn.metrics.pairwise에서 euclidean_distances 불러오기\n",
    "# 유사도값을 0~1로 만들기\n",
    "#     dist(x, y) = sqrt(dot(x, x) - 2 * dot(x, y) + dot(y, y))\n",
    "from sklearn.metrics.pairwise import euclidean_distances\n",
    "\n",
    "# help(euclidean_distances)\n",
    "ed_similarity = euclidean_distances(df_dtm_tfidf, df_dtm_tfidf)\n",
    "ed_similarity.shape"
   ]
  },
  {
   "cell_type": "code",
   "execution_count": 22,
   "metadata": {},
   "outputs": [
    {
     "data": {
      "text/plain": [
       "(0.0, 1.4142135623730956)"
      ]
     },
     "execution_count": 22,
     "metadata": {},
     "output_type": "execute_result"
    }
   ],
   "source": [
    "# 최소, 최댓값 확인\n",
    "ed_similarity.min(), ed_similarity.max()"
   ]
  },
  {
   "cell_type": "code",
   "execution_count": 23,
   "metadata": {},
   "outputs": [
    {
     "data": {
      "text/plain": [
       "array([[1.  , 0.  , 0.02, 0.07, 0.04, 0.04, 0.01, 0.03, 0.01, 0.03],\n",
       "       [0.  , 1.  , 0.  , 0.  , 0.01, 0.  , 0.02, 0.  , 0.03, 0.01],\n",
       "       [0.02, 0.  , 1.  , 0.02, 0.02, 0.02, 0.01, 0.03, 0.  , 0.01],\n",
       "       [0.07, 0.  , 0.02, 1.  , 0.04, 0.04, 0.02, 0.03, 0.01, 0.13],\n",
       "       [0.04, 0.01, 0.02, 0.04, 1.  , 0.03, 0.02, 0.06, 0.  , 0.03],\n",
       "       [0.04, 0.  , 0.02, 0.04, 0.03, 1.  , 0.05, 0.03, 0.  , 0.04],\n",
       "       [0.01, 0.02, 0.01, 0.02, 0.02, 0.05, 1.  , 0.02, 0.  , 0.01],\n",
       "       [0.03, 0.  , 0.03, 0.03, 0.06, 0.03, 0.02, 1.  , 0.01, 0.03],\n",
       "       [0.01, 0.03, 0.  , 0.01, 0.  , 0.  , 0.  , 0.01, 1.  , 0.01],\n",
       "       [0.03, 0.01, 0.01, 0.13, 0.03, 0.04, 0.01, 0.03, 0.01, 1.  ]])"
      ]
     },
     "execution_count": 23,
     "metadata": {},
     "output_type": "execute_result"
    }
   ],
   "source": [
    "ed_matrix = 1 - (ed_similarity / ed_similarity.max())\n",
    "ed_matrix[:10, :10].round(2)"
   ]
  },
  {
   "cell_type": "code",
   "execution_count": 24,
   "metadata": {
    "id": "TP3BjL7abZjL"
   },
   "outputs": [
    {
     "data": {
      "text/plain": [
       "<Axes: >"
      ]
     },
     "execution_count": 24,
     "metadata": {},
     "output_type": "execute_result"
    },
    {
     "data": {
      "image/png": "[encoded data removed]",
      "text/plain": [
       "<Figure size 640x480 with 2 Axes>"
      ]
     },
     "metadata": {},
     "output_type": "display_data"
    }
   ],
   "source": [
    "# heatmap (속도가 오래 걸리니 100*100 정도를 추천합니다.)\n",
    "sns.heatmap(ed_matrix[:100, :100], cmap=\"gray\")"
   ]
  },
  {
   "cell_type": "markdown",
   "metadata": {},
   "source": [
    "### 유사도가 높은 문서를 반환하는 함수 만들기"
   ]
  },
  {
   "cell_type": "code",
   "execution_count": 25,
   "metadata": {
    "id": "0SKIe7j7vAo9"
   },
   "outputs": [],
   "source": [
    "# find_similarity_idx\n",
    "def find_similarity_idx(idx, sim_matrix, n=10):\n",
    "    \"\"\"유사도가 높은 문서를 반환\"\"\"\n",
    "    df_sim = df[[\"번호\", \"제목\"]].copy()\n",
    "    df_sim[f\"similarity_{idx}\"] = pd.DataFrame(sim_matrix)[idx]\n",
    "    return df_sim.nlargest(n, f\"similarity_{idx}\")"
   ]
  },
  {
   "cell_type": "code",
   "execution_count": 26,
   "metadata": {},
   "outputs": [
    {
     "data": {
      "text/html": [
       "<div>\n",
       "<style scoped>\n",
       "    .dataframe tbody tr th:only-of-type {\n",
       "        vertical-align: middle;\n",
       "    }\n",
       "\n",
       "    .dataframe tbody tr th {\n",
       "        vertical-align: top;\n",
       "    }\n",
       "\n",
       "    .dataframe thead th {\n",
       "        text-align: right;\n",
       "    }\n",
       "</style>\n",
       "<table border=\"1\" class=\"dataframe\">\n",
       "  <thead>\n",
       "    <tr style=\"text-align: right;\">\n",
       "      <th></th>\n",
       "      <th>번호</th>\n",
       "      <th>제목</th>\n",
       "      <th>similarity_142</th>\n",
       "    </tr>\n",
       "  </thead>\n",
       "  <tbody>\n",
       "    <tr>\n",
       "      <th>142</th>\n",
       "      <td>2503</td>\n",
       "      <td>[농업기술센터] 국화분재 기술자 양성교육</td>\n",
       "      <td>1.000000</td>\n",
       "    </tr>\n",
       "    <tr>\n",
       "      <th>141</th>\n",
       "      <td>2504</td>\n",
       "      <td>[농업기술센터] 도시농업전문가양성교육 신청</td>\n",
       "      <td>0.324664</td>\n",
       "    </tr>\n",
       "    <tr>\n",
       "      <th>2294</th>\n",
       "      <td>351</td>\n",
       "      <td>[농업기술센터] 새해농업인실용교육</td>\n",
       "      <td>0.322105</td>\n",
       "    </tr>\n",
       "    <tr>\n",
       "      <th>233</th>\n",
       "      <td>2412</td>\n",
       "      <td>[농업기술센터] 귀농창업 평일반 교육 신청</td>\n",
       "      <td>0.320558</td>\n",
       "    </tr>\n",
       "    <tr>\n",
       "      <th>428</th>\n",
       "      <td>2217</td>\n",
       "      <td>근저당권자는 누구입니까?</td>\n",
       "      <td>0.292893</td>\n",
       "    </tr>\n",
       "    <tr>\n",
       "      <th>538</th>\n",
       "      <td>2107</td>\n",
       "      <td>용답동의 여자 인구는 몇 명인가요?</td>\n",
       "      <td>0.292893</td>\n",
       "    </tr>\n",
       "    <tr>\n",
       "      <th>579</th>\n",
       "      <td>2066</td>\n",
       "      <td>공중에 띄우는 애드벌룬은 신고대상인지?</td>\n",
       "      <td>0.292893</td>\n",
       "    </tr>\n",
       "    <tr>\n",
       "      <th>591</th>\n",
       "      <td>2054</td>\n",
       "      <td>아취광고물은 허가대상입니까, 신고대상입니까?</td>\n",
       "      <td>0.292893</td>\n",
       "    </tr>\n",
       "    <tr>\n",
       "      <th>636</th>\n",
       "      <td>2009</td>\n",
       "      <td>행정처분을 받은자의 교육시간은?</td>\n",
       "      <td>0.292893</td>\n",
       "    </tr>\n",
       "    <tr>\n",
       "      <th>655</th>\n",
       "      <td>1990</td>\n",
       "      <td>보도1㎡를포장하는데몇개가소요되나요?</td>\n",
       "      <td>0.292893</td>\n",
       "    </tr>\n",
       "  </tbody>\n",
       "</table>\n",
       "</div>"
      ],
      "text/plain": [
       "        번호                        제목  similarity_142\n",
       "142   2503    [농업기술센터] 국화분재 기술자 양성교육        1.000000\n",
       "141   2504   [농업기술센터] 도시농업전문가양성교육 신청        0.324664\n",
       "2294   351        [농업기술센터] 새해농업인실용교육        0.322105\n",
       "233   2412   [농업기술센터] 귀농창업 평일반 교육 신청        0.320558\n",
       "428   2217             근저당권자는 누구입니까?        0.292893\n",
       "538   2107       용답동의 여자 인구는 몇 명인가요?        0.292893\n",
       "579   2066     공중에 띄우는 애드벌룬은 신고대상인지?        0.292893\n",
       "591   2054  아취광고물은 허가대상입니까, 신고대상입니까?        0.292893\n",
       "636   2009         행정처분을 받은자의 교육시간은?        0.292893\n",
       "655   1990       보도1㎡를포장하는데몇개가소요되나요?        0.292893"
      ]
     },
     "execution_count": 26,
     "metadata": {},
     "output_type": "execute_result"
    }
   ],
   "source": [
    "find_similarity_idx(142, ed_matrix)"
   ]
  },
  {
   "cell_type": "markdown",
   "metadata": {
    "id": "YciY8NqYbZjL"
   },
   "source": [
    "## 피어슨 유사도\n",
    "\n",
    "- 두 벡터가 주어졌을 때의 상관관계를 계산하며 각 벡터의 표본평균으로 정규화하고, 코사인 유사도를 산출하면 피어슨 유사도\n",
    "- 피어슨 유사도가 1이면 양의 상관관계, -1이면 음의 상관관계, 0이면 상관관계가 없음(독립)을 의미\n",
    "- 장점: 양적 변수들 사이의 선형관계를 확인하기 쉬움. 코사인 유사도의 평점 부분에 각 유저의 평균값을 뺀 값 확인 가능\n",
    "- 단점: 코사인 유사도와 마찬가지로 벡터가 지닌 스칼라들의 값의 크기에 대한 고려를 하지 않음\n"
   ]
  },
  {
   "cell_type": "code",
   "execution_count": null,
   "metadata": {
    "id": "umfG1wXFbZjL"
   },
   "outputs": [],
   "source": [
    "# np.corrcoef\n",
    "pearson_sim = np.corrcoef(df_dtm_tfidf, df_dtm_tfidf)\n",
    "pearson_sim"
   ]
  },
  {
   "cell_type": "code",
   "execution_count": 28,
   "metadata": {},
   "outputs": [
    {
     "data": {
      "text/plain": [
       "(nan, nan)"
      ]
     },
     "execution_count": 28,
     "metadata": {},
     "output_type": "execute_result"
    }
   ],
   "source": [
    "pearson_sim.min(), pearson_sim.max()"
   ]
  },
  {
   "cell_type": "code",
   "execution_count": 29,
   "metadata": {},
   "outputs": [
    {
     "data": {
      "text/plain": [
       "array([[ 1.        , -0.007145  ,  0.02998117,  0.13132428,  0.06876288,\n",
       "         0.06351726,  0.0133573 ,  0.04742516,  0.00771254,  0.04282372],\n",
       "       [-0.007145  ,  1.        , -0.00444795, -0.00704035,  0.01478903,\n",
       "        -0.0076387 ,  0.02650838, -0.00684132,  0.0620877 ,  0.00758098],\n",
       "       [ 0.02998117, -0.00444795,  1.        ,  0.02520446,  0.03633173,\n",
       "         0.02270414,  0.0090217 ,  0.05612094, -0.00507435,  0.01410659],\n",
       "       [ 0.13132428, -0.00704035,  0.02520446,  1.        ,  0.06460435,\n",
       "         0.05504576,  0.033615  ,  0.04368266,  0.01695018,  0.22412563],\n",
       "       [ 0.06876288,  0.01478903,  0.03633173,  0.06460435,  1.        ,\n",
       "         0.03839007,  0.03560174,  0.09743454, -0.00831906,  0.04800388],\n",
       "       [ 0.06351726, -0.0076387 ,  0.02270414,  0.05504576,  0.03839007,\n",
       "         1.        ,  0.08765638,  0.03669509, -0.00201258,  0.06266443],\n",
       "       [ 0.0133573 ,  0.02650838,  0.0090217 ,  0.033615  ,  0.03560174,\n",
       "         0.08765638,  1.        ,  0.02281683, -0.00142791,  0.00415612],\n",
       "       [ 0.04742516, -0.00684132,  0.05612094,  0.04368266,  0.09743454,\n",
       "         0.03669509,  0.02281683,  1.        ,  0.00464201,  0.03542922],\n",
       "       [ 0.00771254,  0.0620877 , -0.00507435,  0.01695018, -0.00831906,\n",
       "        -0.00201258, -0.00142791,  0.00464201,  1.        ,  0.01123769],\n",
       "       [ 0.04282372,  0.00758098,  0.01410659,  0.22412563,  0.04800388,\n",
       "         0.06266443,  0.00415612,  0.03542922,  0.01123769,  1.        ]])"
      ]
     },
     "execution_count": 29,
     "metadata": {},
     "output_type": "execute_result"
    }
   ],
   "source": [
    "pearson_sim[:10, :10]"
   ]
  },
  {
   "cell_type": "code",
   "execution_count": 30,
   "metadata": {
    "colab": {
     "base_uri": "https://localhost:8080/",
     "height": 457
    },
    "executionInfo": {
     "elapsed": 802,
     "status": "ok",
     "timestamp": 1695284693649,
     "user": {
      "displayName": "Joeun Park",
      "userId": "17163383815352082166"
     },
     "user_tz": -540
    },
    "id": "8jo6K9z2bZjL",
    "outputId": "78cd8425-af27-44d6-829d-7b5cc31e756d"
   },
   "outputs": [
    {
     "data": {
      "text/plain": [
       "<Axes: >"
      ]
     },
     "execution_count": 30,
     "metadata": {},
     "output_type": "execute_result"
    },
    {
     "data": {
      "image/png": "[encoded data removed]",
      "text/plain": [
       "<Figure size 640x480 with 2 Axes>"
      ]
     },
     "metadata": {},
     "output_type": "display_data"
    }
   ],
   "source": [
    "# heatmap\n",
    "sns.heatmap(pearson_sim[:100, :100], cmap=\"gray\")"
   ]
  },
  {
   "cell_type": "code",
   "execution_count": 31,
   "metadata": {
    "id": "NkGIEeTibZjL"
   },
   "outputs": [],
   "source": [
    "# find_similarity_idx\n",
    "def find_similarity_idx(idx, sim_matrix, n=10):\n",
    "    \"\"\"유사도가 높은 문서를 반환\"\"\"\n",
    "    df_sim = df[[\"번호\", \"제목\"]].copy()\n",
    "    df_sim[f\"similarity_{idx}\"] = pd.DataFrame(sim_matrix)[idx]\n",
    "    return df_sim.nlargest(n, f\"similarity_{idx}\")"
   ]
  },
  {
   "cell_type": "code",
   "execution_count": 32,
   "metadata": {
    "id": "3KVws05_bZjL"
   },
   "outputs": [
    {
     "data": {
      "text/html": [
       "<div>\n",
       "<style scoped>\n",
       "    .dataframe tbody tr th:only-of-type {\n",
       "        vertical-align: middle;\n",
       "    }\n",
       "\n",
       "    .dataframe tbody tr th {\n",
       "        vertical-align: top;\n",
       "    }\n",
       "\n",
       "    .dataframe thead th {\n",
       "        text-align: right;\n",
       "    }\n",
       "</style>\n",
       "<table border=\"1\" class=\"dataframe\">\n",
       "  <thead>\n",
       "    <tr style=\"text-align: right;\">\n",
       "      <th></th>\n",
       "      <th>번호</th>\n",
       "      <th>제목</th>\n",
       "      <th>similarity_10</th>\n",
       "    </tr>\n",
       "  </thead>\n",
       "  <tbody>\n",
       "    <tr>\n",
       "      <th>10</th>\n",
       "      <td>2635</td>\n",
       "      <td>서울시 사회서비스원은 무엇을 하는 곳인가요?</td>\n",
       "      <td>1.000000</td>\n",
       "    </tr>\n",
       "    <tr>\n",
       "      <th>2596</th>\n",
       "      <td>49</td>\n",
       "      <td>농업기술센터는 무엇을 하는곳입니까?</td>\n",
       "      <td>0.471389</td>\n",
       "    </tr>\n",
       "    <tr>\n",
       "      <th>1192</th>\n",
       "      <td>1453</td>\n",
       "      <td>입법예고는 무엇을 예고하나요?</td>\n",
       "      <td>0.452166</td>\n",
       "    </tr>\n",
       "    <tr>\n",
       "      <th>511</th>\n",
       "      <td>2134</td>\n",
       "      <td>방재란 무엇을 말합니까?</td>\n",
       "      <td>0.427348</td>\n",
       "    </tr>\n",
       "    <tr>\n",
       "      <th>1787</th>\n",
       "      <td>858</td>\n",
       "      <td>도시계획시설부지로 지장물이란 무엇을 의미합니까?</td>\n",
       "      <td>0.364850</td>\n",
       "    </tr>\n",
       "    <tr>\n",
       "      <th>1390</th>\n",
       "      <td>1255</td>\n",
       "      <td>서울시 연수시설의 각 홈페이지 주소를 알려주세요</td>\n",
       "      <td>0.363219</td>\n",
       "    </tr>\n",
       "    <tr>\n",
       "      <th>1385</th>\n",
       "      <td>1260</td>\n",
       "      <td>명절휴가비란 무엇을 말하나요?</td>\n",
       "      <td>0.326393</td>\n",
       "    </tr>\n",
       "    <tr>\n",
       "      <th>2084</th>\n",
       "      <td>561</td>\n",
       "      <td>지역별 전문건설회관(전문건설공제조합) 위치 안내</td>\n",
       "      <td>0.313086</td>\n",
       "    </tr>\n",
       "    <tr>\n",
       "      <th>2477</th>\n",
       "      <td>168</td>\n",
       "      <td>서울시 차량통행속도조사 결과자료는 어디에서 얻을 수 있나요?</td>\n",
       "      <td>0.307769</td>\n",
       "    </tr>\n",
       "    <tr>\n",
       "      <th>1966</th>\n",
       "      <td>679</td>\n",
       "      <td>행정서포터스에 참여하고 싶은데 혹시 올해도 행정서포터스 계획이 있으신지요?</td>\n",
       "      <td>0.299617</td>\n",
       "    </tr>\n",
       "  </tbody>\n",
       "</table>\n",
       "</div>"
      ],
      "text/plain": [
       "        번호                                         제목  similarity_10\n",
       "10    2635                   서울시 사회서비스원은 무엇을 하는 곳인가요?       1.000000\n",
       "2596    49                        농업기술센터는 무엇을 하는곳입니까?       0.471389\n",
       "1192  1453                           입법예고는 무엇을 예고하나요?       0.452166\n",
       "511   2134                              방재란 무엇을 말합니까?       0.427348\n",
       "1787   858                 도시계획시설부지로 지장물이란 무엇을 의미합니까?       0.364850\n",
       "1390  1255                 서울시 연수시설의 각 홈페이지 주소를 알려주세요       0.363219\n",
       "1385  1260                           명절휴가비란 무엇을 말하나요?       0.326393\n",
       "2084   561                 지역별 전문건설회관(전문건설공제조합) 위치 안내       0.313086\n",
       "2477   168          서울시 차량통행속도조사 결과자료는 어디에서 얻을 수 있나요?       0.307769\n",
       "1966   679  행정서포터스에 참여하고 싶은데 혹시 올해도 행정서포터스 계획이 있으신지요?       0.299617"
      ]
     },
     "execution_count": 32,
     "metadata": {},
     "output_type": "execute_result"
    }
   ],
   "source": [
    "find_similarity_idx(10, pearson_sim)"
   ]
  },
  {
   "cell_type": "markdown",
   "metadata": {
    "id": "bsKSo1C-bZjL"
   },
   "source": [
    "## 자카드 유사도\n",
    "\n",
    "* 자카드 지수(Jaccard index)는 두 집합 사이의 유사도를 측정하는 방법 중 하나이다. 자카드 계수(Jaccard coefficient) 또는 자카드 유사도(Jaccard similarity)라고도 한다. 자카드 지수는 0과 1 사이의 값을 가지며, 두 집합이 동일하면 1의 값을 가지고, 공통의 원소가 하나도 없으면 0의 값을 가진다.\n",
    "- 두 문장을 각 단어의 집합으로 생성 한 뒤, 생성된 집합을 통해 유사도를 측정(고객 간 유사도)\n",
    "- 0,1의 바이너리 데이터로 만든 이후에, 합집합과 교집합 사이의 비율로 나타냄(집합의 개념을 이용)\n",
    "- 얼마나 많은 아이템을 동시에 갖고 있는가?를 수치로 환산하며, 함께 갖고 있는 아이템이 없다면 0, 아이템 전체가 겹치면 1로 계산\n",
    "- 장점: 대표적인 이진 평가(binary feedback)에 대한 유사도를 측정할 수 있는 지표, 동시출현빈도(co-occurrence) 고려\n",
    "- 단점: 데이터가 순서나 양을 갖는 집합 데이터라면 낮은 성능을 보임\n",
    "\n",
    "\n",
    "<img src=\"https://upload.wikimedia.org/wikipedia/commons/c/c7/Intersection_over_Union_-_visual_equation.png\" width=\"500\">\n",
    "\n",
    "<img src=\"https://upload.wikimedia.org/wikipedia/commons/e/e6/Intersection_over_Union_-_poor%2C_good_and_excellent_score.png\" width=\"500\">\n",
    "\n",
    "\n",
    "\n",
    "$$ \\text{{Jaccard Similarity}}(A, B) = \\frac{{|A \\cap B|}}{{|A \\cup B|}} $$"
   ]
  },
  {
   "cell_type": "code",
   "execution_count": 33,
   "metadata": {
    "colab": {
     "base_uri": "https://localhost:8080/"
    },
    "executionInfo": {
     "elapsed": 94229,
     "status": "ok",
     "timestamp": 1695284323917,
     "user": {
      "displayName": "Joeun Park",
      "userId": "17163383815352082166"
     },
     "user_tz": -540
    },
    "id": "wn94TaJ-bZjL",
    "outputId": "a6c332e7-a5fb-46eb-d512-d658d78589b9"
   },
   "outputs": [
    {
     "name": "stderr",
     "output_type": "stream",
     "text": [
      "/Users/corazzon/codes/jupyter/lib/python3.11/site-packages/sklearn/metrics/pairwise.py:2182: DataConversionWarning: Data was converted to boolean for metric jaccard\n",
      "  warnings.warn(msg, DataConversionWarning)\n"
     ]
    },
    {
     "data": {
      "text/plain": [
       "array([[0.  , 1.  , 0.93, 0.86, 0.95, 0.92, 0.95, 0.94, 0.98, 0.95],\n",
       "       [1.  , 0.  , 1.  , 1.  , 0.98, 1.  , 0.95, 1.  , 0.93, 0.99],\n",
       "       [0.93, 1.  , 0.  , 0.91, 0.93, 0.91, 0.92, 0.86, 1.  , 0.94],\n",
       "       [0.86, 1.  , 0.91, 0.  , 0.93, 0.9 , 0.97, 0.95, 0.97, 0.9 ],\n",
       "       [0.95, 0.98, 0.93, 0.93, 0.  , 0.93, 0.92, 0.91, 1.  , 0.93],\n",
       "       [0.92, 1.  , 0.91, 0.9 , 0.93, 0.  , 0.91, 0.95, 0.99, 0.89],\n",
       "       [0.95, 0.95, 0.92, 0.97, 0.92, 0.91, 0.  , 0.95, 0.97, 0.95],\n",
       "       [0.94, 1.  , 0.86, 0.95, 0.91, 0.95, 0.95, 0.  , 0.98, 0.96],\n",
       "       [0.98, 0.93, 1.  , 0.97, 1.  , 0.99, 0.97, 0.98, 0.  , 0.96],\n",
       "       [0.95, 0.99, 0.94, 0.9 , 0.93, 0.89, 0.95, 0.96, 0.96, 0.  ]])"
      ]
     },
     "execution_count": 33,
     "metadata": {},
     "output_type": "execute_result"
    }
   ],
   "source": [
    "# sklearn.metrics.pairwise 에서 pairwise_distances 불러오기\n",
    "from sklearn.metrics.pairwise import pairwise_distances\n",
    "\n",
    "jaccard_matrix = pairwise_distances(dtm.toarray(), dtm.toarray(), metric=\"jaccard\")\n",
    "jaccard_matrix[:10, :10].round(2)"
   ]
  },
  {
   "cell_type": "code",
   "execution_count": 34,
   "metadata": {},
   "outputs": [
    {
     "data": {
      "text/plain": [
       "(0.0, 1.0)"
      ]
     },
     "execution_count": 34,
     "metadata": {},
     "output_type": "execute_result"
    }
   ],
   "source": [
    "jaccard_matrix.min(), jaccard_matrix.max()"
   ]
  },
  {
   "cell_type": "code",
   "execution_count": 35,
   "metadata": {},
   "outputs": [
    {
     "data": {
      "text/plain": [
       "array([[1.        , 0.        , 0.06896552, ..., 0.02272727, 0.        ,\n",
       "        0.        ],\n",
       "       [0.        , 1.        , 0.        , ..., 0.        , 0.        ,\n",
       "        0.        ],\n",
       "       [0.06896552, 0.        , 1.        , ..., 0.02380952, 0.        ,\n",
       "        0.        ],\n",
       "       ...,\n",
       "       [0.02272727, 0.        , 0.02380952, ..., 1.        , 0.        ,\n",
       "        0.        ],\n",
       "       [0.        , 0.        , 0.        , ..., 0.        , 1.        ,\n",
       "        0.1875    ],\n",
       "       [0.        , 0.        , 0.        , ..., 0.        , 0.1875    ,\n",
       "        1.        ]])"
      ]
     },
     "execution_count": 35,
     "metadata": {},
     "output_type": "execute_result"
    }
   ],
   "source": [
    "jaccard_sim = (1 - jaccard_matrix)\n",
    "jaccard_sim"
   ]
  },
  {
   "cell_type": "code",
   "execution_count": 36,
   "metadata": {
    "colab": {
     "base_uri": "https://localhost:8080/",
     "height": 457
    },
    "executionInfo": {
     "elapsed": 953,
     "status": "ok",
     "timestamp": 1695284374194,
     "user": {
      "displayName": "Joeun Park",
      "userId": "17163383815352082166"
     },
     "user_tz": -540
    },
    "id": "D3UJbbvLbZjM",
    "outputId": "d136c686-46d0-4df2-b4d4-59b0472f17c9"
   },
   "outputs": [
    {
     "data": {
      "text/plain": [
       "<Axes: >"
      ]
     },
     "execution_count": 36,
     "metadata": {},
     "output_type": "execute_result"
    },
    {
     "data": {
      "image/png": "[encoded data removed]",
      "text/plain": [
       "<Figure size 640x480 with 2 Axes>"
      ]
     },
     "metadata": {},
     "output_type": "display_data"
    }
   ],
   "source": [
    "# heatmap (속도가 오래 걸리니 100*100 정도를 추천합니다.)\n",
    "sns.heatmap(jaccard_sim[:100, :100], cmap=\"gray\")"
   ]
  },
  {
   "cell_type": "code",
   "execution_count": 37,
   "metadata": {
    "colab": {
     "base_uri": "https://localhost:8080/",
     "height": 484
    },
    "executionInfo": {
     "elapsed": 379,
     "status": "ok",
     "timestamp": 1695284486083,
     "user": {
      "displayName": "Joeun Park",
      "userId": "17163383815352082166"
     },
     "user_tz": -540
    },
    "id": "CrX7XtpLbZjM",
    "outputId": "988fa935-4a28-4691-b263-dd44dcbe892f"
   },
   "outputs": [
    {
     "data": {
      "text/html": [
       "<div>\n",
       "<style scoped>\n",
       "    .dataframe tbody tr th:only-of-type {\n",
       "        vertical-align: middle;\n",
       "    }\n",
       "\n",
       "    .dataframe tbody tr th {\n",
       "        vertical-align: top;\n",
       "    }\n",
       "\n",
       "    .dataframe thead th {\n",
       "        text-align: right;\n",
       "    }\n",
       "</style>\n",
       "<table border=\"1\" class=\"dataframe\">\n",
       "  <thead>\n",
       "    <tr style=\"text-align: right;\">\n",
       "      <th></th>\n",
       "      <th>번호</th>\n",
       "      <th>제목</th>\n",
       "      <th>similarity_100</th>\n",
       "    </tr>\n",
       "  </thead>\n",
       "  <tbody>\n",
       "    <tr>\n",
       "      <th>100</th>\n",
       "      <td>2545</td>\n",
       "      <td>장애인 IT챌린지</td>\n",
       "      <td>1.000000</td>\n",
       "    </tr>\n",
       "    <tr>\n",
       "      <th>47</th>\n",
       "      <td>2598</td>\n",
       "      <td>장애인 수영 한강건너기 대회</td>\n",
       "      <td>0.152542</td>\n",
       "    </tr>\n",
       "    <tr>\n",
       "      <th>66</th>\n",
       "      <td>2579</td>\n",
       "      <td>목재감성 체험 박람회 (서울 목공 한마당)</td>\n",
       "      <td>0.138889</td>\n",
       "    </tr>\n",
       "    <tr>\n",
       "      <th>29</th>\n",
       "      <td>2616</td>\n",
       "      <td>금천 나도스타 노래부르기 대회 (어린이날 행사)</td>\n",
       "      <td>0.129630</td>\n",
       "    </tr>\n",
       "    <tr>\n",
       "      <th>48</th>\n",
       "      <td>2597</td>\n",
       "      <td>청계천 어린이 미술대회</td>\n",
       "      <td>0.125000</td>\n",
       "    </tr>\n",
       "    <tr>\n",
       "      <th>95</th>\n",
       "      <td>2550</td>\n",
       "      <td>[서울시립청소년미디어센터] 미디어스토리 캠프</td>\n",
       "      <td>0.112903</td>\n",
       "    </tr>\n",
       "    <tr>\n",
       "      <th>88</th>\n",
       "      <td>2557</td>\n",
       "      <td>꽃 피는 서울상 콘테스트</td>\n",
       "      <td>0.109890</td>\n",
       "    </tr>\n",
       "    <tr>\n",
       "      <th>96</th>\n",
       "      <td>2549</td>\n",
       "      <td>시도행정시스템,시군구행정시스템 관련 업무</td>\n",
       "      <td>0.105263</td>\n",
       "    </tr>\n",
       "    <tr>\n",
       "      <th>25</th>\n",
       "      <td>2620</td>\n",
       "      <td>아파트 태양광 설치 및 에너지절약 활성화 포럼</td>\n",
       "      <td>0.100000</td>\n",
       "    </tr>\n",
       "    <tr>\n",
       "      <th>83</th>\n",
       "      <td>2562</td>\n",
       "      <td>2016년 서울 템플스테이 위크(week)</td>\n",
       "      <td>0.100000</td>\n",
       "    </tr>\n",
       "  </tbody>\n",
       "</table>\n",
       "</div>"
      ],
      "text/plain": [
       "       번호                          제목  similarity_100\n",
       "100  2545                   장애인 IT챌린지        1.000000\n",
       "47   2598             장애인 수영 한강건너기 대회        0.152542\n",
       "66   2579     목재감성 체험 박람회 (서울 목공 한마당)        0.138889\n",
       "29   2616  금천 나도스타 노래부르기 대회 (어린이날 행사)        0.129630\n",
       "48   2597                청계천 어린이 미술대회        0.125000\n",
       "95   2550    [서울시립청소년미디어센터] 미디어스토리 캠프        0.112903\n",
       "88   2557               꽃 피는 서울상 콘테스트        0.109890\n",
       "96   2549      시도행정시스템,시군구행정시스템 관련 업무        0.105263\n",
       "25   2620   아파트 태양광 설치 및 에너지절약 활성화 포럼        0.100000\n",
       "83   2562     2016년 서울 템플스테이 위크(week)        0.100000"
      ]
     },
     "execution_count": 37,
     "metadata": {},
     "output_type": "execute_result"
    }
   ],
   "source": [
    "find_similarity_idx(100, jaccard_sim)"
   ]
  },
  {
   "cell_type": "code",
   "execution_count": null,
   "metadata": {
    "id": "czvS2i5_bZjM"
   },
   "outputs": [],
   "source": []
  },
  {
   "cell_type": "code",
   "execution_count": null,
   "metadata": {
    "id": "GuomGX3bbZjM"
   },
   "outputs": [],
   "source": []
  }
 ],
 "metadata": {
  "colab": {
   "provenance": [
    {
     "file_id": "1mDCAatWOEOdSfiU9iGwi_hJG4G7AUmO7",
     "timestamp": 1695279387518
    }
   ],
   "toc_visible": true
  },
  "kernelspec": {
   "display_name": "Python 3 (ipykernel)",
   "language": "python",
   "name": "python3"
  },
  "language_info": {
   "codemirror_mode": {
    "name": "ipython",
    "version": 3
   },
   "file_extension": ".py",
   "mimetype": "text/x-python",
   "name": "python",
   "nbconvert_exporter": "python",
   "pygments_lexer": "ipython3",
   "version": "3.11.4"
  },
  "toc": {
   "base_numbering": 1,
   "nav_menu": {},
   "number_sections": false,
   "sideBar": false,
   "skip_h1_title": false,
   "title_cell": "Table of Contents",
   "title_sidebar": "Contents",
   "toc_cell": false,
   "toc_position": {
    "height": "calc(100% - 180px)",
    "left": "10px",
    "top": "150px",
    "width": "255.998px"
   },
   "toc_section_display": false,
   "toc_window_display": false
  },
  "varInspector": {
   "cols": {
    "lenName": 16,
    "lenType": 16,
    "lenVar": 40
   },
   "kernels_config": {
    "python": {
     "delete_cmd_postfix": "",
     "delete_cmd_prefix": "del ",
     "library": "var_list.py",
     "varRefreshCmd": "print(var_dic_list())"
    },
    "r": {
     "delete_cmd_postfix": ") ",
     "delete_cmd_prefix": "rm(",
     "library": "var_list.r",
     "varRefreshCmd": "cat(var_dic_list()) "
    }
   },
   "types_to_exclude": [
    "module",
    "function",
    "builtin_function_or_method",
    "instance",
    "_Feature"
   ],
   "window_display": false
  }
 },
 "nbformat": 4,
 "nbformat_minor": 1
}
